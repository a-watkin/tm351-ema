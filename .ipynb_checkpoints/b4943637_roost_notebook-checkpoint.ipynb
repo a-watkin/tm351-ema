{
 "cells": [
  {
   "cell_type": "code",
   "execution_count": 10,
   "metadata": {
    "collapsed": true,
    "run_control": {
     "read_only": false
    }
   },
   "outputs": [],
   "source": [
    "import datetime\n",
    "\n",
    "import matplotlib.pyplot as plt\n",
    "\n",
    "import numpy as np\n",
    "import pandas as pd\n",
    "import scipy.stats\n",
    "\n",
    "import seaborn as sns\n",
    "\n",
    "from sklearn import cluster\n",
    "from sklearn.metrics import silhouette_samples"
   ]
  },
  {
   "cell_type": "markdown",
   "metadata": {},
   "source": [
    "# Importing and exploring the dataset:"
   ]
  },
  {
   "cell_type": "code",
   "execution_count": 11,
   "metadata": {
    "collapsed": false,
    "run_control": {
     "read_only": false
    }
   },
   "outputs": [
    {
     "name": "stdout",
     "output_type": "stream",
     "text": [
      "HibernationSurveyObservations.csv\n",
      "HibernationSurveyObservationsCleaned.csv\n",
      "RoostMetadata.txt\n",
      "RoostObservations.csv\n"
     ]
    }
   ],
   "source": [
    "!ls data"
   ]
  },
  {
   "cell_type": "code",
   "execution_count": 12,
   "metadata": {
    "collapsed": false,
    "run_control": {
     "read_only": false
    }
   },
   "outputs": [
    {
     "name": "stdout",
     "output_type": "stream",
     "text": [
      "data/RoostObservations.csv: ASCII text, with very long lines, with CRLF line terminators\n"
     ]
    }
   ],
   "source": [
    "!file 'data/RoostObservations.csv'"
   ]
  },
  {
   "cell_type": "code",
   "execution_count": 13,
   "metadata": {
    "collapsed": false,
    "run_control": {
     "read_only": false
    }
   },
   "outputs": [
    {
     "name": "stdout",
     "output_type": "stream",
     "text": [
      "23680 data/RoostObservations.csv\n"
     ]
    }
   ],
   "source": [
    "!wc -l 'data/RoostObservations.csv'"
   ]
  },
  {
   "cell_type": "code",
   "execution_count": 14,
   "metadata": {
    "collapsed": false,
    "run_control": {
     "read_only": false
    }
   },
   "outputs": [
    {
     "name": "stdout",
     "output_type": "stream",
     "text": [
      "observationID,recordKey,organisationName,datasetKey,surveyKey,sampleKey,gridReference,precision,siteKey,siteName,featureKey,startDate,endDate,dateType,recorder,determiner,pTaxonVersionKey,taxonName,authority,commonName,taxonGroup,sensitive,zeroAbundance,fullVersion,Abundance,Comments,HRGridReference,LocationName,RecordType,SpeciesIDMethod,SurveyType\n",
      "463185100,7871,The Bat Conservation Trust,GA000616,1,1,NN5620,1km,,,129467,16/06/2007,16/06/2007,Day,,,NBNSYS0000005102,Plecotus auritus,\"(Linnaeus, 1758)\",Brown Long-eared Bat,terrestrial mammal,false,false,false,,,,,,,\n",
      "463185128,1506,The Bat Conservation Trust,GA000616,1,1,NR2767,1km,,,130452,29/05/2010,29/05/2010,Day,,,NHMSYS0020001355,Pipistrellus pipistrellus sensu stricto,\"(Schreber, 1774)\",Common Pipistrelle,terrestrial mammal,false,false,false,,,,,,,\n"
     ]
    }
   ],
   "source": [
    "!head -n 3 'data/RoostObservations.csv'"
   ]
  },
  {
   "cell_type": "code",
   "execution_count": 15,
   "metadata": {
    "collapsed": false,
    "run_control": {
     "read_only": false
    }
   },
   "outputs": [
    {
     "name": "stdout",
     "output_type": "stream",
     "text": [
      "463209489,1739,The Bat Conservation Trust,GA000616,1,1,ST1821,1km,,,653453,30/06/2010,30/06/2010,Day,,,NHMSYS0000528030,Myotis mystacinus/brandtii,null,Whiskered/Brandt's Bat,terrestrial mammal,false,false,false,,,,,,,\n",
      "463209975,21920,The Bat Conservation Trust,GA000616,1,1,SX8166,1km,,,665485,07/06/2004,07/06/2004,Day,,,NHMSYS0000080177,Rhinolophus hipposideros,\"(Bechstein, 1800)\",Lesser Horseshoe Bat,terrestrial mammal,false,false,false,,,,,,,\n",
      "463209976,21921,The Bat Conservation Trust,GA000616,1,1,SX8166,1km,,,665485,17/06/2004,17/06/2004,Day,,,NHMSYS0000080177,Rhinolophus hipposideros,\"(Bechstein, 1800)\",Lesser Horseshoe Bat,terrestrial mammal,false,false,false,,,,,,,\n"
     ]
    }
   ],
   "source": [
    "!tail -n 3 'data/RoostObservations.csv'"
   ]
  },
  {
   "cell_type": "code",
   "execution_count": 16,
   "metadata": {
    "collapsed": false,
    "run_control": {
     "read_only": false
    }
   },
   "outputs": [
    {
     "data": {
      "text/html": [
       "<div>\n",
       "<table border=\"1\" class=\"dataframe\">\n",
       "  <thead>\n",
       "    <tr style=\"text-align: right;\">\n",
       "      <th></th>\n",
       "      <th>observationID</th>\n",
       "      <th>recordKey</th>\n",
       "      <th>organisationName</th>\n",
       "      <th>datasetKey</th>\n",
       "      <th>surveyKey</th>\n",
       "      <th>sampleKey</th>\n",
       "      <th>gridReference</th>\n",
       "      <th>precision</th>\n",
       "      <th>siteKey</th>\n",
       "      <th>siteName</th>\n",
       "      <th>...</th>\n",
       "      <th>sensitive</th>\n",
       "      <th>zeroAbundance</th>\n",
       "      <th>fullVersion</th>\n",
       "      <th>Abundance</th>\n",
       "      <th>Comments</th>\n",
       "      <th>HRGridReference</th>\n",
       "      <th>LocationName</th>\n",
       "      <th>RecordType</th>\n",
       "      <th>SpeciesIDMethod</th>\n",
       "      <th>SurveyType</th>\n",
       "    </tr>\n",
       "  </thead>\n",
       "  <tbody>\n",
       "    <tr>\n",
       "      <th>0</th>\n",
       "      <td>463185100</td>\n",
       "      <td>7871</td>\n",
       "      <td>The Bat Conservation Trust</td>\n",
       "      <td>GA000616</td>\n",
       "      <td>1</td>\n",
       "      <td>1</td>\n",
       "      <td>NN5620</td>\n",
       "      <td>1km</td>\n",
       "      <td>NaN</td>\n",
       "      <td>NaN</td>\n",
       "      <td>...</td>\n",
       "      <td>False</td>\n",
       "      <td>False</td>\n",
       "      <td>False</td>\n",
       "      <td>NaN</td>\n",
       "      <td>NaN</td>\n",
       "      <td>NaN</td>\n",
       "      <td>NaN</td>\n",
       "      <td>NaN</td>\n",
       "      <td>NaN</td>\n",
       "      <td>NaN</td>\n",
       "    </tr>\n",
       "    <tr>\n",
       "      <th>1</th>\n",
       "      <td>463185128</td>\n",
       "      <td>1506</td>\n",
       "      <td>The Bat Conservation Trust</td>\n",
       "      <td>GA000616</td>\n",
       "      <td>1</td>\n",
       "      <td>1</td>\n",
       "      <td>NR2767</td>\n",
       "      <td>1km</td>\n",
       "      <td>NaN</td>\n",
       "      <td>NaN</td>\n",
       "      <td>...</td>\n",
       "      <td>False</td>\n",
       "      <td>False</td>\n",
       "      <td>False</td>\n",
       "      <td>NaN</td>\n",
       "      <td>NaN</td>\n",
       "      <td>NaN</td>\n",
       "      <td>NaN</td>\n",
       "      <td>NaN</td>\n",
       "      <td>NaN</td>\n",
       "      <td>NaN</td>\n",
       "    </tr>\n",
       "    <tr>\n",
       "      <th>2</th>\n",
       "      <td>463185129</td>\n",
       "      <td>1507</td>\n",
       "      <td>The Bat Conservation Trust</td>\n",
       "      <td>GA000616</td>\n",
       "      <td>1</td>\n",
       "      <td>1</td>\n",
       "      <td>NR2767</td>\n",
       "      <td>1km</td>\n",
       "      <td>NaN</td>\n",
       "      <td>NaN</td>\n",
       "      <td>...</td>\n",
       "      <td>False</td>\n",
       "      <td>False</td>\n",
       "      <td>False</td>\n",
       "      <td>NaN</td>\n",
       "      <td>NaN</td>\n",
       "      <td>NaN</td>\n",
       "      <td>NaN</td>\n",
       "      <td>NaN</td>\n",
       "      <td>NaN</td>\n",
       "      <td>NaN</td>\n",
       "    </tr>\n",
       "    <tr>\n",
       "      <th>3</th>\n",
       "      <td>463185205</td>\n",
       "      <td>756</td>\n",
       "      <td>The Bat Conservation Trust</td>\n",
       "      <td>GA000616</td>\n",
       "      <td>1</td>\n",
       "      <td>1</td>\n",
       "      <td>TA0333</td>\n",
       "      <td>1km</td>\n",
       "      <td>NaN</td>\n",
       "      <td>NaN</td>\n",
       "      <td>...</td>\n",
       "      <td>False</td>\n",
       "      <td>False</td>\n",
       "      <td>False</td>\n",
       "      <td>NaN</td>\n",
       "      <td>NaN</td>\n",
       "      <td>NaN</td>\n",
       "      <td>NaN</td>\n",
       "      <td>NaN</td>\n",
       "      <td>NaN</td>\n",
       "      <td>NaN</td>\n",
       "    </tr>\n",
       "    <tr>\n",
       "      <th>4</th>\n",
       "      <td>463185255</td>\n",
       "      <td>12799</td>\n",
       "      <td>The Bat Conservation Trust</td>\n",
       "      <td>GA000616</td>\n",
       "      <td>1</td>\n",
       "      <td>1</td>\n",
       "      <td>NN7102</td>\n",
       "      <td>1km</td>\n",
       "      <td>NaN</td>\n",
       "      <td>NaN</td>\n",
       "      <td>...</td>\n",
       "      <td>False</td>\n",
       "      <td>False</td>\n",
       "      <td>False</td>\n",
       "      <td>NaN</td>\n",
       "      <td>NaN</td>\n",
       "      <td>NaN</td>\n",
       "      <td>NaN</td>\n",
       "      <td>NaN</td>\n",
       "      <td>NaN</td>\n",
       "      <td>NaN</td>\n",
       "    </tr>\n",
       "  </tbody>\n",
       "</table>\n",
       "<p>5 rows × 31 columns</p>\n",
       "</div>"
      ],
      "text/plain": [
       "   observationID  recordKey            organisationName datasetKey  surveyKey  \\\n",
       "0      463185100       7871  The Bat Conservation Trust   GA000616          1   \n",
       "1      463185128       1506  The Bat Conservation Trust   GA000616          1   \n",
       "2      463185129       1507  The Bat Conservation Trust   GA000616          1   \n",
       "3      463185205        756  The Bat Conservation Trust   GA000616          1   \n",
       "4      463185255      12799  The Bat Conservation Trust   GA000616          1   \n",
       "\n",
       "   sampleKey gridReference precision  siteKey  siteName    ...      sensitive  \\\n",
       "0          1        NN5620       1km      NaN       NaN    ...          False   \n",
       "1          1        NR2767       1km      NaN       NaN    ...          False   \n",
       "2          1        NR2767       1km      NaN       NaN    ...          False   \n",
       "3          1        TA0333       1km      NaN       NaN    ...          False   \n",
       "4          1        NN7102       1km      NaN       NaN    ...          False   \n",
       "\n",
       "  zeroAbundance fullVersion Abundance  Comments  HRGridReference LocationName  \\\n",
       "0         False       False       NaN       NaN              NaN          NaN   \n",
       "1         False       False       NaN       NaN              NaN          NaN   \n",
       "2         False       False       NaN       NaN              NaN          NaN   \n",
       "3         False       False       NaN       NaN              NaN          NaN   \n",
       "4         False       False       NaN       NaN              NaN          NaN   \n",
       "\n",
       "  RecordType SpeciesIDMethod SurveyType  \n",
       "0        NaN             NaN        NaN  \n",
       "1        NaN             NaN        NaN  \n",
       "2        NaN             NaN        NaN  \n",
       "3        NaN             NaN        NaN  \n",
       "4        NaN             NaN        NaN  \n",
       "\n",
       "[5 rows x 31 columns]"
      ]
     },
     "execution_count": 16,
     "metadata": {},
     "output_type": "execute_result"
    }
   ],
   "source": [
    "pd.read_csv('data/RoostObservations.csv', nrows=5)"
   ]
  },
  {
   "cell_type": "markdown",
   "metadata": {},
   "source": [
    "Reading the data into a dataframe for further evaluation."
   ]
  },
  {
   "cell_type": "code",
   "execution_count": 17,
   "metadata": {
    "collapsed": true,
    "run_control": {
     "read_only": false
    }
   },
   "outputs": [],
   "source": [
    "roost_df = pd.read_csv('data/RoostObservations.csv', engine='python')"
   ]
  },
  {
   "cell_type": "code",
   "execution_count": 18,
   "metadata": {
    "collapsed": false,
    "run_control": {
     "read_only": false
    },
    "scrolled": true
   },
   "outputs": [
    {
     "data": {
      "text/plain": [
       "['observationID',\n",
       " 'recordKey',\n",
       " 'organisationName',\n",
       " 'datasetKey',\n",
       " 'surveyKey',\n",
       " 'sampleKey',\n",
       " 'gridReference',\n",
       " 'precision',\n",
       " 'siteKey',\n",
       " 'siteName',\n",
       " 'featureKey',\n",
       " 'startDate',\n",
       " 'endDate',\n",
       " 'dateType',\n",
       " 'recorder',\n",
       " 'determiner',\n",
       " 'pTaxonVersionKey',\n",
       " 'taxonName',\n",
       " 'authority',\n",
       " 'commonName',\n",
       " 'taxonGroup',\n",
       " 'sensitive',\n",
       " 'zeroAbundance',\n",
       " 'fullVersion',\n",
       " 'Abundance',\n",
       " 'Comments',\n",
       " 'HRGridReference',\n",
       " 'LocationName',\n",
       " 'RecordType',\n",
       " 'SpeciesIDMethod',\n",
       " 'SurveyType']"
      ]
     },
     "execution_count": 18,
     "metadata": {},
     "output_type": "execute_result"
    }
   ],
   "source": [
    "roost_df.columns.tolist()"
   ]
  },
  {
   "cell_type": "code",
   "execution_count": 19,
   "metadata": {
    "collapsed": false,
    "run_control": {
     "read_only": false
    },
    "scrolled": true
   },
   "outputs": [
    {
     "data": {
      "text/plain": [
       "observationID         int64\n",
       "recordKey             int64\n",
       "organisationName     object\n",
       "datasetKey           object\n",
       "surveyKey             int64\n",
       "sampleKey             int64\n",
       "gridReference        object\n",
       "precision            object\n",
       "siteKey             float64\n",
       "siteName            float64\n",
       "featureKey            int64\n",
       "startDate            object\n",
       "endDate              object\n",
       "dateType             object\n",
       "recorder            float64\n",
       "determiner          float64\n",
       "pTaxonVersionKey     object\n",
       "taxonName            object\n",
       "authority            object\n",
       "commonName           object\n",
       "taxonGroup           object\n",
       "sensitive              bool\n",
       "zeroAbundance          bool\n",
       "fullVersion            bool\n",
       "Abundance           float64\n",
       "Comments            float64\n",
       "HRGridReference     float64\n",
       "LocationName        float64\n",
       "RecordType          float64\n",
       "SpeciesIDMethod     float64\n",
       "SurveyType          float64\n",
       "dtype: object"
      ]
     },
     "execution_count": 19,
     "metadata": {},
     "output_type": "execute_result"
    }
   ],
   "source": [
    "roost_df.dtypes"
   ]
  },
  {
   "cell_type": "code",
   "execution_count": 20,
   "metadata": {
    "collapsed": false,
    "run_control": {
     "read_only": false
    },
    "scrolled": true
   },
   "outputs": [
    {
     "data": {
      "text/plain": [
       "<bound method NDFrame.describe of        observationID  recordKey            organisationName datasetKey  \\\n",
       "0          463185100       7871  The Bat Conservation Trust   GA000616   \n",
       "1          463185128       1506  The Bat Conservation Trust   GA000616   \n",
       "2          463185129       1507  The Bat Conservation Trust   GA000616   \n",
       "3          463185205        756  The Bat Conservation Trust   GA000616   \n",
       "4          463185255      12799  The Bat Conservation Trust   GA000616   \n",
       "5          463185256      12800  The Bat Conservation Trust   GA000616   \n",
       "6          463185451        690  The Bat Conservation Trust   GA000616   \n",
       "7          463185492      17833  The Bat Conservation Trust   GA000616   \n",
       "8          463185571       5151  The Bat Conservation Trust   GA000616   \n",
       "9          463185572       5152  The Bat Conservation Trust   GA000616   \n",
       "10         463185573       5153  The Bat Conservation Trust   GA000616   \n",
       "11         463185574       5154  The Bat Conservation Trust   GA000616   \n",
       "12         463185575       5155  The Bat Conservation Trust   GA000616   \n",
       "13         463185576       5156  The Bat Conservation Trust   GA000616   \n",
       "14         463185577       5157  The Bat Conservation Trust   GA000616   \n",
       "15         463185578       5158  The Bat Conservation Trust   GA000616   \n",
       "16         463185579       5159  The Bat Conservation Trust   GA000616   \n",
       "17         463185580       5160  The Bat Conservation Trust   GA000616   \n",
       "18         463185581       5161  The Bat Conservation Trust   GA000616   \n",
       "19         463185582       5162  The Bat Conservation Trust   GA000616   \n",
       "20         463185583       5163  The Bat Conservation Trust   GA000616   \n",
       "21         463185584       5164  The Bat Conservation Trust   GA000616   \n",
       "22         463185585       5165  The Bat Conservation Trust   GA000616   \n",
       "23         463185586       5166  The Bat Conservation Trust   GA000616   \n",
       "24         463185587       5167  The Bat Conservation Trust   GA000616   \n",
       "25         463185588       5168  The Bat Conservation Trust   GA000616   \n",
       "26         463185589       5169  The Bat Conservation Trust   GA000616   \n",
       "27         463185688       5889  The Bat Conservation Trust   GA000616   \n",
       "28         463185689       5890  The Bat Conservation Trust   GA000616   \n",
       "29         463185690       5891  The Bat Conservation Trust   GA000616   \n",
       "...              ...        ...                         ...        ...   \n",
       "23649      463207173       4601  The Bat Conservation Trust   GA000616   \n",
       "23650      463207174       4602  The Bat Conservation Trust   GA000616   \n",
       "23651      463207183       1971  The Bat Conservation Trust   GA000616   \n",
       "23652      463207184       1973  The Bat Conservation Trust   GA000616   \n",
       "23653      463207209      27862  The Bat Conservation Trust   GA000616   \n",
       "23654      463207210      27863  The Bat Conservation Trust   GA000616   \n",
       "23655      463207214      25492  The Bat Conservation Trust   GA000616   \n",
       "23656      463207215      25493  The Bat Conservation Trust   GA000616   \n",
       "23657      463208366    1003886  The Bat Conservation Trust   GA000616   \n",
       "23658      463208367    1004161  The Bat Conservation Trust   GA000616   \n",
       "23659      463208394      19759  The Bat Conservation Trust   GA000616   \n",
       "23660      463208395      19760  The Bat Conservation Trust   GA000616   \n",
       "23661      463208781      19761  The Bat Conservation Trust   GA000616   \n",
       "23662      463208782      19762  The Bat Conservation Trust   GA000616   \n",
       "23663      463208783      19763  The Bat Conservation Trust   GA000616   \n",
       "23664      463208784      19764  The Bat Conservation Trust   GA000616   \n",
       "23665      463208785      19765  The Bat Conservation Trust   GA000616   \n",
       "23666      463208786      19766  The Bat Conservation Trust   GA000616   \n",
       "23667      463208787      19767  The Bat Conservation Trust   GA000616   \n",
       "23668      463208788      19768  The Bat Conservation Trust   GA000616   \n",
       "23669      463208789      19769  The Bat Conservation Trust   GA000616   \n",
       "23670      463208790      19770  The Bat Conservation Trust   GA000616   \n",
       "23671      463208859      26097  The Bat Conservation Trust   GA000616   \n",
       "23672      463208860      26098  The Bat Conservation Trust   GA000616   \n",
       "23673      463209486      13311  The Bat Conservation Trust   GA000616   \n",
       "23674      463209487      13191  The Bat Conservation Trust   GA000616   \n",
       "23675      463209488       1738  The Bat Conservation Trust   GA000616   \n",
       "23676      463209489       1739  The Bat Conservation Trust   GA000616   \n",
       "23677      463209975      21920  The Bat Conservation Trust   GA000616   \n",
       "23678      463209976      21921  The Bat Conservation Trust   GA000616   \n",
       "\n",
       "       surveyKey  sampleKey gridReference precision  siteKey  siteName  \\\n",
       "0              1          1        NN5620       1km      NaN       NaN   \n",
       "1              1          1        NR2767       1km      NaN       NaN   \n",
       "2              1          1        NR2767       1km      NaN       NaN   \n",
       "3              1          1        TA0333       1km      NaN       NaN   \n",
       "4              1          1        NN7102       1km      NaN       NaN   \n",
       "5              1          1        NN7102       1km      NaN       NaN   \n",
       "6              1          1        NS8992       1km      NaN       NaN   \n",
       "7              1          1        SE6562       1km      NaN       NaN   \n",
       "8              1          1        SE6845       1km      NaN       NaN   \n",
       "9              1          1        SE6845       1km      NaN       NaN   \n",
       "10             1          1        SE6845       1km      NaN       NaN   \n",
       "11             1          1        SE6845       1km      NaN       NaN   \n",
       "12             1          1        SE6845       1km      NaN       NaN   \n",
       "13             1          1        SE6845       1km      NaN       NaN   \n",
       "14             1          1        SE6845       1km      NaN       NaN   \n",
       "15             1          1        SE6845       1km      NaN       NaN   \n",
       "16             1          1        SE6845       1km      NaN       NaN   \n",
       "17             1          1        SE6845       1km      NaN       NaN   \n",
       "18             1          1        SE6845       1km      NaN       NaN   \n",
       "19             1          1        SE6845       1km      NaN       NaN   \n",
       "20             1          1        SE6845       1km      NaN       NaN   \n",
       "21             1          1        SE6845       1km      NaN       NaN   \n",
       "22             1          1        SE6845       1km      NaN       NaN   \n",
       "23             1          1        SE6845       1km      NaN       NaN   \n",
       "24             1          1        SE6845       1km      NaN       NaN   \n",
       "25             1          1        SE6845       1km      NaN       NaN   \n",
       "26             1          1        SE6845       1km      NaN       NaN   \n",
       "27             1          1        SU0038       1km      NaN       NaN   \n",
       "28             1          1        SU0038       1km      NaN       NaN   \n",
       "29             1          1        SU0038       1km      NaN       NaN   \n",
       "...          ...        ...           ...       ...      ...       ...   \n",
       "23649          1          1        NY8010       1km      NaN       NaN   \n",
       "23650          1          1        NY8010       1km      NaN       NaN   \n",
       "23651          1          1        NY8010       1km      NaN       NaN   \n",
       "23652          1          1        NY8010       1km      NaN       NaN   \n",
       "23653          1          1        NY8010       1km      NaN       NaN   \n",
       "23654          1          1        NY8010       1km      NaN       NaN   \n",
       "23655          1          1        NY8010       1km      NaN       NaN   \n",
       "23656          1          1        NY8010       1km      NaN       NaN   \n",
       "23657          1          1        ST1821       1km      NaN       NaN   \n",
       "23658          1          1        ST1821       1km      NaN       NaN   \n",
       "23659          1          1        SJ0973       1km      NaN       NaN   \n",
       "23660          1          1        SJ0973       1km      NaN       NaN   \n",
       "23661          1          1        SJ0973       1km      NaN       NaN   \n",
       "23662          1          1        SJ0973       1km      NaN       NaN   \n",
       "23663          1          1        SJ0973       1km      NaN       NaN   \n",
       "23664          1          1        SJ0973       1km      NaN       NaN   \n",
       "23665          1          1        SJ0973       1km      NaN       NaN   \n",
       "23666          1          1        SJ0973       1km      NaN       NaN   \n",
       "23667          1          1        SJ0973       1km      NaN       NaN   \n",
       "23668          1          1        SJ0973       1km      NaN       NaN   \n",
       "23669          1          1        SJ0973       1km      NaN       NaN   \n",
       "23670          1          1        SJ0973       1km      NaN       NaN   \n",
       "23671          1          1        TQ9755       1km      NaN       NaN   \n",
       "23672          1          1        TQ9755       1km      NaN       NaN   \n",
       "23673          1          1        ST1821       1km      NaN       NaN   \n",
       "23674          1          1        ST1821       1km      NaN       NaN   \n",
       "23675          1          1        ST1821       1km      NaN       NaN   \n",
       "23676          1          1        ST1821       1km      NaN       NaN   \n",
       "23677          1          1        SX8166       1km      NaN       NaN   \n",
       "23678          1          1        SX8166       1km      NaN       NaN   \n",
       "\n",
       "         ...      sensitive zeroAbundance fullVersion Abundance  Comments  \\\n",
       "0        ...          False         False       False       NaN       NaN   \n",
       "1        ...          False         False       False       NaN       NaN   \n",
       "2        ...          False         False       False       NaN       NaN   \n",
       "3        ...          False         False       False       NaN       NaN   \n",
       "4        ...          False         False       False       NaN       NaN   \n",
       "5        ...          False         False       False       NaN       NaN   \n",
       "6        ...          False         False       False       NaN       NaN   \n",
       "7        ...          False         False       False       NaN       NaN   \n",
       "8        ...          False         False       False       NaN       NaN   \n",
       "9        ...          False         False       False       NaN       NaN   \n",
       "10       ...          False         False       False       NaN       NaN   \n",
       "11       ...          False         False       False       NaN       NaN   \n",
       "12       ...          False         False       False       NaN       NaN   \n",
       "13       ...          False         False       False       NaN       NaN   \n",
       "14       ...          False         False       False       NaN       NaN   \n",
       "15       ...          False         False       False       NaN       NaN   \n",
       "16       ...          False         False       False       NaN       NaN   \n",
       "17       ...          False         False       False       NaN       NaN   \n",
       "18       ...          False         False       False       NaN       NaN   \n",
       "19       ...          False         False       False       NaN       NaN   \n",
       "20       ...          False         False       False       NaN       NaN   \n",
       "21       ...          False         False       False       NaN       NaN   \n",
       "22       ...          False         False       False       NaN       NaN   \n",
       "23       ...          False         False       False       NaN       NaN   \n",
       "24       ...          False         False       False       NaN       NaN   \n",
       "25       ...          False         False       False       NaN       NaN   \n",
       "26       ...          False         False       False       NaN       NaN   \n",
       "27       ...          False         False       False       NaN       NaN   \n",
       "28       ...          False         False       False       NaN       NaN   \n",
       "29       ...          False         False       False       NaN       NaN   \n",
       "...      ...            ...           ...         ...       ...       ...   \n",
       "23649    ...          False         False       False       NaN       NaN   \n",
       "23650    ...          False         False       False       NaN       NaN   \n",
       "23651    ...          False         False       False       NaN       NaN   \n",
       "23652    ...          False         False       False       NaN       NaN   \n",
       "23653    ...          False         False       False       NaN       NaN   \n",
       "23654    ...          False         False       False       NaN       NaN   \n",
       "23655    ...          False         False       False       NaN       NaN   \n",
       "23656    ...          False         False       False       NaN       NaN   \n",
       "23657    ...          False         False       False       NaN       NaN   \n",
       "23658    ...          False         False       False       NaN       NaN   \n",
       "23659    ...          False         False       False       NaN       NaN   \n",
       "23660    ...          False         False       False       NaN       NaN   \n",
       "23661    ...          False         False       False       NaN       NaN   \n",
       "23662    ...          False         False       False       NaN       NaN   \n",
       "23663    ...          False         False       False       NaN       NaN   \n",
       "23664    ...          False         False       False       NaN       NaN   \n",
       "23665    ...          False         False       False       NaN       NaN   \n",
       "23666    ...          False         False       False       NaN       NaN   \n",
       "23667    ...          False         False       False       NaN       NaN   \n",
       "23668    ...          False         False       False       NaN       NaN   \n",
       "23669    ...          False         False       False       NaN       NaN   \n",
       "23670    ...          False         False       False       NaN       NaN   \n",
       "23671    ...          False         False       False       NaN       NaN   \n",
       "23672    ...          False         False       False       NaN       NaN   \n",
       "23673    ...          False         False       False       NaN       NaN   \n",
       "23674    ...          False         False       False       NaN       NaN   \n",
       "23675    ...          False         False       False       NaN       NaN   \n",
       "23676    ...          False         False       False       NaN       NaN   \n",
       "23677    ...          False         False       False       NaN       NaN   \n",
       "23678    ...          False         False       False       NaN       NaN   \n",
       "\n",
       "       HRGridReference LocationName RecordType SpeciesIDMethod SurveyType  \n",
       "0                  NaN          NaN        NaN             NaN        NaN  \n",
       "1                  NaN          NaN        NaN             NaN        NaN  \n",
       "2                  NaN          NaN        NaN             NaN        NaN  \n",
       "3                  NaN          NaN        NaN             NaN        NaN  \n",
       "4                  NaN          NaN        NaN             NaN        NaN  \n",
       "5                  NaN          NaN        NaN             NaN        NaN  \n",
       "6                  NaN          NaN        NaN             NaN        NaN  \n",
       "7                  NaN          NaN        NaN             NaN        NaN  \n",
       "8                  NaN          NaN        NaN             NaN        NaN  \n",
       "9                  NaN          NaN        NaN             NaN        NaN  \n",
       "10                 NaN          NaN        NaN             NaN        NaN  \n",
       "11                 NaN          NaN        NaN             NaN        NaN  \n",
       "12                 NaN          NaN        NaN             NaN        NaN  \n",
       "13                 NaN          NaN        NaN             NaN        NaN  \n",
       "14                 NaN          NaN        NaN             NaN        NaN  \n",
       "15                 NaN          NaN        NaN             NaN        NaN  \n",
       "16                 NaN          NaN        NaN             NaN        NaN  \n",
       "17                 NaN          NaN        NaN             NaN        NaN  \n",
       "18                 NaN          NaN        NaN             NaN        NaN  \n",
       "19                 NaN          NaN        NaN             NaN        NaN  \n",
       "20                 NaN          NaN        NaN             NaN        NaN  \n",
       "21                 NaN          NaN        NaN             NaN        NaN  \n",
       "22                 NaN          NaN        NaN             NaN        NaN  \n",
       "23                 NaN          NaN        NaN             NaN        NaN  \n",
       "24                 NaN          NaN        NaN             NaN        NaN  \n",
       "25                 NaN          NaN        NaN             NaN        NaN  \n",
       "26                 NaN          NaN        NaN             NaN        NaN  \n",
       "27                 NaN          NaN        NaN             NaN        NaN  \n",
       "28                 NaN          NaN        NaN             NaN        NaN  \n",
       "29                 NaN          NaN        NaN             NaN        NaN  \n",
       "...                ...          ...        ...             ...        ...  \n",
       "23649              NaN          NaN        NaN             NaN        NaN  \n",
       "23650              NaN          NaN        NaN             NaN        NaN  \n",
       "23651              NaN          NaN        NaN             NaN        NaN  \n",
       "23652              NaN          NaN        NaN             NaN        NaN  \n",
       "23653              NaN          NaN        NaN             NaN        NaN  \n",
       "23654              NaN          NaN        NaN             NaN        NaN  \n",
       "23655              NaN          NaN        NaN             NaN        NaN  \n",
       "23656              NaN          NaN        NaN             NaN        NaN  \n",
       "23657              NaN          NaN        NaN             NaN        NaN  \n",
       "23658              NaN          NaN        NaN             NaN        NaN  \n",
       "23659              NaN          NaN        NaN             NaN        NaN  \n",
       "23660              NaN          NaN        NaN             NaN        NaN  \n",
       "23661              NaN          NaN        NaN             NaN        NaN  \n",
       "23662              NaN          NaN        NaN             NaN        NaN  \n",
       "23663              NaN          NaN        NaN             NaN        NaN  \n",
       "23664              NaN          NaN        NaN             NaN        NaN  \n",
       "23665              NaN          NaN        NaN             NaN        NaN  \n",
       "23666              NaN          NaN        NaN             NaN        NaN  \n",
       "23667              NaN          NaN        NaN             NaN        NaN  \n",
       "23668              NaN          NaN        NaN             NaN        NaN  \n",
       "23669              NaN          NaN        NaN             NaN        NaN  \n",
       "23670              NaN          NaN        NaN             NaN        NaN  \n",
       "23671              NaN          NaN        NaN             NaN        NaN  \n",
       "23672              NaN          NaN        NaN             NaN        NaN  \n",
       "23673              NaN          NaN        NaN             NaN        NaN  \n",
       "23674              NaN          NaN        NaN             NaN        NaN  \n",
       "23675              NaN          NaN        NaN             NaN        NaN  \n",
       "23676              NaN          NaN        NaN             NaN        NaN  \n",
       "23677              NaN          NaN        NaN             NaN        NaN  \n",
       "23678              NaN          NaN        NaN             NaN        NaN  \n",
       "\n",
       "[23679 rows x 31 columns]>"
      ]
     },
     "execution_count": 20,
     "metadata": {},
     "output_type": "execute_result"
    }
   ],
   "source": [
    "roost_df.describe"
   ]
  },
  {
   "cell_type": "code",
   "execution_count": 21,
   "metadata": {
    "collapsed": false,
    "run_control": {
     "read_only": false
    }
   },
   "outputs": [
    {
     "data": {
      "text/plain": [
       "23679"
      ]
     },
     "execution_count": 21,
     "metadata": {},
     "output_type": "execute_result"
    }
   ],
   "source": [
    "len(roost_df['observationID'].unique())"
   ]
  },
  {
   "cell_type": "markdown",
   "metadata": {},
   "source": [
    "So there is one observationID value for each row."
   ]
  },
  {
   "cell_type": "code",
   "execution_count": 22,
   "metadata": {
    "collapsed": false,
    "run_control": {
     "read_only": false
    }
   },
   "outputs": [
    {
     "data": {
      "text/plain": [
       "23679"
      ]
     },
     "execution_count": 22,
     "metadata": {},
     "output_type": "execute_result"
    }
   ],
   "source": [
    "len(roost_df['recordKey'].unique())\n",
    "#one recordKey value for each row"
   ]
  },
  {
   "cell_type": "code",
   "execution_count": 23,
   "metadata": {
    "collapsed": false,
    "run_control": {
     "read_only": false
    }
   },
   "outputs": [
    {
     "data": {
      "text/plain": [
       "array(['The Bat Conservation Trust'], dtype=object)"
      ]
     },
     "execution_count": 23,
     "metadata": {},
     "output_type": "execute_result"
    }
   ],
   "source": [
    "roost_df['organisationName'].unique()\n",
    "#same value repeated, not useful"
   ]
  },
  {
   "cell_type": "code",
   "execution_count": 24,
   "metadata": {
    "collapsed": false,
    "run_control": {
     "read_only": false
    }
   },
   "outputs": [
    {
     "data": {
      "text/plain": [
       "array([ nan])"
      ]
     },
     "execution_count": 24,
     "metadata": {},
     "output_type": "execute_result"
    }
   ],
   "source": [
    "roost_df['HRGridReference'].unique()"
   ]
  },
  {
   "cell_type": "code",
   "execution_count": 25,
   "metadata": {
    "collapsed": false,
    "run_control": {
     "read_only": false
    }
   },
   "outputs": [
    {
     "data": {
      "text/plain": [
       "array(['The Bat Conservation Trust'], dtype=object)"
      ]
     },
     "execution_count": 25,
     "metadata": {},
     "output_type": "execute_result"
    }
   ],
   "source": [
    "roost_df['organisationName'].unique()\n",
    "#same value repeated, not useful"
   ]
  },
  {
   "cell_type": "code",
   "execution_count": 26,
   "metadata": {
    "collapsed": false,
    "run_control": {
     "read_only": false
    }
   },
   "outputs": [
    {
     "data": {
      "text/plain": [
       "array(['GA000616'], dtype=object)"
      ]
     },
     "execution_count": 26,
     "metadata": {},
     "output_type": "execute_result"
    }
   ],
   "source": [
    "roost_df['datasetKey'].unique()\n",
    "#same value repeated, not useful"
   ]
  },
  {
   "cell_type": "code",
   "execution_count": 27,
   "metadata": {
    "collapsed": false,
    "run_control": {
     "read_only": false
    }
   },
   "outputs": [
    {
     "data": {
      "text/plain": [
       "array([1], dtype=int64)"
      ]
     },
     "execution_count": 27,
     "metadata": {},
     "output_type": "execute_result"
    }
   ],
   "source": [
    "roost_df['surveyKey'].unique()\n",
    "#roost_df['surveyKey']\n",
    "#same value repeated, not useful"
   ]
  },
  {
   "cell_type": "code",
   "execution_count": 28,
   "metadata": {
    "collapsed": false,
    "run_control": {
     "read_only": false
    }
   },
   "outputs": [
    {
     "data": {
      "text/plain": [
       "array([1], dtype=int64)"
      ]
     },
     "execution_count": 28,
     "metadata": {},
     "output_type": "execute_result"
    }
   ],
   "source": [
    "roost_df['sampleKey'].unique()\n",
    "#same value repeated, not useful"
   ]
  },
  {
   "cell_type": "code",
   "execution_count": 29,
   "metadata": {
    "collapsed": false,
    "run_control": {
     "read_only": false
    }
   },
   "outputs": [
    {
     "data": {
      "text/plain": [
       "array(['NN5620', 'NR2767', 'TA0333', ..., 'SS4692', 'TA0067', 'SX8166'], dtype=object)"
      ]
     },
     "execution_count": 29,
     "metadata": {},
     "output_type": "execute_result"
    }
   ],
   "source": [
    "roost_df['gridReference'].unique()\n",
    "#grid reference with 4 digit number"
   ]
  },
  {
   "cell_type": "code",
   "execution_count": 30,
   "metadata": {
    "collapsed": false,
    "run_control": {
     "read_only": false
    }
   },
   "outputs": [
    {
     "data": {
      "text/plain": [
       "array(['1km', '10km'], dtype=object)"
      ]
     },
     "execution_count": 30,
     "metadata": {},
     "output_type": "execute_result"
    }
   ],
   "source": [
    "roost_df['precision'].unique()"
   ]
  },
  {
   "cell_type": "markdown",
   "metadata": {},
   "source": [
    "# Discrepancies in the site precision values"
   ]
  },
  {
   "cell_type": "markdown",
   "metadata": {},
   "source": [
    "Some values are for 1km others for 10km.\n",
    "\n",
    "This is at odds with the metadata which states that the data resolution is 1km.\n",
    "\n",
    "Since I am not considering location in my analysis this discrepancy is not likely to be a problem. Furthermore the number of sites with 10km precisions small so I have opted to leave the values as they are."
   ]
  },
  {
   "cell_type": "code",
   "execution_count": 31,
   "metadata": {
    "collapsed": false,
    "run_control": {
     "read_only": false
    }
   },
   "outputs": [
    {
     "data": {
      "text/html": [
       "<div>\n",
       "<table border=\"1\" class=\"dataframe\">\n",
       "  <thead>\n",
       "    <tr style=\"text-align: right;\">\n",
       "      <th></th>\n",
       "      <th>observationID</th>\n",
       "      <th>recordKey</th>\n",
       "      <th>organisationName</th>\n",
       "      <th>datasetKey</th>\n",
       "      <th>surveyKey</th>\n",
       "      <th>sampleKey</th>\n",
       "      <th>gridReference</th>\n",
       "      <th>precision</th>\n",
       "      <th>siteKey</th>\n",
       "      <th>siteName</th>\n",
       "      <th>...</th>\n",
       "      <th>sensitive</th>\n",
       "      <th>zeroAbundance</th>\n",
       "      <th>fullVersion</th>\n",
       "      <th>Abundance</th>\n",
       "      <th>Comments</th>\n",
       "      <th>HRGridReference</th>\n",
       "      <th>LocationName</th>\n",
       "      <th>RecordType</th>\n",
       "      <th>SpeciesIDMethod</th>\n",
       "      <th>SurveyType</th>\n",
       "    </tr>\n",
       "  </thead>\n",
       "  <tbody>\n",
       "    <tr>\n",
       "      <th>121</th>\n",
       "      <td>463188032</td>\n",
       "      <td>8466</td>\n",
       "      <td>The Bat Conservation Trust</td>\n",
       "      <td>GA000616</td>\n",
       "      <td>1</td>\n",
       "      <td>1</td>\n",
       "      <td>ST76</td>\n",
       "      <td>10km</td>\n",
       "      <td>19786076.0</td>\n",
       "      <td>1030121.0</td>\n",
       "      <td>...</td>\n",
       "      <td>False</td>\n",
       "      <td>False</td>\n",
       "      <td>False</td>\n",
       "      <td>NaN</td>\n",
       "      <td>NaN</td>\n",
       "      <td>NaN</td>\n",
       "      <td>NaN</td>\n",
       "      <td>NaN</td>\n",
       "      <td>NaN</td>\n",
       "      <td>NaN</td>\n",
       "    </tr>\n",
       "    <tr>\n",
       "      <th>122</th>\n",
       "      <td>463188033</td>\n",
       "      <td>8467</td>\n",
       "      <td>The Bat Conservation Trust</td>\n",
       "      <td>GA000616</td>\n",
       "      <td>1</td>\n",
       "      <td>1</td>\n",
       "      <td>ST76</td>\n",
       "      <td>10km</td>\n",
       "      <td>19786076.0</td>\n",
       "      <td>1030121.0</td>\n",
       "      <td>...</td>\n",
       "      <td>False</td>\n",
       "      <td>False</td>\n",
       "      <td>False</td>\n",
       "      <td>NaN</td>\n",
       "      <td>NaN</td>\n",
       "      <td>NaN</td>\n",
       "      <td>NaN</td>\n",
       "      <td>NaN</td>\n",
       "      <td>NaN</td>\n",
       "      <td>NaN</td>\n",
       "    </tr>\n",
       "    <tr>\n",
       "      <th>1074</th>\n",
       "      <td>463205666</td>\n",
       "      <td>7216</td>\n",
       "      <td>The Bat Conservation Trust</td>\n",
       "      <td>GA000616</td>\n",
       "      <td>1</td>\n",
       "      <td>1</td>\n",
       "      <td>SE30</td>\n",
       "      <td>10km</td>\n",
       "      <td>19785999.0</td>\n",
       "      <td>1080005.0</td>\n",
       "      <td>...</td>\n",
       "      <td>False</td>\n",
       "      <td>False</td>\n",
       "      <td>False</td>\n",
       "      <td>NaN</td>\n",
       "      <td>NaN</td>\n",
       "      <td>NaN</td>\n",
       "      <td>NaN</td>\n",
       "      <td>NaN</td>\n",
       "      <td>NaN</td>\n",
       "      <td>NaN</td>\n",
       "    </tr>\n",
       "    <tr>\n",
       "      <th>1075</th>\n",
       "      <td>463205667</td>\n",
       "      <td>7217</td>\n",
       "      <td>The Bat Conservation Trust</td>\n",
       "      <td>GA000616</td>\n",
       "      <td>1</td>\n",
       "      <td>1</td>\n",
       "      <td>SE30</td>\n",
       "      <td>10km</td>\n",
       "      <td>19785999.0</td>\n",
       "      <td>1080005.0</td>\n",
       "      <td>...</td>\n",
       "      <td>False</td>\n",
       "      <td>False</td>\n",
       "      <td>False</td>\n",
       "      <td>NaN</td>\n",
       "      <td>NaN</td>\n",
       "      <td>NaN</td>\n",
       "      <td>NaN</td>\n",
       "      <td>NaN</td>\n",
       "      <td>NaN</td>\n",
       "      <td>NaN</td>\n",
       "    </tr>\n",
       "    <tr>\n",
       "      <th>1076</th>\n",
       "      <td>463205670</td>\n",
       "      <td>7235</td>\n",
       "      <td>The Bat Conservation Trust</td>\n",
       "      <td>GA000616</td>\n",
       "      <td>1</td>\n",
       "      <td>1</td>\n",
       "      <td>SE30</td>\n",
       "      <td>10km</td>\n",
       "      <td>19785999.0</td>\n",
       "      <td>1080005.0</td>\n",
       "      <td>...</td>\n",
       "      <td>False</td>\n",
       "      <td>False</td>\n",
       "      <td>False</td>\n",
       "      <td>NaN</td>\n",
       "      <td>NaN</td>\n",
       "      <td>NaN</td>\n",
       "      <td>NaN</td>\n",
       "      <td>NaN</td>\n",
       "      <td>NaN</td>\n",
       "      <td>NaN</td>\n",
       "    </tr>\n",
       "  </tbody>\n",
       "</table>\n",
       "<p>5 rows × 31 columns</p>\n",
       "</div>"
      ],
      "text/plain": [
       "      observationID  recordKey            organisationName datasetKey  \\\n",
       "121       463188032       8466  The Bat Conservation Trust   GA000616   \n",
       "122       463188033       8467  The Bat Conservation Trust   GA000616   \n",
       "1074      463205666       7216  The Bat Conservation Trust   GA000616   \n",
       "1075      463205667       7217  The Bat Conservation Trust   GA000616   \n",
       "1076      463205670       7235  The Bat Conservation Trust   GA000616   \n",
       "\n",
       "      surveyKey  sampleKey gridReference precision     siteKey   siteName  \\\n",
       "121           1          1          ST76      10km  19786076.0  1030121.0   \n",
       "122           1          1          ST76      10km  19786076.0  1030121.0   \n",
       "1074          1          1          SE30      10km  19785999.0  1080005.0   \n",
       "1075          1          1          SE30      10km  19785999.0  1080005.0   \n",
       "1076          1          1          SE30      10km  19785999.0  1080005.0   \n",
       "\n",
       "        ...      sensitive zeroAbundance fullVersion Abundance  Comments  \\\n",
       "121     ...          False         False       False       NaN       NaN   \n",
       "122     ...          False         False       False       NaN       NaN   \n",
       "1074    ...          False         False       False       NaN       NaN   \n",
       "1075    ...          False         False       False       NaN       NaN   \n",
       "1076    ...          False         False       False       NaN       NaN   \n",
       "\n",
       "      HRGridReference LocationName RecordType SpeciesIDMethod SurveyType  \n",
       "121               NaN          NaN        NaN             NaN        NaN  \n",
       "122               NaN          NaN        NaN             NaN        NaN  \n",
       "1074              NaN          NaN        NaN             NaN        NaN  \n",
       "1075              NaN          NaN        NaN             NaN        NaN  \n",
       "1076              NaN          NaN        NaN             NaN        NaN  \n",
       "\n",
       "[5 rows x 31 columns]"
      ]
     },
     "execution_count": 31,
     "metadata": {},
     "output_type": "execute_result"
    }
   ],
   "source": [
    "roost_df[roost_df['precision']=='10km']\n",
    "#two sites appear to have a precision of 10km"
   ]
  },
  {
   "cell_type": "code",
   "execution_count": 32,
   "metadata": {
    "collapsed": false,
    "run_control": {
     "read_only": false
    },
    "scrolled": true
   },
   "outputs": [
    {
     "data": {
      "text/plain": [
       "200"
      ]
     },
     "execution_count": 32,
     "metadata": {},
     "output_type": "execute_result"
    }
   ],
   "source": [
    "len(roost_df['siteKey'].unique())\n",
    "# Most values are NaN and those values that are not do not seem useful."
   ]
  },
  {
   "cell_type": "code",
   "execution_count": 33,
   "metadata": {
    "collapsed": false,
    "run_control": {
     "read_only": false
    }
   },
   "outputs": [
    {
     "data": {
      "text/plain": [
       "200"
      ]
     },
     "execution_count": 33,
     "metadata": {},
     "output_type": "execute_result"
    }
   ],
   "source": [
    "len(roost_df['siteName'].unique())\n",
    "# Most values are NaN and those values that are not do not seem useful."
   ]
  },
  {
   "cell_type": "code",
   "execution_count": 34,
   "metadata": {
    "collapsed": false,
    "run_control": {
     "read_only": false
    },
    "scrolled": true
   },
   "outputs": [
    {
     "data": {
      "text/plain": [
       "2026"
      ]
     },
     "execution_count": 34,
     "metadata": {},
     "output_type": "execute_result"
    }
   ],
   "source": [
    "roost_df['featureKey'].unique()\n",
    "len(roost_df['featureKey'].unique())\n",
    "#roost_df['featureKey']\n",
    "\n",
    "#It's not clear what this is but it also does not seem useful."
   ]
  },
  {
   "cell_type": "markdown",
   "metadata": {},
   "source": [
    "According to the metadata the roosts are counted twice at sunset on two evenings during the survey period."
   ]
  },
  {
   "cell_type": "code",
   "execution_count": 35,
   "metadata": {
    "collapsed": false,
    "run_control": {
     "read_only": false
    }
   },
   "outputs": [
    {
     "data": {
      "text/plain": [
       "array(['16/06/2007', '29/05/2010', '06/06/2010', ..., '27/07/2013',\n",
       "       '13/07/2005', '28/05/2013'], dtype=object)"
      ]
     },
     "execution_count": 35,
     "metadata": {},
     "output_type": "execute_result"
    }
   ],
   "source": [
    "roost_df['startDate'].unique()\n",
    "#roost_df['startDate']"
   ]
  },
  {
   "cell_type": "code",
   "execution_count": 36,
   "metadata": {
    "collapsed": false,
    "run_control": {
     "read_only": false
    }
   },
   "outputs": [
    {
     "data": {
      "text/plain": [
       "array(['16/06/2007', '29/05/2010', '06/06/2010', ..., '27/07/2013',\n",
       "       '13/07/2005', '28/05/2013'], dtype=object)"
      ]
     },
     "execution_count": 36,
     "metadata": {},
     "output_type": "execute_result"
    }
   ],
   "source": [
    "roost_df['endDate'].unique()"
   ]
  },
  {
   "cell_type": "code",
   "execution_count": 37,
   "metadata": {
    "collapsed": false,
    "run_control": {
     "read_only": false
    }
   },
   "outputs": [
    {
     "data": {
      "text/plain": [
       "array(['Day', 'Year'], dtype=object)"
      ]
     },
     "execution_count": 37,
     "metadata": {},
     "output_type": "execute_result"
    }
   ],
   "source": [
    "roost_df['dateType'].unique()"
   ]
  },
  {
   "cell_type": "code",
   "execution_count": 38,
   "metadata": {
    "collapsed": false,
    "run_control": {
     "read_only": false
    }
   },
   "outputs": [
    {
     "data": {
      "text/plain": [
       "array([ nan])"
      ]
     },
     "execution_count": 38,
     "metadata": {},
     "output_type": "execute_result"
    }
   ],
   "source": [
    "roost_df['recorder'].unique()\n",
    "#Same value repeated, not useful."
   ]
  },
  {
   "cell_type": "code",
   "execution_count": 39,
   "metadata": {
    "collapsed": false,
    "run_control": {
     "read_only": false
    }
   },
   "outputs": [
    {
     "data": {
      "text/plain": [
       "array([ nan])"
      ]
     },
     "execution_count": 39,
     "metadata": {},
     "output_type": "execute_result"
    }
   ],
   "source": [
    "roost_df['determiner'].unique()\n",
    "#Same value repeated, not useful."
   ]
  },
  {
   "cell_type": "code",
   "execution_count": 40,
   "metadata": {
    "collapsed": false,
    "run_control": {
     "read_only": false
    }
   },
   "outputs": [
    {
     "data": {
      "text/plain": [
       "array(['NBNSYS0000005102', 'NHMSYS0020001355', 'NHMSYS0020001356',\n",
       "       'NBNSYS0100004720', 'NHMSYS0000080184', 'NHMSYS0000080177',\n",
       "       'NHMSYS0000528008', 'NHMSYS0000080176', 'NHMSYS0000080186',\n",
       "       'NHMSYS0000080183', 'NHMSYS0000376160', 'NHMSYS0000528028',\n",
       "       'NHMSYS0000080185', 'NHMSYS0000528026', 'NHMSYS0000528030',\n",
       "       'NBNSYS0000005103', 'NHMSYS0000528024'], dtype=object)"
      ]
     },
     "execution_count": 40,
     "metadata": {},
     "output_type": "execute_result"
    }
   ],
   "source": [
    "roost_df['pTaxonVersionKey'].unique()\n",
    "#This seems to be the type of taxon directory used.\n",
    "#Not really useful for my analysis."
   ]
  },
  {
   "cell_type": "code",
   "execution_count": 41,
   "metadata": {
    "collapsed": false,
    "run_control": {
     "read_only": false
    }
   },
   "outputs": [
    {
     "data": {
      "text/plain": [
       "17"
      ]
     },
     "execution_count": 41,
     "metadata": {},
     "output_type": "execute_result"
    }
   ],
   "source": [
    "roost_df['taxonName'].unique()\n",
    "#The bat species proper names.\n",
    "len(roost_df['taxonName'].unique())\n",
    "#Total of 17 bat species present."
   ]
  },
  {
   "cell_type": "code",
   "execution_count": 42,
   "metadata": {
    "collapsed": false,
    "run_control": {
     "read_only": false
    }
   },
   "outputs": [
    {
     "data": {
      "text/plain": [
       "array(['(Linnaeus, 1758)', '(Schreber, 1774)', '(Leach, 1825)',\n",
       "       '(Kuhl, 1817)', '(Bechstein, 1800)', 'Blumenbach, 1779',\n",
       "       '(Eversmann, 1845)', 'null', '(Fischer, 1829)'], dtype=object)"
      ]
     },
     "execution_count": 42,
     "metadata": {},
     "output_type": "execute_result"
    }
   ],
   "source": [
    "roost_df['authority'].unique()\n",
    "#Name of the person who first described the bat species and when."
   ]
  },
  {
   "cell_type": "code",
   "execution_count": 43,
   "metadata": {
    "collapsed": false,
    "run_control": {
     "read_only": false
    }
   },
   "outputs": [
    {
     "data": {
      "text/plain": [
       "array(['Brown Long-eared Bat', 'Common Pipistrelle', 'Pipistrelle',\n",
       "       'Soprano Pipistrelle', \"Natterer's Bat\", 'Lesser Horseshoe Bat',\n",
       "       'Serotine', 'Greater Horseshoe Bat', 'Noctule Bat', 'Whiskered Bat',\n",
       "       'Bat', \"Daubenton's Bat\", 'Lesser Noctule', \"Brandt's Bat\",\n",
       "       \"Whiskered/Brandt's Bat\", 'Grey Long-eared Bat', \"Bechstein's Bat\"], dtype=object)"
      ]
     },
     "execution_count": 43,
     "metadata": {},
     "output_type": "execute_result"
    }
   ],
   "source": [
    "roost_df['commonName'].unique()\n",
    "#The bat species common names."
   ]
  },
  {
   "cell_type": "code",
   "execution_count": 44,
   "metadata": {
    "collapsed": false,
    "run_control": {
     "read_only": false
    }
   },
   "outputs": [
    {
     "data": {
      "text/plain": [
       "array(['terrestrial mammal'], dtype=object)"
      ]
     },
     "execution_count": 44,
     "metadata": {},
     "output_type": "execute_result"
    }
   ],
   "source": [
    "roost_df['taxonGroup'].unique()\n",
    "#Same value repeated, so not useful."
   ]
  },
  {
   "cell_type": "code",
   "execution_count": 45,
   "metadata": {
    "collapsed": false,
    "run_control": {
     "read_only": false
    }
   },
   "outputs": [
    {
     "data": {
      "text/plain": [
       "array([False], dtype=object)"
      ]
     },
     "execution_count": 45,
     "metadata": {},
     "output_type": "execute_result"
    }
   ],
   "source": [
    "roost_df['sensitive'].unique()\n",
    "#Same value repeated, so not useful."
   ]
  },
  {
   "cell_type": "code",
   "execution_count": 46,
   "metadata": {
    "collapsed": false,
    "run_control": {
     "read_only": false
    }
   },
   "outputs": [
    {
     "data": {
      "text/plain": [
       "array([False], dtype=object)"
      ]
     },
     "execution_count": 46,
     "metadata": {},
     "output_type": "execute_result"
    }
   ],
   "source": [
    "roost_df['zeroAbundance'].unique()\n",
    "#Same value repeated, so not useful."
   ]
  },
  {
   "cell_type": "code",
   "execution_count": 47,
   "metadata": {
    "collapsed": false,
    "run_control": {
     "read_only": false
    }
   },
   "outputs": [
    {
     "data": {
      "text/plain": [
       "array([False], dtype=object)"
      ]
     },
     "execution_count": 47,
     "metadata": {},
     "output_type": "execute_result"
    }
   ],
   "source": [
    "roost_df['fullVersion'].unique()\n",
    "#Same value repeated, so not useful."
   ]
  },
  {
   "cell_type": "markdown",
   "metadata": {},
   "source": [
    "The above just indicates that this is not the full dataset. \n",
    "\n",
    "Some entries are restricted for legal and privacy reasons as stated in the metadata."
   ]
  },
  {
   "cell_type": "code",
   "execution_count": 48,
   "metadata": {
    "collapsed": false,
    "run_control": {
     "read_only": false
    }
   },
   "outputs": [
    {
     "data": {
      "text/plain": [
       "array([ nan])"
      ]
     },
     "execution_count": 48,
     "metadata": {},
     "output_type": "execute_result"
    }
   ],
   "source": [
    "roost_df['Abundance'].unique()\n",
    "#Same value repeated, so not useful."
   ]
  },
  {
   "cell_type": "code",
   "execution_count": 49,
   "metadata": {
    "collapsed": false,
    "run_control": {
     "read_only": false
    }
   },
   "outputs": [
    {
     "data": {
      "text/plain": [
       "array([ nan])"
      ]
     },
     "execution_count": 49,
     "metadata": {},
     "output_type": "execute_result"
    }
   ],
   "source": [
    "roost_df['Comments'].unique()\n",
    "#Same value NaN repeated, so not useful."
   ]
  },
  {
   "cell_type": "code",
   "execution_count": 50,
   "metadata": {
    "collapsed": false,
    "run_control": {
     "read_only": false
    }
   },
   "outputs": [
    {
     "data": {
      "text/plain": [
       "array([ nan])"
      ]
     },
     "execution_count": 50,
     "metadata": {},
     "output_type": "execute_result"
    }
   ],
   "source": [
    "roost_df['HRGridReference'].unique()\n",
    "#Same value repeated, so not useful.\n",
    "#Probaby high resolution grid reference removed due to sensitivity."
   ]
  },
  {
   "cell_type": "code",
   "execution_count": 51,
   "metadata": {
    "collapsed": false,
    "run_control": {
     "read_only": false
    }
   },
   "outputs": [
    {
     "data": {
      "text/plain": [
       "array([ nan])"
      ]
     },
     "execution_count": 51,
     "metadata": {},
     "output_type": "execute_result"
    }
   ],
   "source": [
    "roost_df['LocationName'].unique()\n",
    "#Same value repeated, so not useful."
   ]
  },
  {
   "cell_type": "code",
   "execution_count": 52,
   "metadata": {
    "collapsed": false,
    "run_control": {
     "read_only": false
    }
   },
   "outputs": [
    {
     "data": {
      "text/plain": [
       "array([ nan])"
      ]
     },
     "execution_count": 52,
     "metadata": {},
     "output_type": "execute_result"
    }
   ],
   "source": [
    "roost_df['RecordType'].unique()\n",
    "#Same value repeated, so not useful."
   ]
  },
  {
   "cell_type": "code",
   "execution_count": 53,
   "metadata": {
    "collapsed": false,
    "run_control": {
     "read_only": false
    }
   },
   "outputs": [
    {
     "data": {
      "text/plain": [
       "array([ nan])"
      ]
     },
     "execution_count": 53,
     "metadata": {},
     "output_type": "execute_result"
    }
   ],
   "source": [
    "roost_df['SpeciesIDMethod'].unique()\n",
    "#Same value repeated, so not useful."
   ]
  },
  {
   "cell_type": "code",
   "execution_count": 54,
   "metadata": {
    "collapsed": false,
    "run_control": {
     "read_only": false
    }
   },
   "outputs": [
    {
     "data": {
      "text/plain": [
       "array([ nan])"
      ]
     },
     "execution_count": 54,
     "metadata": {},
     "output_type": "execute_result"
    }
   ],
   "source": [
    "roost_df['SurveyType'].unique()\n",
    "#Same value repeated, so not useful."
   ]
  },
  {
   "cell_type": "markdown",
   "metadata": {},
   "source": [
    "# Shaping the table into a more useful form:"
   ]
  },
  {
   "cell_type": "code",
   "execution_count": 55,
   "metadata": {
    "collapsed": false,
    "run_control": {
     "read_only": false
    }
   },
   "outputs": [
    {
     "data": {
      "text/plain": [
       "0    16/06/2007\n",
       "1    29/05/2010\n",
       "2    06/06/2010\n",
       "3    13/07/2010\n",
       "4    11/07/2010\n",
       "Name: startDate, dtype: object"
      ]
     },
     "execution_count": 55,
     "metadata": {},
     "output_type": "execute_result"
    }
   ],
   "source": [
    "roost_df['startDate'].head()"
   ]
  },
  {
   "cell_type": "code",
   "execution_count": 56,
   "metadata": {
    "collapsed": false,
    "run_control": {
     "read_only": false
    }
   },
   "outputs": [
    {
     "data": {
      "text/plain": [
       "0    16/06/2007\n",
       "1    29/05/2010\n",
       "2    06/06/2010\n",
       "3    13/07/2010\n",
       "4    11/07/2010\n",
       "Name: endDate, dtype: object"
      ]
     },
     "execution_count": 56,
     "metadata": {},
     "output_type": "execute_result"
    }
   ],
   "source": [
    "roost_df['endDate'].head()"
   ]
  },
  {
   "cell_type": "code",
   "execution_count": 57,
   "metadata": {
    "collapsed": false,
    "run_control": {
     "read_only": false
    }
   },
   "outputs": [
    {
     "data": {
      "text/html": [
       "<div>\n",
       "<table border=\"1\" class=\"dataframe\">\n",
       "  <thead>\n",
       "    <tr style=\"text-align: right;\">\n",
       "      <th></th>\n",
       "      <th>observationID</th>\n",
       "      <th>recordKey</th>\n",
       "      <th>organisationName</th>\n",
       "      <th>datasetKey</th>\n",
       "      <th>surveyKey</th>\n",
       "      <th>sampleKey</th>\n",
       "      <th>gridReference</th>\n",
       "      <th>precision</th>\n",
       "      <th>siteKey</th>\n",
       "      <th>siteName</th>\n",
       "      <th>...</th>\n",
       "      <th>sensitive</th>\n",
       "      <th>zeroAbundance</th>\n",
       "      <th>fullVersion</th>\n",
       "      <th>Abundance</th>\n",
       "      <th>Comments</th>\n",
       "      <th>HRGridReference</th>\n",
       "      <th>LocationName</th>\n",
       "      <th>RecordType</th>\n",
       "      <th>SpeciesIDMethod</th>\n",
       "      <th>SurveyType</th>\n",
       "    </tr>\n",
       "  </thead>\n",
       "  <tbody>\n",
       "    <tr>\n",
       "      <th>0</th>\n",
       "      <td>463185100</td>\n",
       "      <td>7871</td>\n",
       "      <td>The Bat Conservation Trust</td>\n",
       "      <td>GA000616</td>\n",
       "      <td>1</td>\n",
       "      <td>1</td>\n",
       "      <td>NN5620</td>\n",
       "      <td>1km</td>\n",
       "      <td>NaN</td>\n",
       "      <td>NaN</td>\n",
       "      <td>...</td>\n",
       "      <td>False</td>\n",
       "      <td>False</td>\n",
       "      <td>False</td>\n",
       "      <td>NaN</td>\n",
       "      <td>NaN</td>\n",
       "      <td>NaN</td>\n",
       "      <td>NaN</td>\n",
       "      <td>NaN</td>\n",
       "      <td>NaN</td>\n",
       "      <td>NaN</td>\n",
       "    </tr>\n",
       "    <tr>\n",
       "      <th>1</th>\n",
       "      <td>463185128</td>\n",
       "      <td>1506</td>\n",
       "      <td>The Bat Conservation Trust</td>\n",
       "      <td>GA000616</td>\n",
       "      <td>1</td>\n",
       "      <td>1</td>\n",
       "      <td>NR2767</td>\n",
       "      <td>1km</td>\n",
       "      <td>NaN</td>\n",
       "      <td>NaN</td>\n",
       "      <td>...</td>\n",
       "      <td>False</td>\n",
       "      <td>False</td>\n",
       "      <td>False</td>\n",
       "      <td>NaN</td>\n",
       "      <td>NaN</td>\n",
       "      <td>NaN</td>\n",
       "      <td>NaN</td>\n",
       "      <td>NaN</td>\n",
       "      <td>NaN</td>\n",
       "      <td>NaN</td>\n",
       "    </tr>\n",
       "    <tr>\n",
       "      <th>2</th>\n",
       "      <td>463185129</td>\n",
       "      <td>1507</td>\n",
       "      <td>The Bat Conservation Trust</td>\n",
       "      <td>GA000616</td>\n",
       "      <td>1</td>\n",
       "      <td>1</td>\n",
       "      <td>NR2767</td>\n",
       "      <td>1km</td>\n",
       "      <td>NaN</td>\n",
       "      <td>NaN</td>\n",
       "      <td>...</td>\n",
       "      <td>False</td>\n",
       "      <td>False</td>\n",
       "      <td>False</td>\n",
       "      <td>NaN</td>\n",
       "      <td>NaN</td>\n",
       "      <td>NaN</td>\n",
       "      <td>NaN</td>\n",
       "      <td>NaN</td>\n",
       "      <td>NaN</td>\n",
       "      <td>NaN</td>\n",
       "    </tr>\n",
       "    <tr>\n",
       "      <th>3</th>\n",
       "      <td>463185205</td>\n",
       "      <td>756</td>\n",
       "      <td>The Bat Conservation Trust</td>\n",
       "      <td>GA000616</td>\n",
       "      <td>1</td>\n",
       "      <td>1</td>\n",
       "      <td>TA0333</td>\n",
       "      <td>1km</td>\n",
       "      <td>NaN</td>\n",
       "      <td>NaN</td>\n",
       "      <td>...</td>\n",
       "      <td>False</td>\n",
       "      <td>False</td>\n",
       "      <td>False</td>\n",
       "      <td>NaN</td>\n",
       "      <td>NaN</td>\n",
       "      <td>NaN</td>\n",
       "      <td>NaN</td>\n",
       "      <td>NaN</td>\n",
       "      <td>NaN</td>\n",
       "      <td>NaN</td>\n",
       "    </tr>\n",
       "    <tr>\n",
       "      <th>4</th>\n",
       "      <td>463185255</td>\n",
       "      <td>12799</td>\n",
       "      <td>The Bat Conservation Trust</td>\n",
       "      <td>GA000616</td>\n",
       "      <td>1</td>\n",
       "      <td>1</td>\n",
       "      <td>NN7102</td>\n",
       "      <td>1km</td>\n",
       "      <td>NaN</td>\n",
       "      <td>NaN</td>\n",
       "      <td>...</td>\n",
       "      <td>False</td>\n",
       "      <td>False</td>\n",
       "      <td>False</td>\n",
       "      <td>NaN</td>\n",
       "      <td>NaN</td>\n",
       "      <td>NaN</td>\n",
       "      <td>NaN</td>\n",
       "      <td>NaN</td>\n",
       "      <td>NaN</td>\n",
       "      <td>NaN</td>\n",
       "    </tr>\n",
       "  </tbody>\n",
       "</table>\n",
       "<p>5 rows × 31 columns</p>\n",
       "</div>"
      ],
      "text/plain": [
       "   observationID  recordKey            organisationName datasetKey  surveyKey  \\\n",
       "0      463185100       7871  The Bat Conservation Trust   GA000616          1   \n",
       "1      463185128       1506  The Bat Conservation Trust   GA000616          1   \n",
       "2      463185129       1507  The Bat Conservation Trust   GA000616          1   \n",
       "3      463185205        756  The Bat Conservation Trust   GA000616          1   \n",
       "4      463185255      12799  The Bat Conservation Trust   GA000616          1   \n",
       "\n",
       "   sampleKey gridReference precision  siteKey  siteName    ...      sensitive  \\\n",
       "0          1        NN5620       1km      NaN       NaN    ...          False   \n",
       "1          1        NR2767       1km      NaN       NaN    ...          False   \n",
       "2          1        NR2767       1km      NaN       NaN    ...          False   \n",
       "3          1        TA0333       1km      NaN       NaN    ...          False   \n",
       "4          1        NN7102       1km      NaN       NaN    ...          False   \n",
       "\n",
       "  zeroAbundance fullVersion Abundance  Comments  HRGridReference LocationName  \\\n",
       "0         False       False       NaN       NaN              NaN          NaN   \n",
       "1         False       False       NaN       NaN              NaN          NaN   \n",
       "2         False       False       NaN       NaN              NaN          NaN   \n",
       "3         False       False       NaN       NaN              NaN          NaN   \n",
       "4         False       False       NaN       NaN              NaN          NaN   \n",
       "\n",
       "  RecordType SpeciesIDMethod SurveyType  \n",
       "0        NaN             NaN        NaN  \n",
       "1        NaN             NaN        NaN  \n",
       "2        NaN             NaN        NaN  \n",
       "3        NaN             NaN        NaN  \n",
       "4        NaN             NaN        NaN  \n",
       "\n",
       "[5 rows x 31 columns]"
      ]
     },
     "execution_count": 57,
     "metadata": {},
     "output_type": "execute_result"
    }
   ],
   "source": [
    "roost_df.head()"
   ]
  },
  {
   "cell_type": "markdown",
   "metadata": {},
   "source": [
    "Converting the data types that represent date and time and adding a year column:"
   ]
  },
  {
   "cell_type": "code",
   "execution_count": 58,
   "metadata": {
    "collapsed": true,
    "run_control": {
     "read_only": false
    }
   },
   "outputs": [],
   "source": [
    "roost_df['startDate'] = pd.to_datetime(roost_df['startDate'])\n",
    "roost_df['endDate'] = pd.to_datetime(roost_df['endDate'])\n",
    "roost_df['year'] = roost_df['endDate'].dt.year"
   ]
  },
  {
   "cell_type": "code",
   "execution_count": 59,
   "metadata": {
    "collapsed": false,
    "run_control": {
     "read_only": false
    }
   },
   "outputs": [
    {
     "data": {
      "text/html": [
       "<div>\n",
       "<table border=\"1\" class=\"dataframe\">\n",
       "  <thead>\n",
       "    <tr style=\"text-align: right;\">\n",
       "      <th></th>\n",
       "      <th>observationID</th>\n",
       "      <th>gridReference</th>\n",
       "      <th>precision</th>\n",
       "      <th>startDate</th>\n",
       "      <th>endDate</th>\n",
       "      <th>year</th>\n",
       "      <th>taxonName</th>\n",
       "    </tr>\n",
       "  </thead>\n",
       "  <tbody>\n",
       "    <tr>\n",
       "      <th>23674</th>\n",
       "      <td>463209487</td>\n",
       "      <td>ST1821</td>\n",
       "      <td>1km</td>\n",
       "      <td>2011-06-15</td>\n",
       "      <td>2011-06-15</td>\n",
       "      <td>2011</td>\n",
       "      <td>Myotis mystacinus/brandtii</td>\n",
       "    </tr>\n",
       "    <tr>\n",
       "      <th>23675</th>\n",
       "      <td>463209488</td>\n",
       "      <td>ST1821</td>\n",
       "      <td>1km</td>\n",
       "      <td>2010-06-29</td>\n",
       "      <td>2010-06-29</td>\n",
       "      <td>2010</td>\n",
       "      <td>Myotis mystacinus/brandtii</td>\n",
       "    </tr>\n",
       "    <tr>\n",
       "      <th>23676</th>\n",
       "      <td>463209489</td>\n",
       "      <td>ST1821</td>\n",
       "      <td>1km</td>\n",
       "      <td>2010-06-30</td>\n",
       "      <td>2010-06-30</td>\n",
       "      <td>2010</td>\n",
       "      <td>Myotis mystacinus/brandtii</td>\n",
       "    </tr>\n",
       "    <tr>\n",
       "      <th>23677</th>\n",
       "      <td>463209975</td>\n",
       "      <td>SX8166</td>\n",
       "      <td>1km</td>\n",
       "      <td>2004-07-06</td>\n",
       "      <td>2004-07-06</td>\n",
       "      <td>2004</td>\n",
       "      <td>Rhinolophus hipposideros</td>\n",
       "    </tr>\n",
       "    <tr>\n",
       "      <th>23678</th>\n",
       "      <td>463209976</td>\n",
       "      <td>SX8166</td>\n",
       "      <td>1km</td>\n",
       "      <td>2004-06-17</td>\n",
       "      <td>2004-06-17</td>\n",
       "      <td>2004</td>\n",
       "      <td>Rhinolophus hipposideros</td>\n",
       "    </tr>\n",
       "  </tbody>\n",
       "</table>\n",
       "</div>"
      ],
      "text/plain": [
       "       observationID gridReference precision  startDate    endDate  year  \\\n",
       "23674      463209487        ST1821       1km 2011-06-15 2011-06-15  2011   \n",
       "23675      463209488        ST1821       1km 2010-06-29 2010-06-29  2010   \n",
       "23676      463209489        ST1821       1km 2010-06-30 2010-06-30  2010   \n",
       "23677      463209975        SX8166       1km 2004-07-06 2004-07-06  2004   \n",
       "23678      463209976        SX8166       1km 2004-06-17 2004-06-17  2004   \n",
       "\n",
       "                        taxonName  \n",
       "23674  Myotis mystacinus/brandtii  \n",
       "23675  Myotis mystacinus/brandtii  \n",
       "23676  Myotis mystacinus/brandtii  \n",
       "23677    Rhinolophus hipposideros  \n",
       "23678    Rhinolophus hipposideros  "
      ]
     },
     "execution_count": 59,
     "metadata": {},
     "output_type": "execute_result"
    }
   ],
   "source": [
    "roost_df.head()\n",
    "\n",
    "columns = roost_df.columns.tolist()\n",
    "columns = ['observationID', 'gridReference', 'precision', \n",
    "          'startDate', 'endDate', 'year', 'taxonName']\n",
    "columns\n",
    "\n",
    "roost_short_df = roost_df[columns]\n",
    "roost_short_df.tail(5)"
   ]
  },
  {
   "cell_type": "markdown",
   "metadata": {},
   "source": [
    "According to the metadata the roosts are counted twice at sunset on two evenings during the survey period. There does not seem to be a pattern in when the second observation is made.\n",
    "\n",
    "It seems likely then that at least some bats are counted twice but this assumption also rest upon the idea that bats do not move roosting sites frequently. In any case there is obviously no way to determining or accounting for this.\n",
    "\n",
    "Another confounding factor is that observations are made sporadically so it’s possible that there are local and temporal effects on the data as a result. But again there is no way to account for this from the data.\n",
    "\n",
    "Given that the start and end dates are the same I have decided to use the end date value and a derived year value from end date as the time values for exploring the dataset.\n",
    "\n",
    "There is also no clear way of differentiating one site from another except for the grid reference column so I will take grid reference to be synonymous to site for my analysis."
   ]
  },
  {
   "cell_type": "code",
   "execution_count": 60,
   "metadata": {
    "collapsed": false,
    "run_control": {
     "read_only": false
    },
    "scrolled": true
   },
   "outputs": [
    {
     "data": {
      "text/html": [
       "<div>\n",
       "<table border=\"1\" class=\"dataframe\">\n",
       "  <thead>\n",
       "    <tr style=\"text-align: right;\">\n",
       "      <th></th>\n",
       "      <th>observationID</th>\n",
       "      <th>gridReference</th>\n",
       "      <th>precision</th>\n",
       "      <th>startDate</th>\n",
       "      <th>endDate</th>\n",
       "      <th>year</th>\n",
       "      <th>taxonName</th>\n",
       "    </tr>\n",
       "  </thead>\n",
       "  <tbody>\n",
       "    <tr>\n",
       "      <th>23616</th>\n",
       "      <td>463204958</td>\n",
       "      <td>SX8166</td>\n",
       "      <td>1km</td>\n",
       "      <td>2000-05-06</td>\n",
       "      <td>2000-05-06</td>\n",
       "      <td>2000</td>\n",
       "      <td>Rhinolophus hipposideros</td>\n",
       "    </tr>\n",
       "    <tr>\n",
       "      <th>23617</th>\n",
       "      <td>463204959</td>\n",
       "      <td>SX8166</td>\n",
       "      <td>1km</td>\n",
       "      <td>2000-08-06</td>\n",
       "      <td>2000-08-06</td>\n",
       "      <td>2000</td>\n",
       "      <td>Rhinolophus hipposideros</td>\n",
       "    </tr>\n",
       "    <tr>\n",
       "      <th>23618</th>\n",
       "      <td>463204960</td>\n",
       "      <td>SX8166</td>\n",
       "      <td>1km</td>\n",
       "      <td>2002-04-06</td>\n",
       "      <td>2002-04-06</td>\n",
       "      <td>2002</td>\n",
       "      <td>Rhinolophus hipposideros</td>\n",
       "    </tr>\n",
       "    <tr>\n",
       "      <th>23619</th>\n",
       "      <td>463204961</td>\n",
       "      <td>SX8166</td>\n",
       "      <td>1km</td>\n",
       "      <td>2002-06-18</td>\n",
       "      <td>2002-06-18</td>\n",
       "      <td>2002</td>\n",
       "      <td>Rhinolophus hipposideros</td>\n",
       "    </tr>\n",
       "    <tr>\n",
       "      <th>23621</th>\n",
       "      <td>463204963</td>\n",
       "      <td>SX8166</td>\n",
       "      <td>1km</td>\n",
       "      <td>2003-06-17</td>\n",
       "      <td>2003-06-17</td>\n",
       "      <td>2003</td>\n",
       "      <td>Rhinolophus hipposideros</td>\n",
       "    </tr>\n",
       "    <tr>\n",
       "      <th>23620</th>\n",
       "      <td>463204962</td>\n",
       "      <td>SX8166</td>\n",
       "      <td>1km</td>\n",
       "      <td>2003-07-06</td>\n",
       "      <td>2003-07-06</td>\n",
       "      <td>2003</td>\n",
       "      <td>Rhinolophus hipposideros</td>\n",
       "    </tr>\n",
       "    <tr>\n",
       "      <th>23678</th>\n",
       "      <td>463209976</td>\n",
       "      <td>SX8166</td>\n",
       "      <td>1km</td>\n",
       "      <td>2004-06-17</td>\n",
       "      <td>2004-06-17</td>\n",
       "      <td>2004</td>\n",
       "      <td>Rhinolophus hipposideros</td>\n",
       "    </tr>\n",
       "    <tr>\n",
       "      <th>23677</th>\n",
       "      <td>463209975</td>\n",
       "      <td>SX8166</td>\n",
       "      <td>1km</td>\n",
       "      <td>2004-07-06</td>\n",
       "      <td>2004-07-06</td>\n",
       "      <td>2004</td>\n",
       "      <td>Rhinolophus hipposideros</td>\n",
       "    </tr>\n",
       "    <tr>\n",
       "      <th>23629</th>\n",
       "      <td>463205002</td>\n",
       "      <td>SX8166</td>\n",
       "      <td>1km</td>\n",
       "      <td>2005-05-31</td>\n",
       "      <td>2005-05-31</td>\n",
       "      <td>2005</td>\n",
       "      <td>Rhinolophus hipposideros</td>\n",
       "    </tr>\n",
       "    <tr>\n",
       "      <th>23630</th>\n",
       "      <td>463205003</td>\n",
       "      <td>SX8166</td>\n",
       "      <td>1km</td>\n",
       "      <td>2005-06-16</td>\n",
       "      <td>2005-06-16</td>\n",
       "      <td>2005</td>\n",
       "      <td>Rhinolophus hipposideros</td>\n",
       "    </tr>\n",
       "    <tr>\n",
       "      <th>23607</th>\n",
       "      <td>463204935</td>\n",
       "      <td>SX8166</td>\n",
       "      <td>1km</td>\n",
       "      <td>2006-06-18</td>\n",
       "      <td>2006-06-18</td>\n",
       "      <td>2006</td>\n",
       "      <td>Rhinolophus hipposideros</td>\n",
       "    </tr>\n",
       "    <tr>\n",
       "      <th>23606</th>\n",
       "      <td>463204934</td>\n",
       "      <td>SX8166</td>\n",
       "      <td>1km</td>\n",
       "      <td>2006-08-06</td>\n",
       "      <td>2006-08-06</td>\n",
       "      <td>2006</td>\n",
       "      <td>Rhinolophus hipposideros</td>\n",
       "    </tr>\n",
       "    <tr>\n",
       "      <th>23623</th>\n",
       "      <td>463204966</td>\n",
       "      <td>SX8166</td>\n",
       "      <td>1km</td>\n",
       "      <td>2007-06-19</td>\n",
       "      <td>2007-06-19</td>\n",
       "      <td>2007</td>\n",
       "      <td>Rhinolophus hipposideros</td>\n",
       "    </tr>\n",
       "    <tr>\n",
       "      <th>23622</th>\n",
       "      <td>463204965</td>\n",
       "      <td>SX8166</td>\n",
       "      <td>1km</td>\n",
       "      <td>2007-11-06</td>\n",
       "      <td>2007-11-06</td>\n",
       "      <td>2007</td>\n",
       "      <td>Rhinolophus hipposideros</td>\n",
       "    </tr>\n",
       "    <tr>\n",
       "      <th>23611</th>\n",
       "      <td>463204939</td>\n",
       "      <td>SX8166</td>\n",
       "      <td>1km</td>\n",
       "      <td>2008-06-16</td>\n",
       "      <td>2008-06-16</td>\n",
       "      <td>2008</td>\n",
       "      <td>Rhinolophus hipposideros</td>\n",
       "    </tr>\n",
       "    <tr>\n",
       "      <th>23610</th>\n",
       "      <td>463204938</td>\n",
       "      <td>SX8166</td>\n",
       "      <td>1km</td>\n",
       "      <td>2008-08-06</td>\n",
       "      <td>2008-08-06</td>\n",
       "      <td>2008</td>\n",
       "      <td>Rhinolophus hipposideros</td>\n",
       "    </tr>\n",
       "    <tr>\n",
       "      <th>23614</th>\n",
       "      <td>463204954</td>\n",
       "      <td>SX8166</td>\n",
       "      <td>1km</td>\n",
       "      <td>2009-01-06</td>\n",
       "      <td>2009-01-06</td>\n",
       "      <td>2009</td>\n",
       "      <td>Rhinolophus hipposideros</td>\n",
       "    </tr>\n",
       "    <tr>\n",
       "      <th>23615</th>\n",
       "      <td>463204955</td>\n",
       "      <td>SX8166</td>\n",
       "      <td>1km</td>\n",
       "      <td>2009-10-06</td>\n",
       "      <td>2009-10-06</td>\n",
       "      <td>2009</td>\n",
       "      <td>Rhinolophus hipposideros</td>\n",
       "    </tr>\n",
       "    <tr>\n",
       "      <th>23612</th>\n",
       "      <td>463204948</td>\n",
       "      <td>SX8166</td>\n",
       "      <td>1km</td>\n",
       "      <td>2010-01-06</td>\n",
       "      <td>2010-01-06</td>\n",
       "      <td>2010</td>\n",
       "      <td>Rhinolophus hipposideros</td>\n",
       "    </tr>\n",
       "    <tr>\n",
       "      <th>23613</th>\n",
       "      <td>463204949</td>\n",
       "      <td>SX8166</td>\n",
       "      <td>1km</td>\n",
       "      <td>2010-06-13</td>\n",
       "      <td>2010-06-13</td>\n",
       "      <td>2010</td>\n",
       "      <td>Rhinolophus hipposideros</td>\n",
       "    </tr>\n",
       "    <tr>\n",
       "      <th>23608</th>\n",
       "      <td>463204936</td>\n",
       "      <td>SX8166</td>\n",
       "      <td>1km</td>\n",
       "      <td>2011-06-06</td>\n",
       "      <td>2011-06-06</td>\n",
       "      <td>2011</td>\n",
       "      <td>Rhinolophus hipposideros</td>\n",
       "    </tr>\n",
       "    <tr>\n",
       "      <th>23609</th>\n",
       "      <td>463204937</td>\n",
       "      <td>SX8166</td>\n",
       "      <td>1km</td>\n",
       "      <td>2011-06-13</td>\n",
       "      <td>2011-06-13</td>\n",
       "      <td>2011</td>\n",
       "      <td>Rhinolophus hipposideros</td>\n",
       "    </tr>\n",
       "    <tr>\n",
       "      <th>23625</th>\n",
       "      <td>463204970</td>\n",
       "      <td>SX8166</td>\n",
       "      <td>1km</td>\n",
       "      <td>2012-04-06</td>\n",
       "      <td>2012-04-06</td>\n",
       "      <td>2012</td>\n",
       "      <td>Rhinolophus hipposideros</td>\n",
       "    </tr>\n",
       "    <tr>\n",
       "      <th>23626</th>\n",
       "      <td>463204971</td>\n",
       "      <td>SX8166</td>\n",
       "      <td>1km</td>\n",
       "      <td>2012-12-06</td>\n",
       "      <td>2012-12-06</td>\n",
       "      <td>2012</td>\n",
       "      <td>Rhinolophus hipposideros</td>\n",
       "    </tr>\n",
       "    <tr>\n",
       "      <th>23624</th>\n",
       "      <td>463204967</td>\n",
       "      <td>SX8166</td>\n",
       "      <td>1km</td>\n",
       "      <td>2013-05-28</td>\n",
       "      <td>2013-05-28</td>\n",
       "      <td>2013</td>\n",
       "      <td>Rhinolophus hipposideros</td>\n",
       "    </tr>\n",
       "    <tr>\n",
       "      <th>23632</th>\n",
       "      <td>463205005</td>\n",
       "      <td>SX8166</td>\n",
       "      <td>1km</td>\n",
       "      <td>2013-06-22</td>\n",
       "      <td>2013-06-22</td>\n",
       "      <td>2013</td>\n",
       "      <td>Rhinolophus hipposideros</td>\n",
       "    </tr>\n",
       "    <tr>\n",
       "      <th>23631</th>\n",
       "      <td>463205004</td>\n",
       "      <td>SX8166</td>\n",
       "      <td>1km</td>\n",
       "      <td>2013-10-06</td>\n",
       "      <td>2013-10-06</td>\n",
       "      <td>2013</td>\n",
       "      <td>Rhinolophus hipposideros</td>\n",
       "    </tr>\n",
       "    <tr>\n",
       "      <th>23627</th>\n",
       "      <td>463204995</td>\n",
       "      <td>SX8166</td>\n",
       "      <td>1km</td>\n",
       "      <td>2014-01-06</td>\n",
       "      <td>2014-01-06</td>\n",
       "      <td>2014</td>\n",
       "      <td>Rhinolophus hipposideros</td>\n",
       "    </tr>\n",
       "    <tr>\n",
       "      <th>23628</th>\n",
       "      <td>463204996</td>\n",
       "      <td>SX8166</td>\n",
       "      <td>1km</td>\n",
       "      <td>2014-09-06</td>\n",
       "      <td>2014-09-06</td>\n",
       "      <td>2014</td>\n",
       "      <td>Rhinolophus hipposideros</td>\n",
       "    </tr>\n",
       "  </tbody>\n",
       "</table>\n",
       "</div>"
      ],
      "text/plain": [
       "       observationID gridReference precision  startDate    endDate  year  \\\n",
       "23616      463204958        SX8166       1km 2000-05-06 2000-05-06  2000   \n",
       "23617      463204959        SX8166       1km 2000-08-06 2000-08-06  2000   \n",
       "23618      463204960        SX8166       1km 2002-04-06 2002-04-06  2002   \n",
       "23619      463204961        SX8166       1km 2002-06-18 2002-06-18  2002   \n",
       "23621      463204963        SX8166       1km 2003-06-17 2003-06-17  2003   \n",
       "23620      463204962        SX8166       1km 2003-07-06 2003-07-06  2003   \n",
       "23678      463209976        SX8166       1km 2004-06-17 2004-06-17  2004   \n",
       "23677      463209975        SX8166       1km 2004-07-06 2004-07-06  2004   \n",
       "23629      463205002        SX8166       1km 2005-05-31 2005-05-31  2005   \n",
       "23630      463205003        SX8166       1km 2005-06-16 2005-06-16  2005   \n",
       "23607      463204935        SX8166       1km 2006-06-18 2006-06-18  2006   \n",
       "23606      463204934        SX8166       1km 2006-08-06 2006-08-06  2006   \n",
       "23623      463204966        SX8166       1km 2007-06-19 2007-06-19  2007   \n",
       "23622      463204965        SX8166       1km 2007-11-06 2007-11-06  2007   \n",
       "23611      463204939        SX8166       1km 2008-06-16 2008-06-16  2008   \n",
       "23610      463204938        SX8166       1km 2008-08-06 2008-08-06  2008   \n",
       "23614      463204954        SX8166       1km 2009-01-06 2009-01-06  2009   \n",
       "23615      463204955        SX8166       1km 2009-10-06 2009-10-06  2009   \n",
       "23612      463204948        SX8166       1km 2010-01-06 2010-01-06  2010   \n",
       "23613      463204949        SX8166       1km 2010-06-13 2010-06-13  2010   \n",
       "23608      463204936        SX8166       1km 2011-06-06 2011-06-06  2011   \n",
       "23609      463204937        SX8166       1km 2011-06-13 2011-06-13  2011   \n",
       "23625      463204970        SX8166       1km 2012-04-06 2012-04-06  2012   \n",
       "23626      463204971        SX8166       1km 2012-12-06 2012-12-06  2012   \n",
       "23624      463204967        SX8166       1km 2013-05-28 2013-05-28  2013   \n",
       "23632      463205005        SX8166       1km 2013-06-22 2013-06-22  2013   \n",
       "23631      463205004        SX8166       1km 2013-10-06 2013-10-06  2013   \n",
       "23627      463204995        SX8166       1km 2014-01-06 2014-01-06  2014   \n",
       "23628      463204996        SX8166       1km 2014-09-06 2014-09-06  2014   \n",
       "\n",
       "                      taxonName  \n",
       "23616  Rhinolophus hipposideros  \n",
       "23617  Rhinolophus hipposideros  \n",
       "23618  Rhinolophus hipposideros  \n",
       "23619  Rhinolophus hipposideros  \n",
       "23621  Rhinolophus hipposideros  \n",
       "23620  Rhinolophus hipposideros  \n",
       "23678  Rhinolophus hipposideros  \n",
       "23677  Rhinolophus hipposideros  \n",
       "23629  Rhinolophus hipposideros  \n",
       "23630  Rhinolophus hipposideros  \n",
       "23607  Rhinolophus hipposideros  \n",
       "23606  Rhinolophus hipposideros  \n",
       "23623  Rhinolophus hipposideros  \n",
       "23622  Rhinolophus hipposideros  \n",
       "23611  Rhinolophus hipposideros  \n",
       "23610  Rhinolophus hipposideros  \n",
       "23614  Rhinolophus hipposideros  \n",
       "23615  Rhinolophus hipposideros  \n",
       "23612  Rhinolophus hipposideros  \n",
       "23613  Rhinolophus hipposideros  \n",
       "23608  Rhinolophus hipposideros  \n",
       "23609  Rhinolophus hipposideros  \n",
       "23625  Rhinolophus hipposideros  \n",
       "23626  Rhinolophus hipposideros  \n",
       "23624  Rhinolophus hipposideros  \n",
       "23632  Rhinolophus hipposideros  \n",
       "23631  Rhinolophus hipposideros  \n",
       "23627  Rhinolophus hipposideros  \n",
       "23628  Rhinolophus hipposideros  "
      ]
     },
     "execution_count": 60,
     "metadata": {},
     "output_type": "execute_result"
    }
   ],
   "source": [
    "roost_short_df[roost_short_df['gridReference']=='SX8166'].sort_values(by='startDate')"
   ]
  },
  {
   "cell_type": "markdown",
   "metadata": {},
   "source": [
    "Removing the start dates."
   ]
  },
  {
   "cell_type": "code",
   "execution_count": 61,
   "metadata": {
    "collapsed": false,
    "run_control": {
     "read_only": false
    },
    "scrolled": true
   },
   "outputs": [
    {
     "data": {
      "text/html": [
       "<div>\n",
       "<table border=\"1\" class=\"dataframe\">\n",
       "  <thead>\n",
       "    <tr style=\"text-align: right;\">\n",
       "      <th></th>\n",
       "      <th>observationID</th>\n",
       "      <th>gridReference</th>\n",
       "      <th>precision</th>\n",
       "      <th>endDate</th>\n",
       "      <th>year</th>\n",
       "      <th>taxonName</th>\n",
       "    </tr>\n",
       "  </thead>\n",
       "  <tbody>\n",
       "    <tr>\n",
       "      <th>23674</th>\n",
       "      <td>463209487</td>\n",
       "      <td>ST1821</td>\n",
       "      <td>1km</td>\n",
       "      <td>2011-06-15</td>\n",
       "      <td>2011</td>\n",
       "      <td>Myotis mystacinus/brandtii</td>\n",
       "    </tr>\n",
       "    <tr>\n",
       "      <th>23675</th>\n",
       "      <td>463209488</td>\n",
       "      <td>ST1821</td>\n",
       "      <td>1km</td>\n",
       "      <td>2010-06-29</td>\n",
       "      <td>2010</td>\n",
       "      <td>Myotis mystacinus/brandtii</td>\n",
       "    </tr>\n",
       "    <tr>\n",
       "      <th>23676</th>\n",
       "      <td>463209489</td>\n",
       "      <td>ST1821</td>\n",
       "      <td>1km</td>\n",
       "      <td>2010-06-30</td>\n",
       "      <td>2010</td>\n",
       "      <td>Myotis mystacinus/brandtii</td>\n",
       "    </tr>\n",
       "    <tr>\n",
       "      <th>23677</th>\n",
       "      <td>463209975</td>\n",
       "      <td>SX8166</td>\n",
       "      <td>1km</td>\n",
       "      <td>2004-07-06</td>\n",
       "      <td>2004</td>\n",
       "      <td>Rhinolophus hipposideros</td>\n",
       "    </tr>\n",
       "    <tr>\n",
       "      <th>23678</th>\n",
       "      <td>463209976</td>\n",
       "      <td>SX8166</td>\n",
       "      <td>1km</td>\n",
       "      <td>2004-06-17</td>\n",
       "      <td>2004</td>\n",
       "      <td>Rhinolophus hipposideros</td>\n",
       "    </tr>\n",
       "  </tbody>\n",
       "</table>\n",
       "</div>"
      ],
      "text/plain": [
       "       observationID gridReference precision    endDate  year  \\\n",
       "23674      463209487        ST1821       1km 2011-06-15  2011   \n",
       "23675      463209488        ST1821       1km 2010-06-29  2010   \n",
       "23676      463209489        ST1821       1km 2010-06-30  2010   \n",
       "23677      463209975        SX8166       1km 2004-07-06  2004   \n",
       "23678      463209976        SX8166       1km 2004-06-17  2004   \n",
       "\n",
       "                        taxonName  \n",
       "23674  Myotis mystacinus/brandtii  \n",
       "23675  Myotis mystacinus/brandtii  \n",
       "23676  Myotis mystacinus/brandtii  \n",
       "23677    Rhinolophus hipposideros  \n",
       "23678    Rhinolophus hipposideros  "
      ]
     },
     "execution_count": 61,
     "metadata": {},
     "output_type": "execute_result"
    }
   ],
   "source": [
    "roost_df.head()\n",
    "\n",
    "columns = roost_df.columns.tolist()\n",
    "columns = ['observationID', 'gridReference', 'precision', 'endDate',\n",
    "          'year', 'taxonName']\n",
    "columns\n",
    "\n",
    "roost_short2_df = roost_df[columns]\n",
    "roost_short2_df.tail(5)"
   ]
  },
  {
   "cell_type": "markdown",
   "metadata": {
    "collapsed": false,
    "run_control": {
     "read_only": false
    }
   },
   "source": [
    "# Investigating the data further"
   ]
  },
  {
   "cell_type": "markdown",
   "metadata": {},
   "source": [
    "It seems like some sites are not surveyed very often."
   ]
  },
  {
   "cell_type": "code",
   "execution_count": 62,
   "metadata": {
    "collapsed": false,
    "run_control": {
     "read_only": false
    }
   },
   "outputs": [
    {
     "data": {
      "text/html": [
       "<div>\n",
       "<table border=\"1\" class=\"dataframe\">\n",
       "  <thead>\n",
       "    <tr style=\"text-align: right;\">\n",
       "      <th></th>\n",
       "      <th>observationID</th>\n",
       "      <th>gridReference</th>\n",
       "      <th>precision</th>\n",
       "      <th>endDate</th>\n",
       "      <th>year</th>\n",
       "      <th>taxonName</th>\n",
       "    </tr>\n",
       "  </thead>\n",
       "  <tbody>\n",
       "    <tr>\n",
       "      <th>9413</th>\n",
       "      <td>463210026</td>\n",
       "      <td>TR3358</td>\n",
       "      <td>1km</td>\n",
       "      <td>2003-12-31</td>\n",
       "      <td>2003</td>\n",
       "      <td>Myotis nattereri</td>\n",
       "    </tr>\n",
       "    <tr>\n",
       "      <th>9420</th>\n",
       "      <td>463210038</td>\n",
       "      <td>TR3358</td>\n",
       "      <td>1km</td>\n",
       "      <td>2005-07-06</td>\n",
       "      <td>2005</td>\n",
       "      <td>Myotis nattereri</td>\n",
       "    </tr>\n",
       "    <tr>\n",
       "      <th>9421</th>\n",
       "      <td>463210039</td>\n",
       "      <td>TR3358</td>\n",
       "      <td>1km</td>\n",
       "      <td>2005-06-21</td>\n",
       "      <td>2005</td>\n",
       "      <td>Myotis nattereri</td>\n",
       "    </tr>\n",
       "    <tr>\n",
       "      <th>12198</th>\n",
       "      <td>463195070</td>\n",
       "      <td>TR2666</td>\n",
       "      <td>1km</td>\n",
       "      <td>1999-08-06</td>\n",
       "      <td>1999</td>\n",
       "      <td>Pipistrellus pipistrellus sensu stricto</td>\n",
       "    </tr>\n",
       "    <tr>\n",
       "      <th>12199</th>\n",
       "      <td>463195071</td>\n",
       "      <td>TR2666</td>\n",
       "      <td>1km</td>\n",
       "      <td>1999-06-25</td>\n",
       "      <td>1999</td>\n",
       "      <td>Pipistrellus pipistrellus sensu stricto</td>\n",
       "    </tr>\n",
       "    <tr>\n",
       "      <th>12197</th>\n",
       "      <td>463195069</td>\n",
       "      <td>TR2666</td>\n",
       "      <td>1km</td>\n",
       "      <td>1998-06-24</td>\n",
       "      <td>1998</td>\n",
       "      <td>Pipistrellus pipistrellus sensu stricto</td>\n",
       "    </tr>\n",
       "    <tr>\n",
       "      <th>12196</th>\n",
       "      <td>463195068</td>\n",
       "      <td>TR2666</td>\n",
       "      <td>1km</td>\n",
       "      <td>1998-06-15</td>\n",
       "      <td>1998</td>\n",
       "      <td>Pipistrellus pipistrellus sensu stricto</td>\n",
       "    </tr>\n",
       "    <tr>\n",
       "      <th>12195</th>\n",
       "      <td>463195067</td>\n",
       "      <td>TR2666</td>\n",
       "      <td>1km</td>\n",
       "      <td>1997-06-20</td>\n",
       "      <td>1997</td>\n",
       "      <td>Pipistrellus pipistrellus sensu stricto</td>\n",
       "    </tr>\n",
       "    <tr>\n",
       "      <th>12194</th>\n",
       "      <td>463195066</td>\n",
       "      <td>TR2666</td>\n",
       "      <td>1km</td>\n",
       "      <td>1997-11-06</td>\n",
       "      <td>1997</td>\n",
       "      <td>Pipistrellus pipistrellus sensu stricto</td>\n",
       "    </tr>\n",
       "    <tr>\n",
       "      <th>12200</th>\n",
       "      <td>463195072</td>\n",
       "      <td>TR2666</td>\n",
       "      <td>1km</td>\n",
       "      <td>2003-11-06</td>\n",
       "      <td>2003</td>\n",
       "      <td>Pipistrellus pipistrellus sensu stricto</td>\n",
       "    </tr>\n",
       "  </tbody>\n",
       "</table>\n",
       "</div>"
      ],
      "text/plain": [
       "       observationID gridReference precision    endDate  year  \\\n",
       "9413       463210026        TR3358       1km 2003-12-31  2003   \n",
       "9420       463210038        TR3358       1km 2005-07-06  2005   \n",
       "9421       463210039        TR3358       1km 2005-06-21  2005   \n",
       "12198      463195070        TR2666       1km 1999-08-06  1999   \n",
       "12199      463195071        TR2666       1km 1999-06-25  1999   \n",
       "12197      463195069        TR2666       1km 1998-06-24  1998   \n",
       "12196      463195068        TR2666       1km 1998-06-15  1998   \n",
       "12195      463195067        TR2666       1km 1997-06-20  1997   \n",
       "12194      463195066        TR2666       1km 1997-11-06  1997   \n",
       "12200      463195072        TR2666       1km 2003-11-06  2003   \n",
       "\n",
       "                                     taxonName  \n",
       "9413                          Myotis nattereri  \n",
       "9420                          Myotis nattereri  \n",
       "9421                          Myotis nattereri  \n",
       "12198  Pipistrellus pipistrellus sensu stricto  \n",
       "12199  Pipistrellus pipistrellus sensu stricto  \n",
       "12197  Pipistrellus pipistrellus sensu stricto  \n",
       "12196  Pipistrellus pipistrellus sensu stricto  \n",
       "12195  Pipistrellus pipistrellus sensu stricto  \n",
       "12194  Pipistrellus pipistrellus sensu stricto  \n",
       "12200  Pipistrellus pipistrellus sensu stricto  "
      ]
     },
     "execution_count": 62,
     "metadata": {},
     "output_type": "execute_result"
    }
   ],
   "source": [
    "roost_short2_df.sort_values(by='gridReference', ascending=False).head(10)"
   ]
  },
  {
   "cell_type": "markdown",
   "metadata": {},
   "source": [
    "The survey data is from 1977 to 2014."
   ]
  },
  {
   "cell_type": "code",
   "execution_count": 63,
   "metadata": {
    "collapsed": false,
    "run_control": {
     "read_only": false
    }
   },
   "outputs": [
    {
     "data": {
      "text/html": [
       "<div>\n",
       "<table border=\"1\" class=\"dataframe\">\n",
       "  <thead>\n",
       "    <tr style=\"text-align: right;\">\n",
       "      <th></th>\n",
       "      <th>observationID</th>\n",
       "      <th>gridReference</th>\n",
       "      <th>precision</th>\n",
       "      <th>endDate</th>\n",
       "      <th>year</th>\n",
       "      <th>taxonName</th>\n",
       "    </tr>\n",
       "  </thead>\n",
       "  <tbody>\n",
       "    <tr>\n",
       "      <th>19260</th>\n",
       "      <td>463195074</td>\n",
       "      <td>SD4983</td>\n",
       "      <td>1km</td>\n",
       "      <td>2014-07-06</td>\n",
       "      <td>2014</td>\n",
       "      <td>Myotis nattereri</td>\n",
       "    </tr>\n",
       "    <tr>\n",
       "      <th>14768</th>\n",
       "      <td>463204568</td>\n",
       "      <td>NY6423</td>\n",
       "      <td>1km</td>\n",
       "      <td>2014-06-23</td>\n",
       "      <td>2014</td>\n",
       "      <td>Pipistrellus pygmaeus</td>\n",
       "    </tr>\n",
       "    <tr>\n",
       "      <th>21922</th>\n",
       "      <td>463204553</td>\n",
       "      <td>SE1546</td>\n",
       "      <td>1km</td>\n",
       "      <td>2014-06-15</td>\n",
       "      <td>2014</td>\n",
       "      <td>Plecotus auritus</td>\n",
       "    </tr>\n",
       "    <tr>\n",
       "      <th>14769</th>\n",
       "      <td>463204569</td>\n",
       "      <td>NY6423</td>\n",
       "      <td>1km</td>\n",
       "      <td>2014-07-22</td>\n",
       "      <td>2014</td>\n",
       "      <td>Pipistrellus pygmaeus</td>\n",
       "    </tr>\n",
       "    <tr>\n",
       "      <th>1156</th>\n",
       "      <td>463207039</td>\n",
       "      <td>NC0825</td>\n",
       "      <td>1km</td>\n",
       "      <td>2014-06-27</td>\n",
       "      <td>2014</td>\n",
       "      <td>Pipistrellus pipistrellus sensu stricto</td>\n",
       "    </tr>\n",
       "  </tbody>\n",
       "</table>\n",
       "</div>"
      ],
      "text/plain": [
       "       observationID gridReference precision    endDate  year  \\\n",
       "19260      463195074        SD4983       1km 2014-07-06  2014   \n",
       "14768      463204568        NY6423       1km 2014-06-23  2014   \n",
       "21922      463204553        SE1546       1km 2014-06-15  2014   \n",
       "14769      463204569        NY6423       1km 2014-07-22  2014   \n",
       "1156       463207039        NC0825       1km 2014-06-27  2014   \n",
       "\n",
       "                                     taxonName  \n",
       "19260                         Myotis nattereri  \n",
       "14768                    Pipistrellus pygmaeus  \n",
       "21922                         Plecotus auritus  \n",
       "14769                    Pipistrellus pygmaeus  \n",
       "1156   Pipistrellus pipistrellus sensu stricto  "
      ]
     },
     "execution_count": 63,
     "metadata": {},
     "output_type": "execute_result"
    }
   ],
   "source": [
    "roost_short2_df.sort_values(by='year').head()\n",
    "#earliest year 1977\n",
    "\n",
    "roost_short2_df.sort_values(by='year', ascending=False).head()\n",
    "#latest 2014"
   ]
  },
  {
   "cell_type": "markdown",
   "metadata": {},
   "source": [
    "There are 23,679 bats recorded in the data."
   ]
  },
  {
   "cell_type": "code",
   "execution_count": 64,
   "metadata": {
    "collapsed": false,
    "run_control": {
     "read_only": false
    }
   },
   "outputs": [
    {
     "data": {
      "text/plain": [
       "23679"
      ]
     },
     "execution_count": 64,
     "metadata": {},
     "output_type": "execute_result"
    }
   ],
   "source": [
    "len(roost_short_df.observationID.unique())\n",
    "#23679 unique observations"
   ]
  },
  {
   "cell_type": "markdown",
   "metadata": {},
   "source": [
    "There are 2,026 unique sites."
   ]
  },
  {
   "cell_type": "code",
   "execution_count": 65,
   "metadata": {
    "collapsed": false,
    "run_control": {
     "read_only": false
    }
   },
   "outputs": [
    {
     "data": {
      "text/plain": [
       "2026"
      ]
     },
     "execution_count": 65,
     "metadata": {},
     "output_type": "execute_result"
    }
   ],
   "source": [
    "len(roost_short_df.gridReference.unique())\n",
    "#2026 unique sites."
   ]
  },
  {
   "cell_type": "markdown",
   "metadata": {},
   "source": [
    "# Investigating bat counts by gridReference over time"
   ]
  },
  {
   "cell_type": "code",
   "execution_count": 66,
   "metadata": {
    "collapsed": false,
    "run_control": {
     "read_only": false
    }
   },
   "outputs": [],
   "source": [
    "roost_short_grid_count_df = roost_short_df.groupby(['gridReference', 'year', 'endDate', 'taxonName'])['taxonName'].count()"
   ]
  },
  {
   "cell_type": "code",
   "execution_count": 67,
   "metadata": {
    "collapsed": false,
    "run_control": {
     "read_only": false
    },
    "scrolled": true
   },
   "outputs": [],
   "source": [
    "rs_unstack = roost_short_grid_count_df.unstack()"
   ]
  },
  {
   "cell_type": "code",
   "execution_count": 68,
   "metadata": {
    "collapsed": false,
    "run_control": {
     "read_only": false
    }
   },
   "outputs": [
    {
     "data": {
      "text/html": [
       "<div>\n",
       "<table border=\"1\" class=\"dataframe\">\n",
       "  <thead>\n",
       "    <tr style=\"text-align: right;\">\n",
       "      <th></th>\n",
       "      <th></th>\n",
       "      <th>taxonName</th>\n",
       "      <th>Chiroptera</th>\n",
       "      <th>Eptesicus serotinus</th>\n",
       "      <th>Myotis bechsteinii</th>\n",
       "      <th>Myotis brandtii</th>\n",
       "      <th>Myotis daubentonii</th>\n",
       "      <th>Myotis mystacinus</th>\n",
       "      <th>Myotis mystacinus/brandtii</th>\n",
       "      <th>Myotis nattereri</th>\n",
       "      <th>Nyctalus leisleri</th>\n",
       "      <th>Nyctalus noctula</th>\n",
       "      <th>Pipistrellus pipistrellus sensu lato</th>\n",
       "      <th>Pipistrellus pipistrellus sensu stricto</th>\n",
       "      <th>Pipistrellus pygmaeus</th>\n",
       "      <th>Plecotus auritus</th>\n",
       "      <th>Plecotus austriacus</th>\n",
       "      <th>Rhinolophus ferrumequinum</th>\n",
       "      <th>Rhinolophus hipposideros</th>\n",
       "    </tr>\n",
       "    <tr>\n",
       "      <th>gridReference</th>\n",
       "      <th>year</th>\n",
       "      <th>endDate</th>\n",
       "      <th></th>\n",
       "      <th></th>\n",
       "      <th></th>\n",
       "      <th></th>\n",
       "      <th></th>\n",
       "      <th></th>\n",
       "      <th></th>\n",
       "      <th></th>\n",
       "      <th></th>\n",
       "      <th></th>\n",
       "      <th></th>\n",
       "      <th></th>\n",
       "      <th></th>\n",
       "      <th></th>\n",
       "      <th></th>\n",
       "      <th></th>\n",
       "      <th></th>\n",
       "    </tr>\n",
       "  </thead>\n",
       "  <tbody>\n",
       "    <tr>\n",
       "      <th rowspan=\"2\" valign=\"top\">C5010</th>\n",
       "      <th rowspan=\"2\" valign=\"top\">2005</th>\n",
       "      <th>2005-06-23</th>\n",
       "      <td>NaN</td>\n",
       "      <td>NaN</td>\n",
       "      <td>NaN</td>\n",
       "      <td>NaN</td>\n",
       "      <td>NaN</td>\n",
       "      <td>NaN</td>\n",
       "      <td>NaN</td>\n",
       "      <td>NaN</td>\n",
       "      <td>NaN</td>\n",
       "      <td>NaN</td>\n",
       "      <td>1.0</td>\n",
       "      <td>NaN</td>\n",
       "      <td>NaN</td>\n",
       "      <td>NaN</td>\n",
       "      <td>NaN</td>\n",
       "      <td>NaN</td>\n",
       "      <td>NaN</td>\n",
       "    </tr>\n",
       "    <tr>\n",
       "      <th>2005-10-06</th>\n",
       "      <td>NaN</td>\n",
       "      <td>NaN</td>\n",
       "      <td>NaN</td>\n",
       "      <td>NaN</td>\n",
       "      <td>NaN</td>\n",
       "      <td>NaN</td>\n",
       "      <td>NaN</td>\n",
       "      <td>NaN</td>\n",
       "      <td>NaN</td>\n",
       "      <td>NaN</td>\n",
       "      <td>1.0</td>\n",
       "      <td>NaN</td>\n",
       "      <td>NaN</td>\n",
       "      <td>NaN</td>\n",
       "      <td>NaN</td>\n",
       "      <td>NaN</td>\n",
       "      <td>NaN</td>\n",
       "    </tr>\n",
       "    <tr>\n",
       "      <th rowspan=\"3\" valign=\"top\">D1240</th>\n",
       "      <th rowspan=\"2\" valign=\"top\">1998</th>\n",
       "      <th>1998-06-14</th>\n",
       "      <td>NaN</td>\n",
       "      <td>NaN</td>\n",
       "      <td>NaN</td>\n",
       "      <td>NaN</td>\n",
       "      <td>NaN</td>\n",
       "      <td>NaN</td>\n",
       "      <td>NaN</td>\n",
       "      <td>NaN</td>\n",
       "      <td>NaN</td>\n",
       "      <td>NaN</td>\n",
       "      <td>NaN</td>\n",
       "      <td>1.0</td>\n",
       "      <td>NaN</td>\n",
       "      <td>NaN</td>\n",
       "      <td>NaN</td>\n",
       "      <td>NaN</td>\n",
       "      <td>NaN</td>\n",
       "    </tr>\n",
       "    <tr>\n",
       "      <th>1998-06-25</th>\n",
       "      <td>NaN</td>\n",
       "      <td>NaN</td>\n",
       "      <td>NaN</td>\n",
       "      <td>NaN</td>\n",
       "      <td>NaN</td>\n",
       "      <td>NaN</td>\n",
       "      <td>NaN</td>\n",
       "      <td>NaN</td>\n",
       "      <td>NaN</td>\n",
       "      <td>NaN</td>\n",
       "      <td>NaN</td>\n",
       "      <td>1.0</td>\n",
       "      <td>NaN</td>\n",
       "      <td>NaN</td>\n",
       "      <td>NaN</td>\n",
       "      <td>NaN</td>\n",
       "      <td>NaN</td>\n",
       "    </tr>\n",
       "    <tr>\n",
       "      <th>1999</th>\n",
       "      <th>1999-06-21</th>\n",
       "      <td>NaN</td>\n",
       "      <td>NaN</td>\n",
       "      <td>NaN</td>\n",
       "      <td>NaN</td>\n",
       "      <td>NaN</td>\n",
       "      <td>NaN</td>\n",
       "      <td>NaN</td>\n",
       "      <td>NaN</td>\n",
       "      <td>NaN</td>\n",
       "      <td>NaN</td>\n",
       "      <td>NaN</td>\n",
       "      <td>1.0</td>\n",
       "      <td>NaN</td>\n",
       "      <td>NaN</td>\n",
       "      <td>NaN</td>\n",
       "      <td>NaN</td>\n",
       "      <td>NaN</td>\n",
       "    </tr>\n",
       "  </tbody>\n",
       "</table>\n",
       "</div>"
      ],
      "text/plain": [
       "taxonName                      Chiroptera  Eptesicus serotinus  \\\n",
       "gridReference year endDate                                       \n",
       "C5010         2005 2005-06-23         NaN                  NaN   \n",
       "                   2005-10-06         NaN                  NaN   \n",
       "D1240         1998 1998-06-14         NaN                  NaN   \n",
       "                   1998-06-25         NaN                  NaN   \n",
       "              1999 1999-06-21         NaN                  NaN   \n",
       "\n",
       "taxonName                      Myotis bechsteinii  Myotis brandtii  \\\n",
       "gridReference year endDate                                           \n",
       "C5010         2005 2005-06-23                 NaN              NaN   \n",
       "                   2005-10-06                 NaN              NaN   \n",
       "D1240         1998 1998-06-14                 NaN              NaN   \n",
       "                   1998-06-25                 NaN              NaN   \n",
       "              1999 1999-06-21                 NaN              NaN   \n",
       "\n",
       "taxonName                      Myotis daubentonii  Myotis mystacinus  \\\n",
       "gridReference year endDate                                             \n",
       "C5010         2005 2005-06-23                 NaN                NaN   \n",
       "                   2005-10-06                 NaN                NaN   \n",
       "D1240         1998 1998-06-14                 NaN                NaN   \n",
       "                   1998-06-25                 NaN                NaN   \n",
       "              1999 1999-06-21                 NaN                NaN   \n",
       "\n",
       "taxonName                      Myotis mystacinus/brandtii  Myotis nattereri  \\\n",
       "gridReference year endDate                                                    \n",
       "C5010         2005 2005-06-23                         NaN               NaN   \n",
       "                   2005-10-06                         NaN               NaN   \n",
       "D1240         1998 1998-06-14                         NaN               NaN   \n",
       "                   1998-06-25                         NaN               NaN   \n",
       "              1999 1999-06-21                         NaN               NaN   \n",
       "\n",
       "taxonName                      Nyctalus leisleri  Nyctalus noctula  \\\n",
       "gridReference year endDate                                           \n",
       "C5010         2005 2005-06-23                NaN               NaN   \n",
       "                   2005-10-06                NaN               NaN   \n",
       "D1240         1998 1998-06-14                NaN               NaN   \n",
       "                   1998-06-25                NaN               NaN   \n",
       "              1999 1999-06-21                NaN               NaN   \n",
       "\n",
       "taxonName                      Pipistrellus pipistrellus sensu lato  \\\n",
       "gridReference year endDate                                            \n",
       "C5010         2005 2005-06-23                                   1.0   \n",
       "                   2005-10-06                                   1.0   \n",
       "D1240         1998 1998-06-14                                   NaN   \n",
       "                   1998-06-25                                   NaN   \n",
       "              1999 1999-06-21                                   NaN   \n",
       "\n",
       "taxonName                      Pipistrellus pipistrellus sensu stricto  \\\n",
       "gridReference year endDate                                               \n",
       "C5010         2005 2005-06-23                                      NaN   \n",
       "                   2005-10-06                                      NaN   \n",
       "D1240         1998 1998-06-14                                      1.0   \n",
       "                   1998-06-25                                      1.0   \n",
       "              1999 1999-06-21                                      1.0   \n",
       "\n",
       "taxonName                      Pipistrellus pygmaeus  Plecotus auritus  \\\n",
       "gridReference year endDate                                               \n",
       "C5010         2005 2005-06-23                    NaN               NaN   \n",
       "                   2005-10-06                    NaN               NaN   \n",
       "D1240         1998 1998-06-14                    NaN               NaN   \n",
       "                   1998-06-25                    NaN               NaN   \n",
       "              1999 1999-06-21                    NaN               NaN   \n",
       "\n",
       "taxonName                      Plecotus austriacus  Rhinolophus ferrumequinum  \\\n",
       "gridReference year endDate                                                      \n",
       "C5010         2005 2005-06-23                  NaN                        NaN   \n",
       "                   2005-10-06                  NaN                        NaN   \n",
       "D1240         1998 1998-06-14                  NaN                        NaN   \n",
       "                   1998-06-25                  NaN                        NaN   \n",
       "              1999 1999-06-21                  NaN                        NaN   \n",
       "\n",
       "taxonName                      Rhinolophus hipposideros  \n",
       "gridReference year endDate                               \n",
       "C5010         2005 2005-06-23                       NaN  \n",
       "                   2005-10-06                       NaN  \n",
       "D1240         1998 1998-06-14                       NaN  \n",
       "                   1998-06-25                       NaN  \n",
       "              1999 1999-06-21                       NaN  "
      ]
     },
     "execution_count": 68,
     "metadata": {},
     "output_type": "execute_result"
    }
   ],
   "source": [
    "rs_unstack.head()"
   ]
  },
  {
   "cell_type": "markdown",
   "metadata": {},
   "source": [
    "# Filling NaN values\n"
   ]
  },
  {
   "cell_type": "code",
   "execution_count": 69,
   "metadata": {
    "collapsed": false,
    "run_control": {
     "read_only": false
    }
   },
   "outputs": [],
   "source": [
    "rs_unstack.fillna(0, inplace=True)"
   ]
  },
  {
   "cell_type": "code",
   "execution_count": 70,
   "metadata": {
    "collapsed": false,
    "run_control": {
     "read_only": false
    },
    "scrolled": true
   },
   "outputs": [
    {
     "data": {
      "text/html": [
       "<div>\n",
       "<table border=\"1\" class=\"dataframe\">\n",
       "  <thead>\n",
       "    <tr style=\"text-align: right;\">\n",
       "      <th></th>\n",
       "      <th></th>\n",
       "      <th>taxonName</th>\n",
       "      <th>Chiroptera</th>\n",
       "      <th>Eptesicus serotinus</th>\n",
       "      <th>Myotis bechsteinii</th>\n",
       "      <th>Myotis brandtii</th>\n",
       "      <th>Myotis daubentonii</th>\n",
       "      <th>Myotis mystacinus</th>\n",
       "      <th>Myotis mystacinus/brandtii</th>\n",
       "      <th>Myotis nattereri</th>\n",
       "      <th>Nyctalus leisleri</th>\n",
       "      <th>Nyctalus noctula</th>\n",
       "      <th>Pipistrellus pipistrellus sensu lato</th>\n",
       "      <th>Pipistrellus pipistrellus sensu stricto</th>\n",
       "      <th>Pipistrellus pygmaeus</th>\n",
       "      <th>Plecotus auritus</th>\n",
       "      <th>Plecotus austriacus</th>\n",
       "      <th>Rhinolophus ferrumequinum</th>\n",
       "      <th>Rhinolophus hipposideros</th>\n",
       "    </tr>\n",
       "    <tr>\n",
       "      <th>gridReference</th>\n",
       "      <th>year</th>\n",
       "      <th>endDate</th>\n",
       "      <th></th>\n",
       "      <th></th>\n",
       "      <th></th>\n",
       "      <th></th>\n",
       "      <th></th>\n",
       "      <th></th>\n",
       "      <th></th>\n",
       "      <th></th>\n",
       "      <th></th>\n",
       "      <th></th>\n",
       "      <th></th>\n",
       "      <th></th>\n",
       "      <th></th>\n",
       "      <th></th>\n",
       "      <th></th>\n",
       "      <th></th>\n",
       "      <th></th>\n",
       "    </tr>\n",
       "  </thead>\n",
       "  <tbody>\n",
       "    <tr>\n",
       "      <th rowspan=\"2\" valign=\"top\">C5010</th>\n",
       "      <th rowspan=\"2\" valign=\"top\">2005</th>\n",
       "      <th>2005-06-23</th>\n",
       "      <td>0.0</td>\n",
       "      <td>0.0</td>\n",
       "      <td>0.0</td>\n",
       "      <td>0.0</td>\n",
       "      <td>0.0</td>\n",
       "      <td>0.0</td>\n",
       "      <td>0.0</td>\n",
       "      <td>0.0</td>\n",
       "      <td>0.0</td>\n",
       "      <td>0.0</td>\n",
       "      <td>1.0</td>\n",
       "      <td>0.0</td>\n",
       "      <td>0.0</td>\n",
       "      <td>0.0</td>\n",
       "      <td>0.0</td>\n",
       "      <td>0.0</td>\n",
       "      <td>0.0</td>\n",
       "    </tr>\n",
       "    <tr>\n",
       "      <th>2005-10-06</th>\n",
       "      <td>0.0</td>\n",
       "      <td>0.0</td>\n",
       "      <td>0.0</td>\n",
       "      <td>0.0</td>\n",
       "      <td>0.0</td>\n",
       "      <td>0.0</td>\n",
       "      <td>0.0</td>\n",
       "      <td>0.0</td>\n",
       "      <td>0.0</td>\n",
       "      <td>0.0</td>\n",
       "      <td>1.0</td>\n",
       "      <td>0.0</td>\n",
       "      <td>0.0</td>\n",
       "      <td>0.0</td>\n",
       "      <td>0.0</td>\n",
       "      <td>0.0</td>\n",
       "      <td>0.0</td>\n",
       "    </tr>\n",
       "    <tr>\n",
       "      <th rowspan=\"3\" valign=\"top\">D1240</th>\n",
       "      <th rowspan=\"2\" valign=\"top\">1998</th>\n",
       "      <th>1998-06-14</th>\n",
       "      <td>0.0</td>\n",
       "      <td>0.0</td>\n",
       "      <td>0.0</td>\n",
       "      <td>0.0</td>\n",
       "      <td>0.0</td>\n",
       "      <td>0.0</td>\n",
       "      <td>0.0</td>\n",
       "      <td>0.0</td>\n",
       "      <td>0.0</td>\n",
       "      <td>0.0</td>\n",
       "      <td>0.0</td>\n",
       "      <td>1.0</td>\n",
       "      <td>0.0</td>\n",
       "      <td>0.0</td>\n",
       "      <td>0.0</td>\n",
       "      <td>0.0</td>\n",
       "      <td>0.0</td>\n",
       "    </tr>\n",
       "    <tr>\n",
       "      <th>1998-06-25</th>\n",
       "      <td>0.0</td>\n",
       "      <td>0.0</td>\n",
       "      <td>0.0</td>\n",
       "      <td>0.0</td>\n",
       "      <td>0.0</td>\n",
       "      <td>0.0</td>\n",
       "      <td>0.0</td>\n",
       "      <td>0.0</td>\n",
       "      <td>0.0</td>\n",
       "      <td>0.0</td>\n",
       "      <td>0.0</td>\n",
       "      <td>1.0</td>\n",
       "      <td>0.0</td>\n",
       "      <td>0.0</td>\n",
       "      <td>0.0</td>\n",
       "      <td>0.0</td>\n",
       "      <td>0.0</td>\n",
       "    </tr>\n",
       "    <tr>\n",
       "      <th>1999</th>\n",
       "      <th>1999-06-21</th>\n",
       "      <td>0.0</td>\n",
       "      <td>0.0</td>\n",
       "      <td>0.0</td>\n",
       "      <td>0.0</td>\n",
       "      <td>0.0</td>\n",
       "      <td>0.0</td>\n",
       "      <td>0.0</td>\n",
       "      <td>0.0</td>\n",
       "      <td>0.0</td>\n",
       "      <td>0.0</td>\n",
       "      <td>0.0</td>\n",
       "      <td>1.0</td>\n",
       "      <td>0.0</td>\n",
       "      <td>0.0</td>\n",
       "      <td>0.0</td>\n",
       "      <td>0.0</td>\n",
       "      <td>0.0</td>\n",
       "    </tr>\n",
       "  </tbody>\n",
       "</table>\n",
       "</div>"
      ],
      "text/plain": [
       "taxonName                      Chiroptera  Eptesicus serotinus  \\\n",
       "gridReference year endDate                                       \n",
       "C5010         2005 2005-06-23         0.0                  0.0   \n",
       "                   2005-10-06         0.0                  0.0   \n",
       "D1240         1998 1998-06-14         0.0                  0.0   \n",
       "                   1998-06-25         0.0                  0.0   \n",
       "              1999 1999-06-21         0.0                  0.0   \n",
       "\n",
       "taxonName                      Myotis bechsteinii  Myotis brandtii  \\\n",
       "gridReference year endDate                                           \n",
       "C5010         2005 2005-06-23                 0.0              0.0   \n",
       "                   2005-10-06                 0.0              0.0   \n",
       "D1240         1998 1998-06-14                 0.0              0.0   \n",
       "                   1998-06-25                 0.0              0.0   \n",
       "              1999 1999-06-21                 0.0              0.0   \n",
       "\n",
       "taxonName                      Myotis daubentonii  Myotis mystacinus  \\\n",
       "gridReference year endDate                                             \n",
       "C5010         2005 2005-06-23                 0.0                0.0   \n",
       "                   2005-10-06                 0.0                0.0   \n",
       "D1240         1998 1998-06-14                 0.0                0.0   \n",
       "                   1998-06-25                 0.0                0.0   \n",
       "              1999 1999-06-21                 0.0                0.0   \n",
       "\n",
       "taxonName                      Myotis mystacinus/brandtii  Myotis nattereri  \\\n",
       "gridReference year endDate                                                    \n",
       "C5010         2005 2005-06-23                         0.0               0.0   \n",
       "                   2005-10-06                         0.0               0.0   \n",
       "D1240         1998 1998-06-14                         0.0               0.0   \n",
       "                   1998-06-25                         0.0               0.0   \n",
       "              1999 1999-06-21                         0.0               0.0   \n",
       "\n",
       "taxonName                      Nyctalus leisleri  Nyctalus noctula  \\\n",
       "gridReference year endDate                                           \n",
       "C5010         2005 2005-06-23                0.0               0.0   \n",
       "                   2005-10-06                0.0               0.0   \n",
       "D1240         1998 1998-06-14                0.0               0.0   \n",
       "                   1998-06-25                0.0               0.0   \n",
       "              1999 1999-06-21                0.0               0.0   \n",
       "\n",
       "taxonName                      Pipistrellus pipistrellus sensu lato  \\\n",
       "gridReference year endDate                                            \n",
       "C5010         2005 2005-06-23                                   1.0   \n",
       "                   2005-10-06                                   1.0   \n",
       "D1240         1998 1998-06-14                                   0.0   \n",
       "                   1998-06-25                                   0.0   \n",
       "              1999 1999-06-21                                   0.0   \n",
       "\n",
       "taxonName                      Pipistrellus pipistrellus sensu stricto  \\\n",
       "gridReference year endDate                                               \n",
       "C5010         2005 2005-06-23                                      0.0   \n",
       "                   2005-10-06                                      0.0   \n",
       "D1240         1998 1998-06-14                                      1.0   \n",
       "                   1998-06-25                                      1.0   \n",
       "              1999 1999-06-21                                      1.0   \n",
       "\n",
       "taxonName                      Pipistrellus pygmaeus  Plecotus auritus  \\\n",
       "gridReference year endDate                                               \n",
       "C5010         2005 2005-06-23                    0.0               0.0   \n",
       "                   2005-10-06                    0.0               0.0   \n",
       "D1240         1998 1998-06-14                    0.0               0.0   \n",
       "                   1998-06-25                    0.0               0.0   \n",
       "              1999 1999-06-21                    0.0               0.0   \n",
       "\n",
       "taxonName                      Plecotus austriacus  Rhinolophus ferrumequinum  \\\n",
       "gridReference year endDate                                                      \n",
       "C5010         2005 2005-06-23                  0.0                        0.0   \n",
       "                   2005-10-06                  0.0                        0.0   \n",
       "D1240         1998 1998-06-14                  0.0                        0.0   \n",
       "                   1998-06-25                  0.0                        0.0   \n",
       "              1999 1999-06-21                  0.0                        0.0   \n",
       "\n",
       "taxonName                      Rhinolophus hipposideros  \n",
       "gridReference year endDate                               \n",
       "C5010         2005 2005-06-23                       0.0  \n",
       "                   2005-10-06                       0.0  \n",
       "D1240         1998 1998-06-14                       0.0  \n",
       "                   1998-06-25                       0.0  \n",
       "              1999 1999-06-21                       0.0  "
      ]
     },
     "execution_count": 70,
     "metadata": {},
     "output_type": "execute_result"
    }
   ],
   "source": [
    "rs_unstack.head()"
   ]
  },
  {
   "cell_type": "markdown",
   "metadata": {},
   "source": [
    "Looking at the above data it seems that most sites contain only one bat species.\n",
    "\n",
    "Sites with multiple species abundance at the same time do exist however for example gridReference H1861 has several species present at the same time in 2004, 2008 and 2009."
   ]
  },
  {
   "cell_type": "code",
   "execution_count": 71,
   "metadata": {
    "collapsed": false,
    "run_control": {
     "read_only": false
    },
    "scrolled": true
   },
   "outputs": [
    {
     "data": {
      "text/html": [
       "<div>\n",
       "<table border=\"1\" class=\"dataframe\">\n",
       "  <thead>\n",
       "    <tr style=\"text-align: right;\">\n",
       "      <th></th>\n",
       "      <th>observationID</th>\n",
       "      <th>gridReference</th>\n",
       "      <th>precision</th>\n",
       "      <th>startDate</th>\n",
       "      <th>endDate</th>\n",
       "      <th>year</th>\n",
       "      <th>taxonName</th>\n",
       "    </tr>\n",
       "  </thead>\n",
       "  <tbody>\n",
       "    <tr>\n",
       "      <th>20071</th>\n",
       "      <td>463198129</td>\n",
       "      <td>H1861</td>\n",
       "      <td>1km</td>\n",
       "      <td>1998-06-06</td>\n",
       "      <td>1998-06-06</td>\n",
       "      <td>1998</td>\n",
       "      <td>Pipistrellus pygmaeus</td>\n",
       "    </tr>\n",
       "    <tr>\n",
       "      <th>20072</th>\n",
       "      <td>463198130</td>\n",
       "      <td>H1861</td>\n",
       "      <td>1km</td>\n",
       "      <td>1998-06-15</td>\n",
       "      <td>1998-06-15</td>\n",
       "      <td>1998</td>\n",
       "      <td>Pipistrellus pygmaeus</td>\n",
       "    </tr>\n",
       "    <tr>\n",
       "      <th>20073</th>\n",
       "      <td>463198131</td>\n",
       "      <td>H1861</td>\n",
       "      <td>1km</td>\n",
       "      <td>1998-06-25</td>\n",
       "      <td>1998-06-25</td>\n",
       "      <td>1998</td>\n",
       "      <td>Pipistrellus pygmaeus</td>\n",
       "    </tr>\n",
       "    <tr>\n",
       "      <th>20076</th>\n",
       "      <td>463198134</td>\n",
       "      <td>H1861</td>\n",
       "      <td>1km</td>\n",
       "      <td>1999-06-20</td>\n",
       "      <td>1999-06-20</td>\n",
       "      <td>1999</td>\n",
       "      <td>Pipistrellus pygmaeus</td>\n",
       "    </tr>\n",
       "    <tr>\n",
       "      <th>20075</th>\n",
       "      <td>463198133</td>\n",
       "      <td>H1861</td>\n",
       "      <td>1km</td>\n",
       "      <td>1999-06-25</td>\n",
       "      <td>1999-06-25</td>\n",
       "      <td>1999</td>\n",
       "      <td>Pipistrellus pygmaeus</td>\n",
       "    </tr>\n",
       "    <tr>\n",
       "      <th>20074</th>\n",
       "      <td>463198132</td>\n",
       "      <td>H1861</td>\n",
       "      <td>1km</td>\n",
       "      <td>1999-12-06</td>\n",
       "      <td>1999-12-06</td>\n",
       "      <td>1999</td>\n",
       "      <td>Pipistrellus pygmaeus</td>\n",
       "    </tr>\n",
       "    <tr>\n",
       "      <th>20077</th>\n",
       "      <td>463198135</td>\n",
       "      <td>H1861</td>\n",
       "      <td>1km</td>\n",
       "      <td>2000-06-14</td>\n",
       "      <td>2000-06-14</td>\n",
       "      <td>2000</td>\n",
       "      <td>Pipistrellus pygmaeus</td>\n",
       "    </tr>\n",
       "    <tr>\n",
       "      <th>20078</th>\n",
       "      <td>463198136</td>\n",
       "      <td>H1861</td>\n",
       "      <td>1km</td>\n",
       "      <td>2000-06-21</td>\n",
       "      <td>2000-06-21</td>\n",
       "      <td>2000</td>\n",
       "      <td>Pipistrellus pygmaeus</td>\n",
       "    </tr>\n",
       "    <tr>\n",
       "      <th>20080</th>\n",
       "      <td>463198138</td>\n",
       "      <td>H1861</td>\n",
       "      <td>1km</td>\n",
       "      <td>2001-06-23</td>\n",
       "      <td>2001-06-23</td>\n",
       "      <td>2001</td>\n",
       "      <td>Pipistrellus pygmaeus</td>\n",
       "    </tr>\n",
       "    <tr>\n",
       "      <th>20079</th>\n",
       "      <td>463198137</td>\n",
       "      <td>H1861</td>\n",
       "      <td>1km</td>\n",
       "      <td>2001-12-06</td>\n",
       "      <td>2001-12-06</td>\n",
       "      <td>2001</td>\n",
       "      <td>Pipistrellus pygmaeus</td>\n",
       "    </tr>\n",
       "    <tr>\n",
       "      <th>19318</th>\n",
       "      <td>463195234</td>\n",
       "      <td>H1861</td>\n",
       "      <td>1km</td>\n",
       "      <td>2001-01-01</td>\n",
       "      <td>2001-12-31</td>\n",
       "      <td>2001</td>\n",
       "      <td>Plecotus auritus</td>\n",
       "    </tr>\n",
       "    <tr>\n",
       "      <th>20081</th>\n",
       "      <td>463198139</td>\n",
       "      <td>H1861</td>\n",
       "      <td>1km</td>\n",
       "      <td>2002-06-14</td>\n",
       "      <td>2002-06-14</td>\n",
       "      <td>2002</td>\n",
       "      <td>Pipistrellus pygmaeus</td>\n",
       "    </tr>\n",
       "    <tr>\n",
       "      <th>20083</th>\n",
       "      <td>463198141</td>\n",
       "      <td>H1861</td>\n",
       "      <td>1km</td>\n",
       "      <td>2002-06-21</td>\n",
       "      <td>2002-06-21</td>\n",
       "      <td>2002</td>\n",
       "      <td>Pipistrellus pygmaeus</td>\n",
       "    </tr>\n",
       "    <tr>\n",
       "      <th>20082</th>\n",
       "      <td>463198140</td>\n",
       "      <td>H1861</td>\n",
       "      <td>1km</td>\n",
       "      <td>2002-06-23</td>\n",
       "      <td>2002-06-23</td>\n",
       "      <td>2002</td>\n",
       "      <td>Pipistrellus pygmaeus</td>\n",
       "    </tr>\n",
       "    <tr>\n",
       "      <th>20084</th>\n",
       "      <td>463198142</td>\n",
       "      <td>H1861</td>\n",
       "      <td>1km</td>\n",
       "      <td>2003-06-13</td>\n",
       "      <td>2003-06-13</td>\n",
       "      <td>2003</td>\n",
       "      <td>Pipistrellus pygmaeus</td>\n",
       "    </tr>\n",
       "    <tr>\n",
       "      <th>20085</th>\n",
       "      <td>463198143</td>\n",
       "      <td>H1861</td>\n",
       "      <td>1km</td>\n",
       "      <td>2003-06-28</td>\n",
       "      <td>2003-06-28</td>\n",
       "      <td>2003</td>\n",
       "      <td>Pipistrellus pygmaeus</td>\n",
       "    </tr>\n",
       "    <tr>\n",
       "      <th>19319</th>\n",
       "      <td>463195235</td>\n",
       "      <td>H1861</td>\n",
       "      <td>1km</td>\n",
       "      <td>2003-01-01</td>\n",
       "      <td>2003-12-31</td>\n",
       "      <td>2003</td>\n",
       "      <td>Plecotus auritus</td>\n",
       "    </tr>\n",
       "    <tr>\n",
       "      <th>19333</th>\n",
       "      <td>463195255</td>\n",
       "      <td>H1861</td>\n",
       "      <td>1km</td>\n",
       "      <td>2004-01-01</td>\n",
       "      <td>2004-12-31</td>\n",
       "      <td>2004</td>\n",
       "      <td>Plecotus auritus</td>\n",
       "    </tr>\n",
       "    <tr>\n",
       "      <th>21008</th>\n",
       "      <td>463201580</td>\n",
       "      <td>H1861</td>\n",
       "      <td>1km</td>\n",
       "      <td>2004-01-01</td>\n",
       "      <td>2004-12-31</td>\n",
       "      <td>2004</td>\n",
       "      <td>Pipistrellus pygmaeus</td>\n",
       "    </tr>\n",
       "    <tr>\n",
       "      <th>19667</th>\n",
       "      <td>463196533</td>\n",
       "      <td>H1861</td>\n",
       "      <td>1km</td>\n",
       "      <td>2005-06-25</td>\n",
       "      <td>2005-06-25</td>\n",
       "      <td>2005</td>\n",
       "      <td>Pipistrellus pygmaeus</td>\n",
       "    </tr>\n",
       "    <tr>\n",
       "      <th>19666</th>\n",
       "      <td>463196532</td>\n",
       "      <td>H1861</td>\n",
       "      <td>1km</td>\n",
       "      <td>2005-09-06</td>\n",
       "      <td>2005-09-06</td>\n",
       "      <td>2005</td>\n",
       "      <td>Pipistrellus pygmaeus</td>\n",
       "    </tr>\n",
       "    <tr>\n",
       "      <th>19854</th>\n",
       "      <td>463197308</td>\n",
       "      <td>H1861</td>\n",
       "      <td>1km</td>\n",
       "      <td>2005-01-01</td>\n",
       "      <td>2005-12-31</td>\n",
       "      <td>2005</td>\n",
       "      <td>Plecotus auritus</td>\n",
       "    </tr>\n",
       "    <tr>\n",
       "      <th>16558</th>\n",
       "      <td>463185435</td>\n",
       "      <td>H1861</td>\n",
       "      <td>1km</td>\n",
       "      <td>2006-06-06</td>\n",
       "      <td>2006-06-06</td>\n",
       "      <td>2006</td>\n",
       "      <td>Pipistrellus pygmaeus</td>\n",
       "    </tr>\n",
       "    <tr>\n",
       "      <th>16559</th>\n",
       "      <td>463185436</td>\n",
       "      <td>H1861</td>\n",
       "      <td>1km</td>\n",
       "      <td>2006-06-24</td>\n",
       "      <td>2006-06-24</td>\n",
       "      <td>2006</td>\n",
       "      <td>Pipistrellus pygmaeus</td>\n",
       "    </tr>\n",
       "    <tr>\n",
       "      <th>19855</th>\n",
       "      <td>463197311</td>\n",
       "      <td>H1861</td>\n",
       "      <td>1km</td>\n",
       "      <td>2006-01-01</td>\n",
       "      <td>2006-12-31</td>\n",
       "      <td>2006</td>\n",
       "      <td>Plecotus auritus</td>\n",
       "    </tr>\n",
       "    <tr>\n",
       "      <th>17696</th>\n",
       "      <td>463189506</td>\n",
       "      <td>H1861</td>\n",
       "      <td>1km</td>\n",
       "      <td>2007-06-26</td>\n",
       "      <td>2007-06-26</td>\n",
       "      <td>2007</td>\n",
       "      <td>Pipistrellus pygmaeus</td>\n",
       "    </tr>\n",
       "    <tr>\n",
       "      <th>18279</th>\n",
       "      <td>463191736</td>\n",
       "      <td>H1861</td>\n",
       "      <td>1km</td>\n",
       "      <td>2007-07-15</td>\n",
       "      <td>2007-07-15</td>\n",
       "      <td>2007</td>\n",
       "      <td>Pipistrellus pygmaeus</td>\n",
       "    </tr>\n",
       "    <tr>\n",
       "      <th>18280</th>\n",
       "      <td>463191737</td>\n",
       "      <td>H1861</td>\n",
       "      <td>1km</td>\n",
       "      <td>2007-07-28</td>\n",
       "      <td>2007-07-28</td>\n",
       "      <td>2007</td>\n",
       "      <td>Pipistrellus pygmaeus</td>\n",
       "    </tr>\n",
       "    <tr>\n",
       "      <th>17695</th>\n",
       "      <td>463189505</td>\n",
       "      <td>H1861</td>\n",
       "      <td>1km</td>\n",
       "      <td>2007-09-06</td>\n",
       "      <td>2007-09-06</td>\n",
       "      <td>2007</td>\n",
       "      <td>Pipistrellus pygmaeus</td>\n",
       "    </tr>\n",
       "    <tr>\n",
       "      <th>19856</th>\n",
       "      <td>463197328</td>\n",
       "      <td>H1861</td>\n",
       "      <td>1km</td>\n",
       "      <td>2007-01-01</td>\n",
       "      <td>2007-12-31</td>\n",
       "      <td>2007</td>\n",
       "      <td>Plecotus auritus</td>\n",
       "    </tr>\n",
       "    <tr>\n",
       "      <th>19859</th>\n",
       "      <td>463197351</td>\n",
       "      <td>H1861</td>\n",
       "      <td>1km</td>\n",
       "      <td>2008-01-01</td>\n",
       "      <td>2008-12-31</td>\n",
       "      <td>2008</td>\n",
       "      <td>Plecotus auritus</td>\n",
       "    </tr>\n",
       "    <tr>\n",
       "      <th>21022</th>\n",
       "      <td>463201638</td>\n",
       "      <td>H1861</td>\n",
       "      <td>1km</td>\n",
       "      <td>2008-01-01</td>\n",
       "      <td>2008-12-31</td>\n",
       "      <td>2008</td>\n",
       "      <td>Pipistrellus pygmaeus</td>\n",
       "    </tr>\n",
       "    <tr>\n",
       "      <th>19861</th>\n",
       "      <td>463197371</td>\n",
       "      <td>H1861</td>\n",
       "      <td>1km</td>\n",
       "      <td>2009-01-01</td>\n",
       "      <td>2009-12-31</td>\n",
       "      <td>2009</td>\n",
       "      <td>Plecotus auritus</td>\n",
       "    </tr>\n",
       "    <tr>\n",
       "      <th>21019</th>\n",
       "      <td>463201614</td>\n",
       "      <td>H1861</td>\n",
       "      <td>1km</td>\n",
       "      <td>2009-01-01</td>\n",
       "      <td>2009-12-31</td>\n",
       "      <td>2009</td>\n",
       "      <td>Pipistrellus pygmaeus</td>\n",
       "    </tr>\n",
       "  </tbody>\n",
       "</table>\n",
       "</div>"
      ],
      "text/plain": [
       "       observationID gridReference precision  startDate    endDate  year  \\\n",
       "20071      463198129         H1861       1km 1998-06-06 1998-06-06  1998   \n",
       "20072      463198130         H1861       1km 1998-06-15 1998-06-15  1998   \n",
       "20073      463198131         H1861       1km 1998-06-25 1998-06-25  1998   \n",
       "20076      463198134         H1861       1km 1999-06-20 1999-06-20  1999   \n",
       "20075      463198133         H1861       1km 1999-06-25 1999-06-25  1999   \n",
       "20074      463198132         H1861       1km 1999-12-06 1999-12-06  1999   \n",
       "20077      463198135         H1861       1km 2000-06-14 2000-06-14  2000   \n",
       "20078      463198136         H1861       1km 2000-06-21 2000-06-21  2000   \n",
       "20080      463198138         H1861       1km 2001-06-23 2001-06-23  2001   \n",
       "20079      463198137         H1861       1km 2001-12-06 2001-12-06  2001   \n",
       "19318      463195234         H1861       1km 2001-01-01 2001-12-31  2001   \n",
       "20081      463198139         H1861       1km 2002-06-14 2002-06-14  2002   \n",
       "20083      463198141         H1861       1km 2002-06-21 2002-06-21  2002   \n",
       "20082      463198140         H1861       1km 2002-06-23 2002-06-23  2002   \n",
       "20084      463198142         H1861       1km 2003-06-13 2003-06-13  2003   \n",
       "20085      463198143         H1861       1km 2003-06-28 2003-06-28  2003   \n",
       "19319      463195235         H1861       1km 2003-01-01 2003-12-31  2003   \n",
       "19333      463195255         H1861       1km 2004-01-01 2004-12-31  2004   \n",
       "21008      463201580         H1861       1km 2004-01-01 2004-12-31  2004   \n",
       "19667      463196533         H1861       1km 2005-06-25 2005-06-25  2005   \n",
       "19666      463196532         H1861       1km 2005-09-06 2005-09-06  2005   \n",
       "19854      463197308         H1861       1km 2005-01-01 2005-12-31  2005   \n",
       "16558      463185435         H1861       1km 2006-06-06 2006-06-06  2006   \n",
       "16559      463185436         H1861       1km 2006-06-24 2006-06-24  2006   \n",
       "19855      463197311         H1861       1km 2006-01-01 2006-12-31  2006   \n",
       "17696      463189506         H1861       1km 2007-06-26 2007-06-26  2007   \n",
       "18279      463191736         H1861       1km 2007-07-15 2007-07-15  2007   \n",
       "18280      463191737         H1861       1km 2007-07-28 2007-07-28  2007   \n",
       "17695      463189505         H1861       1km 2007-09-06 2007-09-06  2007   \n",
       "19856      463197328         H1861       1km 2007-01-01 2007-12-31  2007   \n",
       "19859      463197351         H1861       1km 2008-01-01 2008-12-31  2008   \n",
       "21022      463201638         H1861       1km 2008-01-01 2008-12-31  2008   \n",
       "19861      463197371         H1861       1km 2009-01-01 2009-12-31  2009   \n",
       "21019      463201614         H1861       1km 2009-01-01 2009-12-31  2009   \n",
       "\n",
       "                   taxonName  \n",
       "20071  Pipistrellus pygmaeus  \n",
       "20072  Pipistrellus pygmaeus  \n",
       "20073  Pipistrellus pygmaeus  \n",
       "20076  Pipistrellus pygmaeus  \n",
       "20075  Pipistrellus pygmaeus  \n",
       "20074  Pipistrellus pygmaeus  \n",
       "20077  Pipistrellus pygmaeus  \n",
       "20078  Pipistrellus pygmaeus  \n",
       "20080  Pipistrellus pygmaeus  \n",
       "20079  Pipistrellus pygmaeus  \n",
       "19318       Plecotus auritus  \n",
       "20081  Pipistrellus pygmaeus  \n",
       "20083  Pipistrellus pygmaeus  \n",
       "20082  Pipistrellus pygmaeus  \n",
       "20084  Pipistrellus pygmaeus  \n",
       "20085  Pipistrellus pygmaeus  \n",
       "19319       Plecotus auritus  \n",
       "19333       Plecotus auritus  \n",
       "21008  Pipistrellus pygmaeus  \n",
       "19667  Pipistrellus pygmaeus  \n",
       "19666  Pipistrellus pygmaeus  \n",
       "19854       Plecotus auritus  \n",
       "16558  Pipistrellus pygmaeus  \n",
       "16559  Pipistrellus pygmaeus  \n",
       "19855       Plecotus auritus  \n",
       "17696  Pipistrellus pygmaeus  \n",
       "18279  Pipistrellus pygmaeus  \n",
       "18280  Pipistrellus pygmaeus  \n",
       "17695  Pipistrellus pygmaeus  \n",
       "19856       Plecotus auritus  \n",
       "19859       Plecotus auritus  \n",
       "21022  Pipistrellus pygmaeus  \n",
       "19861       Plecotus auritus  \n",
       "21019  Pipistrellus pygmaeus  "
      ]
     },
     "execution_count": 71,
     "metadata": {},
     "output_type": "execute_result"
    }
   ],
   "source": [
    "roost_short_df[roost_short_df['gridReference']=='H1861'].sort_values(by='endDate')"
   ]
  },
  {
   "cell_type": "markdown",
   "metadata": {},
   "source": [
    "# Exploring bat co-habitation"
   ]
  },
  {
   "cell_type": "markdown",
   "metadata": {},
   "source": [
    "Perhaps there is a pattern to the above grouping that could indicate if certain bat species are more likely to be found with another species of bat.\n",
    "\n",
    "I will explore this possibility by deriving statistical data from the dataset and applying the K-means clustering algorithm to try to determine which species tend to group together.\n",
    "\n",
    "I have chosen K-means because it can be used to group species based on similar properties. By deriving statistical data from the dataset and applying K-means. I will explore if the statistical properties of a particular species indicate whether or not it is likely to be found in conjunction with other bat species."
   ]
  },
  {
   "cell_type": "markdown",
   "metadata": {},
   "source": [
    "# Examining statistical values for the bat counts grouped by gridReference over time"
   ]
  },
  {
   "cell_type": "code",
   "execution_count": 72,
   "metadata": {
    "collapsed": false,
    "run_control": {
     "read_only": false
    }
   },
   "outputs": [
    {
     "data": {
      "text/html": [
       "<div>\n",
       "<table border=\"1\" class=\"dataframe\">\n",
       "  <thead>\n",
       "    <tr style=\"text-align: right;\">\n",
       "      <th>taxonName</th>\n",
       "      <th>Chiroptera</th>\n",
       "      <th>Eptesicus serotinus</th>\n",
       "      <th>Myotis bechsteinii</th>\n",
       "      <th>Myotis brandtii</th>\n",
       "      <th>Myotis daubentonii</th>\n",
       "      <th>Myotis mystacinus</th>\n",
       "      <th>Myotis mystacinus/brandtii</th>\n",
       "      <th>Myotis nattereri</th>\n",
       "      <th>Nyctalus leisleri</th>\n",
       "      <th>Nyctalus noctula</th>\n",
       "      <th>Pipistrellus pipistrellus sensu lato</th>\n",
       "      <th>Pipistrellus pipistrellus sensu stricto</th>\n",
       "      <th>Pipistrellus pygmaeus</th>\n",
       "      <th>Plecotus auritus</th>\n",
       "      <th>Plecotus austriacus</th>\n",
       "      <th>Rhinolophus ferrumequinum</th>\n",
       "      <th>Rhinolophus hipposideros</th>\n",
       "    </tr>\n",
       "  </thead>\n",
       "  <tbody>\n",
       "    <tr>\n",
       "      <th>count</th>\n",
       "      <td>22858.000000</td>\n",
       "      <td>22858.000000</td>\n",
       "      <td>22858.000000</td>\n",
       "      <td>22858.000000</td>\n",
       "      <td>22858.000000</td>\n",
       "      <td>22858.000000</td>\n",
       "      <td>22858.000000</td>\n",
       "      <td>22858.000000</td>\n",
       "      <td>22858.000000</td>\n",
       "      <td>22858.000000</td>\n",
       "      <td>22858.000000</td>\n",
       "      <td>22858.000000</td>\n",
       "      <td>22858.000000</td>\n",
       "      <td>22858.000000</td>\n",
       "      <td>22858.000000</td>\n",
       "      <td>22858.000000</td>\n",
       "      <td>22858.000000</td>\n",
       "    </tr>\n",
       "    <tr>\n",
       "      <th>mean</th>\n",
       "      <td>0.002362</td>\n",
       "      <td>0.048429</td>\n",
       "      <td>0.000962</td>\n",
       "      <td>0.002625</td>\n",
       "      <td>0.007000</td>\n",
       "      <td>0.004244</td>\n",
       "      <td>0.001444</td>\n",
       "      <td>0.045498</td>\n",
       "      <td>0.000481</td>\n",
       "      <td>0.003150</td>\n",
       "      <td>0.152157</td>\n",
       "      <td>0.283271</td>\n",
       "      <td>0.193411</td>\n",
       "      <td>0.084609</td>\n",
       "      <td>0.000219</td>\n",
       "      <td>0.022487</td>\n",
       "      <td>0.183568</td>\n",
       "    </tr>\n",
       "    <tr>\n",
       "      <th>std</th>\n",
       "      <td>0.048548</td>\n",
       "      <td>0.215490</td>\n",
       "      <td>0.031009</td>\n",
       "      <td>0.051168</td>\n",
       "      <td>0.093279</td>\n",
       "      <td>0.065006</td>\n",
       "      <td>0.037969</td>\n",
       "      <td>0.209237</td>\n",
       "      <td>0.021932</td>\n",
       "      <td>0.056037</td>\n",
       "      <td>0.360882</td>\n",
       "      <td>0.454175</td>\n",
       "      <td>0.409662</td>\n",
       "      <td>0.279560</td>\n",
       "      <td>0.014789</td>\n",
       "      <td>0.148263</td>\n",
       "      <td>0.396630</td>\n",
       "    </tr>\n",
       "    <tr>\n",
       "      <th>min</th>\n",
       "      <td>0.000000</td>\n",
       "      <td>0.000000</td>\n",
       "      <td>0.000000</td>\n",
       "      <td>0.000000</td>\n",
       "      <td>0.000000</td>\n",
       "      <td>0.000000</td>\n",
       "      <td>0.000000</td>\n",
       "      <td>0.000000</td>\n",
       "      <td>0.000000</td>\n",
       "      <td>0.000000</td>\n",
       "      <td>0.000000</td>\n",
       "      <td>0.000000</td>\n",
       "      <td>0.000000</td>\n",
       "      <td>0.000000</td>\n",
       "      <td>0.000000</td>\n",
       "      <td>0.000000</td>\n",
       "      <td>0.000000</td>\n",
       "    </tr>\n",
       "    <tr>\n",
       "      <th>25%</th>\n",
       "      <td>0.000000</td>\n",
       "      <td>0.000000</td>\n",
       "      <td>0.000000</td>\n",
       "      <td>0.000000</td>\n",
       "      <td>0.000000</td>\n",
       "      <td>0.000000</td>\n",
       "      <td>0.000000</td>\n",
       "      <td>0.000000</td>\n",
       "      <td>0.000000</td>\n",
       "      <td>0.000000</td>\n",
       "      <td>0.000000</td>\n",
       "      <td>0.000000</td>\n",
       "      <td>0.000000</td>\n",
       "      <td>0.000000</td>\n",
       "      <td>0.000000</td>\n",
       "      <td>0.000000</td>\n",
       "      <td>0.000000</td>\n",
       "    </tr>\n",
       "    <tr>\n",
       "      <th>50%</th>\n",
       "      <td>0.000000</td>\n",
       "      <td>0.000000</td>\n",
       "      <td>0.000000</td>\n",
       "      <td>0.000000</td>\n",
       "      <td>0.000000</td>\n",
       "      <td>0.000000</td>\n",
       "      <td>0.000000</td>\n",
       "      <td>0.000000</td>\n",
       "      <td>0.000000</td>\n",
       "      <td>0.000000</td>\n",
       "      <td>0.000000</td>\n",
       "      <td>0.000000</td>\n",
       "      <td>0.000000</td>\n",
       "      <td>0.000000</td>\n",
       "      <td>0.000000</td>\n",
       "      <td>0.000000</td>\n",
       "      <td>0.000000</td>\n",
       "    </tr>\n",
       "    <tr>\n",
       "      <th>75%</th>\n",
       "      <td>0.000000</td>\n",
       "      <td>0.000000</td>\n",
       "      <td>0.000000</td>\n",
       "      <td>0.000000</td>\n",
       "      <td>0.000000</td>\n",
       "      <td>0.000000</td>\n",
       "      <td>0.000000</td>\n",
       "      <td>0.000000</td>\n",
       "      <td>0.000000</td>\n",
       "      <td>0.000000</td>\n",
       "      <td>0.000000</td>\n",
       "      <td>1.000000</td>\n",
       "      <td>0.000000</td>\n",
       "      <td>0.000000</td>\n",
       "      <td>0.000000</td>\n",
       "      <td>0.000000</td>\n",
       "      <td>0.000000</td>\n",
       "    </tr>\n",
       "    <tr>\n",
       "      <th>max</th>\n",
       "      <td>1.000000</td>\n",
       "      <td>2.000000</td>\n",
       "      <td>1.000000</td>\n",
       "      <td>1.000000</td>\n",
       "      <td>2.000000</td>\n",
       "      <td>1.000000</td>\n",
       "      <td>1.000000</td>\n",
       "      <td>2.000000</td>\n",
       "      <td>1.000000</td>\n",
       "      <td>1.000000</td>\n",
       "      <td>2.000000</td>\n",
       "      <td>2.000000</td>\n",
       "      <td>9.000000</td>\n",
       "      <td>2.000000</td>\n",
       "      <td>1.000000</td>\n",
       "      <td>1.000000</td>\n",
       "      <td>3.000000</td>\n",
       "    </tr>\n",
       "  </tbody>\n",
       "</table>\n",
       "</div>"
      ],
      "text/plain": [
       "taxonName    Chiroptera  Eptesicus serotinus  Myotis bechsteinii  \\\n",
       "count      22858.000000         22858.000000        22858.000000   \n",
       "mean           0.002362             0.048429            0.000962   \n",
       "std            0.048548             0.215490            0.031009   \n",
       "min            0.000000             0.000000            0.000000   \n",
       "25%            0.000000             0.000000            0.000000   \n",
       "50%            0.000000             0.000000            0.000000   \n",
       "75%            0.000000             0.000000            0.000000   \n",
       "max            1.000000             2.000000            1.000000   \n",
       "\n",
       "taxonName  Myotis brandtii  Myotis daubentonii  Myotis mystacinus  \\\n",
       "count         22858.000000        22858.000000       22858.000000   \n",
       "mean              0.002625            0.007000           0.004244   \n",
       "std               0.051168            0.093279           0.065006   \n",
       "min               0.000000            0.000000           0.000000   \n",
       "25%               0.000000            0.000000           0.000000   \n",
       "50%               0.000000            0.000000           0.000000   \n",
       "75%               0.000000            0.000000           0.000000   \n",
       "max               1.000000            2.000000           1.000000   \n",
       "\n",
       "taxonName  Myotis mystacinus/brandtii  Myotis nattereri  Nyctalus leisleri  \\\n",
       "count                    22858.000000      22858.000000       22858.000000   \n",
       "mean                         0.001444          0.045498           0.000481   \n",
       "std                          0.037969          0.209237           0.021932   \n",
       "min                          0.000000          0.000000           0.000000   \n",
       "25%                          0.000000          0.000000           0.000000   \n",
       "50%                          0.000000          0.000000           0.000000   \n",
       "75%                          0.000000          0.000000           0.000000   \n",
       "max                          1.000000          2.000000           1.000000   \n",
       "\n",
       "taxonName  Nyctalus noctula  Pipistrellus pipistrellus sensu lato  \\\n",
       "count          22858.000000                          22858.000000   \n",
       "mean               0.003150                              0.152157   \n",
       "std                0.056037                              0.360882   \n",
       "min                0.000000                              0.000000   \n",
       "25%                0.000000                              0.000000   \n",
       "50%                0.000000                              0.000000   \n",
       "75%                0.000000                              0.000000   \n",
       "max                1.000000                              2.000000   \n",
       "\n",
       "taxonName  Pipistrellus pipistrellus sensu stricto  Pipistrellus pygmaeus  \\\n",
       "count                                 22858.000000           22858.000000   \n",
       "mean                                      0.283271               0.193411   \n",
       "std                                       0.454175               0.409662   \n",
       "min                                       0.000000               0.000000   \n",
       "25%                                       0.000000               0.000000   \n",
       "50%                                       0.000000               0.000000   \n",
       "75%                                       1.000000               0.000000   \n",
       "max                                       2.000000               9.000000   \n",
       "\n",
       "taxonName  Plecotus auritus  Plecotus austriacus  Rhinolophus ferrumequinum  \\\n",
       "count          22858.000000         22858.000000               22858.000000   \n",
       "mean               0.084609             0.000219                   0.022487   \n",
       "std                0.279560             0.014789                   0.148263   \n",
       "min                0.000000             0.000000                   0.000000   \n",
       "25%                0.000000             0.000000                   0.000000   \n",
       "50%                0.000000             0.000000                   0.000000   \n",
       "75%                0.000000             0.000000                   0.000000   \n",
       "max                2.000000             1.000000                   1.000000   \n",
       "\n",
       "taxonName  Rhinolophus hipposideros  \n",
       "count                  22858.000000  \n",
       "mean                       0.183568  \n",
       "std                        0.396630  \n",
       "min                        0.000000  \n",
       "25%                        0.000000  \n",
       "50%                        0.000000  \n",
       "75%                        0.000000  \n",
       "max                        3.000000  "
      ]
     },
     "execution_count": 72,
     "metadata": {},
     "output_type": "execute_result"
    }
   ],
   "source": [
    "rs_unstack.describe()"
   ]
  },
  {
   "cell_type": "markdown",
   "metadata": {},
   "source": [
    "A negative effect of grouping in this way is that the bat count value is for gridReferences over time where observations were taken rather than the total number of bats for each species observed.\n",
    "\n",
    "The total number of bats observed for each species can be extracted using the sum function however."
   ]
  },
  {
   "cell_type": "code",
   "execution_count": 73,
   "metadata": {
    "collapsed": false,
    "run_control": {
     "read_only": false
    }
   },
   "outputs": [
    {
     "data": {
      "text/plain": [
       "taxonName\n",
       "Chiroptera                                   54.0\n",
       "Eptesicus serotinus                        1107.0\n",
       "Myotis bechsteinii                           22.0\n",
       "Myotis brandtii                              60.0\n",
       "Myotis daubentonii                          160.0\n",
       "Myotis mystacinus                            97.0\n",
       "Myotis mystacinus/brandtii                   33.0\n",
       "Myotis nattereri                           1040.0\n",
       "Nyctalus leisleri                            11.0\n",
       "Nyctalus noctula                             72.0\n",
       "Pipistrellus pipistrellus sensu lato       3478.0\n",
       "Pipistrellus pipistrellus sensu stricto    6475.0\n",
       "Pipistrellus pygmaeus                      4421.0\n",
       "Plecotus auritus                           1934.0\n",
       "Plecotus austriacus                           5.0\n",
       "Rhinolophus ferrumequinum                   514.0\n",
       "Rhinolophus hipposideros                   4196.0\n",
       "dtype: float64"
      ]
     },
     "execution_count": 73,
     "metadata": {},
     "output_type": "execute_result"
    }
   ],
   "source": [
    "rs_unstack.sum()"
   ]
  },
  {
   "cell_type": "markdown",
   "metadata": {},
   "source": [
    "# Shaping data to look at its properties"
   ]
  },
  {
   "cell_type": "markdown",
   "metadata": {},
   "source": [
    "Putting the data into a more readable and useful form for clustering by extracting statistical values."
   ]
  },
  {
   "cell_type": "code",
   "execution_count": 74,
   "metadata": {
    "collapsed": false,
    "run_control": {
     "read_only": false
    }
   },
   "outputs": [
    {
     "data": {
      "text/html": [
       "<div>\n",
       "<table border=\"1\" class=\"dataframe\">\n",
       "  <thead>\n",
       "    <tr style=\"text-align: right;\">\n",
       "      <th></th>\n",
       "      <th>max</th>\n",
       "      <th>mean</th>\n",
       "      <th>min</th>\n",
       "      <th>standard_deviation</th>\n",
       "      <th>sum</th>\n",
       "    </tr>\n",
       "    <tr>\n",
       "      <th>taxonName</th>\n",
       "      <th></th>\n",
       "      <th></th>\n",
       "      <th></th>\n",
       "      <th></th>\n",
       "      <th></th>\n",
       "    </tr>\n",
       "  </thead>\n",
       "  <tbody>\n",
       "    <tr>\n",
       "      <th>Chiroptera</th>\n",
       "      <td>1.0</td>\n",
       "      <td>0.002362</td>\n",
       "      <td>0.0</td>\n",
       "      <td>0.048548</td>\n",
       "      <td>54.0</td>\n",
       "    </tr>\n",
       "    <tr>\n",
       "      <th>Eptesicus serotinus</th>\n",
       "      <td>2.0</td>\n",
       "      <td>0.048429</td>\n",
       "      <td>0.0</td>\n",
       "      <td>0.215490</td>\n",
       "      <td>1107.0</td>\n",
       "    </tr>\n",
       "    <tr>\n",
       "      <th>Myotis bechsteinii</th>\n",
       "      <td>1.0</td>\n",
       "      <td>0.000962</td>\n",
       "      <td>0.0</td>\n",
       "      <td>0.031009</td>\n",
       "      <td>22.0</td>\n",
       "    </tr>\n",
       "    <tr>\n",
       "      <th>Myotis brandtii</th>\n",
       "      <td>1.0</td>\n",
       "      <td>0.002625</td>\n",
       "      <td>0.0</td>\n",
       "      <td>0.051168</td>\n",
       "      <td>60.0</td>\n",
       "    </tr>\n",
       "    <tr>\n",
       "      <th>Myotis daubentonii</th>\n",
       "      <td>2.0</td>\n",
       "      <td>0.007000</td>\n",
       "      <td>0.0</td>\n",
       "      <td>0.093279</td>\n",
       "      <td>160.0</td>\n",
       "    </tr>\n",
       "    <tr>\n",
       "      <th>Myotis mystacinus</th>\n",
       "      <td>1.0</td>\n",
       "      <td>0.004244</td>\n",
       "      <td>0.0</td>\n",
       "      <td>0.065006</td>\n",
       "      <td>97.0</td>\n",
       "    </tr>\n",
       "    <tr>\n",
       "      <th>Myotis mystacinus/brandtii</th>\n",
       "      <td>1.0</td>\n",
       "      <td>0.001444</td>\n",
       "      <td>0.0</td>\n",
       "      <td>0.037969</td>\n",
       "      <td>33.0</td>\n",
       "    </tr>\n",
       "    <tr>\n",
       "      <th>Myotis nattereri</th>\n",
       "      <td>2.0</td>\n",
       "      <td>0.045498</td>\n",
       "      <td>0.0</td>\n",
       "      <td>0.209237</td>\n",
       "      <td>1040.0</td>\n",
       "    </tr>\n",
       "    <tr>\n",
       "      <th>Nyctalus leisleri</th>\n",
       "      <td>1.0</td>\n",
       "      <td>0.000481</td>\n",
       "      <td>0.0</td>\n",
       "      <td>0.021932</td>\n",
       "      <td>11.0</td>\n",
       "    </tr>\n",
       "    <tr>\n",
       "      <th>Nyctalus noctula</th>\n",
       "      <td>1.0</td>\n",
       "      <td>0.003150</td>\n",
       "      <td>0.0</td>\n",
       "      <td>0.056037</td>\n",
       "      <td>72.0</td>\n",
       "    </tr>\n",
       "    <tr>\n",
       "      <th>Pipistrellus pipistrellus sensu lato</th>\n",
       "      <td>2.0</td>\n",
       "      <td>0.152157</td>\n",
       "      <td>0.0</td>\n",
       "      <td>0.360882</td>\n",
       "      <td>3478.0</td>\n",
       "    </tr>\n",
       "    <tr>\n",
       "      <th>Pipistrellus pipistrellus sensu stricto</th>\n",
       "      <td>2.0</td>\n",
       "      <td>0.283271</td>\n",
       "      <td>0.0</td>\n",
       "      <td>0.454175</td>\n",
       "      <td>6475.0</td>\n",
       "    </tr>\n",
       "    <tr>\n",
       "      <th>Pipistrellus pygmaeus</th>\n",
       "      <td>9.0</td>\n",
       "      <td>0.193411</td>\n",
       "      <td>0.0</td>\n",
       "      <td>0.409662</td>\n",
       "      <td>4421.0</td>\n",
       "    </tr>\n",
       "    <tr>\n",
       "      <th>Plecotus auritus</th>\n",
       "      <td>2.0</td>\n",
       "      <td>0.084609</td>\n",
       "      <td>0.0</td>\n",
       "      <td>0.279560</td>\n",
       "      <td>1934.0</td>\n",
       "    </tr>\n",
       "    <tr>\n",
       "      <th>Plecotus austriacus</th>\n",
       "      <td>1.0</td>\n",
       "      <td>0.000219</td>\n",
       "      <td>0.0</td>\n",
       "      <td>0.014789</td>\n",
       "      <td>5.0</td>\n",
       "    </tr>\n",
       "    <tr>\n",
       "      <th>Rhinolophus ferrumequinum</th>\n",
       "      <td>1.0</td>\n",
       "      <td>0.022487</td>\n",
       "      <td>0.0</td>\n",
       "      <td>0.148263</td>\n",
       "      <td>514.0</td>\n",
       "    </tr>\n",
       "    <tr>\n",
       "      <th>Rhinolophus hipposideros</th>\n",
       "      <td>3.0</td>\n",
       "      <td>0.183568</td>\n",
       "      <td>0.0</td>\n",
       "      <td>0.396630</td>\n",
       "      <td>4196.0</td>\n",
       "    </tr>\n",
       "  </tbody>\n",
       "</table>\n",
       "</div>"
      ],
      "text/plain": [
       "                                         max      mean  min  \\\n",
       "taxonName                                                     \n",
       "Chiroptera                               1.0  0.002362  0.0   \n",
       "Eptesicus serotinus                      2.0  0.048429  0.0   \n",
       "Myotis bechsteinii                       1.0  0.000962  0.0   \n",
       "Myotis brandtii                          1.0  0.002625  0.0   \n",
       "Myotis daubentonii                       2.0  0.007000  0.0   \n",
       "Myotis mystacinus                        1.0  0.004244  0.0   \n",
       "Myotis mystacinus/brandtii               1.0  0.001444  0.0   \n",
       "Myotis nattereri                         2.0  0.045498  0.0   \n",
       "Nyctalus leisleri                        1.0  0.000481  0.0   \n",
       "Nyctalus noctula                         1.0  0.003150  0.0   \n",
       "Pipistrellus pipistrellus sensu lato     2.0  0.152157  0.0   \n",
       "Pipistrellus pipistrellus sensu stricto  2.0  0.283271  0.0   \n",
       "Pipistrellus pygmaeus                    9.0  0.193411  0.0   \n",
       "Plecotus auritus                         2.0  0.084609  0.0   \n",
       "Plecotus austriacus                      1.0  0.000219  0.0   \n",
       "Rhinolophus ferrumequinum                1.0  0.022487  0.0   \n",
       "Rhinolophus hipposideros                 3.0  0.183568  0.0   \n",
       "\n",
       "                                         standard_deviation     sum  \n",
       "taxonName                                                            \n",
       "Chiroptera                                         0.048548    54.0  \n",
       "Eptesicus serotinus                                0.215490  1107.0  \n",
       "Myotis bechsteinii                                 0.031009    22.0  \n",
       "Myotis brandtii                                    0.051168    60.0  \n",
       "Myotis daubentonii                                 0.093279   160.0  \n",
       "Myotis mystacinus                                  0.065006    97.0  \n",
       "Myotis mystacinus/brandtii                         0.037969    33.0  \n",
       "Myotis nattereri                                   0.209237  1040.0  \n",
       "Nyctalus leisleri                                  0.021932    11.0  \n",
       "Nyctalus noctula                                   0.056037    72.0  \n",
       "Pipistrellus pipistrellus sensu lato               0.360882  3478.0  \n",
       "Pipistrellus pipistrellus sensu stricto            0.454175  6475.0  \n",
       "Pipistrellus pygmaeus                              0.409662  4421.0  \n",
       "Plecotus auritus                                   0.279560  1934.0  \n",
       "Plecotus austriacus                                0.014789     5.0  \n",
       "Rhinolophus ferrumequinum                          0.148263   514.0  \n",
       "Rhinolophus hipposideros                           0.396630  4196.0  "
      ]
     },
     "execution_count": 74,
     "metadata": {},
     "output_type": "execute_result"
    }
   ],
   "source": [
    "df4 = pd.DataFrame({'mean': rs_unstack.mean(), 'sum': rs_unstack.sum(),\n",
    "                   'max': rs_unstack.max(), 'standard_deviation': rs_unstack.std(),\n",
    "                   'min': rs_unstack.min()})\n",
    "df4"
   ]
  },
  {
   "cell_type": "markdown",
   "metadata": {},
   "source": [
    "The mean is the average number of a particular species at a particular site over time.\n",
    "\n",
    "The standard deviation here is saying how spread out the species count over all the sites over time is from the mean.\n",
    "\n",
    "The max is the highest number of bats recorded at a particular site over time and minimum values indicate that no site has every species of bat present."
   ]
  },
  {
   "cell_type": "markdown",
   "metadata": {},
   "source": [
    "# Choosing values for clustering"
   ]
  },
  {
   "cell_type": "markdown",
   "metadata": {},
   "source": [
    "The sum of each bat species against standard deviation for that species should give a good representation of the data for clustering.  \n",
    "\n",
    "This rests on the assumption that the most abundant bat species have a higher probability of co-habitation, and that the higher the standard deviation the more spread out the values for a particular species.  This should also translate to a higher chance of co-habitation."
   ]
  },
  {
   "cell_type": "code",
   "execution_count": 75,
   "metadata": {
    "collapsed": false,
    "run_control": {
     "read_only": false
    }
   },
   "outputs": [
    {
     "data": {
      "text/plain": [
       "<matplotlib.text.Text at 0xb7d20b8>"
      ]
     },
     "execution_count": 75,
     "metadata": {},
     "output_type": "execute_result"
    }
   ],
   "source": [
    "plt.scatter(df4['sum'],\n",
    "            df4['standard_deviation'])\n",
    "\n",
    "plt.xlabel('sum')\n",
    "plt.ylabel('standard_deviation')\n",
    "\n",
    "plt.title('Bat species properties max by standard deviation in roost data.')"
   ]
  },
  {
   "cell_type": "markdown",
   "metadata": {},
   "source": [
    "# Getting the assigned clusters using k-means++"
   ]
  },
  {
   "cell_type": "code",
   "execution_count": 76,
   "metadata": {
    "collapsed": false,
    "run_control": {
     "read_only": false
    }
   },
   "outputs": [],
   "source": [
    "clusteringData_df = df4[['sum', 'standard_deviation']]\n",
    "#clusteringData_df"
   ]
  },
  {
   "cell_type": "code",
   "execution_count": 77,
   "metadata": {
    "collapsed": false,
    "run_control": {
     "read_only": false
    }
   },
   "outputs": [
    {
     "data": {
      "text/plain": [
       "array([0, 0, 0, 0, 0, 0, 0, 0, 0, 0, 1, 1, 1, 0, 0, 0, 1])"
      ]
     },
     "execution_count": 77,
     "metadata": {},
     "output_type": "execute_result"
    }
   ],
   "source": [
    "#Adding this because the import doesn't seem to 'stick'.\n",
    "#That is I had problems with it not recognising the import from above after some time.\n",
    "#Adding the import statment before using it seems to work ok.\n",
    "from sklearn import cluster\n",
    "\n",
    "#getting kmeans values using kmeans++\n",
    "kmeans2 = cluster.KMeans(n_clusters=2)\n",
    "\n",
    "# Then call the fit function on the clusterer to fit the data to the 3 means.\n",
    "kmeans2_asigned_clusters = kmeans2.fit(clusteringData_df)\n",
    "\n",
    "# And see how the data points have been assigned to clusters:\n",
    "kmeans2_asigned_clusters.labels_"
   ]
  },
  {
   "cell_type": "markdown",
   "metadata": {},
   "source": [
    "# Plotting the assigned clusters"
   ]
  },
  {
   "cell_type": "code",
   "execution_count": 78,
   "metadata": {
    "collapsed": false,
    "run_control": {
     "read_only": false
    }
   },
   "outputs": [],
   "source": [
    "#to make the plot more readable\n",
    "plt.figure(figsize=(10, 8))\n",
    "\n",
    "# Plot the data points which in the cluster labelled '0'\n",
    "plt.scatter(clusteringData_df['sum'][kmeans2_asigned_clusters.labels_==0],\n",
    "            clusteringData_df['standard_deviation'][kmeans2_asigned_clusters.labels_==0],\n",
    "            color='red', marker='o', label='cluster 0')\n",
    "\n",
    "# Plot the data points which in the cluster labelled '1'\n",
    "plt.scatter(clusteringData_df['sum'][kmeans2_asigned_clusters.labels_==1],\n",
    "            clusteringData_df['standard_deviation'][kmeans2_asigned_clusters.labels_==1],\n",
    "            color='blue', marker='o', label='cluster 1')\n",
    "\n",
    "plt.legend()\n",
    "\n",
    "plt.xlabel('max')\n",
    "plt.ylabel('standard_deviation')\n",
    "\n",
    "#remember the change the name\n",
    "plt.title('2 K-means clustering')\n",
    "\n",
    "#plt.ylim(-1,10)\n",
    "#plt.xlim(-1, 400)\n",
    "\n",
    "#Plot centroids\n",
    "#gotta change the name here also\n",
    "for (cx, cy) in kmeans2_asigned_clusters.cluster_centers_:\n",
    "    plt.plot(cx, cy, color='black', marker='x', mew=2)"
   ]
  },
  {
   "cell_type": "markdown",
   "metadata": {},
   "source": [
    "# Silhouette analysis of the K-means2 clustering"
   ]
  },
  {
   "cell_type": "code",
   "execution_count": 79,
   "metadata": {
    "collapsed": false,
    "run_control": {
     "read_only": false
    }
   },
   "outputs": [
    {
     "data": {
      "text/plain": [
       "array([0, 0, 0, 0, 0, 0, 0, 0, 0, 0, 1, 1, 1, 0, 0, 0, 1])"
      ]
     },
     "execution_count": 79,
     "metadata": {},
     "output_type": "execute_result"
    }
   ],
   "source": [
    "kmeans2_asigned_clusters.labels_"
   ]
  },
  {
   "cell_type": "markdown",
   "metadata": {},
   "source": [
    "# Adding the cluster values calculated above to a new dataframe"
   ]
  },
  {
   "cell_type": "code",
   "execution_count": 80,
   "metadata": {
    "collapsed": false,
    "run_control": {
     "read_only": false
    }
   },
   "outputs": [
    {
     "data": {
      "text/html": [
       "<div>\n",
       "<table border=\"1\" class=\"dataframe\">\n",
       "  <thead>\n",
       "    <tr style=\"text-align: right;\">\n",
       "      <th></th>\n",
       "      <th>cluster</th>\n",
       "      <th>standard_deviation</th>\n",
       "      <th>sum</th>\n",
       "    </tr>\n",
       "    <tr>\n",
       "      <th>taxonName</th>\n",
       "      <th></th>\n",
       "      <th></th>\n",
       "      <th></th>\n",
       "    </tr>\n",
       "  </thead>\n",
       "  <tbody>\n",
       "    <tr>\n",
       "      <th>Chiroptera</th>\n",
       "      <td>0</td>\n",
       "      <td>0.048548</td>\n",
       "      <td>54.0</td>\n",
       "    </tr>\n",
       "    <tr>\n",
       "      <th>Eptesicus serotinus</th>\n",
       "      <td>0</td>\n",
       "      <td>0.215490</td>\n",
       "      <td>1107.0</td>\n",
       "    </tr>\n",
       "    <tr>\n",
       "      <th>Myotis bechsteinii</th>\n",
       "      <td>0</td>\n",
       "      <td>0.031009</td>\n",
       "      <td>22.0</td>\n",
       "    </tr>\n",
       "    <tr>\n",
       "      <th>Myotis brandtii</th>\n",
       "      <td>0</td>\n",
       "      <td>0.051168</td>\n",
       "      <td>60.0</td>\n",
       "    </tr>\n",
       "    <tr>\n",
       "      <th>Myotis daubentonii</th>\n",
       "      <td>0</td>\n",
       "      <td>0.093279</td>\n",
       "      <td>160.0</td>\n",
       "    </tr>\n",
       "    <tr>\n",
       "      <th>Myotis mystacinus</th>\n",
       "      <td>0</td>\n",
       "      <td>0.065006</td>\n",
       "      <td>97.0</td>\n",
       "    </tr>\n",
       "    <tr>\n",
       "      <th>Myotis mystacinus/brandtii</th>\n",
       "      <td>0</td>\n",
       "      <td>0.037969</td>\n",
       "      <td>33.0</td>\n",
       "    </tr>\n",
       "    <tr>\n",
       "      <th>Myotis nattereri</th>\n",
       "      <td>0</td>\n",
       "      <td>0.209237</td>\n",
       "      <td>1040.0</td>\n",
       "    </tr>\n",
       "    <tr>\n",
       "      <th>Nyctalus leisleri</th>\n",
       "      <td>0</td>\n",
       "      <td>0.021932</td>\n",
       "      <td>11.0</td>\n",
       "    </tr>\n",
       "    <tr>\n",
       "      <th>Nyctalus noctula</th>\n",
       "      <td>0</td>\n",
       "      <td>0.056037</td>\n",
       "      <td>72.0</td>\n",
       "    </tr>\n",
       "    <tr>\n",
       "      <th>Pipistrellus pipistrellus sensu lato</th>\n",
       "      <td>1</td>\n",
       "      <td>0.360882</td>\n",
       "      <td>3478.0</td>\n",
       "    </tr>\n",
       "    <tr>\n",
       "      <th>Pipistrellus pipistrellus sensu stricto</th>\n",
       "      <td>1</td>\n",
       "      <td>0.454175</td>\n",
       "      <td>6475.0</td>\n",
       "    </tr>\n",
       "    <tr>\n",
       "      <th>Pipistrellus pygmaeus</th>\n",
       "      <td>1</td>\n",
       "      <td>0.409662</td>\n",
       "      <td>4421.0</td>\n",
       "    </tr>\n",
       "    <tr>\n",
       "      <th>Plecotus auritus</th>\n",
       "      <td>0</td>\n",
       "      <td>0.279560</td>\n",
       "      <td>1934.0</td>\n",
       "    </tr>\n",
       "    <tr>\n",
       "      <th>Plecotus austriacus</th>\n",
       "      <td>0</td>\n",
       "      <td>0.014789</td>\n",
       "      <td>5.0</td>\n",
       "    </tr>\n",
       "    <tr>\n",
       "      <th>Rhinolophus ferrumequinum</th>\n",
       "      <td>0</td>\n",
       "      <td>0.148263</td>\n",
       "      <td>514.0</td>\n",
       "    </tr>\n",
       "    <tr>\n",
       "      <th>Rhinolophus hipposideros</th>\n",
       "      <td>1</td>\n",
       "      <td>0.396630</td>\n",
       "      <td>4196.0</td>\n",
       "    </tr>\n",
       "  </tbody>\n",
       "</table>\n",
       "</div>"
      ],
      "text/plain": [
       "                                         cluster  standard_deviation     sum\n",
       "taxonName                                                                   \n",
       "Chiroptera                                     0            0.048548    54.0\n",
       "Eptesicus serotinus                            0            0.215490  1107.0\n",
       "Myotis bechsteinii                             0            0.031009    22.0\n",
       "Myotis brandtii                                0            0.051168    60.0\n",
       "Myotis daubentonii                             0            0.093279   160.0\n",
       "Myotis mystacinus                              0            0.065006    97.0\n",
       "Myotis mystacinus/brandtii                     0            0.037969    33.0\n",
       "Myotis nattereri                               0            0.209237  1040.0\n",
       "Nyctalus leisleri                              0            0.021932    11.0\n",
       "Nyctalus noctula                               0            0.056037    72.0\n",
       "Pipistrellus pipistrellus sensu lato           1            0.360882  3478.0\n",
       "Pipistrellus pipistrellus sensu stricto        1            0.454175  6475.0\n",
       "Pipistrellus pygmaeus                          1            0.409662  4421.0\n",
       "Plecotus auritus                               0            0.279560  1934.0\n",
       "Plecotus austriacus                            0            0.014789     5.0\n",
       "Rhinolophus ferrumequinum                      0            0.148263   514.0\n",
       "Rhinolophus hipposideros                       1            0.396630  4196.0"
      ]
     },
     "execution_count": 80,
     "metadata": {},
     "output_type": "execute_result"
    }
   ],
   "source": [
    "k_means2_label = kmeans2_asigned_clusters.labels_\n",
    "\n",
    "sil_kmeans2 = pd.DataFrame({'standard_deviation': clusteringData_df['standard_deviation'],\n",
    "                   'sum': clusteringData_df['sum'],\n",
    "                   'cluster': k_means2_label})\n",
    "sil_kmeans2"
   ]
  },
  {
   "cell_type": "markdown",
   "metadata": {},
   "source": [
    "# Adding the silhouette values for the clustering of K-means 2"
   ]
  },
  {
   "cell_type": "code",
   "execution_count": 81,
   "metadata": {
    "collapsed": false,
    "run_control": {
     "read_only": false
    }
   },
   "outputs": [
    {
     "data": {
      "text/html": [
       "<div>\n",
       "<table border=\"1\" class=\"dataframe\">\n",
       "  <thead>\n",
       "    <tr style=\"text-align: right;\">\n",
       "      <th></th>\n",
       "      <th>cluster</th>\n",
       "      <th>standard_deviation</th>\n",
       "      <th>sum</th>\n",
       "      <th>silhouette</th>\n",
       "    </tr>\n",
       "    <tr>\n",
       "      <th>taxonName</th>\n",
       "      <th></th>\n",
       "      <th></th>\n",
       "      <th></th>\n",
       "      <th></th>\n",
       "    </tr>\n",
       "  </thead>\n",
       "  <tbody>\n",
       "    <tr>\n",
       "      <th>Chiroptera</th>\n",
       "      <td>0</td>\n",
       "      <td>0.048548</td>\n",
       "      <td>54.0</td>\n",
       "      <td>0.914696</td>\n",
       "    </tr>\n",
       "    <tr>\n",
       "      <th>Eptesicus serotinus</th>\n",
       "      <td>0</td>\n",
       "      <td>0.215490</td>\n",
       "      <td>1107.0</td>\n",
       "      <td>0.742234</td>\n",
       "    </tr>\n",
       "    <tr>\n",
       "      <th>Myotis bechsteinii</th>\n",
       "      <td>0</td>\n",
       "      <td>0.031009</td>\n",
       "      <td>22.0</td>\n",
       "      <td>0.912004</td>\n",
       "    </tr>\n",
       "    <tr>\n",
       "      <th>Myotis brandtii</th>\n",
       "      <td>0</td>\n",
       "      <td>0.051168</td>\n",
       "      <td>60.0</td>\n",
       "      <td>0.914912</td>\n",
       "    </tr>\n",
       "    <tr>\n",
       "      <th>Myotis daubentonii</th>\n",
       "      <td>0</td>\n",
       "      <td>0.093279</td>\n",
       "      <td>160.0</td>\n",
       "      <td>0.909258</td>\n",
       "    </tr>\n",
       "    <tr>\n",
       "      <th>Myotis mystacinus</th>\n",
       "      <td>0</td>\n",
       "      <td>0.065006</td>\n",
       "      <td>97.0</td>\n",
       "      <td>0.913981</td>\n",
       "    </tr>\n",
       "    <tr>\n",
       "      <th>Myotis mystacinus/brandtii</th>\n",
       "      <td>0</td>\n",
       "      <td>0.037969</td>\n",
       "      <td>33.0</td>\n",
       "      <td>0.913187</td>\n",
       "    </tr>\n",
       "    <tr>\n",
       "      <th>Myotis nattereri</th>\n",
       "      <td>0</td>\n",
       "      <td>0.209237</td>\n",
       "      <td>1040.0</td>\n",
       "      <td>0.760976</td>\n",
       "    </tr>\n",
       "    <tr>\n",
       "      <th>Nyctalus leisleri</th>\n",
       "      <td>0</td>\n",
       "      <td>0.021932</td>\n",
       "      <td>11.0</td>\n",
       "      <td>0.910432</td>\n",
       "    </tr>\n",
       "    <tr>\n",
       "      <th>Nyctalus noctula</th>\n",
       "      <td>0</td>\n",
       "      <td>0.056037</td>\n",
       "      <td>72.0</td>\n",
       "      <td>0.914907</td>\n",
       "    </tr>\n",
       "    <tr>\n",
       "      <th>Pipistrellus pipistrellus sensu lato</th>\n",
       "      <td>1</td>\n",
       "      <td>0.360882</td>\n",
       "      <td>3478.0</td>\n",
       "      <td>0.496704</td>\n",
       "    </tr>\n",
       "    <tr>\n",
       "      <th>Pipistrellus pipistrellus sensu stricto</th>\n",
       "      <td>1</td>\n",
       "      <td>0.454175</td>\n",
       "      <td>6475.0</td>\n",
       "      <td>0.598268</td>\n",
       "    </tr>\n",
       "    <tr>\n",
       "      <th>Pipistrellus pygmaeus</th>\n",
       "      <td>1</td>\n",
       "      <td>0.409662</td>\n",
       "      <td>4421.0</td>\n",
       "      <td>0.733366</td>\n",
       "    </tr>\n",
       "    <tr>\n",
       "      <th>Plecotus auritus</th>\n",
       "      <td>0</td>\n",
       "      <td>0.279560</td>\n",
       "      <td>1934.0</td>\n",
       "      <td>0.383638</td>\n",
       "    </tr>\n",
       "    <tr>\n",
       "      <th>Plecotus austriacus</th>\n",
       "      <td>0</td>\n",
       "      <td>0.014789</td>\n",
       "      <td>5.0</td>\n",
       "      <td>0.909362</td>\n",
       "    </tr>\n",
       "    <tr>\n",
       "      <th>Rhinolophus ferrumequinum</th>\n",
       "      <td>0</td>\n",
       "      <td>0.148263</td>\n",
       "      <td>514.0</td>\n",
       "      <td>0.865750</td>\n",
       "    </tr>\n",
       "    <tr>\n",
       "      <th>Rhinolophus hipposideros</th>\n",
       "      <td>1</td>\n",
       "      <td>0.396630</td>\n",
       "      <td>4196.0</td>\n",
       "      <td>0.717591</td>\n",
       "    </tr>\n",
       "  </tbody>\n",
       "</table>\n",
       "</div>"
      ],
      "text/plain": [
       "                                         cluster  standard_deviation     sum  \\\n",
       "taxonName                                                                      \n",
       "Chiroptera                                     0            0.048548    54.0   \n",
       "Eptesicus serotinus                            0            0.215490  1107.0   \n",
       "Myotis bechsteinii                             0            0.031009    22.0   \n",
       "Myotis brandtii                                0            0.051168    60.0   \n",
       "Myotis daubentonii                             0            0.093279   160.0   \n",
       "Myotis mystacinus                              0            0.065006    97.0   \n",
       "Myotis mystacinus/brandtii                     0            0.037969    33.0   \n",
       "Myotis nattereri                               0            0.209237  1040.0   \n",
       "Nyctalus leisleri                              0            0.021932    11.0   \n",
       "Nyctalus noctula                               0            0.056037    72.0   \n",
       "Pipistrellus pipistrellus sensu lato           1            0.360882  3478.0   \n",
       "Pipistrellus pipistrellus sensu stricto        1            0.454175  6475.0   \n",
       "Pipistrellus pygmaeus                          1            0.409662  4421.0   \n",
       "Plecotus auritus                               0            0.279560  1934.0   \n",
       "Plecotus austriacus                            0            0.014789     5.0   \n",
       "Rhinolophus ferrumequinum                      0            0.148263   514.0   \n",
       "Rhinolophus hipposideros                       1            0.396630  4196.0   \n",
       "\n",
       "                                         silhouette  \n",
       "taxonName                                            \n",
       "Chiroptera                                 0.914696  \n",
       "Eptesicus serotinus                        0.742234  \n",
       "Myotis bechsteinii                         0.912004  \n",
       "Myotis brandtii                            0.914912  \n",
       "Myotis daubentonii                         0.909258  \n",
       "Myotis mystacinus                          0.913981  \n",
       "Myotis mystacinus/brandtii                 0.913187  \n",
       "Myotis nattereri                           0.760976  \n",
       "Nyctalus leisleri                          0.910432  \n",
       "Nyctalus noctula                           0.914907  \n",
       "Pipistrellus pipistrellus sensu lato       0.496704  \n",
       "Pipistrellus pipistrellus sensu stricto    0.598268  \n",
       "Pipistrellus pygmaeus                      0.733366  \n",
       "Plecotus auritus                           0.383638  \n",
       "Plecotus austriacus                        0.909362  \n",
       "Rhinolophus ferrumequinum                  0.865750  \n",
       "Rhinolophus hipposideros                   0.717591  "
      ]
     },
     "execution_count": 81,
     "metadata": {},
     "output_type": "execute_result"
    }
   ],
   "source": [
    "sil_kmeans2['silhouette'] = silhouette_samples(sil_kmeans2[['sum', 'standard_deviation']], np.array(sil_kmeans2['cluster']))\n",
    "\n",
    "sil_kmeans2"
   ]
  },
  {
   "cell_type": "markdown",
   "metadata": {},
   "source": [
    "# Defining the colour map for the silouhette"
   ]
  },
  {
   "cell_type": "code",
   "execution_count": 82,
   "metadata": {
    "collapsed": false,
    "run_control": {
     "read_only": false
    }
   },
   "outputs": [
    {
     "data": {
      "text/plain": [
       "{0: 'red', 1: 'blue'}"
      ]
     },
     "execution_count": 82,
     "metadata": {},
     "output_type": "execute_result"
    }
   ],
   "source": [
    "colourMap_dict = {0:'red',\n",
    "                  1:'blue'}\n",
    "\n",
    "colourMap_dict"
   ]
  },
  {
   "cell_type": "markdown",
   "metadata": {},
   "source": [
    "# Plotting the silhouette"
   ]
  },
  {
   "cell_type": "code",
   "execution_count": 124,
   "metadata": {
    "collapsed": false,
    "run_control": {
     "read_only": false
    }
   },
   "outputs": [
    {
     "data": {
      "image/png": "[encoded data removed]",
      "text/plain": [
       "<matplotlib.figure.Figure at 0xb7addd8>"
      ]
     },
     "metadata": {},
     "output_type": "display_data"
    },
    {
     "data": {
      "image/png": "[encoded data removed]",
      "text/plain": [
       "<matplotlib.figure.Figure at 0xb7ff048>"
      ]
     },
     "metadata": {},
     "output_type": "display_data"
    },
    {
     "data": {
      "image/png": "[encoded data removed]",
      "text/plain": [
       "<matplotlib.figure.Figure at 0xb8ec0b8>"
      ]
     },
     "metadata": {},
     "output_type": "display_data"
    },
    {
     "data": {
      "image/png": "[encoded data removed]",
      "text/plain": [
       "<matplotlib.figure.Figure at 0xba58080>"
      ]
     },
     "metadata": {},
     "output_type": "display_data"
    },
    {
     "data": {
      "image/png": "[encoded data removed]",
      "text/plain": [
       "<matplotlib.figure.Figure at 0xba55cc0>"
      ]
     },
     "metadata": {},
     "output_type": "display_data"
    },
    {
     "data": {
      "image/png": "[encoded data removed]",
      "text/plain": [
       "<matplotlib.figure.Figure at 0xbc291d0>"
      ]
     },
     "metadata": {},
     "output_type": "display_data"
    },
    {
     "data": {
      "image/png": "[encoded data removed]",
      "text/plain": [
       "<matplotlib.figure.Figure at 0xb8ec278>"
      ]
     },
     "metadata": {},
     "output_type": "display_data"
    },
    {
     "data": {
      "image/png": "[encoded data removed]",
      "text/plain": [
       "<matplotlib.figure.Figure at 0xbe66400>"
      ]
     },
     "metadata": {},
     "output_type": "display_data"
    },
    {
     "data": {
      "image/png": "[encoded data removed]",
      "text/plain": [
       "<matplotlib.figure.Figure at 0xbe5fdd8>"
      ]
     },
     "metadata": {},
     "output_type": "display_data"
    },
    {
     "data": {
      "image/png": "[encoded data removed]",
      "text/plain": [
       "<matplotlib.figure.Figure at 0xc1c77f0>"
      ]
     },
     "metadata": {},
     "output_type": "display_data"
    }
   ],
   "source": [
    "sil = sil_kmeans2.sort_values(['cluster', 'silhouette'])\n",
    "sil.index = list(range(len(sil_kmeans2)))\n",
    "\n",
    "plt.figure(figsize=(10, 8))\n",
    "\n",
    "for cluster in set(sil['cluster']):\n",
    "    plt.bar(sil[sil['cluster']==cluster].index,\n",
    "         sil[sil['cluster']==cluster]['silhouette'],\n",
    "         color = colourMap_dict[cluster], label='Cluster ' + str(cluster))\n",
    "\n",
    "    \n",
    "plt.title('Silhouette plot of 2 K-means clustering')\n",
    "\n",
    "plt.legend()\n",
    "\n",
    "plt.xlabel('Number of data point')\n",
    "plt.ylabel('Silhouette coefficient')\n",
    "\n",
    "plt.ylim(0, 1.2)\n",
    "plt.xlim(0,17)\n",
    "\n",
    "plt.show()"
   ]
  },
  {
   "cell_type": "markdown",
   "metadata": {},
   "source": [
    "For both clusters there is a high level of variation.\n",
    "\n",
    "One cluster is clearly dominating the data points but with a high variation of values with the low end being ~0.39 to a high end of ~0.86.\n",
    "\n",
    "The range of values in the smaller cluster is also quite wide from ~0.5 to ~0.91. \n",
    "\n",
    "The lower values in the clusters indicate that they may be further form the mean of their own clusters; they may also be close to the members of the nearest cluster or both.\n",
    "\n",
    "So it seems likely that increasing the value for K can increasing the number of clusters may give a better clustering."
   ]
  },
  {
   "cell_type": "markdown",
   "metadata": {},
   "source": [
    "# K-means3"
   ]
  },
  {
   "cell_type": "code",
   "execution_count": 84,
   "metadata": {
    "collapsed": false,
    "run_control": {
     "read_only": false
    }
   },
   "outputs": [
    {
     "data": {
      "text/plain": [
       "array([0, 0, 0, 0, 0, 0, 0, 0, 0, 0, 1, 2, 1, 0, 0, 0, 1])"
      ]
     },
     "execution_count": 84,
     "metadata": {},
     "output_type": "execute_result"
    }
   ],
   "source": [
    "#Adding this because the import doesn't seem to 'stick'.\n",
    "#That is I had problems with it not recognising the import from above after some time.\n",
    "#Adding the import statment before using it seems to work ok.\n",
    "from sklearn import cluster\n",
    "\n",
    "#getting kmeans values using kmeans++\n",
    "kmeans3 = cluster.KMeans(n_clusters=3)\n",
    "\n",
    "# Then call the fit function on the clusterer to fit the data to the 3 means.\n",
    "kmeans3_asigned_clusters = kmeans3.fit(clusteringData_df)\n",
    "\n",
    "# And see how the data points have been assigned to clusters:\n",
    "kmeans3_asigned_clusters.labels_"
   ]
  },
  {
   "cell_type": "markdown",
   "metadata": {},
   "source": [
    "# Plot for K-means 3"
   ]
  },
  {
   "cell_type": "code",
   "execution_count": 85,
   "metadata": {
    "collapsed": false,
    "run_control": {
     "read_only": false
    }
   },
   "outputs": [],
   "source": [
    "#to make the plot more readable\n",
    "plt.figure(figsize=(10, 8))\n",
    "\n",
    "# Plot the data points which in the cluster labelled '0'\n",
    "plt.scatter(clusteringData_df['sum'][kmeans3_asigned_clusters.labels_==0],\n",
    "            clusteringData_df['standard_deviation'][kmeans3_asigned_clusters.labels_==0],\n",
    "            color='red', marker='o', label='cluster 0')\n",
    "\n",
    "# Plot the data points which in the cluster labelled '1'\n",
    "plt.scatter(clusteringData_df['sum'][kmeans3_asigned_clusters.labels_==1],\n",
    "            clusteringData_df['standard_deviation'][kmeans3_asigned_clusters.labels_==1],\n",
    "            color='blue', marker='o', label='cluster 1')\n",
    "\n",
    "# Plot the data points which in the cluster labelled '2'\n",
    "plt.scatter(clusteringData_df['sum'][kmeans3_asigned_clusters.labels_==2],\n",
    "            clusteringData_df['standard_deviation'][kmeans3_asigned_clusters.labels_==2],\n",
    "            color='green', marker='o', label='cluster 2')\n",
    "\n",
    "plt.legend()\n",
    "\n",
    "plt.xlabel('sum')\n",
    "plt.ylabel('standard_deviation')\n",
    "\n",
    "#remember to change the name\n",
    "plt.title('3-means clustering')\n",
    "\n",
    "#plt.ylim(-1,10)\n",
    "plt.xlim(-1000, 9000)\n",
    "\n",
    "#Plot centroids\n",
    "#gotta change the name here also\n",
    "for (cx, cy) in kmeans3_asigned_clusters.cluster_centers_:\n",
    "    plt.plot(cx, cy, color='black', marker='x', mew=2)"
   ]
  },
  {
   "cell_type": "markdown",
   "metadata": {},
   "source": [
    "# Data for silhouette of 3 K-means"
   ]
  },
  {
   "cell_type": "code",
   "execution_count": 86,
   "metadata": {
    "collapsed": false,
    "run_control": {
     "read_only": false
    }
   },
   "outputs": [],
   "source": [
    "k_means3_label = kmeans3_asigned_clusters.labels_\n",
    "\n",
    "sil_kmeans3 = pd.DataFrame({'standard_deviation': clusteringData_df['standard_deviation'],\n",
    "                   'sum': clusteringData_df['sum'],\n",
    "                   'cluster': k_means3_label})\n",
    "#sil_kmeans3"
   ]
  },
  {
   "cell_type": "markdown",
   "metadata": {},
   "source": [
    "# Silhouette values for K-means 3"
   ]
  },
  {
   "cell_type": "code",
   "execution_count": 87,
   "metadata": {
    "collapsed": false,
    "run_control": {
     "read_only": false
    }
   },
   "outputs": [],
   "source": [
    "sil_kmeans3['silhouette'] = silhouette_samples(sil_kmeans3[['sum', 'standard_deviation']], np.array(sil_kmeans3['cluster']))\n",
    "\n",
    "#sil_kmeans3"
   ]
  },
  {
   "cell_type": "code",
   "execution_count": 88,
   "metadata": {
    "collapsed": false,
    "run_control": {
     "read_only": false
    }
   },
   "outputs": [
    {
     "data": {
      "text/plain": [
       "{0: 'red', 1: 'blue', 2: 'green'}"
      ]
     },
     "execution_count": 88,
     "metadata": {},
     "output_type": "execute_result"
    }
   ],
   "source": [
    "colourMap_3kmeans_dict = {0:'red', 1:'blue', 2:'green'}\n",
    "\n",
    "colourMap_3kmeans_dict"
   ]
  },
  {
   "cell_type": "code",
   "execution_count": 89,
   "metadata": {
    "collapsed": false,
    "run_control": {
     "read_only": false
    }
   },
   "outputs": [
    {
     "data": {
      "text/plain": [
       "(0, 17)"
      ]
     },
     "execution_count": 89,
     "metadata": {},
     "output_type": "execute_result"
    }
   ],
   "source": [
    "sil_kmeans3 = sil_kmeans3.sort_values(['cluster', 'silhouette'])\n",
    "sil_kmeans3.index = list(range(len(sil)))\n",
    "\n",
    "plt.figure(figsize=(10, 8))\n",
    "\n",
    "for cluster in set(sil_kmeans3['cluster']):\n",
    "    plt.bar(sil_kmeans3[sil_kmeans3['cluster']==cluster].index,\n",
    "         sil_kmeans3[sil_kmeans3['cluster']==cluster]['silhouette'],\n",
    "         color = colourMap_3kmeans_dict[cluster], label='Cluster ' + str(cluster))\n",
    "\n",
    "    \n",
    "plt.title('Silhouette plot for K-means 3')\n",
    "\n",
    "plt.legend()\n",
    "\n",
    "plt.xlabel('Number of data point')\n",
    "plt.ylabel('Silhouette coefficient')\n",
    "\n",
    "plt.ylim(-0.2, 1.2)\n",
    "plt.xlim(0,17)"
   ]
  },
  {
   "cell_type": "markdown",
   "metadata": {},
   "source": [
    "The three clusters are clearly of a different size. The two smaller clusters have much less variation in the range of values they encompass especially the smaller of the two which encompasses a single data point. \n",
    "\n",
    "The larger cluster again dominates the others and has an even greater range of values.\n",
    "\n",
    "Because of the large amount of variation in the larger cluster increasing the clusters will be examined to determine if K=4 is a better fit for the data.\n"
   ]
  },
  {
   "cell_type": "markdown",
   "metadata": {},
   "source": [
    "# k-means 4"
   ]
  },
  {
   "cell_type": "code",
   "execution_count": 90,
   "metadata": {
    "collapsed": false,
    "run_control": {
     "read_only": false
    }
   },
   "outputs": [
    {
     "data": {
      "text/plain": [
       "array([0, 3, 0, 0, 0, 0, 0, 3, 0, 0, 1, 2, 1, 3, 0, 0, 1])"
      ]
     },
     "execution_count": 90,
     "metadata": {},
     "output_type": "execute_result"
    }
   ],
   "source": [
    "#Adding this because the import doesn't seem to 'stick'.\n",
    "from sklearn import cluster\n",
    "\n",
    "# First, create an instance of the clusterer with k=3\n",
    "kmeans4 = cluster.KMeans(n_clusters=4)\n",
    "\n",
    "# Then call the fit function on the clusterer to fit the data to the 3 means.\n",
    "kmeans4_asigned_clusters = kmeans4.fit(clusteringData_df)\n",
    "\n",
    "# And see how the data points have been assigned to clusters:\n",
    "kmeans4_asigned_clusters.labels_"
   ]
  },
  {
   "cell_type": "code",
   "execution_count": 91,
   "metadata": {
    "collapsed": false,
    "run_control": {
     "read_only": false
    }
   },
   "outputs": [],
   "source": [
    "#to make the plot more readable\n",
    "plt.figure(figsize=(10, 8))\n",
    "\n",
    "# Plot the data points which in the cluster labelled '0'\n",
    "plt.scatter(clusteringData_df['sum'][kmeans4_asigned_clusters.labels_==0],\n",
    "            clusteringData_df['standard_deviation'][kmeans4_asigned_clusters.labels_==0],\n",
    "            color='red', marker='o', label='cluster 0')\n",
    "\n",
    "# Plot the data points which in the cluster labelled '1'\n",
    "plt.scatter(clusteringData_df['sum'][kmeans4_asigned_clusters.labels_==1],\n",
    "            clusteringData_df['standard_deviation'][kmeans4_asigned_clusters.labels_==1],\n",
    "            color='blue', marker='o', label='cluster 1')\n",
    "\n",
    "# Plot the data points which in the cluster labelled '2'\n",
    "plt.scatter(clusteringData_df['sum'][kmeans4_asigned_clusters.labels_==2],\n",
    "            clusteringData_df['standard_deviation'][kmeans4_asigned_clusters.labels_==2],\n",
    "            color='green', marker='o', label='cluster 2')\n",
    "\n",
    "# Plot the data points which in the cluster labelled '3'\n",
    "plt.scatter(clusteringData_df['sum'][kmeans4_asigned_clusters.labels_==3],\n",
    "            clusteringData_df['standard_deviation'][kmeans4_asigned_clusters.labels_==3],\n",
    "            color='orange', marker='o', label='cluster 3')\n",
    "\n",
    "plt.legend()\n",
    "\n",
    "plt.xlabel('sum')\n",
    "plt.ylabel('standard_deviation')\n",
    "\n",
    "#remember to change the name\n",
    "plt.title('4 K-means clustering')\n",
    "\n",
    "#plt.ylim(-1,10)\n",
    "plt.xlim(-1000, 9000)\n",
    "\n",
    "#Plot centroids\n",
    "#gotta change the name here also\n",
    "for (cx, cy) in kmeans4_asigned_clusters.cluster_centers_:\n",
    "    plt.plot(cx, cy, color='black', marker='x', mew=2)"
   ]
  },
  {
   "cell_type": "code",
   "execution_count": 92,
   "metadata": {
    "collapsed": false,
    "run_control": {
     "read_only": false
    }
   },
   "outputs": [
    {
     "data": {
      "text/plain": [
       "{0: 'red', 1: 'blue', 2: 'green', 3: 'purple'}"
      ]
     },
     "execution_count": 92,
     "metadata": {},
     "output_type": "execute_result"
    }
   ],
   "source": [
    "colourMap_4kmeans_dict = {0:'red', 1:'blue', 2:'green', 3:'purple'}\n",
    "\n",
    "colourMap_4kmeans_dict"
   ]
  },
  {
   "cell_type": "code",
   "execution_count": 93,
   "metadata": {
    "collapsed": false,
    "run_control": {
     "read_only": false
    }
   },
   "outputs": [],
   "source": [
    "k_means4_label = kmeans4_asigned_clusters.labels_\n",
    "\n",
    "sil_kmeans4 = pd.DataFrame({'standard_deviation': clusteringData_df['standard_deviation'],\n",
    "                   'sum': clusteringData_df['sum'],\n",
    "                   'cluster': k_means4_label})\n",
    "#sil_kmeans4.sort_values(by='cluster')\n",
    "\n",
    "sil_kmeans4['silhouette'] = silhouette_samples(sil_kmeans4[['sum', 'standard_deviation']], np.array(sil_kmeans4['cluster']))\n",
    "#for some reason just using the variable sil_kmeans4 leads to the index being dropped in later use.\n",
    "needed_for_later = sil_kmeans4#.sort_values(by='cluster')"
   ]
  },
  {
   "cell_type": "code",
   "execution_count": 94,
   "metadata": {
    "collapsed": false,
    "run_control": {
     "read_only": false
    }
   },
   "outputs": [
    {
     "data": {
      "text/plain": [
       "(0, 17)"
      ]
     },
     "execution_count": 94,
     "metadata": {},
     "output_type": "execute_result"
    }
   ],
   "source": [
    "sil_kmeans4 = sil_kmeans4.sort_values(['cluster', 'silhouette'])\n",
    "sil_kmeans4.index = list(range(len(sil)))\n",
    "\n",
    "plt.figure(figsize=(10, 8))\n",
    "\n",
    "for cluster in set(sil_kmeans4['cluster']):\n",
    "    plt.bar(sil_kmeans4[sil_kmeans4['cluster']==cluster].index,\n",
    "         sil_kmeans4[sil_kmeans4['cluster']==cluster]['silhouette'],\n",
    "         color = colourMap_4kmeans_dict[cluster], label='Cluster ' + str(cluster))\n",
    "\n",
    "    \n",
    "plt.title('Silhouette plot of 4 K-means clustering')\n",
    "\n",
    "plt.legend()\n",
    "\n",
    "plt.xlabel('Number of data point')\n",
    "plt.ylabel('Silhouette coefficient')\n",
    "\n",
    "plt.ylim(-0.2, 1.5)\n",
    "plt.xlim(0,17)"
   ]
  },
  {
   "cell_type": "markdown",
   "metadata": {},
   "source": [
    "There is considerably less variation in the largest of the clusters when compared with k=3. There is still however a single data point with a considerable different in silhouette coefficient to the other points in the same cluster. \n",
    "\n",
    "The next two largest clusters contain the same number of data point but one is showing greater cohesion then the other.\n",
    "\n",
    "The smallest cluster of a single data point remains indicating that this may be an outlier.\n",
    "\n",
    "Considering there is still a lot of variation k = 5 will be considered."
   ]
  },
  {
   "cell_type": "markdown",
   "metadata": {
    "collapsed": true,
    "run_control": {
     "read_only": false
    }
   },
   "source": [
    "# k-means 5"
   ]
  },
  {
   "cell_type": "code",
   "execution_count": 95,
   "metadata": {
    "collapsed": false,
    "run_control": {
     "read_only": false
    }
   },
   "outputs": [
    {
     "data": {
      "text/plain": [
       "array([1, 4, 1, 1, 1, 1, 1, 4, 1, 1, 0, 2, 0, 3, 1, 1, 0])"
      ]
     },
     "execution_count": 95,
     "metadata": {},
     "output_type": "execute_result"
    }
   ],
   "source": [
    "#Adding this because the import doesn't seem to 'stick'.\n",
    "from sklearn import cluster\n",
    "\n",
    "# First, create an instance of the clusterer with k=3\n",
    "kmeans5 = cluster.KMeans(n_clusters=5)\n",
    "\n",
    "# Then call the fit function on the clusterer to fit the data to the 3 means.\n",
    "kmeans5_asigned_clusters = kmeans5.fit(clusteringData_df)\n",
    "\n",
    "# And see how the data points have been assigned to clusters:\n",
    "kmeans5_asigned_clusters.labels_"
   ]
  },
  {
   "cell_type": "code",
   "execution_count": 96,
   "metadata": {
    "collapsed": false,
    "run_control": {
     "read_only": false
    }
   },
   "outputs": [],
   "source": [
    "#to make the plot more readable\n",
    "plt.figure(figsize=(10, 8))\n",
    "\n",
    "# Plot the data points which in the cluster labelled '0'\n",
    "plt.scatter(clusteringData_df['sum'][kmeans5_asigned_clusters.labels_==0],\n",
    "            clusteringData_df['standard_deviation'][kmeans5_asigned_clusters.labels_==0],\n",
    "            color='red', marker='o', label='cluster 0')\n",
    "\n",
    "# Plot the data points which in the cluster labelled '1'\n",
    "plt.scatter(clusteringData_df['sum'][kmeans5_asigned_clusters.labels_==1],\n",
    "            clusteringData_df['standard_deviation'][kmeans5_asigned_clusters.labels_==1],\n",
    "            color='blue', marker='o', label='cluster 1')\n",
    "\n",
    "# Plot the data points which in the cluster labelled '2'\n",
    "plt.scatter(clusteringData_df['sum'][kmeans5_asigned_clusters.labels_==2],\n",
    "            clusteringData_df['standard_deviation'][kmeans5_asigned_clusters.labels_==2],\n",
    "            color='green', marker='o', label='cluster 2')\n",
    "\n",
    "# Plot the data points which in the cluster labelled '3'\n",
    "plt.scatter(clusteringData_df['sum'][kmeans5_asigned_clusters.labels_==3],\n",
    "            clusteringData_df['standard_deviation'][kmeans5_asigned_clusters.labels_==3],\n",
    "            color='purple', marker='o', label='cluster 3')\n",
    "\n",
    "# Plot the data points which in the cluster labelled '4'\n",
    "plt.scatter(clusteringData_df['sum'][kmeans5_asigned_clusters.labels_==4],\n",
    "            clusteringData_df['standard_deviation'][kmeans5_asigned_clusters.labels_==4],\n",
    "            color='orange', marker='o', label='cluster 4')\n",
    "\n",
    "plt.legend()\n",
    "\n",
    "plt.ylabel('standard_deviation')\n",
    "plt.xlabel('sum')\n",
    "\n",
    "#remember the change the name\n",
    "plt.title('5 K-means Clustering')\n",
    "\n",
    "#plt.ylim(-1,10)\n",
    "plt.xlim(-1000, 9000)\n",
    "\n",
    "#Plot centroids\n",
    "#gotta change the name here also\n",
    "for (cx, cy) in kmeans5_asigned_clusters.cluster_centers_:\n",
    "    plt.plot(cx, cy, color='black', marker='x', mew=2)"
   ]
  },
  {
   "cell_type": "code",
   "execution_count": 97,
   "metadata": {
    "collapsed": false,
    "run_control": {
     "read_only": false
    }
   },
   "outputs": [
    {
     "data": {
      "text/plain": [
       "{0: 'red', 1: 'blue', 2: 'green', 3: 'purple', 4: 'orange'}"
      ]
     },
     "execution_count": 97,
     "metadata": {},
     "output_type": "execute_result"
    }
   ],
   "source": [
    "colourMap_5kmeans_dict = {0:'red', 1:'blue', 2:'green', 3:'purple', 4:'orange'}\n",
    "\n",
    "colourMap_5kmeans_dict"
   ]
  },
  {
   "cell_type": "code",
   "execution_count": 98,
   "metadata": {
    "collapsed": false,
    "run_control": {
     "read_only": false
    }
   },
   "outputs": [],
   "source": [
    "k_means5_label = kmeans5_asigned_clusters.labels_\n",
    "\n",
    "\n",
    "sil_kmeans5 = pd.DataFrame({'standard_deviation': clusteringData_df['standard_deviation'],\n",
    "                   'sum': clusteringData_df['sum'],\n",
    "                   'cluster': k_means5_label})\n",
    "\n",
    "#sil_kmeans5"
   ]
  },
  {
   "cell_type": "code",
   "execution_count": 99,
   "metadata": {
    "collapsed": false,
    "run_control": {
     "read_only": false
    }
   },
   "outputs": [
    {
     "data": {
      "text/html": [
       "<div>\n",
       "<table border=\"1\" class=\"dataframe\">\n",
       "  <thead>\n",
       "    <tr style=\"text-align: right;\">\n",
       "      <th></th>\n",
       "      <th>cluster</th>\n",
       "      <th>standard_deviation</th>\n",
       "      <th>sum</th>\n",
       "      <th>silhouette</th>\n",
       "    </tr>\n",
       "    <tr>\n",
       "      <th>taxonName</th>\n",
       "      <th></th>\n",
       "      <th></th>\n",
       "      <th></th>\n",
       "      <th></th>\n",
       "    </tr>\n",
       "  </thead>\n",
       "  <tbody>\n",
       "    <tr>\n",
       "      <th>Chiroptera</th>\n",
       "      <td>1</td>\n",
       "      <td>0.048548</td>\n",
       "      <td>54.0</td>\n",
       "      <td>0.834588</td>\n",
       "    </tr>\n",
       "    <tr>\n",
       "      <th>Eptesicus serotinus</th>\n",
       "      <td>4</td>\n",
       "      <td>0.215490</td>\n",
       "      <td>1107.0</td>\n",
       "      <td>-0.115403</td>\n",
       "    </tr>\n",
       "    <tr>\n",
       "      <th>Myotis bechsteinii</th>\n",
       "      <td>1</td>\n",
       "      <td>0.031009</td>\n",
       "      <td>22.0</td>\n",
       "      <td>0.825041</td>\n",
       "    </tr>\n",
       "    <tr>\n",
       "      <th>Myotis brandtii</th>\n",
       "      <td>1</td>\n",
       "      <td>0.051168</td>\n",
       "      <td>60.0</td>\n",
       "      <td>0.835235</td>\n",
       "    </tr>\n",
       "    <tr>\n",
       "      <th>Myotis daubentonii</th>\n",
       "      <td>1</td>\n",
       "      <td>0.093279</td>\n",
       "      <td>160.0</td>\n",
       "      <td>0.809461</td>\n",
       "    </tr>\n",
       "    <tr>\n",
       "      <th>Myotis mystacinus</th>\n",
       "      <td>1</td>\n",
       "      <td>0.065006</td>\n",
       "      <td>97.0</td>\n",
       "      <td>0.830295</td>\n",
       "    </tr>\n",
       "    <tr>\n",
       "      <th>Myotis mystacinus/brandtii</th>\n",
       "      <td>1</td>\n",
       "      <td>0.037969</td>\n",
       "      <td>33.0</td>\n",
       "      <td>0.829338</td>\n",
       "    </tr>\n",
       "    <tr>\n",
       "      <th>Myotis nattereri</th>\n",
       "      <td>4</td>\n",
       "      <td>0.209237</td>\n",
       "      <td>1040.0</td>\n",
       "      <td>0.020880</td>\n",
       "    </tr>\n",
       "    <tr>\n",
       "      <th>Nyctalus leisleri</th>\n",
       "      <td>1</td>\n",
       "      <td>0.021932</td>\n",
       "      <td>11.0</td>\n",
       "      <td>0.819202</td>\n",
       "    </tr>\n",
       "    <tr>\n",
       "      <th>Nyctalus noctula</th>\n",
       "      <td>1</td>\n",
       "      <td>0.056037</td>\n",
       "      <td>72.0</td>\n",
       "      <td>0.834808</td>\n",
       "    </tr>\n",
       "    <tr>\n",
       "      <th>Pipistrellus pipistrellus sensu lato</th>\n",
       "      <td>0</td>\n",
       "      <td>0.360882</td>\n",
       "      <td>3478.0</td>\n",
       "      <td>-0.216244</td>\n",
       "    </tr>\n",
       "    <tr>\n",
       "      <th>Pipistrellus pipistrellus sensu stricto</th>\n",
       "      <td>2</td>\n",
       "      <td>0.454175</td>\n",
       "      <td>6475.0</td>\n",
       "      <td>0.443845</td>\n",
       "    </tr>\n",
       "    <tr>\n",
       "      <th>Pipistrellus pygmaeus</th>\n",
       "      <td>0</td>\n",
       "      <td>0.409662</td>\n",
       "      <td>4421.0</td>\n",
       "      <td>0.397467</td>\n",
       "    </tr>\n",
       "    <tr>\n",
       "      <th>Plecotus auritus</th>\n",
       "      <td>3</td>\n",
       "      <td>0.279560</td>\n",
       "      <td>1934.0</td>\n",
       "      <td>0.000000</td>\n",
       "    </tr>\n",
       "    <tr>\n",
       "      <th>Plecotus austriacus</th>\n",
       "      <td>1</td>\n",
       "      <td>0.014789</td>\n",
       "      <td>5.0</td>\n",
       "      <td>-0.889106</td>\n",
       "    </tr>\n",
       "    <tr>\n",
       "      <th>Rhinolophus ferrumequinum</th>\n",
       "      <td>1</td>\n",
       "      <td>0.148263</td>\n",
       "      <td>514.0</td>\n",
       "      <td>-0.774660</td>\n",
       "    </tr>\n",
       "    <tr>\n",
       "      <th>Rhinolophus hipposideros</th>\n",
       "      <td>0</td>\n",
       "      <td>0.396630</td>\n",
       "      <td>4196.0</td>\n",
       "      <td>-0.727169</td>\n",
       "    </tr>\n",
       "  </tbody>\n",
       "</table>\n",
       "</div>"
      ],
      "text/plain": [
       "                                         cluster  standard_deviation     sum  \\\n",
       "taxonName                                                                      \n",
       "Chiroptera                                     1            0.048548    54.0   \n",
       "Eptesicus serotinus                            4            0.215490  1107.0   \n",
       "Myotis bechsteinii                             1            0.031009    22.0   \n",
       "Myotis brandtii                                1            0.051168    60.0   \n",
       "Myotis daubentonii                             1            0.093279   160.0   \n",
       "Myotis mystacinus                              1            0.065006    97.0   \n",
       "Myotis mystacinus/brandtii                     1            0.037969    33.0   \n",
       "Myotis nattereri                               4            0.209237  1040.0   \n",
       "Nyctalus leisleri                              1            0.021932    11.0   \n",
       "Nyctalus noctula                               1            0.056037    72.0   \n",
       "Pipistrellus pipistrellus sensu lato           0            0.360882  3478.0   \n",
       "Pipistrellus pipistrellus sensu stricto        2            0.454175  6475.0   \n",
       "Pipistrellus pygmaeus                          0            0.409662  4421.0   \n",
       "Plecotus auritus                               3            0.279560  1934.0   \n",
       "Plecotus austriacus                            1            0.014789     5.0   \n",
       "Rhinolophus ferrumequinum                      1            0.148263   514.0   \n",
       "Rhinolophus hipposideros                       0            0.396630  4196.0   \n",
       "\n",
       "                                         silhouette  \n",
       "taxonName                                            \n",
       "Chiroptera                                 0.834588  \n",
       "Eptesicus serotinus                       -0.115403  \n",
       "Myotis bechsteinii                         0.825041  \n",
       "Myotis brandtii                            0.835235  \n",
       "Myotis daubentonii                         0.809461  \n",
       "Myotis mystacinus                          0.830295  \n",
       "Myotis mystacinus/brandtii                 0.829338  \n",
       "Myotis nattereri                           0.020880  \n",
       "Nyctalus leisleri                          0.819202  \n",
       "Nyctalus noctula                           0.834808  \n",
       "Pipistrellus pipistrellus sensu lato      -0.216244  \n",
       "Pipistrellus pipistrellus sensu stricto    0.443845  \n",
       "Pipistrellus pygmaeus                      0.397467  \n",
       "Plecotus auritus                           0.000000  \n",
       "Plecotus austriacus                       -0.889106  \n",
       "Rhinolophus ferrumequinum                 -0.774660  \n",
       "Rhinolophus hipposideros                  -0.727169  "
      ]
     },
     "execution_count": 99,
     "metadata": {},
     "output_type": "execute_result"
    }
   ],
   "source": [
    "sil_kmeans5['silhouette'] = silhouette_samples(sil_kmeans5[['sum', 'standard_deviation']], np.array(sil_kmeans4['cluster']))\n",
    "\n",
    "sil_kmeans5"
   ]
  },
  {
   "cell_type": "code",
   "execution_count": 100,
   "metadata": {
    "collapsed": false,
    "run_control": {
     "read_only": false
    }
   },
   "outputs": [
    {
     "data": {
      "text/plain": [
       "(0, 17)"
      ]
     },
     "execution_count": 100,
     "metadata": {},
     "output_type": "execute_result"
    }
   ],
   "source": [
    "sil_kmeans5 = sil_kmeans5.sort_values(['cluster', 'silhouette'])\n",
    "sil_kmeans5.index = list(range(len(sil)))\n",
    "\n",
    "plt.figure(figsize=(10, 8))\n",
    "\n",
    "for cluster in set(sil_kmeans5['cluster']):\n",
    "    plt.bar(sil_kmeans5[sil_kmeans5['cluster']==cluster].index,\n",
    "         sil_kmeans5[sil_kmeans5['cluster']==cluster]['silhouette'],\n",
    "         color = colourMap_5kmeans_dict[cluster], label='Cluster ' + str(cluster))\n",
    "\n",
    "    \n",
    "plt.title('Silhouette plot of 5 K-means clustering')\n",
    "\n",
    "plt.legend()\n",
    "\n",
    "plt.xlabel('Number of data point')\n",
    "plt.ylabel('Silhouette coefficient')\n",
    "\n",
    "#had to change this so that the legand was clearly visible.\n",
    "plt.ylim(-1.4, 1.8)\n",
    "plt.xlim(0,17)"
   ]
  },
  {
   "cell_type": "markdown",
   "metadata": {},
   "source": [
    "The clustering for k = 5 has many negative values which indicates that there is overlap between the clusters with some data points being closer to a neighbouring cluster then their own cluster. \n",
    "\n",
    "So it appears that k = 5 has not increased cluster cohesion and that the best clustering for the data is k = 4. "
   ]
  },
  {
   "cell_type": "markdown",
   "metadata": {},
   "source": [
    "# So the best clustering seems to be k = 4"
   ]
  },
  {
   "cell_type": "markdown",
   "metadata": {},
   "source": [
    "How well does the clustering describe the actual bat population?\n",
    "\n",
    "The clustering indicates that the population should fall into four broad categories. Those bats in the highest abundance grouping should be more likely to be found with other species. This assumes that the population is distributed relatively evenly.\n",
    "\n",
    "To explore this I will examine the sites that have only multiple species present and then compare the abundance of species at those sites with the clustering results."
   ]
  },
  {
   "cell_type": "markdown",
   "metadata": {},
   "source": [
    "# Getting only those gridReference values that have more than one bat species present"
   ]
  },
  {
   "cell_type": "code",
   "execution_count": 101,
   "metadata": {
    "collapsed": false,
    "run_control": {
     "read_only": false
    }
   },
   "outputs": [
    {
     "data": {
      "text/plain": [
       "gridReference\n",
       "C5010    False\n",
       "D1240    False\n",
       "H0160    False\n",
       "H1861     True\n",
       "H2885     True\n",
       "Name: taxonName, dtype: bool"
      ]
     },
     "execution_count": 101,
     "metadata": {},
     "output_type": "execute_result"
    }
   ],
   "source": [
    "grids_multiple_species = roost_short_df.groupby(['gridReference']).taxonName.nunique() > 1\n",
    "grids_multiple_species.head()"
   ]
  },
  {
   "cell_type": "markdown",
   "metadata": {},
   "source": [
    "Getting lists of values from the above grouping for later use."
   ]
  },
  {
   "cell_type": "code",
   "execution_count": 102,
   "metadata": {
    "collapsed": true,
    "run_control": {
     "read_only": false
    }
   },
   "outputs": [],
   "source": [
    "#gridReferences\n",
    "#grids_multiple_species.index\n",
    "\n",
    "#values\n",
    "#grids_multiple_species.values\n",
    "\n",
    "gridRef_list = []\n",
    "multiple_species = []\n",
    "\n",
    "for x in grids_multiple_species.index:\n",
    "    gridRef_list.append(x)\n",
    "    \n",
    "for x in grids_multiple_species.values:\n",
    "    multiple_species.append(x)"
   ]
  },
  {
   "cell_type": "markdown",
   "metadata": {},
   "source": [
    "Getting a list of sites with more than one species present."
   ]
  },
  {
   "cell_type": "code",
   "execution_count": 103,
   "metadata": {
    "collapsed": false,
    "run_control": {
     "read_only": false
    }
   },
   "outputs": [
    {
     "data": {
      "text/html": [
       "<div>\n",
       "<table border=\"1\" class=\"dataframe\">\n",
       "  <thead>\n",
       "    <tr style=\"text-align: right;\">\n",
       "      <th></th>\n",
       "      <th>gridReference</th>\n",
       "      <th>several_species</th>\n",
       "    </tr>\n",
       "  </thead>\n",
       "  <tbody>\n",
       "    <tr>\n",
       "      <th>3</th>\n",
       "      <td>H1861</td>\n",
       "      <td>True</td>\n",
       "    </tr>\n",
       "    <tr>\n",
       "      <th>4</th>\n",
       "      <td>H2885</td>\n",
       "      <td>True</td>\n",
       "    </tr>\n",
       "    <tr>\n",
       "      <th>6</th>\n",
       "      <td>H3524</td>\n",
       "      <td>True</td>\n",
       "    </tr>\n",
       "    <tr>\n",
       "      <th>8</th>\n",
       "      <td>H3723</td>\n",
       "      <td>True</td>\n",
       "    </tr>\n",
       "    <tr>\n",
       "      <th>29</th>\n",
       "      <td>J5570</td>\n",
       "      <td>True</td>\n",
       "    </tr>\n",
       "  </tbody>\n",
       "</table>\n",
       "</div>"
      ],
      "text/plain": [
       "   gridReference several_species\n",
       "3          H1861            True\n",
       "4          H2885            True\n",
       "6          H3524            True\n",
       "8          H3723            True\n",
       "29         J5570            True"
      ]
     },
     "execution_count": 103,
     "metadata": {},
     "output_type": "execute_result"
    }
   ],
   "source": [
    "temp_df = pd.DataFrame({'gridReference': grids_multiple_species.index,\n",
    "                            'several_species': grids_multiple_species.values})\n",
    "grid_multiple_true = temp_df[temp_df['several_species']==True]\n",
    "grid_multiple_true.head()"
   ]
  },
  {
   "cell_type": "markdown",
   "metadata": {},
   "source": [
    "Checking that one of the gridReferences does indeed have more than one species present."
   ]
  },
  {
   "cell_type": "code",
   "execution_count": 104,
   "metadata": {
    "collapsed": false,
    "run_control": {
     "read_only": false
    }
   },
   "outputs": [
    {
     "data": {
      "text/html": [
       "<div>\n",
       "<table border=\"1\" class=\"dataframe\">\n",
       "  <thead>\n",
       "    <tr style=\"text-align: right;\">\n",
       "      <th></th>\n",
       "      <th>observationID</th>\n",
       "      <th>gridReference</th>\n",
       "      <th>precision</th>\n",
       "      <th>startDate</th>\n",
       "      <th>endDate</th>\n",
       "      <th>year</th>\n",
       "      <th>taxonName</th>\n",
       "    </tr>\n",
       "  </thead>\n",
       "  <tbody>\n",
       "    <tr>\n",
       "      <th>20071</th>\n",
       "      <td>463198129</td>\n",
       "      <td>H1861</td>\n",
       "      <td>1km</td>\n",
       "      <td>1998-06-06</td>\n",
       "      <td>1998-06-06</td>\n",
       "      <td>1998</td>\n",
       "      <td>Pipistrellus pygmaeus</td>\n",
       "    </tr>\n",
       "    <tr>\n",
       "      <th>20072</th>\n",
       "      <td>463198130</td>\n",
       "      <td>H1861</td>\n",
       "      <td>1km</td>\n",
       "      <td>1998-06-15</td>\n",
       "      <td>1998-06-15</td>\n",
       "      <td>1998</td>\n",
       "      <td>Pipistrellus pygmaeus</td>\n",
       "    </tr>\n",
       "    <tr>\n",
       "      <th>20073</th>\n",
       "      <td>463198131</td>\n",
       "      <td>H1861</td>\n",
       "      <td>1km</td>\n",
       "      <td>1998-06-25</td>\n",
       "      <td>1998-06-25</td>\n",
       "      <td>1998</td>\n",
       "      <td>Pipistrellus pygmaeus</td>\n",
       "    </tr>\n",
       "    <tr>\n",
       "      <th>20076</th>\n",
       "      <td>463198134</td>\n",
       "      <td>H1861</td>\n",
       "      <td>1km</td>\n",
       "      <td>1999-06-20</td>\n",
       "      <td>1999-06-20</td>\n",
       "      <td>1999</td>\n",
       "      <td>Pipistrellus pygmaeus</td>\n",
       "    </tr>\n",
       "    <tr>\n",
       "      <th>20075</th>\n",
       "      <td>463198133</td>\n",
       "      <td>H1861</td>\n",
       "      <td>1km</td>\n",
       "      <td>1999-06-25</td>\n",
       "      <td>1999-06-25</td>\n",
       "      <td>1999</td>\n",
       "      <td>Pipistrellus pygmaeus</td>\n",
       "    </tr>\n",
       "    <tr>\n",
       "      <th>20074</th>\n",
       "      <td>463198132</td>\n",
       "      <td>H1861</td>\n",
       "      <td>1km</td>\n",
       "      <td>1999-12-06</td>\n",
       "      <td>1999-12-06</td>\n",
       "      <td>1999</td>\n",
       "      <td>Pipistrellus pygmaeus</td>\n",
       "    </tr>\n",
       "    <tr>\n",
       "      <th>20077</th>\n",
       "      <td>463198135</td>\n",
       "      <td>H1861</td>\n",
       "      <td>1km</td>\n",
       "      <td>2000-06-14</td>\n",
       "      <td>2000-06-14</td>\n",
       "      <td>2000</td>\n",
       "      <td>Pipistrellus pygmaeus</td>\n",
       "    </tr>\n",
       "    <tr>\n",
       "      <th>20078</th>\n",
       "      <td>463198136</td>\n",
       "      <td>H1861</td>\n",
       "      <td>1km</td>\n",
       "      <td>2000-06-21</td>\n",
       "      <td>2000-06-21</td>\n",
       "      <td>2000</td>\n",
       "      <td>Pipistrellus pygmaeus</td>\n",
       "    </tr>\n",
       "    <tr>\n",
       "      <th>20080</th>\n",
       "      <td>463198138</td>\n",
       "      <td>H1861</td>\n",
       "      <td>1km</td>\n",
       "      <td>2001-06-23</td>\n",
       "      <td>2001-06-23</td>\n",
       "      <td>2001</td>\n",
       "      <td>Pipistrellus pygmaeus</td>\n",
       "    </tr>\n",
       "    <tr>\n",
       "      <th>20079</th>\n",
       "      <td>463198137</td>\n",
       "      <td>H1861</td>\n",
       "      <td>1km</td>\n",
       "      <td>2001-12-06</td>\n",
       "      <td>2001-12-06</td>\n",
       "      <td>2001</td>\n",
       "      <td>Pipistrellus pygmaeus</td>\n",
       "    </tr>\n",
       "    <tr>\n",
       "      <th>19318</th>\n",
       "      <td>463195234</td>\n",
       "      <td>H1861</td>\n",
       "      <td>1km</td>\n",
       "      <td>2001-01-01</td>\n",
       "      <td>2001-12-31</td>\n",
       "      <td>2001</td>\n",
       "      <td>Plecotus auritus</td>\n",
       "    </tr>\n",
       "    <tr>\n",
       "      <th>20081</th>\n",
       "      <td>463198139</td>\n",
       "      <td>H1861</td>\n",
       "      <td>1km</td>\n",
       "      <td>2002-06-14</td>\n",
       "      <td>2002-06-14</td>\n",
       "      <td>2002</td>\n",
       "      <td>Pipistrellus pygmaeus</td>\n",
       "    </tr>\n",
       "    <tr>\n",
       "      <th>20083</th>\n",
       "      <td>463198141</td>\n",
       "      <td>H1861</td>\n",
       "      <td>1km</td>\n",
       "      <td>2002-06-21</td>\n",
       "      <td>2002-06-21</td>\n",
       "      <td>2002</td>\n",
       "      <td>Pipistrellus pygmaeus</td>\n",
       "    </tr>\n",
       "    <tr>\n",
       "      <th>20082</th>\n",
       "      <td>463198140</td>\n",
       "      <td>H1861</td>\n",
       "      <td>1km</td>\n",
       "      <td>2002-06-23</td>\n",
       "      <td>2002-06-23</td>\n",
       "      <td>2002</td>\n",
       "      <td>Pipistrellus pygmaeus</td>\n",
       "    </tr>\n",
       "    <tr>\n",
       "      <th>20084</th>\n",
       "      <td>463198142</td>\n",
       "      <td>H1861</td>\n",
       "      <td>1km</td>\n",
       "      <td>2003-06-13</td>\n",
       "      <td>2003-06-13</td>\n",
       "      <td>2003</td>\n",
       "      <td>Pipistrellus pygmaeus</td>\n",
       "    </tr>\n",
       "    <tr>\n",
       "      <th>20085</th>\n",
       "      <td>463198143</td>\n",
       "      <td>H1861</td>\n",
       "      <td>1km</td>\n",
       "      <td>2003-06-28</td>\n",
       "      <td>2003-06-28</td>\n",
       "      <td>2003</td>\n",
       "      <td>Pipistrellus pygmaeus</td>\n",
       "    </tr>\n",
       "    <tr>\n",
       "      <th>19319</th>\n",
       "      <td>463195235</td>\n",
       "      <td>H1861</td>\n",
       "      <td>1km</td>\n",
       "      <td>2003-01-01</td>\n",
       "      <td>2003-12-31</td>\n",
       "      <td>2003</td>\n",
       "      <td>Plecotus auritus</td>\n",
       "    </tr>\n",
       "    <tr>\n",
       "      <th>19333</th>\n",
       "      <td>463195255</td>\n",
       "      <td>H1861</td>\n",
       "      <td>1km</td>\n",
       "      <td>2004-01-01</td>\n",
       "      <td>2004-12-31</td>\n",
       "      <td>2004</td>\n",
       "      <td>Plecotus auritus</td>\n",
       "    </tr>\n",
       "    <tr>\n",
       "      <th>21008</th>\n",
       "      <td>463201580</td>\n",
       "      <td>H1861</td>\n",
       "      <td>1km</td>\n",
       "      <td>2004-01-01</td>\n",
       "      <td>2004-12-31</td>\n",
       "      <td>2004</td>\n",
       "      <td>Pipistrellus pygmaeus</td>\n",
       "    </tr>\n",
       "    <tr>\n",
       "      <th>19667</th>\n",
       "      <td>463196533</td>\n",
       "      <td>H1861</td>\n",
       "      <td>1km</td>\n",
       "      <td>2005-06-25</td>\n",
       "      <td>2005-06-25</td>\n",
       "      <td>2005</td>\n",
       "      <td>Pipistrellus pygmaeus</td>\n",
       "    </tr>\n",
       "  </tbody>\n",
       "</table>\n",
       "</div>"
      ],
      "text/plain": [
       "       observationID gridReference precision  startDate    endDate  year  \\\n",
       "20071      463198129         H1861       1km 1998-06-06 1998-06-06  1998   \n",
       "20072      463198130         H1861       1km 1998-06-15 1998-06-15  1998   \n",
       "20073      463198131         H1861       1km 1998-06-25 1998-06-25  1998   \n",
       "20076      463198134         H1861       1km 1999-06-20 1999-06-20  1999   \n",
       "20075      463198133         H1861       1km 1999-06-25 1999-06-25  1999   \n",
       "20074      463198132         H1861       1km 1999-12-06 1999-12-06  1999   \n",
       "20077      463198135         H1861       1km 2000-06-14 2000-06-14  2000   \n",
       "20078      463198136         H1861       1km 2000-06-21 2000-06-21  2000   \n",
       "20080      463198138         H1861       1km 2001-06-23 2001-06-23  2001   \n",
       "20079      463198137         H1861       1km 2001-12-06 2001-12-06  2001   \n",
       "19318      463195234         H1861       1km 2001-01-01 2001-12-31  2001   \n",
       "20081      463198139         H1861       1km 2002-06-14 2002-06-14  2002   \n",
       "20083      463198141         H1861       1km 2002-06-21 2002-06-21  2002   \n",
       "20082      463198140         H1861       1km 2002-06-23 2002-06-23  2002   \n",
       "20084      463198142         H1861       1km 2003-06-13 2003-06-13  2003   \n",
       "20085      463198143         H1861       1km 2003-06-28 2003-06-28  2003   \n",
       "19319      463195235         H1861       1km 2003-01-01 2003-12-31  2003   \n",
       "19333      463195255         H1861       1km 2004-01-01 2004-12-31  2004   \n",
       "21008      463201580         H1861       1km 2004-01-01 2004-12-31  2004   \n",
       "19667      463196533         H1861       1km 2005-06-25 2005-06-25  2005   \n",
       "\n",
       "                   taxonName  \n",
       "20071  Pipistrellus pygmaeus  \n",
       "20072  Pipistrellus pygmaeus  \n",
       "20073  Pipistrellus pygmaeus  \n",
       "20076  Pipistrellus pygmaeus  \n",
       "20075  Pipistrellus pygmaeus  \n",
       "20074  Pipistrellus pygmaeus  \n",
       "20077  Pipistrellus pygmaeus  \n",
       "20078  Pipistrellus pygmaeus  \n",
       "20080  Pipistrellus pygmaeus  \n",
       "20079  Pipistrellus pygmaeus  \n",
       "19318       Plecotus auritus  \n",
       "20081  Pipistrellus pygmaeus  \n",
       "20083  Pipistrellus pygmaeus  \n",
       "20082  Pipistrellus pygmaeus  \n",
       "20084  Pipistrellus pygmaeus  \n",
       "20085  Pipistrellus pygmaeus  \n",
       "19319       Plecotus auritus  \n",
       "19333       Plecotus auritus  \n",
       "21008  Pipistrellus pygmaeus  \n",
       "19667  Pipistrellus pygmaeus  "
      ]
     },
     "execution_count": 104,
     "metadata": {},
     "output_type": "execute_result"
    }
   ],
   "source": [
    "roost_short_df[roost_short_df['gridReference']=='H1861'].sort_values(by='endDate').head(20)"
   ]
  },
  {
   "cell_type": "markdown",
   "metadata": {},
   "source": [
    "It can be seen from the above that in 2004 there were more than one species of bat at the site H1861 at the same time.\n",
    "\n",
    "Creating a new DataFrame to store the data of those gridRrferences that have multiple species present for later use."
   ]
  },
  {
   "cell_type": "code",
   "execution_count": 105,
   "metadata": {
    "collapsed": false,
    "run_control": {
     "read_only": false
    }
   },
   "outputs": [
    {
     "data": {
      "text/html": [
       "<div>\n",
       "<table border=\"1\" class=\"dataframe\">\n",
       "  <thead>\n",
       "    <tr style=\"text-align: right;\">\n",
       "      <th></th>\n",
       "      <th>observationID</th>\n",
       "      <th>gridReference</th>\n",
       "      <th>precision</th>\n",
       "      <th>endDate</th>\n",
       "      <th>year</th>\n",
       "      <th>taxonName</th>\n",
       "    </tr>\n",
       "  </thead>\n",
       "  <tbody>\n",
       "  </tbody>\n",
       "</table>\n",
       "</div>"
      ],
      "text/plain": [
       "Empty DataFrame\n",
       "Columns: [observationID, gridReference, precision, endDate, year, taxonName]\n",
       "Index: []"
      ]
     },
     "execution_count": 105,
     "metadata": {},
     "output_type": "execute_result"
    }
   ],
   "source": [
    "multiple_species_df = pd.DataFrame(columns=('observationID', 'gridReference', 'precision', 'endDate', 'year', 'taxonName'))\n",
    "multiple_species_df"
   ]
  },
  {
   "cell_type": "markdown",
   "metadata": {},
   "source": [
    "Checking the number of gridReferences."
   ]
  },
  {
   "cell_type": "code",
   "execution_count": 106,
   "metadata": {
    "collapsed": false,
    "run_control": {
     "read_only": false
    }
   },
   "outputs": [
    {
     "data": {
      "text/plain": [
       "171"
      ]
     },
     "execution_count": 106,
     "metadata": {},
     "output_type": "execute_result"
    }
   ],
   "source": [
    "len(grid_multiple_true)"
   ]
  },
  {
   "cell_type": "markdown",
   "metadata": {},
   "source": [
    "The code below iterates through gridReference values that have multiple bat species present then groups them into a single dataframe."
   ]
  },
  {
   "cell_type": "code",
   "execution_count": 107,
   "metadata": {
    "collapsed": true,
    "run_control": {
     "read_only": false
    }
   },
   "outputs": [],
   "source": [
    "#This is quite slow but should take no longer than a minute.\n",
    "#it took ~10 seconds.\n",
    "\n",
    "i = 0\n",
    "for x in grid_multiple_true.gridReference:\n",
    "    for index, row in roost_df[roost_short_df['gridReference']==x].iterrows():\n",
    "            multiple_species_df.loc[i] = [row.observationID,\n",
    "                row.gridReference,\n",
    "                row.precision,\n",
    "                row.endDate,\n",
    "                row.year,\n",
    "                row.taxonName]\n",
    "            i = 1 + i"
   ]
  },
  {
   "cell_type": "markdown",
   "metadata": {},
   "source": [
    "Checking the results of the above."
   ]
  },
  {
   "cell_type": "code",
   "execution_count": 108,
   "metadata": {
    "collapsed": false,
    "run_control": {
     "read_only": false
    }
   },
   "outputs": [
    {
     "data": {
      "text/html": [
       "<div>\n",
       "<table border=\"1\" class=\"dataframe\">\n",
       "  <thead>\n",
       "    <tr style=\"text-align: right;\">\n",
       "      <th></th>\n",
       "      <th>observationID</th>\n",
       "      <th>gridReference</th>\n",
       "      <th>precision</th>\n",
       "      <th>endDate</th>\n",
       "      <th>year</th>\n",
       "      <th>taxonName</th>\n",
       "    </tr>\n",
       "  </thead>\n",
       "  <tbody>\n",
       "    <tr>\n",
       "      <th>3845</th>\n",
       "      <td>463200672.0</td>\n",
       "      <td>TL7273</td>\n",
       "      <td>1km</td>\n",
       "      <td>2005-10-06</td>\n",
       "      <td>2005.0</td>\n",
       "      <td>Plecotus auritus</td>\n",
       "    </tr>\n",
       "    <tr>\n",
       "      <th>3839</th>\n",
       "      <td>463198561.0</td>\n",
       "      <td>TL7273</td>\n",
       "      <td>1km</td>\n",
       "      <td>2006-12-31</td>\n",
       "      <td>2006.0</td>\n",
       "      <td>Pipistrellus pipistrellus sensu lato</td>\n",
       "    </tr>\n",
       "    <tr>\n",
       "      <th>3827</th>\n",
       "      <td>463189822.0</td>\n",
       "      <td>TL7273</td>\n",
       "      <td>1km</td>\n",
       "      <td>2006-06-30</td>\n",
       "      <td>2006.0</td>\n",
       "      <td>Plecotus auritus</td>\n",
       "    </tr>\n",
       "    <tr>\n",
       "      <th>3826</th>\n",
       "      <td>463189821.0</td>\n",
       "      <td>TL7273</td>\n",
       "      <td>1km</td>\n",
       "      <td>2006-08-06</td>\n",
       "      <td>2006.0</td>\n",
       "      <td>Plecotus auritus</td>\n",
       "    </tr>\n",
       "    <tr>\n",
       "      <th>3829</th>\n",
       "      <td>463194987.0</td>\n",
       "      <td>TL7273</td>\n",
       "      <td>1km</td>\n",
       "      <td>2007-12-31</td>\n",
       "      <td>2007.0</td>\n",
       "      <td>Pipistrellus pipistrellus sensu lato</td>\n",
       "    </tr>\n",
       "    <tr>\n",
       "      <th>3830</th>\n",
       "      <td>463194989.0</td>\n",
       "      <td>TL7273</td>\n",
       "      <td>1km</td>\n",
       "      <td>2008-12-31</td>\n",
       "      <td>2008.0</td>\n",
       "      <td>Pipistrellus pipistrellus sensu lato</td>\n",
       "    </tr>\n",
       "    <tr>\n",
       "      <th>3831</th>\n",
       "      <td>463196055.0</td>\n",
       "      <td>TL7273</td>\n",
       "      <td>1km</td>\n",
       "      <td>2010-12-31</td>\n",
       "      <td>2010.0</td>\n",
       "      <td>Pipistrellus pipistrellus sensu lato</td>\n",
       "    </tr>\n",
       "    <tr>\n",
       "      <th>3832</th>\n",
       "      <td>463196056.0</td>\n",
       "      <td>TL7273</td>\n",
       "      <td>1km</td>\n",
       "      <td>2011-12-31</td>\n",
       "      <td>2011.0</td>\n",
       "      <td>Pipistrellus pipistrellus sensu lato</td>\n",
       "    </tr>\n",
       "    <tr>\n",
       "      <th>3828</th>\n",
       "      <td>463193804.0</td>\n",
       "      <td>TL7273</td>\n",
       "      <td>1km</td>\n",
       "      <td>2012-12-31</td>\n",
       "      <td>2012.0</td>\n",
       "      <td>Pipistrellus pipistrellus sensu lato</td>\n",
       "    </tr>\n",
       "    <tr>\n",
       "      <th>3844</th>\n",
       "      <td>463198586.0</td>\n",
       "      <td>TL7273</td>\n",
       "      <td>1km</td>\n",
       "      <td>2014-12-31</td>\n",
       "      <td>2014.0</td>\n",
       "      <td>Pipistrellus pipistrellus sensu lato</td>\n",
       "    </tr>\n",
       "  </tbody>\n",
       "</table>\n",
       "</div>"
      ],
      "text/plain": [
       "      observationID gridReference precision    endDate    year  \\\n",
       "3845    463200672.0        TL7273       1km 2005-10-06  2005.0   \n",
       "3839    463198561.0        TL7273       1km 2006-12-31  2006.0   \n",
       "3827    463189822.0        TL7273       1km 2006-06-30  2006.0   \n",
       "3826    463189821.0        TL7273       1km 2006-08-06  2006.0   \n",
       "3829    463194987.0        TL7273       1km 2007-12-31  2007.0   \n",
       "3830    463194989.0        TL7273       1km 2008-12-31  2008.0   \n",
       "3831    463196055.0        TL7273       1km 2010-12-31  2010.0   \n",
       "3832    463196056.0        TL7273       1km 2011-12-31  2011.0   \n",
       "3828    463193804.0        TL7273       1km 2012-12-31  2012.0   \n",
       "3844    463198586.0        TL7273       1km 2014-12-31  2014.0   \n",
       "\n",
       "                                 taxonName  \n",
       "3845                      Plecotus auritus  \n",
       "3839  Pipistrellus pipistrellus sensu lato  \n",
       "3827                      Plecotus auritus  \n",
       "3826                      Plecotus auritus  \n",
       "3829  Pipistrellus pipistrellus sensu lato  \n",
       "3830  Pipistrellus pipistrellus sensu lato  \n",
       "3831  Pipistrellus pipistrellus sensu lato  \n",
       "3832  Pipistrellus pipistrellus sensu lato  \n",
       "3828  Pipistrellus pipistrellus sensu lato  \n",
       "3844  Pipistrellus pipistrellus sensu lato  "
      ]
     },
     "execution_count": 108,
     "metadata": {},
     "output_type": "execute_result"
    }
   ],
   "source": [
    "multiple_species_df[multiple_species_df['gridReference']=='TL7273'].sort_values(by='year').tail(10)\n",
    "\n",
    "#multiple_species_df.sort_values(by='endDate')"
   ]
  },
  {
   "cell_type": "markdown",
   "metadata": {},
   "source": [
    "# Dealing with year values introducing unwanted results"
   ]
  },
  {
   "cell_type": "markdown",
   "metadata": {},
   "source": [
    "Grouping the gridReferences that have multiple bats by year means that those site will on some years have only one bat species recorded.\n",
    "\n",
    "The following is to filter out results that do not have more than one species present."
   ]
  },
  {
   "cell_type": "markdown",
   "metadata": {},
   "source": [
    "Getting boolean values for each site that indicate if multiple species are present at the same time."
   ]
  },
  {
   "cell_type": "code",
   "execution_count": 109,
   "metadata": {
    "collapsed": false,
    "run_control": {
     "read_only": false
    }
   },
   "outputs": [
    {
     "data": {
      "text/plain": [
       "gridReference  endDate     year  \n",
       "H1861          1998-06-06  1998.0    False\n",
       "               1998-06-15  1998.0    False\n",
       "               1998-06-25  1998.0    False\n",
       "               1999-06-20  1999.0    False\n",
       "               1999-06-25  1999.0    False\n",
       "               1999-12-06  1999.0    False\n",
       "               2000-06-14  2000.0    False\n",
       "               2000-06-21  2000.0    False\n",
       "               2001-06-23  2001.0    False\n",
       "               2001-12-06  2001.0    False\n",
       "               2001-12-31  2001.0    False\n",
       "               2002-06-14  2002.0    False\n",
       "               2002-06-21  2002.0    False\n",
       "               2002-06-23  2002.0    False\n",
       "               2003-06-13  2003.0    False\n",
       "               2003-06-28  2003.0    False\n",
       "               2003-12-31  2003.0    False\n",
       "               2004-12-31  2004.0     True\n",
       "               2005-06-25  2005.0    False\n",
       "               2005-09-06  2005.0    False\n",
       "Name: taxonName, dtype: bool"
      ]
     },
     "execution_count": 109,
     "metadata": {},
     "output_type": "execute_result"
    }
   ],
   "source": [
    "multi_species_year_boolean = multiple_species_df.groupby(['gridReference', 'endDate', 'year'])['taxonName'].nunique() > 1\n",
    "multi_species_year_boolean.head(20)"
   ]
  },
  {
   "cell_type": "markdown",
   "metadata": {},
   "source": [
    "Getting a list of the boolean values."
   ]
  },
  {
   "cell_type": "code",
   "execution_count": 110,
   "metadata": {
    "collapsed": true,
    "run_control": {
     "read_only": false
    }
   },
   "outputs": [],
   "source": [
    "multi_species_values = []\n",
    "for x in multi_species_year_boolean.values:\n",
    "    multi_species_values.append(x)"
   ]
  },
  {
   "cell_type": "markdown",
   "metadata": {},
   "source": [
    "Grouping the data by bat species abundance."
   ]
  },
  {
   "cell_type": "code",
   "execution_count": 111,
   "metadata": {
    "collapsed": false,
    "run_control": {
     "read_only": false
    }
   },
   "outputs": [
    {
     "data": {
      "text/html": [
       "<div>\n",
       "<table border=\"1\" class=\"dataframe\">\n",
       "  <thead>\n",
       "    <tr style=\"text-align: right;\">\n",
       "      <th></th>\n",
       "      <th></th>\n",
       "      <th></th>\n",
       "      <th></th>\n",
       "      <th>taxonName</th>\n",
       "    </tr>\n",
       "    <tr>\n",
       "      <th>gridReference</th>\n",
       "      <th>endDate</th>\n",
       "      <th>year</th>\n",
       "      <th>taxonName</th>\n",
       "      <th></th>\n",
       "    </tr>\n",
       "  </thead>\n",
       "  <tbody>\n",
       "    <tr>\n",
       "      <th rowspan=\"5\" valign=\"top\">H1861</th>\n",
       "      <th>1998-06-06</th>\n",
       "      <th>1998.0</th>\n",
       "      <th>Pipistrellus pygmaeus</th>\n",
       "      <td>1</td>\n",
       "    </tr>\n",
       "    <tr>\n",
       "      <th>1998-06-15</th>\n",
       "      <th>1998.0</th>\n",
       "      <th>Pipistrellus pygmaeus</th>\n",
       "      <td>1</td>\n",
       "    </tr>\n",
       "    <tr>\n",
       "      <th>1998-06-25</th>\n",
       "      <th>1998.0</th>\n",
       "      <th>Pipistrellus pygmaeus</th>\n",
       "      <td>1</td>\n",
       "    </tr>\n",
       "    <tr>\n",
       "      <th>1999-06-20</th>\n",
       "      <th>1999.0</th>\n",
       "      <th>Pipistrellus pygmaeus</th>\n",
       "      <td>1</td>\n",
       "    </tr>\n",
       "    <tr>\n",
       "      <th>1999-06-25</th>\n",
       "      <th>1999.0</th>\n",
       "      <th>Pipistrellus pygmaeus</th>\n",
       "      <td>1</td>\n",
       "    </tr>\n",
       "  </tbody>\n",
       "</table>\n",
       "</div>"
      ],
      "text/plain": [
       "                                                       taxonName\n",
       "gridReference endDate    year   taxonName                       \n",
       "H1861         1998-06-06 1998.0 Pipistrellus pygmaeus          1\n",
       "              1998-06-15 1998.0 Pipistrellus pygmaeus          1\n",
       "              1998-06-25 1998.0 Pipistrellus pygmaeus          1\n",
       "              1999-06-20 1999.0 Pipistrellus pygmaeus          1\n",
       "              1999-06-25 1999.0 Pipistrellus pygmaeus          1"
      ]
     },
     "execution_count": 111,
     "metadata": {},
     "output_type": "execute_result"
    }
   ],
   "source": [
    "multi_species_year_count = multiple_species_df.groupby(['gridReference', 'endDate', 'year', 'taxonName'])['taxonName'].count()\n",
    "multi_species_year_count.to_frame().head()"
   ]
  },
  {
   "cell_type": "code",
   "execution_count": 112,
   "metadata": {
    "collapsed": false,
    "run_control": {
     "read_only": false
    }
   },
   "outputs": [
    {
     "data": {
      "text/html": [
       "<div>\n",
       "<table border=\"1\" class=\"dataframe\">\n",
       "  <thead>\n",
       "    <tr style=\"text-align: right;\">\n",
       "      <th></th>\n",
       "      <th></th>\n",
       "      <th>taxonName</th>\n",
       "      <th>Chiroptera</th>\n",
       "      <th>Eptesicus serotinus</th>\n",
       "      <th>Myotis brandtii</th>\n",
       "      <th>Myotis daubentonii</th>\n",
       "      <th>Myotis mystacinus/brandtii</th>\n",
       "      <th>Myotis nattereri</th>\n",
       "      <th>Nyctalus leisleri</th>\n",
       "      <th>Nyctalus noctula</th>\n",
       "      <th>Pipistrellus pipistrellus sensu lato</th>\n",
       "      <th>Pipistrellus pipistrellus sensu stricto</th>\n",
       "      <th>Pipistrellus pygmaeus</th>\n",
       "      <th>Plecotus auritus</th>\n",
       "      <th>Plecotus austriacus</th>\n",
       "      <th>Rhinolophus ferrumequinum</th>\n",
       "      <th>Rhinolophus hipposideros</th>\n",
       "    </tr>\n",
       "    <tr>\n",
       "      <th>gridReference</th>\n",
       "      <th>endDate</th>\n",
       "      <th>year</th>\n",
       "      <th></th>\n",
       "      <th></th>\n",
       "      <th></th>\n",
       "      <th></th>\n",
       "      <th></th>\n",
       "      <th></th>\n",
       "      <th></th>\n",
       "      <th></th>\n",
       "      <th></th>\n",
       "      <th></th>\n",
       "      <th></th>\n",
       "      <th></th>\n",
       "      <th></th>\n",
       "      <th></th>\n",
       "      <th></th>\n",
       "    </tr>\n",
       "  </thead>\n",
       "  <tbody>\n",
       "    <tr>\n",
       "      <th rowspan=\"5\" valign=\"top\">H1861</th>\n",
       "      <th>1998-06-06</th>\n",
       "      <th>1998.0</th>\n",
       "      <td>NaN</td>\n",
       "      <td>NaN</td>\n",
       "      <td>NaN</td>\n",
       "      <td>NaN</td>\n",
       "      <td>NaN</td>\n",
       "      <td>NaN</td>\n",
       "      <td>NaN</td>\n",
       "      <td>NaN</td>\n",
       "      <td>NaN</td>\n",
       "      <td>NaN</td>\n",
       "      <td>1.0</td>\n",
       "      <td>NaN</td>\n",
       "      <td>NaN</td>\n",
       "      <td>NaN</td>\n",
       "      <td>NaN</td>\n",
       "    </tr>\n",
       "    <tr>\n",
       "      <th>1998-06-15</th>\n",
       "      <th>1998.0</th>\n",
       "      <td>NaN</td>\n",
       "      <td>NaN</td>\n",
       "      <td>NaN</td>\n",
       "      <td>NaN</td>\n",
       "      <td>NaN</td>\n",
       "      <td>NaN</td>\n",
       "      <td>NaN</td>\n",
       "      <td>NaN</td>\n",
       "      <td>NaN</td>\n",
       "      <td>NaN</td>\n",
       "      <td>1.0</td>\n",
       "      <td>NaN</td>\n",
       "      <td>NaN</td>\n",
       "      <td>NaN</td>\n",
       "      <td>NaN</td>\n",
       "    </tr>\n",
       "    <tr>\n",
       "      <th>1998-06-25</th>\n",
       "      <th>1998.0</th>\n",
       "      <td>NaN</td>\n",
       "      <td>NaN</td>\n",
       "      <td>NaN</td>\n",
       "      <td>NaN</td>\n",
       "      <td>NaN</td>\n",
       "      <td>NaN</td>\n",
       "      <td>NaN</td>\n",
       "      <td>NaN</td>\n",
       "      <td>NaN</td>\n",
       "      <td>NaN</td>\n",
       "      <td>1.0</td>\n",
       "      <td>NaN</td>\n",
       "      <td>NaN</td>\n",
       "      <td>NaN</td>\n",
       "      <td>NaN</td>\n",
       "    </tr>\n",
       "    <tr>\n",
       "      <th>1999-06-20</th>\n",
       "      <th>1999.0</th>\n",
       "      <td>NaN</td>\n",
       "      <td>NaN</td>\n",
       "      <td>NaN</td>\n",
       "      <td>NaN</td>\n",
       "      <td>NaN</td>\n",
       "      <td>NaN</td>\n",
       "      <td>NaN</td>\n",
       "      <td>NaN</td>\n",
       "      <td>NaN</td>\n",
       "      <td>NaN</td>\n",
       "      <td>1.0</td>\n",
       "      <td>NaN</td>\n",
       "      <td>NaN</td>\n",
       "      <td>NaN</td>\n",
       "      <td>NaN</td>\n",
       "    </tr>\n",
       "    <tr>\n",
       "      <th>1999-06-25</th>\n",
       "      <th>1999.0</th>\n",
       "      <td>NaN</td>\n",
       "      <td>NaN</td>\n",
       "      <td>NaN</td>\n",
       "      <td>NaN</td>\n",
       "      <td>NaN</td>\n",
       "      <td>NaN</td>\n",
       "      <td>NaN</td>\n",
       "      <td>NaN</td>\n",
       "      <td>NaN</td>\n",
       "      <td>NaN</td>\n",
       "      <td>1.0</td>\n",
       "      <td>NaN</td>\n",
       "      <td>NaN</td>\n",
       "      <td>NaN</td>\n",
       "      <td>NaN</td>\n",
       "    </tr>\n",
       "  </tbody>\n",
       "</table>\n",
       "</div>"
      ],
      "text/plain": [
       "taxonName                        Chiroptera  Eptesicus serotinus  \\\n",
       "gridReference endDate    year                                      \n",
       "H1861         1998-06-06 1998.0         NaN                  NaN   \n",
       "              1998-06-15 1998.0         NaN                  NaN   \n",
       "              1998-06-25 1998.0         NaN                  NaN   \n",
       "              1999-06-20 1999.0         NaN                  NaN   \n",
       "              1999-06-25 1999.0         NaN                  NaN   \n",
       "\n",
       "taxonName                        Myotis brandtii  Myotis daubentonii  \\\n",
       "gridReference endDate    year                                          \n",
       "H1861         1998-06-06 1998.0              NaN                 NaN   \n",
       "              1998-06-15 1998.0              NaN                 NaN   \n",
       "              1998-06-25 1998.0              NaN                 NaN   \n",
       "              1999-06-20 1999.0              NaN                 NaN   \n",
       "              1999-06-25 1999.0              NaN                 NaN   \n",
       "\n",
       "taxonName                        Myotis mystacinus/brandtii  Myotis nattereri  \\\n",
       "gridReference endDate    year                                                   \n",
       "H1861         1998-06-06 1998.0                         NaN               NaN   \n",
       "              1998-06-15 1998.0                         NaN               NaN   \n",
       "              1998-06-25 1998.0                         NaN               NaN   \n",
       "              1999-06-20 1999.0                         NaN               NaN   \n",
       "              1999-06-25 1999.0                         NaN               NaN   \n",
       "\n",
       "taxonName                        Nyctalus leisleri  Nyctalus noctula  \\\n",
       "gridReference endDate    year                                          \n",
       "H1861         1998-06-06 1998.0                NaN               NaN   \n",
       "              1998-06-15 1998.0                NaN               NaN   \n",
       "              1998-06-25 1998.0                NaN               NaN   \n",
       "              1999-06-20 1999.0                NaN               NaN   \n",
       "              1999-06-25 1999.0                NaN               NaN   \n",
       "\n",
       "taxonName                        Pipistrellus pipistrellus sensu lato  \\\n",
       "gridReference endDate    year                                           \n",
       "H1861         1998-06-06 1998.0                                   NaN   \n",
       "              1998-06-15 1998.0                                   NaN   \n",
       "              1998-06-25 1998.0                                   NaN   \n",
       "              1999-06-20 1999.0                                   NaN   \n",
       "              1999-06-25 1999.0                                   NaN   \n",
       "\n",
       "taxonName                        Pipistrellus pipistrellus sensu stricto  \\\n",
       "gridReference endDate    year                                              \n",
       "H1861         1998-06-06 1998.0                                      NaN   \n",
       "              1998-06-15 1998.0                                      NaN   \n",
       "              1998-06-25 1998.0                                      NaN   \n",
       "              1999-06-20 1999.0                                      NaN   \n",
       "              1999-06-25 1999.0                                      NaN   \n",
       "\n",
       "taxonName                        Pipistrellus pygmaeus  Plecotus auritus  \\\n",
       "gridReference endDate    year                                              \n",
       "H1861         1998-06-06 1998.0                    1.0               NaN   \n",
       "              1998-06-15 1998.0                    1.0               NaN   \n",
       "              1998-06-25 1998.0                    1.0               NaN   \n",
       "              1999-06-20 1999.0                    1.0               NaN   \n",
       "              1999-06-25 1999.0                    1.0               NaN   \n",
       "\n",
       "taxonName                        Plecotus austriacus  \\\n",
       "gridReference endDate    year                          \n",
       "H1861         1998-06-06 1998.0                  NaN   \n",
       "              1998-06-15 1998.0                  NaN   \n",
       "              1998-06-25 1998.0                  NaN   \n",
       "              1999-06-20 1999.0                  NaN   \n",
       "              1999-06-25 1999.0                  NaN   \n",
       "\n",
       "taxonName                        Rhinolophus ferrumequinum  \\\n",
       "gridReference endDate    year                                \n",
       "H1861         1998-06-06 1998.0                        NaN   \n",
       "              1998-06-15 1998.0                        NaN   \n",
       "              1998-06-25 1998.0                        NaN   \n",
       "              1999-06-20 1999.0                        NaN   \n",
       "              1999-06-25 1999.0                        NaN   \n",
       "\n",
       "taxonName                        Rhinolophus hipposideros  \n",
       "gridReference endDate    year                              \n",
       "H1861         1998-06-06 1998.0                       NaN  \n",
       "              1998-06-15 1998.0                       NaN  \n",
       "              1998-06-25 1998.0                       NaN  \n",
       "              1999-06-20 1999.0                       NaN  \n",
       "              1999-06-25 1999.0                       NaN  "
      ]
     },
     "execution_count": 112,
     "metadata": {},
     "output_type": "execute_result"
    }
   ],
   "source": [
    "multi_species_year_count_unstack = multi_species_year_count.unstack()\n",
    "multi_species_year_count_unstack.head()"
   ]
  },
  {
   "cell_type": "markdown",
   "metadata": {},
   "source": [
    "Adding the boolean column and filliing zero values."
   ]
  },
  {
   "cell_type": "code",
   "execution_count": 113,
   "metadata": {
    "collapsed": false,
    "run_control": {
     "read_only": false
    }
   },
   "outputs": [
    {
     "data": {
      "text/html": [
       "<div>\n",
       "<table border=\"1\" class=\"dataframe\">\n",
       "  <thead>\n",
       "    <tr style=\"text-align: right;\">\n",
       "      <th></th>\n",
       "      <th></th>\n",
       "      <th>taxonName</th>\n",
       "      <th>Chiroptera</th>\n",
       "      <th>Eptesicus serotinus</th>\n",
       "      <th>Myotis brandtii</th>\n",
       "      <th>Myotis daubentonii</th>\n",
       "      <th>Myotis mystacinus/brandtii</th>\n",
       "      <th>Myotis nattereri</th>\n",
       "      <th>Nyctalus leisleri</th>\n",
       "      <th>Nyctalus noctula</th>\n",
       "      <th>Pipistrellus pipistrellus sensu lato</th>\n",
       "      <th>Pipistrellus pipistrellus sensu stricto</th>\n",
       "      <th>Pipistrellus pygmaeus</th>\n",
       "      <th>Plecotus auritus</th>\n",
       "      <th>Plecotus austriacus</th>\n",
       "      <th>Rhinolophus ferrumequinum</th>\n",
       "      <th>Rhinolophus hipposideros</th>\n",
       "      <th>multi_species</th>\n",
       "    </tr>\n",
       "    <tr>\n",
       "      <th>gridReference</th>\n",
       "      <th>endDate</th>\n",
       "      <th>year</th>\n",
       "      <th></th>\n",
       "      <th></th>\n",
       "      <th></th>\n",
       "      <th></th>\n",
       "      <th></th>\n",
       "      <th></th>\n",
       "      <th></th>\n",
       "      <th></th>\n",
       "      <th></th>\n",
       "      <th></th>\n",
       "      <th></th>\n",
       "      <th></th>\n",
       "      <th></th>\n",
       "      <th></th>\n",
       "      <th></th>\n",
       "      <th></th>\n",
       "    </tr>\n",
       "  </thead>\n",
       "  <tbody>\n",
       "    <tr>\n",
       "      <th rowspan=\"5\" valign=\"top\">H1861</th>\n",
       "      <th>1998-06-06</th>\n",
       "      <th>1998.0</th>\n",
       "      <td>0.0</td>\n",
       "      <td>0.0</td>\n",
       "      <td>0.0</td>\n",
       "      <td>0.0</td>\n",
       "      <td>0.0</td>\n",
       "      <td>0.0</td>\n",
       "      <td>0.0</td>\n",
       "      <td>0.0</td>\n",
       "      <td>0.0</td>\n",
       "      <td>0.0</td>\n",
       "      <td>1.0</td>\n",
       "      <td>0.0</td>\n",
       "      <td>0.0</td>\n",
       "      <td>0.0</td>\n",
       "      <td>0.0</td>\n",
       "      <td>False</td>\n",
       "    </tr>\n",
       "    <tr>\n",
       "      <th>1998-06-15</th>\n",
       "      <th>1998.0</th>\n",
       "      <td>0.0</td>\n",
       "      <td>0.0</td>\n",
       "      <td>0.0</td>\n",
       "      <td>0.0</td>\n",
       "      <td>0.0</td>\n",
       "      <td>0.0</td>\n",
       "      <td>0.0</td>\n",
       "      <td>0.0</td>\n",
       "      <td>0.0</td>\n",
       "      <td>0.0</td>\n",
       "      <td>1.0</td>\n",
       "      <td>0.0</td>\n",
       "      <td>0.0</td>\n",
       "      <td>0.0</td>\n",
       "      <td>0.0</td>\n",
       "      <td>False</td>\n",
       "    </tr>\n",
       "    <tr>\n",
       "      <th>1998-06-25</th>\n",
       "      <th>1998.0</th>\n",
       "      <td>0.0</td>\n",
       "      <td>0.0</td>\n",
       "      <td>0.0</td>\n",
       "      <td>0.0</td>\n",
       "      <td>0.0</td>\n",
       "      <td>0.0</td>\n",
       "      <td>0.0</td>\n",
       "      <td>0.0</td>\n",
       "      <td>0.0</td>\n",
       "      <td>0.0</td>\n",
       "      <td>1.0</td>\n",
       "      <td>0.0</td>\n",
       "      <td>0.0</td>\n",
       "      <td>0.0</td>\n",
       "      <td>0.0</td>\n",
       "      <td>False</td>\n",
       "    </tr>\n",
       "    <tr>\n",
       "      <th>1999-06-20</th>\n",
       "      <th>1999.0</th>\n",
       "      <td>0.0</td>\n",
       "      <td>0.0</td>\n",
       "      <td>0.0</td>\n",
       "      <td>0.0</td>\n",
       "      <td>0.0</td>\n",
       "      <td>0.0</td>\n",
       "      <td>0.0</td>\n",
       "      <td>0.0</td>\n",
       "      <td>0.0</td>\n",
       "      <td>0.0</td>\n",
       "      <td>1.0</td>\n",
       "      <td>0.0</td>\n",
       "      <td>0.0</td>\n",
       "      <td>0.0</td>\n",
       "      <td>0.0</td>\n",
       "      <td>False</td>\n",
       "    </tr>\n",
       "    <tr>\n",
       "      <th>1999-06-25</th>\n",
       "      <th>1999.0</th>\n",
       "      <td>0.0</td>\n",
       "      <td>0.0</td>\n",
       "      <td>0.0</td>\n",
       "      <td>0.0</td>\n",
       "      <td>0.0</td>\n",
       "      <td>0.0</td>\n",
       "      <td>0.0</td>\n",
       "      <td>0.0</td>\n",
       "      <td>0.0</td>\n",
       "      <td>0.0</td>\n",
       "      <td>1.0</td>\n",
       "      <td>0.0</td>\n",
       "      <td>0.0</td>\n",
       "      <td>0.0</td>\n",
       "      <td>0.0</td>\n",
       "      <td>False</td>\n",
       "    </tr>\n",
       "  </tbody>\n",
       "</table>\n",
       "</div>"
      ],
      "text/plain": [
       "taxonName                        Chiroptera  Eptesicus serotinus  \\\n",
       "gridReference endDate    year                                      \n",
       "H1861         1998-06-06 1998.0         0.0                  0.0   \n",
       "              1998-06-15 1998.0         0.0                  0.0   \n",
       "              1998-06-25 1998.0         0.0                  0.0   \n",
       "              1999-06-20 1999.0         0.0                  0.0   \n",
       "              1999-06-25 1999.0         0.0                  0.0   \n",
       "\n",
       "taxonName                        Myotis brandtii  Myotis daubentonii  \\\n",
       "gridReference endDate    year                                          \n",
       "H1861         1998-06-06 1998.0              0.0                 0.0   \n",
       "              1998-06-15 1998.0              0.0                 0.0   \n",
       "              1998-06-25 1998.0              0.0                 0.0   \n",
       "              1999-06-20 1999.0              0.0                 0.0   \n",
       "              1999-06-25 1999.0              0.0                 0.0   \n",
       "\n",
       "taxonName                        Myotis mystacinus/brandtii  Myotis nattereri  \\\n",
       "gridReference endDate    year                                                   \n",
       "H1861         1998-06-06 1998.0                         0.0               0.0   \n",
       "              1998-06-15 1998.0                         0.0               0.0   \n",
       "              1998-06-25 1998.0                         0.0               0.0   \n",
       "              1999-06-20 1999.0                         0.0               0.0   \n",
       "              1999-06-25 1999.0                         0.0               0.0   \n",
       "\n",
       "taxonName                        Nyctalus leisleri  Nyctalus noctula  \\\n",
       "gridReference endDate    year                                          \n",
       "H1861         1998-06-06 1998.0                0.0               0.0   \n",
       "              1998-06-15 1998.0                0.0               0.0   \n",
       "              1998-06-25 1998.0                0.0               0.0   \n",
       "              1999-06-20 1999.0                0.0               0.0   \n",
       "              1999-06-25 1999.0                0.0               0.0   \n",
       "\n",
       "taxonName                        Pipistrellus pipistrellus sensu lato  \\\n",
       "gridReference endDate    year                                           \n",
       "H1861         1998-06-06 1998.0                                   0.0   \n",
       "              1998-06-15 1998.0                                   0.0   \n",
       "              1998-06-25 1998.0                                   0.0   \n",
       "              1999-06-20 1999.0                                   0.0   \n",
       "              1999-06-25 1999.0                                   0.0   \n",
       "\n",
       "taxonName                        Pipistrellus pipistrellus sensu stricto  \\\n",
       "gridReference endDate    year                                              \n",
       "H1861         1998-06-06 1998.0                                      0.0   \n",
       "              1998-06-15 1998.0                                      0.0   \n",
       "              1998-06-25 1998.0                                      0.0   \n",
       "              1999-06-20 1999.0                                      0.0   \n",
       "              1999-06-25 1999.0                                      0.0   \n",
       "\n",
       "taxonName                        Pipistrellus pygmaeus  Plecotus auritus  \\\n",
       "gridReference endDate    year                                              \n",
       "H1861         1998-06-06 1998.0                    1.0               0.0   \n",
       "              1998-06-15 1998.0                    1.0               0.0   \n",
       "              1998-06-25 1998.0                    1.0               0.0   \n",
       "              1999-06-20 1999.0                    1.0               0.0   \n",
       "              1999-06-25 1999.0                    1.0               0.0   \n",
       "\n",
       "taxonName                        Plecotus austriacus  \\\n",
       "gridReference endDate    year                          \n",
       "H1861         1998-06-06 1998.0                  0.0   \n",
       "              1998-06-15 1998.0                  0.0   \n",
       "              1998-06-25 1998.0                  0.0   \n",
       "              1999-06-20 1999.0                  0.0   \n",
       "              1999-06-25 1999.0                  0.0   \n",
       "\n",
       "taxonName                        Rhinolophus ferrumequinum  \\\n",
       "gridReference endDate    year                                \n",
       "H1861         1998-06-06 1998.0                        0.0   \n",
       "              1998-06-15 1998.0                        0.0   \n",
       "              1998-06-25 1998.0                        0.0   \n",
       "              1999-06-20 1999.0                        0.0   \n",
       "              1999-06-25 1999.0                        0.0   \n",
       "\n",
       "taxonName                        Rhinolophus hipposideros multi_species  \n",
       "gridReference endDate    year                                            \n",
       "H1861         1998-06-06 1998.0                       0.0         False  \n",
       "              1998-06-15 1998.0                       0.0         False  \n",
       "              1998-06-25 1998.0                       0.0         False  \n",
       "              1999-06-20 1999.0                       0.0         False  \n",
       "              1999-06-25 1999.0                       0.0         False  "
      ]
     },
     "execution_count": 113,
     "metadata": {},
     "output_type": "execute_result"
    }
   ],
   "source": [
    "multi_species_year_count_unstack['multi_species'] = multi_species_values\n",
    "multi_species_year_count_unstack.fillna(0, inplace=True)\n",
    "multi_species_year_count_unstack.head()"
   ]
  },
  {
   "cell_type": "markdown",
   "metadata": {},
   "source": [
    "To get only the sites with multiple species present at the same time."
   ]
  },
  {
   "cell_type": "code",
   "execution_count": 114,
   "metadata": {
    "collapsed": false,
    "run_control": {
     "read_only": false
    }
   },
   "outputs": [
    {
     "data": {
      "text/html": [
       "<div>\n",
       "<table border=\"1\" class=\"dataframe\">\n",
       "  <thead>\n",
       "    <tr style=\"text-align: right;\">\n",
       "      <th></th>\n",
       "      <th></th>\n",
       "      <th>taxonName</th>\n",
       "      <th>Chiroptera</th>\n",
       "      <th>Eptesicus serotinus</th>\n",
       "      <th>Myotis brandtii</th>\n",
       "      <th>Myotis daubentonii</th>\n",
       "      <th>Myotis mystacinus/brandtii</th>\n",
       "      <th>Myotis nattereri</th>\n",
       "      <th>Nyctalus leisleri</th>\n",
       "      <th>Nyctalus noctula</th>\n",
       "      <th>Pipistrellus pipistrellus sensu lato</th>\n",
       "      <th>Pipistrellus pipistrellus sensu stricto</th>\n",
       "      <th>Pipistrellus pygmaeus</th>\n",
       "      <th>Plecotus auritus</th>\n",
       "      <th>Plecotus austriacus</th>\n",
       "      <th>Rhinolophus ferrumequinum</th>\n",
       "      <th>Rhinolophus hipposideros</th>\n",
       "      <th>multi_species</th>\n",
       "    </tr>\n",
       "    <tr>\n",
       "      <th>gridReference</th>\n",
       "      <th>endDate</th>\n",
       "      <th>year</th>\n",
       "      <th></th>\n",
       "      <th></th>\n",
       "      <th></th>\n",
       "      <th></th>\n",
       "      <th></th>\n",
       "      <th></th>\n",
       "      <th></th>\n",
       "      <th></th>\n",
       "      <th></th>\n",
       "      <th></th>\n",
       "      <th></th>\n",
       "      <th></th>\n",
       "      <th></th>\n",
       "      <th></th>\n",
       "      <th></th>\n",
       "      <th></th>\n",
       "    </tr>\n",
       "  </thead>\n",
       "  <tbody>\n",
       "    <tr>\n",
       "      <th rowspan=\"10\" valign=\"top\">TR1652</th>\n",
       "      <th>2012-06-20</th>\n",
       "      <th>2012.0</th>\n",
       "      <td>0.0</td>\n",
       "      <td>0.0</td>\n",
       "      <td>0.0</td>\n",
       "      <td>0.0</td>\n",
       "      <td>0.0</td>\n",
       "      <td>0.0</td>\n",
       "      <td>0.0</td>\n",
       "      <td>0.0</td>\n",
       "      <td>0.0</td>\n",
       "      <td>1.0</td>\n",
       "      <td>0.0</td>\n",
       "      <td>1.0</td>\n",
       "      <td>0.0</td>\n",
       "      <td>0.0</td>\n",
       "      <td>0.0</td>\n",
       "      <td>True</td>\n",
       "    </tr>\n",
       "    <tr>\n",
       "      <th>2012-07-26</th>\n",
       "      <th>2012.0</th>\n",
       "      <td>0.0</td>\n",
       "      <td>0.0</td>\n",
       "      <td>0.0</td>\n",
       "      <td>0.0</td>\n",
       "      <td>0.0</td>\n",
       "      <td>0.0</td>\n",
       "      <td>0.0</td>\n",
       "      <td>0.0</td>\n",
       "      <td>0.0</td>\n",
       "      <td>1.0</td>\n",
       "      <td>0.0</td>\n",
       "      <td>1.0</td>\n",
       "      <td>0.0</td>\n",
       "      <td>0.0</td>\n",
       "      <td>0.0</td>\n",
       "      <td>True</td>\n",
       "    </tr>\n",
       "    <tr>\n",
       "      <th>2013-06-19</th>\n",
       "      <th>2013.0</th>\n",
       "      <td>0.0</td>\n",
       "      <td>0.0</td>\n",
       "      <td>0.0</td>\n",
       "      <td>0.0</td>\n",
       "      <td>0.0</td>\n",
       "      <td>0.0</td>\n",
       "      <td>0.0</td>\n",
       "      <td>0.0</td>\n",
       "      <td>0.0</td>\n",
       "      <td>1.0</td>\n",
       "      <td>0.0</td>\n",
       "      <td>1.0</td>\n",
       "      <td>0.0</td>\n",
       "      <td>0.0</td>\n",
       "      <td>0.0</td>\n",
       "      <td>True</td>\n",
       "    </tr>\n",
       "    <tr>\n",
       "      <th>2013-07-07</th>\n",
       "      <th>2013.0</th>\n",
       "      <td>0.0</td>\n",
       "      <td>0.0</td>\n",
       "      <td>0.0</td>\n",
       "      <td>0.0</td>\n",
       "      <td>0.0</td>\n",
       "      <td>0.0</td>\n",
       "      <td>0.0</td>\n",
       "      <td>0.0</td>\n",
       "      <td>0.0</td>\n",
       "      <td>1.0</td>\n",
       "      <td>0.0</td>\n",
       "      <td>1.0</td>\n",
       "      <td>0.0</td>\n",
       "      <td>0.0</td>\n",
       "      <td>0.0</td>\n",
       "      <td>True</td>\n",
       "    </tr>\n",
       "    <tr>\n",
       "      <th>2013-07-26</th>\n",
       "      <th>2013.0</th>\n",
       "      <td>0.0</td>\n",
       "      <td>0.0</td>\n",
       "      <td>0.0</td>\n",
       "      <td>0.0</td>\n",
       "      <td>0.0</td>\n",
       "      <td>0.0</td>\n",
       "      <td>0.0</td>\n",
       "      <td>0.0</td>\n",
       "      <td>0.0</td>\n",
       "      <td>1.0</td>\n",
       "      <td>0.0</td>\n",
       "      <td>1.0</td>\n",
       "      <td>0.0</td>\n",
       "      <td>0.0</td>\n",
       "      <td>0.0</td>\n",
       "      <td>True</td>\n",
       "    </tr>\n",
       "    <tr>\n",
       "      <th>2013-10-06</th>\n",
       "      <th>2013.0</th>\n",
       "      <td>0.0</td>\n",
       "      <td>0.0</td>\n",
       "      <td>0.0</td>\n",
       "      <td>0.0</td>\n",
       "      <td>0.0</td>\n",
       "      <td>0.0</td>\n",
       "      <td>0.0</td>\n",
       "      <td>0.0</td>\n",
       "      <td>0.0</td>\n",
       "      <td>1.0</td>\n",
       "      <td>0.0</td>\n",
       "      <td>1.0</td>\n",
       "      <td>0.0</td>\n",
       "      <td>0.0</td>\n",
       "      <td>0.0</td>\n",
       "      <td>True</td>\n",
       "    </tr>\n",
       "    <tr>\n",
       "      <th>2014-06-21</th>\n",
       "      <th>2014.0</th>\n",
       "      <td>0.0</td>\n",
       "      <td>0.0</td>\n",
       "      <td>0.0</td>\n",
       "      <td>0.0</td>\n",
       "      <td>0.0</td>\n",
       "      <td>0.0</td>\n",
       "      <td>0.0</td>\n",
       "      <td>0.0</td>\n",
       "      <td>0.0</td>\n",
       "      <td>1.0</td>\n",
       "      <td>0.0</td>\n",
       "      <td>1.0</td>\n",
       "      <td>0.0</td>\n",
       "      <td>0.0</td>\n",
       "      <td>0.0</td>\n",
       "      <td>True</td>\n",
       "    </tr>\n",
       "    <tr>\n",
       "      <th>2014-07-06</th>\n",
       "      <th>2014.0</th>\n",
       "      <td>0.0</td>\n",
       "      <td>0.0</td>\n",
       "      <td>0.0</td>\n",
       "      <td>0.0</td>\n",
       "      <td>0.0</td>\n",
       "      <td>0.0</td>\n",
       "      <td>0.0</td>\n",
       "      <td>0.0</td>\n",
       "      <td>0.0</td>\n",
       "      <td>1.0</td>\n",
       "      <td>0.0</td>\n",
       "      <td>1.0</td>\n",
       "      <td>0.0</td>\n",
       "      <td>0.0</td>\n",
       "      <td>0.0</td>\n",
       "      <td>True</td>\n",
       "    </tr>\n",
       "    <tr>\n",
       "      <th>2014-07-13</th>\n",
       "      <th>2014.0</th>\n",
       "      <td>0.0</td>\n",
       "      <td>0.0</td>\n",
       "      <td>0.0</td>\n",
       "      <td>0.0</td>\n",
       "      <td>0.0</td>\n",
       "      <td>0.0</td>\n",
       "      <td>0.0</td>\n",
       "      <td>0.0</td>\n",
       "      <td>0.0</td>\n",
       "      <td>1.0</td>\n",
       "      <td>0.0</td>\n",
       "      <td>1.0</td>\n",
       "      <td>0.0</td>\n",
       "      <td>0.0</td>\n",
       "      <td>0.0</td>\n",
       "      <td>True</td>\n",
       "    </tr>\n",
       "    <tr>\n",
       "      <th>2014-07-26</th>\n",
       "      <th>2014.0</th>\n",
       "      <td>0.0</td>\n",
       "      <td>0.0</td>\n",
       "      <td>0.0</td>\n",
       "      <td>0.0</td>\n",
       "      <td>0.0</td>\n",
       "      <td>0.0</td>\n",
       "      <td>0.0</td>\n",
       "      <td>0.0</td>\n",
       "      <td>0.0</td>\n",
       "      <td>1.0</td>\n",
       "      <td>0.0</td>\n",
       "      <td>1.0</td>\n",
       "      <td>0.0</td>\n",
       "      <td>0.0</td>\n",
       "      <td>0.0</td>\n",
       "      <td>True</td>\n",
       "    </tr>\n",
       "  </tbody>\n",
       "</table>\n",
       "</div>"
      ],
      "text/plain": [
       "taxonName                        Chiroptera  Eptesicus serotinus  \\\n",
       "gridReference endDate    year                                      \n",
       "TR1652        2012-06-20 2012.0         0.0                  0.0   \n",
       "              2012-07-26 2012.0         0.0                  0.0   \n",
       "              2013-06-19 2013.0         0.0                  0.0   \n",
       "              2013-07-07 2013.0         0.0                  0.0   \n",
       "              2013-07-26 2013.0         0.0                  0.0   \n",
       "              2013-10-06 2013.0         0.0                  0.0   \n",
       "              2014-06-21 2014.0         0.0                  0.0   \n",
       "              2014-07-06 2014.0         0.0                  0.0   \n",
       "              2014-07-13 2014.0         0.0                  0.0   \n",
       "              2014-07-26 2014.0         0.0                  0.0   \n",
       "\n",
       "taxonName                        Myotis brandtii  Myotis daubentonii  \\\n",
       "gridReference endDate    year                                          \n",
       "TR1652        2012-06-20 2012.0              0.0                 0.0   \n",
       "              2012-07-26 2012.0              0.0                 0.0   \n",
       "              2013-06-19 2013.0              0.0                 0.0   \n",
       "              2013-07-07 2013.0              0.0                 0.0   \n",
       "              2013-07-26 2013.0              0.0                 0.0   \n",
       "              2013-10-06 2013.0              0.0                 0.0   \n",
       "              2014-06-21 2014.0              0.0                 0.0   \n",
       "              2014-07-06 2014.0              0.0                 0.0   \n",
       "              2014-07-13 2014.0              0.0                 0.0   \n",
       "              2014-07-26 2014.0              0.0                 0.0   \n",
       "\n",
       "taxonName                        Myotis mystacinus/brandtii  Myotis nattereri  \\\n",
       "gridReference endDate    year                                                   \n",
       "TR1652        2012-06-20 2012.0                         0.0               0.0   \n",
       "              2012-07-26 2012.0                         0.0               0.0   \n",
       "              2013-06-19 2013.0                         0.0               0.0   \n",
       "              2013-07-07 2013.0                         0.0               0.0   \n",
       "              2013-07-26 2013.0                         0.0               0.0   \n",
       "              2013-10-06 2013.0                         0.0               0.0   \n",
       "              2014-06-21 2014.0                         0.0               0.0   \n",
       "              2014-07-06 2014.0                         0.0               0.0   \n",
       "              2014-07-13 2014.0                         0.0               0.0   \n",
       "              2014-07-26 2014.0                         0.0               0.0   \n",
       "\n",
       "taxonName                        Nyctalus leisleri  Nyctalus noctula  \\\n",
       "gridReference endDate    year                                          \n",
       "TR1652        2012-06-20 2012.0                0.0               0.0   \n",
       "              2012-07-26 2012.0                0.0               0.0   \n",
       "              2013-06-19 2013.0                0.0               0.0   \n",
       "              2013-07-07 2013.0                0.0               0.0   \n",
       "              2013-07-26 2013.0                0.0               0.0   \n",
       "              2013-10-06 2013.0                0.0               0.0   \n",
       "              2014-06-21 2014.0                0.0               0.0   \n",
       "              2014-07-06 2014.0                0.0               0.0   \n",
       "              2014-07-13 2014.0                0.0               0.0   \n",
       "              2014-07-26 2014.0                0.0               0.0   \n",
       "\n",
       "taxonName                        Pipistrellus pipistrellus sensu lato  \\\n",
       "gridReference endDate    year                                           \n",
       "TR1652        2012-06-20 2012.0                                   0.0   \n",
       "              2012-07-26 2012.0                                   0.0   \n",
       "              2013-06-19 2013.0                                   0.0   \n",
       "              2013-07-07 2013.0                                   0.0   \n",
       "              2013-07-26 2013.0                                   0.0   \n",
       "              2013-10-06 2013.0                                   0.0   \n",
       "              2014-06-21 2014.0                                   0.0   \n",
       "              2014-07-06 2014.0                                   0.0   \n",
       "              2014-07-13 2014.0                                   0.0   \n",
       "              2014-07-26 2014.0                                   0.0   \n",
       "\n",
       "taxonName                        Pipistrellus pipistrellus sensu stricto  \\\n",
       "gridReference endDate    year                                              \n",
       "TR1652        2012-06-20 2012.0                                      1.0   \n",
       "              2012-07-26 2012.0                                      1.0   \n",
       "              2013-06-19 2013.0                                      1.0   \n",
       "              2013-07-07 2013.0                                      1.0   \n",
       "              2013-07-26 2013.0                                      1.0   \n",
       "              2013-10-06 2013.0                                      1.0   \n",
       "              2014-06-21 2014.0                                      1.0   \n",
       "              2014-07-06 2014.0                                      1.0   \n",
       "              2014-07-13 2014.0                                      1.0   \n",
       "              2014-07-26 2014.0                                      1.0   \n",
       "\n",
       "taxonName                        Pipistrellus pygmaeus  Plecotus auritus  \\\n",
       "gridReference endDate    year                                              \n",
       "TR1652        2012-06-20 2012.0                    0.0               1.0   \n",
       "              2012-07-26 2012.0                    0.0               1.0   \n",
       "              2013-06-19 2013.0                    0.0               1.0   \n",
       "              2013-07-07 2013.0                    0.0               1.0   \n",
       "              2013-07-26 2013.0                    0.0               1.0   \n",
       "              2013-10-06 2013.0                    0.0               1.0   \n",
       "              2014-06-21 2014.0                    0.0               1.0   \n",
       "              2014-07-06 2014.0                    0.0               1.0   \n",
       "              2014-07-13 2014.0                    0.0               1.0   \n",
       "              2014-07-26 2014.0                    0.0               1.0   \n",
       "\n",
       "taxonName                        Plecotus austriacus  \\\n",
       "gridReference endDate    year                          \n",
       "TR1652        2012-06-20 2012.0                  0.0   \n",
       "              2012-07-26 2012.0                  0.0   \n",
       "              2013-06-19 2013.0                  0.0   \n",
       "              2013-07-07 2013.0                  0.0   \n",
       "              2013-07-26 2013.0                  0.0   \n",
       "              2013-10-06 2013.0                  0.0   \n",
       "              2014-06-21 2014.0                  0.0   \n",
       "              2014-07-06 2014.0                  0.0   \n",
       "              2014-07-13 2014.0                  0.0   \n",
       "              2014-07-26 2014.0                  0.0   \n",
       "\n",
       "taxonName                        Rhinolophus ferrumequinum  \\\n",
       "gridReference endDate    year                                \n",
       "TR1652        2012-06-20 2012.0                        0.0   \n",
       "              2012-07-26 2012.0                        0.0   \n",
       "              2013-06-19 2013.0                        0.0   \n",
       "              2013-07-07 2013.0                        0.0   \n",
       "              2013-07-26 2013.0                        0.0   \n",
       "              2013-10-06 2013.0                        0.0   \n",
       "              2014-06-21 2014.0                        0.0   \n",
       "              2014-07-06 2014.0                        0.0   \n",
       "              2014-07-13 2014.0                        0.0   \n",
       "              2014-07-26 2014.0                        0.0   \n",
       "\n",
       "taxonName                        Rhinolophus hipposideros multi_species  \n",
       "gridReference endDate    year                                            \n",
       "TR1652        2012-06-20 2012.0                       0.0          True  \n",
       "              2012-07-26 2012.0                       0.0          True  \n",
       "              2013-06-19 2013.0                       0.0          True  \n",
       "              2013-07-07 2013.0                       0.0          True  \n",
       "              2013-07-26 2013.0                       0.0          True  \n",
       "              2013-10-06 2013.0                       0.0          True  \n",
       "              2014-06-21 2014.0                       0.0          True  \n",
       "              2014-07-06 2014.0                       0.0          True  \n",
       "              2014-07-13 2014.0                       0.0          True  \n",
       "              2014-07-26 2014.0                       0.0          True  "
      ]
     },
     "execution_count": 114,
     "metadata": {},
     "output_type": "execute_result"
    }
   ],
   "source": [
    "only_multi_species = multi_species_year_count_unstack[multi_species_year_count_unstack['multi_species']==True]\n",
    "only_multi_species.tail(10)"
   ]
  },
  {
   "cell_type": "markdown",
   "metadata": {},
   "source": [
    "# The number of bats by species found cohabitating roost sites"
   ]
  },
  {
   "cell_type": "markdown",
   "metadata": {},
   "source": [
    "Out of the 17 bat species in the dataset only 13 of them are involved in cohabitation and of these species only a minority of the abundance in the entire dataset are found cohabitating."
   ]
  },
  {
   "cell_type": "code",
   "execution_count": 115,
   "metadata": {
    "collapsed": false,
    "run_control": {
     "read_only": false
    }
   },
   "outputs": [
    {
     "data": {
      "text/plain": [
       "taxonName\n",
       "Chiroptera                                   0.0\n",
       "Nyctalus leisleri                            0.0\n",
       "Plecotus austriacus                          3.0\n",
       "Rhinolophus ferrumequinum                    7.0\n",
       "Myotis mystacinus/brandtii                  12.0\n",
       "Nyctalus noctula                            18.0\n",
       "Myotis brandtii                             25.0\n",
       "Myotis daubentonii                          28.0\n",
       "Pipistrellus pipistrellus sensu lato        79.0\n",
       "Myotis nattereri                            87.0\n",
       "Rhinolophus hipposideros                    89.0\n",
       "Eptesicus serotinus                         91.0\n",
       "Pipistrellus pygmaeus                      171.0\n",
       "Plecotus auritus                           246.0\n",
       "Pipistrellus pipistrellus sensu stricto    277.0\n",
       "multi_species                              539.0\n",
       "dtype: float64"
      ]
     },
     "execution_count": 115,
     "metadata": {},
     "output_type": "execute_result"
    }
   ],
   "source": [
    "only_multi_species.sum().sort_values()"
   ]
  },
  {
   "cell_type": "markdown",
   "metadata": {},
   "source": [
    "# Bats species that do not roost with any other species"
   ]
  },
  {
   "cell_type": "markdown",
   "metadata": {},
   "source": [
    "These species of bats are not found cohabitating with any other bat species."
   ]
  },
  {
   "cell_type": "code",
   "execution_count": 116,
   "metadata": {
    "collapsed": false,
    "run_control": {
     "read_only": false
    }
   },
   "outputs": [
    {
     "data": {
      "text/plain": [
       "{'Myotis bechsteinii', 'Myotis mystacinus'}"
      ]
     },
     "execution_count": 116,
     "metadata": {},
     "output_type": "execute_result"
    }
   ],
   "source": [
    "set(roost_short_df.taxonName.unique()) - set(only_multi_species.columns.unique())"
   ]
  },
  {
   "cell_type": "markdown",
   "metadata": {},
   "source": [
    "Additionally there is a zero abundance of Chiroptera and Nyctalus leisleri in the data for multiple speecies at the roost sites.\n",
    "\n",
    "So from this it seems that the fllowing bats do not roost with other species of bats:\n",
    "\n",
    "Myotis bechsteinii\n",
    "\n",
    "Myotis mystacinus\n",
    "\n",
    "Chiroptera\n",
    "\n",
    "Nyctalus leisleri"
   ]
  },
  {
   "cell_type": "markdown",
   "metadata": {},
   "source": [
    "# How does the abundance of sites with multiple species compare to the clusters?"
   ]
  },
  {
   "cell_type": "code",
   "execution_count": 117,
   "metadata": {
    "collapsed": false,
    "run_control": {
     "read_only": false
    }
   },
   "outputs": [],
   "source": [
    "multispecies_count_df = pd.DataFrame({'multispecies_count': only_multi_species.sum()})"
   ]
  },
  {
   "cell_type": "code",
   "execution_count": 118,
   "metadata": {
    "collapsed": false,
    "run_control": {
     "read_only": false
    }
   },
   "outputs": [
    {
     "data": {
      "text/plain": [
       "multispecies_count    1672.0\n",
       "dtype: float64"
      ]
     },
     "execution_count": 118,
     "metadata": {},
     "output_type": "execute_result"
    }
   ],
   "source": [
    "multispecies_count_df.sum()"
   ]
  },
  {
   "cell_type": "code",
   "execution_count": 119,
   "metadata": {
    "collapsed": false,
    "run_control": {
     "read_only": false
    }
   },
   "outputs": [],
   "source": [
    "result = pd.concat([multispecies_count_df, needed_for_later], axis=1, join='outer')"
   ]
  },
  {
   "cell_type": "markdown",
   "metadata": {},
   "source": [
    "Renaming columns to aid readability."
   ]
  },
  {
   "cell_type": "code",
   "execution_count": 120,
   "metadata": {
    "collapsed": false,
    "run_control": {
     "read_only": false
    }
   },
   "outputs": [],
   "source": [
    "result = result.rename(columns = {'multispecies_count': 'multi_species_abundance',\n",
    "                               'sum': 'total_abundance'})\n",
    "#result"
   ]
  },
  {
   "cell_type": "code",
   "execution_count": 121,
   "metadata": {
    "collapsed": false,
    "run_control": {
     "read_only": false
    }
   },
   "outputs": [],
   "source": [
    "#result.cluster"
   ]
  },
  {
   "cell_type": "code",
   "execution_count": 122,
   "metadata": {
    "collapsed": false,
    "run_control": {
     "read_only": false
    }
   },
   "outputs": [
    {
     "data": {
      "text/html": [
       "<div>\n",
       "<table border=\"1\" class=\"dataframe\">\n",
       "  <thead>\n",
       "    <tr style=\"text-align: right;\">\n",
       "      <th></th>\n",
       "      <th>multi_species_abundance</th>\n",
       "      <th>cluster</th>\n",
       "      <th>standard_deviation</th>\n",
       "      <th>total_abundance</th>\n",
       "      <th>silhouette</th>\n",
       "    </tr>\n",
       "  </thead>\n",
       "  <tbody>\n",
       "    <tr>\n",
       "      <th>Chiroptera</th>\n",
       "      <td>0.0</td>\n",
       "      <td>0.0</td>\n",
       "      <td>0.048548</td>\n",
       "      <td>54.0</td>\n",
       "      <td>0.933827</td>\n",
       "    </tr>\n",
       "    <tr>\n",
       "      <th>Nyctalus leisleri</th>\n",
       "      <td>0.0</td>\n",
       "      <td>0.0</td>\n",
       "      <td>0.021932</td>\n",
       "      <td>11.0</td>\n",
       "      <td>0.923419</td>\n",
       "    </tr>\n",
       "    <tr>\n",
       "      <th>Plecotus austriacus</th>\n",
       "      <td>3.0</td>\n",
       "      <td>0.0</td>\n",
       "      <td>0.014789</td>\n",
       "      <td>5.0</td>\n",
       "      <td>0.919823</td>\n",
       "    </tr>\n",
       "    <tr>\n",
       "      <th>Rhinolophus ferrumequinum</th>\n",
       "      <td>7.0</td>\n",
       "      <td>0.0</td>\n",
       "      <td>0.148263</td>\n",
       "      <td>514.0</td>\n",
       "      <td>0.460155</td>\n",
       "    </tr>\n",
       "    <tr>\n",
       "      <th>Myotis mystacinus/brandtii</th>\n",
       "      <td>12.0</td>\n",
       "      <td>0.0</td>\n",
       "      <td>0.037969</td>\n",
       "      <td>33.0</td>\n",
       "      <td>0.931358</td>\n",
       "    </tr>\n",
       "    <tr>\n",
       "      <th>Nyctalus noctula</th>\n",
       "      <td>18.0</td>\n",
       "      <td>0.0</td>\n",
       "      <td>0.056037</td>\n",
       "      <td>72.0</td>\n",
       "      <td>0.930832</td>\n",
       "    </tr>\n",
       "    <tr>\n",
       "      <th>Myotis brandtii</th>\n",
       "      <td>25.0</td>\n",
       "      <td>0.0</td>\n",
       "      <td>0.051168</td>\n",
       "      <td>60.0</td>\n",
       "      <td>0.933521</td>\n",
       "    </tr>\n",
       "    <tr>\n",
       "      <th>Myotis daubentonii</th>\n",
       "      <td>28.0</td>\n",
       "      <td>0.0</td>\n",
       "      <td>0.093279</td>\n",
       "      <td>160.0</td>\n",
       "      <td>0.881514</td>\n",
       "    </tr>\n",
       "    <tr>\n",
       "      <th>Pipistrellus pipistrellus sensu lato</th>\n",
       "      <td>79.0</td>\n",
       "      <td>1.0</td>\n",
       "      <td>0.360882</td>\n",
       "      <td>3478.0</td>\n",
       "      <td>0.607823</td>\n",
       "    </tr>\n",
       "    <tr>\n",
       "      <th>Myotis nattereri</th>\n",
       "      <td>87.0</td>\n",
       "      <td>3.0</td>\n",
       "      <td>0.209237</td>\n",
       "      <td>1040.0</td>\n",
       "      <td>0.487303</td>\n",
       "    </tr>\n",
       "    <tr>\n",
       "      <th>Rhinolophus hipposideros</th>\n",
       "      <td>89.0</td>\n",
       "      <td>1.0</td>\n",
       "      <td>0.396630</td>\n",
       "      <td>4196.0</td>\n",
       "      <td>0.793111</td>\n",
       "    </tr>\n",
       "    <tr>\n",
       "      <th>Eptesicus serotinus</th>\n",
       "      <td>91.0</td>\n",
       "      <td>3.0</td>\n",
       "      <td>0.215490</td>\n",
       "      <td>1107.0</td>\n",
       "      <td>0.554870</td>\n",
       "    </tr>\n",
       "    <tr>\n",
       "      <th>Pipistrellus pygmaeus</th>\n",
       "      <td>171.0</td>\n",
       "      <td>1.0</td>\n",
       "      <td>0.409662</td>\n",
       "      <td>4421.0</td>\n",
       "      <td>0.715677</td>\n",
       "    </tr>\n",
       "    <tr>\n",
       "      <th>Plecotus auritus</th>\n",
       "      <td>246.0</td>\n",
       "      <td>3.0</td>\n",
       "      <td>0.279560</td>\n",
       "      <td>1934.0</td>\n",
       "      <td>0.530090</td>\n",
       "    </tr>\n",
       "    <tr>\n",
       "      <th>Pipistrellus pipistrellus sensu stricto</th>\n",
       "      <td>277.0</td>\n",
       "      <td>2.0</td>\n",
       "      <td>0.454175</td>\n",
       "      <td>6475.0</td>\n",
       "      <td>0.000000</td>\n",
       "    </tr>\n",
       "    <tr>\n",
       "      <th>multi_species</th>\n",
       "      <td>539.0</td>\n",
       "      <td>NaN</td>\n",
       "      <td>NaN</td>\n",
       "      <td>NaN</td>\n",
       "      <td>NaN</td>\n",
       "    </tr>\n",
       "    <tr>\n",
       "      <th>Myotis bechsteinii</th>\n",
       "      <td>NaN</td>\n",
       "      <td>0.0</td>\n",
       "      <td>0.031009</td>\n",
       "      <td>22.0</td>\n",
       "      <td>0.928269</td>\n",
       "    </tr>\n",
       "    <tr>\n",
       "      <th>Myotis mystacinus</th>\n",
       "      <td>NaN</td>\n",
       "      <td>0.0</td>\n",
       "      <td>0.065006</td>\n",
       "      <td>97.0</td>\n",
       "      <td>0.920668</td>\n",
       "    </tr>\n",
       "  </tbody>\n",
       "</table>\n",
       "</div>"
      ],
      "text/plain": [
       "                                         multi_species_abundance  cluster  \\\n",
       "Chiroptera                                                   0.0      0.0   \n",
       "Nyctalus leisleri                                            0.0      0.0   \n",
       "Plecotus austriacus                                          3.0      0.0   \n",
       "Rhinolophus ferrumequinum                                    7.0      0.0   \n",
       "Myotis mystacinus/brandtii                                  12.0      0.0   \n",
       "Nyctalus noctula                                            18.0      0.0   \n",
       "Myotis brandtii                                             25.0      0.0   \n",
       "Myotis daubentonii                                          28.0      0.0   \n",
       "Pipistrellus pipistrellus sensu lato                        79.0      1.0   \n",
       "Myotis nattereri                                            87.0      3.0   \n",
       "Rhinolophus hipposideros                                    89.0      1.0   \n",
       "Eptesicus serotinus                                         91.0      3.0   \n",
       "Pipistrellus pygmaeus                                      171.0      1.0   \n",
       "Plecotus auritus                                           246.0      3.0   \n",
       "Pipistrellus pipistrellus sensu stricto                    277.0      2.0   \n",
       "multi_species                                              539.0      NaN   \n",
       "Myotis bechsteinii                                           NaN      0.0   \n",
       "Myotis mystacinus                                            NaN      0.0   \n",
       "\n",
       "                                         standard_deviation  total_abundance  \\\n",
       "Chiroptera                                         0.048548             54.0   \n",
       "Nyctalus leisleri                                  0.021932             11.0   \n",
       "Plecotus austriacus                                0.014789              5.0   \n",
       "Rhinolophus ferrumequinum                          0.148263            514.0   \n",
       "Myotis mystacinus/brandtii                         0.037969             33.0   \n",
       "Nyctalus noctula                                   0.056037             72.0   \n",
       "Myotis brandtii                                    0.051168             60.0   \n",
       "Myotis daubentonii                                 0.093279            160.0   \n",
       "Pipistrellus pipistrellus sensu lato               0.360882           3478.0   \n",
       "Myotis nattereri                                   0.209237           1040.0   \n",
       "Rhinolophus hipposideros                           0.396630           4196.0   \n",
       "Eptesicus serotinus                                0.215490           1107.0   \n",
       "Pipistrellus pygmaeus                              0.409662           4421.0   \n",
       "Plecotus auritus                                   0.279560           1934.0   \n",
       "Pipistrellus pipistrellus sensu stricto            0.454175           6475.0   \n",
       "multi_species                                           NaN              NaN   \n",
       "Myotis bechsteinii                                 0.031009             22.0   \n",
       "Myotis mystacinus                                  0.065006             97.0   \n",
       "\n",
       "                                         silhouette  \n",
       "Chiroptera                                 0.933827  \n",
       "Nyctalus leisleri                          0.923419  \n",
       "Plecotus austriacus                        0.919823  \n",
       "Rhinolophus ferrumequinum                  0.460155  \n",
       "Myotis mystacinus/brandtii                 0.931358  \n",
       "Nyctalus noctula                           0.930832  \n",
       "Myotis brandtii                            0.933521  \n",
       "Myotis daubentonii                         0.881514  \n",
       "Pipistrellus pipistrellus sensu lato       0.607823  \n",
       "Myotis nattereri                           0.487303  \n",
       "Rhinolophus hipposideros                   0.793111  \n",
       "Eptesicus serotinus                        0.554870  \n",
       "Pipistrellus pygmaeus                      0.715677  \n",
       "Plecotus auritus                           0.530090  \n",
       "Pipistrellus pipistrellus sensu stricto    0.000000  \n",
       "multi_species                                   NaN  \n",
       "Myotis bechsteinii                         0.928269  \n",
       "Myotis mystacinus                          0.920668  "
      ]
     },
     "execution_count": 122,
     "metadata": {},
     "output_type": "execute_result"
    }
   ],
   "source": [
    "result.sort_values(by='multi_species_abundance')\n",
    "#result.sort_values(by='sum')"
   ]
  },
  {
   "cell_type": "markdown",
   "metadata": {},
   "source": [
    "Reduced version of the above table to highlight results:"
   ]
  },
  {
   "cell_type": "code",
   "execution_count": 123,
   "metadata": {
    "collapsed": false,
    "run_control": {
     "read_only": false
    }
   },
   "outputs": [
    {
     "data": {
      "text/html": [
       "<div>\n",
       "<table border=\"1\" class=\"dataframe\">\n",
       "  <thead>\n",
       "    <tr style=\"text-align: right;\">\n",
       "      <th></th>\n",
       "      <th>multi_species_abundance</th>\n",
       "      <th>total_abundance</th>\n",
       "      <th>cluster</th>\n",
       "    </tr>\n",
       "  </thead>\n",
       "  <tbody>\n",
       "    <tr>\n",
       "      <th>Chiroptera</th>\n",
       "      <td>0.0</td>\n",
       "      <td>54.0</td>\n",
       "      <td>0.0</td>\n",
       "    </tr>\n",
       "    <tr>\n",
       "      <th>Plecotus austriacus</th>\n",
       "      <td>3.0</td>\n",
       "      <td>5.0</td>\n",
       "      <td>0.0</td>\n",
       "    </tr>\n",
       "    <tr>\n",
       "      <th>Nyctalus noctula</th>\n",
       "      <td>18.0</td>\n",
       "      <td>72.0</td>\n",
       "      <td>0.0</td>\n",
       "    </tr>\n",
       "    <tr>\n",
       "      <th>Rhinolophus ferrumequinum</th>\n",
       "      <td>7.0</td>\n",
       "      <td>514.0</td>\n",
       "      <td>0.0</td>\n",
       "    </tr>\n",
       "    <tr>\n",
       "      <th>Myotis mystacinus/brandtii</th>\n",
       "      <td>12.0</td>\n",
       "      <td>33.0</td>\n",
       "      <td>0.0</td>\n",
       "    </tr>\n",
       "    <tr>\n",
       "      <th>Nyctalus leisleri</th>\n",
       "      <td>0.0</td>\n",
       "      <td>11.0</td>\n",
       "      <td>0.0</td>\n",
       "    </tr>\n",
       "    <tr>\n",
       "      <th>Myotis daubentonii</th>\n",
       "      <td>28.0</td>\n",
       "      <td>160.0</td>\n",
       "      <td>0.0</td>\n",
       "    </tr>\n",
       "    <tr>\n",
       "      <th>Myotis brandtii</th>\n",
       "      <td>25.0</td>\n",
       "      <td>60.0</td>\n",
       "      <td>0.0</td>\n",
       "    </tr>\n",
       "    <tr>\n",
       "      <th>Myotis bechsteinii</th>\n",
       "      <td>NaN</td>\n",
       "      <td>22.0</td>\n",
       "      <td>0.0</td>\n",
       "    </tr>\n",
       "    <tr>\n",
       "      <th>Myotis mystacinus</th>\n",
       "      <td>NaN</td>\n",
       "      <td>97.0</td>\n",
       "      <td>0.0</td>\n",
       "    </tr>\n",
       "    <tr>\n",
       "      <th>Pipistrellus pipistrellus sensu lato</th>\n",
       "      <td>79.0</td>\n",
       "      <td>3478.0</td>\n",
       "      <td>1.0</td>\n",
       "    </tr>\n",
       "    <tr>\n",
       "      <th>Pipistrellus pygmaeus</th>\n",
       "      <td>171.0</td>\n",
       "      <td>4421.0</td>\n",
       "      <td>1.0</td>\n",
       "    </tr>\n",
       "    <tr>\n",
       "      <th>Rhinolophus hipposideros</th>\n",
       "      <td>89.0</td>\n",
       "      <td>4196.0</td>\n",
       "      <td>1.0</td>\n",
       "    </tr>\n",
       "    <tr>\n",
       "      <th>Pipistrellus pipistrellus sensu stricto</th>\n",
       "      <td>277.0</td>\n",
       "      <td>6475.0</td>\n",
       "      <td>2.0</td>\n",
       "    </tr>\n",
       "    <tr>\n",
       "      <th>Myotis nattereri</th>\n",
       "      <td>87.0</td>\n",
       "      <td>1040.0</td>\n",
       "      <td>3.0</td>\n",
       "    </tr>\n",
       "    <tr>\n",
       "      <th>Plecotus auritus</th>\n",
       "      <td>246.0</td>\n",
       "      <td>1934.0</td>\n",
       "      <td>3.0</td>\n",
       "    </tr>\n",
       "    <tr>\n",
       "      <th>Eptesicus serotinus</th>\n",
       "      <td>91.0</td>\n",
       "      <td>1107.0</td>\n",
       "      <td>3.0</td>\n",
       "    </tr>\n",
       "    <tr>\n",
       "      <th>multi_species</th>\n",
       "      <td>539.0</td>\n",
       "      <td>NaN</td>\n",
       "      <td>NaN</td>\n",
       "    </tr>\n",
       "  </tbody>\n",
       "</table>\n",
       "</div>"
      ],
      "text/plain": [
       "                                         multi_species_abundance  \\\n",
       "Chiroptera                                                   0.0   \n",
       "Plecotus austriacus                                          3.0   \n",
       "Nyctalus noctula                                            18.0   \n",
       "Rhinolophus ferrumequinum                                    7.0   \n",
       "Myotis mystacinus/brandtii                                  12.0   \n",
       "Nyctalus leisleri                                            0.0   \n",
       "Myotis daubentonii                                          28.0   \n",
       "Myotis brandtii                                             25.0   \n",
       "Myotis bechsteinii                                           NaN   \n",
       "Myotis mystacinus                                            NaN   \n",
       "Pipistrellus pipistrellus sensu lato                        79.0   \n",
       "Pipistrellus pygmaeus                                      171.0   \n",
       "Rhinolophus hipposideros                                    89.0   \n",
       "Pipistrellus pipistrellus sensu stricto                    277.0   \n",
       "Myotis nattereri                                            87.0   \n",
       "Plecotus auritus                                           246.0   \n",
       "Eptesicus serotinus                                         91.0   \n",
       "multi_species                                              539.0   \n",
       "\n",
       "                                         total_abundance  cluster  \n",
       "Chiroptera                                          54.0      0.0  \n",
       "Plecotus austriacus                                  5.0      0.0  \n",
       "Nyctalus noctula                                    72.0      0.0  \n",
       "Rhinolophus ferrumequinum                          514.0      0.0  \n",
       "Myotis mystacinus/brandtii                          33.0      0.0  \n",
       "Nyctalus leisleri                                   11.0      0.0  \n",
       "Myotis daubentonii                                 160.0      0.0  \n",
       "Myotis brandtii                                     60.0      0.0  \n",
       "Myotis bechsteinii                                  22.0      0.0  \n",
       "Myotis mystacinus                                   97.0      0.0  \n",
       "Pipistrellus pipistrellus sensu lato              3478.0      1.0  \n",
       "Pipistrellus pygmaeus                             4421.0      1.0  \n",
       "Rhinolophus hipposideros                          4196.0      1.0  \n",
       "Pipistrellus pipistrellus sensu stricto           6475.0      2.0  \n",
       "Myotis nattereri                                  1040.0      3.0  \n",
       "Plecotus auritus                                  1934.0      3.0  \n",
       "Eptesicus serotinus                               1107.0      3.0  \n",
       "multi_species                                        NaN      NaN  "
      ]
     },
     "execution_count": 123,
     "metadata": {},
     "output_type": "execute_result"
    }
   ],
   "source": [
    "result2 = result[['multi_species_abundance', 'total_abundance', 'cluster']]\n",
    "result2.sort_values(by='cluster')"
   ]
  },
  {
   "cell_type": "markdown",
   "metadata": {},
   "source": [
    "# Interpretation of the table above, conclusion and confounding factors"
   ]
  },
  {
   "cell_type": "markdown",
   "metadata": {},
   "source": [
    "The clustering seems to have correctly grouped the data at the low end with species not found to roost with others at all or in low numbers being in the same group.\n",
    "\n",
    "The species most likely to be found roosting with others is: Pipistrellus pipistrellus sensu strict and this has been assigned to its own cluster so towards the high end of values the clustering also seems to be accurate.\n",
    "\n",
    "The multi species abundance counts that could be described as falling in the middle seem to be outliers. \n",
    "\n",
    "The cluster containing the species Pipistrellus pipistrellus sensu lato, Rhinolophus hipposideros and Pipistrellus pygmaeus are all for relatively abundant bat species in the dataset and yet they are found in low abundance in terms of cohabitation.\n",
    "\n",
    "Whereas the cluster containing Myotis nattereri, Eptesicus serotinus and Plecotus auritus has relatively high cohabitation counts compared to their total abundance.\n",
    "\n",
    "As mentioned earlier some bat species don’t seem to be found cohabitating at all specifically, Myotis bechsteinii, Myotis mystacinus, Chiroptera and Nyctalus leisleri. With the notable exception of Chiroptera which has a total abundance of 54 and Myotis mystacinus with a total abundance of 97 these bat species have very low total abundances in the data so it is not surprising that they would not be found cohabitating.\n",
    "\n",
    "These results are of limited value however as it is unsurprising that the most abundant bats would be more likely to be found cohabitating. \n",
    "\n",
    "Other limiting factors include the low number of data points used for clustering. Along with the k-means++ approach to selecting centroids for clustering as this tend to choose outlier values as the basis for clustering.\n",
    "\n",
    "Another drawback of the analysis is that local and temporal factors are not accounted for. Bat species may be limited to certain areas for various reasons. The data observations are far from uniform and it seems likely that when observations were made and the quantity of those observations would have a large impact on any findings. It may also be that there are variations in roost counts due to the time the observations were made. But these are largely questions that cannot be accounted for in this dataset.\n",
    "\n",
    "There is also the confounding factor of bat species population in general over time. Bats that are subject to extinction pressure or predatory cycles may be underrepresented in the data and these bats would in turn also be less likely to cohabitate."
   ]
  }
 ],
 "metadata": {
  "kernelspec": {
   "display_name": "Python 3",
   "language": "python",
   "name": "python3"
  },
  "language_info": {
   "codemirror_mode": {
    "name": "ipython",
    "version": 3
   },
   "file_extension": ".py",
   "mimetype": "text/x-python",
   "name": "python",
   "nbconvert_exporter": "python",
   "pygments_lexer": "ipython3",
   "version": "3.6.0"
  }
 },
 "nbformat": 4,
 "nbformat_minor": 0
}
