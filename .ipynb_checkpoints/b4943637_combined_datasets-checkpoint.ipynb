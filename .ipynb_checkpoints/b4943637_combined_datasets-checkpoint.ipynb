{
 "cells": [
  {
   "cell_type": "code",
   "execution_count": 1,
   "metadata": {
    "collapsed": true,
    "run_control": {
     "read_only": false
    }
   },
   "outputs": [],
   "source": [
    "import numpy as np\n",
    "import pandas as pd\n",
    "\n",
    "import matplotlib.pyplot as plt\n",
    "\n",
    "import numpy as np\n",
    "import pandas as pd\n",
    "import scipy.stats\n",
    "\n",
    "import seaborn as sns"
   ]
  },
  {
   "cell_type": "markdown",
   "metadata": {},
   "source": [
    "# Reading and examining the datasets"
   ]
  },
  {
   "cell_type": "markdown",
   "metadata": {},
   "source": [
    "Checking the hibernation data and loading it into a dataframe."
   ]
  },
  {
   "cell_type": "code",
   "execution_count": 2,
   "metadata": {
    "collapsed": false,
    "run_control": {
     "read_only": false
    }
   },
   "outputs": [
    {
     "name": "stdout",
     "output_type": "stream",
     "text": [
      "observationID,recordKey,organisationName,datasetKey,surveyKey,sampleKey,gridReference,precision,siteKey,siteName,featureKey,startDate,endDate,dateType,recorder,determiner,pTaxonVersionKey,taxonName,authority,commonName,taxonGroup,sensitive,zeroAbundance,fullVersion\n",
      "463166539,1767,The Bat Conservation Trust,GA000612,1,1,SM90,10km,,,150161,12/02/2006,12/02/2006,Day,,,NBNSYS0100004720,Pipistrellus pygmaeus,\"(Leach, 1825)\",Soprano Pipistrelle,terrestrial mammal,false,false,false\n",
      "463166623,4325,The Bat Conservation Trust,GA000612,1,1,TL65,10km,,,168651,21/12/2008,21/12/2008,Day,,,NHMSYS0020001355,Pipistrellus pipistrellus sensu stricto,\"(Schreber, 1774)\",Common Pipistrelle,terrestrial mammal,false,false,false\n",
      "463166624,4326,The Bat Conservation Trust,GA000612,1,1,TL65,10km,,,168651,18/01/2009,18/01/2009,Day,,,NHMSYS0020001355,Pipistrellus pipistrellus sensu stricto,\"(Schreber, 1774)\",Common Pipistrelle,terrestrial mammal,false,false,false\n",
      "463166625,4327,The Bat Conservation Trust,GA000612,1,1,TL65,10km,,,168651,15/02/2009,15/02/2009,Day,,,NHMSYS0020001355,Pipistrellus pipistrellus sensu stricto,\"(Schreber, 1774)\",Common Pipistrelle,terrestrial mammal,false,false,false\n"
     ]
    }
   ],
   "source": [
    "!head -n 5 'data/HibernationSurveyObservations.csv'"
   ]
  },
  {
   "cell_type": "code",
   "execution_count": 3,
   "metadata": {
    "collapsed": false,
    "run_control": {
     "read_only": false
    }
   },
   "outputs": [
    {
     "name": "stdout",
     "output_type": "stream",
     "text": [
      "463184995,20315,The Bat Conservation Trust,GA000612,1,1,TQ35,10km,,,160693,20/01/2013,20/01/2013,Day,,,NHMSYS0000528030,Myotis mystacinus/brandtii,null,Whiskered/Brandt's Bat,terrestrial mammal,false,false,false\n",
      "463185027,16096,The Bat Conservation Trust,GA000612,1,1,TQ21,10km,,,162216,08/01/2005,08/01/2005,Day,,,NHMSYS0000528030,Myotis mystacinus/brandtii,null,Whiskered/Brandt's Bat,terrestrial mammal,false,false,false\n",
      "463185029,16098,The Bat Conservation Trust,GA000612,1,1,TQ21,10km,,,162216,20/02/2005,20/02/2005,Day,,,NHMSYS0000528030,Myotis mystacinus/brandtii,null,Whiskered/Brandt's Bat,terrestrial mammal,false,false,false\n",
      "463185031,16103,The Bat Conservation Trust,GA000612,1,1,TQ31,10km,,,165960,20/02/2005,20/02/2005,Day,,,NHMSYS0000528030,Myotis mystacinus/brandtii,null,Whiskered/Brandt's Bat,terrestrial mammal,false,false,false\n",
      "463185032,17955,The Bat Conservation Trust,GA000612,1,1,TQ31,10km,,,165960,03/02/2008,03/02/2008,Day,,,NHMSYS0000528030,Myotis mystacinus/brandtii,null,Whiskered/Brandt's Bat,terrestrial mammal,false,false,false\n"
     ]
    }
   ],
   "source": [
    "!tail -n 5 'data/HibernationSurveyObservations.csv'"
   ]
  },
  {
   "cell_type": "code",
   "execution_count": 4,
   "metadata": {
    "collapsed": true,
    "run_control": {
     "read_only": false
    }
   },
   "outputs": [],
   "source": [
    "hibernation_df = pd.read_csv('data/HibernationSurveyObservations.csv', engine='python')"
   ]
  },
  {
   "cell_type": "code",
   "execution_count": 5,
   "metadata": {
    "collapsed": false,
    "run_control": {
     "read_only": false
    }
   },
   "outputs": [
    {
     "data": {
      "text/html": [
       "<div>\n",
       "<table border=\"1\" class=\"dataframe\">\n",
       "  <thead>\n",
       "    <tr style=\"text-align: right;\">\n",
       "      <th></th>\n",
       "      <th>observationID</th>\n",
       "      <th>recordKey</th>\n",
       "      <th>organisationName</th>\n",
       "      <th>datasetKey</th>\n",
       "      <th>surveyKey</th>\n",
       "      <th>sampleKey</th>\n",
       "      <th>gridReference</th>\n",
       "      <th>precision</th>\n",
       "      <th>siteKey</th>\n",
       "      <th>siteName</th>\n",
       "      <th>...</th>\n",
       "      <th>recorder</th>\n",
       "      <th>determiner</th>\n",
       "      <th>pTaxonVersionKey</th>\n",
       "      <th>taxonName</th>\n",
       "      <th>authority</th>\n",
       "      <th>commonName</th>\n",
       "      <th>taxonGroup</th>\n",
       "      <th>sensitive</th>\n",
       "      <th>zeroAbundance</th>\n",
       "      <th>fullVersion</th>\n",
       "    </tr>\n",
       "  </thead>\n",
       "  <tbody>\n",
       "    <tr>\n",
       "      <th>0</th>\n",
       "      <td>463166539</td>\n",
       "      <td>1767</td>\n",
       "      <td>The Bat Conservation Trust</td>\n",
       "      <td>GA000612</td>\n",
       "      <td>1</td>\n",
       "      <td>1</td>\n",
       "      <td>SM90</td>\n",
       "      <td>10km</td>\n",
       "      <td>NaN</td>\n",
       "      <td>NaN</td>\n",
       "      <td>...</td>\n",
       "      <td>NaN</td>\n",
       "      <td>NaN</td>\n",
       "      <td>NBNSYS0100004720</td>\n",
       "      <td>Pipistrellus pygmaeus</td>\n",
       "      <td>(Leach, 1825)</td>\n",
       "      <td>Soprano Pipistrelle</td>\n",
       "      <td>terrestrial mammal</td>\n",
       "      <td>False</td>\n",
       "      <td>False</td>\n",
       "      <td>False</td>\n",
       "    </tr>\n",
       "    <tr>\n",
       "      <th>1</th>\n",
       "      <td>463166623</td>\n",
       "      <td>4325</td>\n",
       "      <td>The Bat Conservation Trust</td>\n",
       "      <td>GA000612</td>\n",
       "      <td>1</td>\n",
       "      <td>1</td>\n",
       "      <td>TL65</td>\n",
       "      <td>10km</td>\n",
       "      <td>NaN</td>\n",
       "      <td>NaN</td>\n",
       "      <td>...</td>\n",
       "      <td>NaN</td>\n",
       "      <td>NaN</td>\n",
       "      <td>NHMSYS0020001355</td>\n",
       "      <td>Pipistrellus pipistrellus sensu stricto</td>\n",
       "      <td>(Schreber, 1774)</td>\n",
       "      <td>Common Pipistrelle</td>\n",
       "      <td>terrestrial mammal</td>\n",
       "      <td>False</td>\n",
       "      <td>False</td>\n",
       "      <td>False</td>\n",
       "    </tr>\n",
       "    <tr>\n",
       "      <th>2</th>\n",
       "      <td>463166624</td>\n",
       "      <td>4326</td>\n",
       "      <td>The Bat Conservation Trust</td>\n",
       "      <td>GA000612</td>\n",
       "      <td>1</td>\n",
       "      <td>1</td>\n",
       "      <td>TL65</td>\n",
       "      <td>10km</td>\n",
       "      <td>NaN</td>\n",
       "      <td>NaN</td>\n",
       "      <td>...</td>\n",
       "      <td>NaN</td>\n",
       "      <td>NaN</td>\n",
       "      <td>NHMSYS0020001355</td>\n",
       "      <td>Pipistrellus pipistrellus sensu stricto</td>\n",
       "      <td>(Schreber, 1774)</td>\n",
       "      <td>Common Pipistrelle</td>\n",
       "      <td>terrestrial mammal</td>\n",
       "      <td>False</td>\n",
       "      <td>False</td>\n",
       "      <td>False</td>\n",
       "    </tr>\n",
       "    <tr>\n",
       "      <th>3</th>\n",
       "      <td>463166625</td>\n",
       "      <td>4327</td>\n",
       "      <td>The Bat Conservation Trust</td>\n",
       "      <td>GA000612</td>\n",
       "      <td>1</td>\n",
       "      <td>1</td>\n",
       "      <td>TL65</td>\n",
       "      <td>10km</td>\n",
       "      <td>NaN</td>\n",
       "      <td>NaN</td>\n",
       "      <td>...</td>\n",
       "      <td>NaN</td>\n",
       "      <td>NaN</td>\n",
       "      <td>NHMSYS0020001355</td>\n",
       "      <td>Pipistrellus pipistrellus sensu stricto</td>\n",
       "      <td>(Schreber, 1774)</td>\n",
       "      <td>Common Pipistrelle</td>\n",
       "      <td>terrestrial mammal</td>\n",
       "      <td>False</td>\n",
       "      <td>False</td>\n",
       "      <td>False</td>\n",
       "    </tr>\n",
       "    <tr>\n",
       "      <th>4</th>\n",
       "      <td>463166626</td>\n",
       "      <td>4328</td>\n",
       "      <td>The Bat Conservation Trust</td>\n",
       "      <td>GA000612</td>\n",
       "      <td>1</td>\n",
       "      <td>1</td>\n",
       "      <td>TL65</td>\n",
       "      <td>10km</td>\n",
       "      <td>NaN</td>\n",
       "      <td>NaN</td>\n",
       "      <td>...</td>\n",
       "      <td>NaN</td>\n",
       "      <td>NaN</td>\n",
       "      <td>NHMSYS0020001355</td>\n",
       "      <td>Pipistrellus pipistrellus sensu stricto</td>\n",
       "      <td>(Schreber, 1774)</td>\n",
       "      <td>Common Pipistrelle</td>\n",
       "      <td>terrestrial mammal</td>\n",
       "      <td>False</td>\n",
       "      <td>False</td>\n",
       "      <td>False</td>\n",
       "    </tr>\n",
       "  </tbody>\n",
       "</table>\n",
       "<p>5 rows × 24 columns</p>\n",
       "</div>"
      ],
      "text/plain": [
       "   observationID  recordKey            organisationName datasetKey  surveyKey  \\\n",
       "0      463166539       1767  The Bat Conservation Trust   GA000612          1   \n",
       "1      463166623       4325  The Bat Conservation Trust   GA000612          1   \n",
       "2      463166624       4326  The Bat Conservation Trust   GA000612          1   \n",
       "3      463166625       4327  The Bat Conservation Trust   GA000612          1   \n",
       "4      463166626       4328  The Bat Conservation Trust   GA000612          1   \n",
       "\n",
       "   sampleKey gridReference precision  siteKey  siteName     ...      recorder  \\\n",
       "0          1          SM90      10km      NaN       NaN     ...           NaN   \n",
       "1          1          TL65      10km      NaN       NaN     ...           NaN   \n",
       "2          1          TL65      10km      NaN       NaN     ...           NaN   \n",
       "3          1          TL65      10km      NaN       NaN     ...           NaN   \n",
       "4          1          TL65      10km      NaN       NaN     ...           NaN   \n",
       "\n",
       "  determiner  pTaxonVersionKey                                taxonName  \\\n",
       "0        NaN  NBNSYS0100004720                    Pipistrellus pygmaeus   \n",
       "1        NaN  NHMSYS0020001355  Pipistrellus pipistrellus sensu stricto   \n",
       "2        NaN  NHMSYS0020001355  Pipistrellus pipistrellus sensu stricto   \n",
       "3        NaN  NHMSYS0020001355  Pipistrellus pipistrellus sensu stricto   \n",
       "4        NaN  NHMSYS0020001355  Pipistrellus pipistrellus sensu stricto   \n",
       "\n",
       "          authority           commonName          taxonGroup sensitive  \\\n",
       "0     (Leach, 1825)  Soprano Pipistrelle  terrestrial mammal     False   \n",
       "1  (Schreber, 1774)   Common Pipistrelle  terrestrial mammal     False   \n",
       "2  (Schreber, 1774)   Common Pipistrelle  terrestrial mammal     False   \n",
       "3  (Schreber, 1774)   Common Pipistrelle  terrestrial mammal     False   \n",
       "4  (Schreber, 1774)   Common Pipistrelle  terrestrial mammal     False   \n",
       "\n",
       "  zeroAbundance fullVersion  \n",
       "0         False       False  \n",
       "1         False       False  \n",
       "2         False       False  \n",
       "3         False       False  \n",
       "4         False       False  \n",
       "\n",
       "[5 rows x 24 columns]"
      ]
     },
     "execution_count": 5,
     "metadata": {},
     "output_type": "execute_result"
    }
   ],
   "source": [
    "hibernation_df.head()"
   ]
  },
  {
   "cell_type": "markdown",
   "metadata": {},
   "source": [
    "Checking the roost data and loading it into a dataframe."
   ]
  },
  {
   "cell_type": "code",
   "execution_count": 6,
   "metadata": {
    "collapsed": false,
    "run_control": {
     "read_only": false
    }
   },
   "outputs": [
    {
     "name": "stdout",
     "output_type": "stream",
     "text": [
      "observationID,recordKey,organisationName,datasetKey,surveyKey,sampleKey,gridReference,precision,siteKey,siteName,featureKey,startDate,endDate,dateType,recorder,determiner,pTaxonVersionKey,taxonName,authority,commonName,taxonGroup,sensitive,zeroAbundance,fullVersion,Abundance,Comments,HRGridReference,LocationName,RecordType,SpeciesIDMethod,SurveyType\n",
      "463185100,7871,The Bat Conservation Trust,GA000616,1,1,NN5620,1km,,,129467,16/06/2007,16/06/2007,Day,,,NBNSYS0000005102,Plecotus auritus,\"(Linnaeus, 1758)\",Brown Long-eared Bat,terrestrial mammal,false,false,false,,,,,,,\n",
      "463185128,1506,The Bat Conservation Trust,GA000616,1,1,NR2767,1km,,,130452,29/05/2010,29/05/2010,Day,,,NHMSYS0020001355,Pipistrellus pipistrellus sensu stricto,\"(Schreber, 1774)\",Common Pipistrelle,terrestrial mammal,false,false,false,,,,,,,\n",
      "463185129,1507,The Bat Conservation Trust,GA000616,1,1,NR2767,1km,,,130452,06/06/2010,06/06/2010,Day,,,NHMSYS0020001355,Pipistrellus pipistrellus sensu stricto,\"(Schreber, 1774)\",Common Pipistrelle,terrestrial mammal,false,false,false,,,,,,,\n",
      "463185205,756,The Bat Conservation Trust,GA000616,1,1,TA0333,1km,,,160033,13/07/2010,13/07/2010,Day,,,NHMSYS0020001355,Pipistrellus pipistrellus sensu stricto,\"(Schreber, 1774)\",Common Pipistrelle,terrestrial mammal,false,false,false,,,,,,,\n"
     ]
    }
   ],
   "source": [
    "!head -n 5 'data/RoostObservations.csv'"
   ]
  },
  {
   "cell_type": "code",
   "execution_count": 7,
   "metadata": {
    "collapsed": false,
    "run_control": {
     "read_only": false
    }
   },
   "outputs": [
    {
     "name": "stdout",
     "output_type": "stream",
     "text": [
      "463209487,13191,The Bat Conservation Trust,GA000616,1,1,ST1821,1km,,,653453,15/06/2011,15/06/2011,Day,,,NHMSYS0000528030,Myotis mystacinus/brandtii,null,Whiskered/Brandt's Bat,terrestrial mammal,false,false,false,,,,,,,\n",
      "463209488,1738,The Bat Conservation Trust,GA000616,1,1,ST1821,1km,,,653453,29/06/2010,29/06/2010,Day,,,NHMSYS0000528030,Myotis mystacinus/brandtii,null,Whiskered/Brandt's Bat,terrestrial mammal,false,false,false,,,,,,,\n",
      "463209489,1739,The Bat Conservation Trust,GA000616,1,1,ST1821,1km,,,653453,30/06/2010,30/06/2010,Day,,,NHMSYS0000528030,Myotis mystacinus/brandtii,null,Whiskered/Brandt's Bat,terrestrial mammal,false,false,false,,,,,,,\n",
      "463209975,21920,The Bat Conservation Trust,GA000616,1,1,SX8166,1km,,,665485,07/06/2004,07/06/2004,Day,,,NHMSYS0000080177,Rhinolophus hipposideros,\"(Bechstein, 1800)\",Lesser Horseshoe Bat,terrestrial mammal,false,false,false,,,,,,,\n",
      "463209976,21921,The Bat Conservation Trust,GA000616,1,1,SX8166,1km,,,665485,17/06/2004,17/06/2004,Day,,,NHMSYS0000080177,Rhinolophus hipposideros,\"(Bechstein, 1800)\",Lesser Horseshoe Bat,terrestrial mammal,false,false,false,,,,,,,\n"
     ]
    }
   ],
   "source": [
    "!tail -n 5 'data/RoostObservations.csv'"
   ]
  },
  {
   "cell_type": "code",
   "execution_count": 8,
   "metadata": {
    "collapsed": true,
    "run_control": {
     "read_only": false
    }
   },
   "outputs": [],
   "source": [
    "roost_df = pd.read_csv('data/RoostObservations.csv', engine='python')"
   ]
  },
  {
   "cell_type": "code",
   "execution_count": 9,
   "metadata": {
    "collapsed": false,
    "run_control": {
     "read_only": false
    }
   },
   "outputs": [
    {
     "data": {
      "text/html": [
       "<div>\n",
       "<table border=\"1\" class=\"dataframe\">\n",
       "  <thead>\n",
       "    <tr style=\"text-align: right;\">\n",
       "      <th></th>\n",
       "      <th>observationID</th>\n",
       "      <th>recordKey</th>\n",
       "      <th>organisationName</th>\n",
       "      <th>datasetKey</th>\n",
       "      <th>surveyKey</th>\n",
       "      <th>sampleKey</th>\n",
       "      <th>gridReference</th>\n",
       "      <th>precision</th>\n",
       "      <th>siteKey</th>\n",
       "      <th>siteName</th>\n",
       "      <th>...</th>\n",
       "      <th>sensitive</th>\n",
       "      <th>zeroAbundance</th>\n",
       "      <th>fullVersion</th>\n",
       "      <th>Abundance</th>\n",
       "      <th>Comments</th>\n",
       "      <th>HRGridReference</th>\n",
       "      <th>LocationName</th>\n",
       "      <th>RecordType</th>\n",
       "      <th>SpeciesIDMethod</th>\n",
       "      <th>SurveyType</th>\n",
       "    </tr>\n",
       "  </thead>\n",
       "  <tbody>\n",
       "    <tr>\n",
       "      <th>0</th>\n",
       "      <td>463185100</td>\n",
       "      <td>7871</td>\n",
       "      <td>The Bat Conservation Trust</td>\n",
       "      <td>GA000616</td>\n",
       "      <td>1</td>\n",
       "      <td>1</td>\n",
       "      <td>NN5620</td>\n",
       "      <td>1km</td>\n",
       "      <td>NaN</td>\n",
       "      <td>NaN</td>\n",
       "      <td>...</td>\n",
       "      <td>False</td>\n",
       "      <td>False</td>\n",
       "      <td>False</td>\n",
       "      <td>NaN</td>\n",
       "      <td>NaN</td>\n",
       "      <td>NaN</td>\n",
       "      <td>NaN</td>\n",
       "      <td>NaN</td>\n",
       "      <td>NaN</td>\n",
       "      <td>NaN</td>\n",
       "    </tr>\n",
       "    <tr>\n",
       "      <th>1</th>\n",
       "      <td>463185128</td>\n",
       "      <td>1506</td>\n",
       "      <td>The Bat Conservation Trust</td>\n",
       "      <td>GA000616</td>\n",
       "      <td>1</td>\n",
       "      <td>1</td>\n",
       "      <td>NR2767</td>\n",
       "      <td>1km</td>\n",
       "      <td>NaN</td>\n",
       "      <td>NaN</td>\n",
       "      <td>...</td>\n",
       "      <td>False</td>\n",
       "      <td>False</td>\n",
       "      <td>False</td>\n",
       "      <td>NaN</td>\n",
       "      <td>NaN</td>\n",
       "      <td>NaN</td>\n",
       "      <td>NaN</td>\n",
       "      <td>NaN</td>\n",
       "      <td>NaN</td>\n",
       "      <td>NaN</td>\n",
       "    </tr>\n",
       "    <tr>\n",
       "      <th>2</th>\n",
       "      <td>463185129</td>\n",
       "      <td>1507</td>\n",
       "      <td>The Bat Conservation Trust</td>\n",
       "      <td>GA000616</td>\n",
       "      <td>1</td>\n",
       "      <td>1</td>\n",
       "      <td>NR2767</td>\n",
       "      <td>1km</td>\n",
       "      <td>NaN</td>\n",
       "      <td>NaN</td>\n",
       "      <td>...</td>\n",
       "      <td>False</td>\n",
       "      <td>False</td>\n",
       "      <td>False</td>\n",
       "      <td>NaN</td>\n",
       "      <td>NaN</td>\n",
       "      <td>NaN</td>\n",
       "      <td>NaN</td>\n",
       "      <td>NaN</td>\n",
       "      <td>NaN</td>\n",
       "      <td>NaN</td>\n",
       "    </tr>\n",
       "    <tr>\n",
       "      <th>3</th>\n",
       "      <td>463185205</td>\n",
       "      <td>756</td>\n",
       "      <td>The Bat Conservation Trust</td>\n",
       "      <td>GA000616</td>\n",
       "      <td>1</td>\n",
       "      <td>1</td>\n",
       "      <td>TA0333</td>\n",
       "      <td>1km</td>\n",
       "      <td>NaN</td>\n",
       "      <td>NaN</td>\n",
       "      <td>...</td>\n",
       "      <td>False</td>\n",
       "      <td>False</td>\n",
       "      <td>False</td>\n",
       "      <td>NaN</td>\n",
       "      <td>NaN</td>\n",
       "      <td>NaN</td>\n",
       "      <td>NaN</td>\n",
       "      <td>NaN</td>\n",
       "      <td>NaN</td>\n",
       "      <td>NaN</td>\n",
       "    </tr>\n",
       "    <tr>\n",
       "      <th>4</th>\n",
       "      <td>463185255</td>\n",
       "      <td>12799</td>\n",
       "      <td>The Bat Conservation Trust</td>\n",
       "      <td>GA000616</td>\n",
       "      <td>1</td>\n",
       "      <td>1</td>\n",
       "      <td>NN7102</td>\n",
       "      <td>1km</td>\n",
       "      <td>NaN</td>\n",
       "      <td>NaN</td>\n",
       "      <td>...</td>\n",
       "      <td>False</td>\n",
       "      <td>False</td>\n",
       "      <td>False</td>\n",
       "      <td>NaN</td>\n",
       "      <td>NaN</td>\n",
       "      <td>NaN</td>\n",
       "      <td>NaN</td>\n",
       "      <td>NaN</td>\n",
       "      <td>NaN</td>\n",
       "      <td>NaN</td>\n",
       "    </tr>\n",
       "  </tbody>\n",
       "</table>\n",
       "<p>5 rows × 31 columns</p>\n",
       "</div>"
      ],
      "text/plain": [
       "   observationID  recordKey            organisationName datasetKey  surveyKey  \\\n",
       "0      463185100       7871  The Bat Conservation Trust   GA000616          1   \n",
       "1      463185128       1506  The Bat Conservation Trust   GA000616          1   \n",
       "2      463185129       1507  The Bat Conservation Trust   GA000616          1   \n",
       "3      463185205        756  The Bat Conservation Trust   GA000616          1   \n",
       "4      463185255      12799  The Bat Conservation Trust   GA000616          1   \n",
       "\n",
       "   sampleKey gridReference precision  siteKey  siteName    ...      sensitive  \\\n",
       "0          1        NN5620       1km      NaN       NaN    ...          False   \n",
       "1          1        NR2767       1km      NaN       NaN    ...          False   \n",
       "2          1        NR2767       1km      NaN       NaN    ...          False   \n",
       "3          1        TA0333       1km      NaN       NaN    ...          False   \n",
       "4          1        NN7102       1km      NaN       NaN    ...          False   \n",
       "\n",
       "  zeroAbundance fullVersion Abundance  Comments  HRGridReference LocationName  \\\n",
       "0         False       False       NaN       NaN              NaN          NaN   \n",
       "1         False       False       NaN       NaN              NaN          NaN   \n",
       "2         False       False       NaN       NaN              NaN          NaN   \n",
       "3         False       False       NaN       NaN              NaN          NaN   \n",
       "4         False       False       NaN       NaN              NaN          NaN   \n",
       "\n",
       "  RecordType SpeciesIDMethod SurveyType  \n",
       "0        NaN             NaN        NaN  \n",
       "1        NaN             NaN        NaN  \n",
       "2        NaN             NaN        NaN  \n",
       "3        NaN             NaN        NaN  \n",
       "4        NaN             NaN        NaN  \n",
       "\n",
       "[5 rows x 31 columns]"
      ]
     },
     "execution_count": 9,
     "metadata": {},
     "output_type": "execute_result"
    }
   ],
   "source": [
    "roost_df.head()"
   ]
  },
  {
   "cell_type": "markdown",
   "metadata": {},
   "source": [
    "# Exploring the datasets"
   ]
  },
  {
   "cell_type": "code",
   "execution_count": 10,
   "metadata": {
    "collapsed": false,
    "run_control": {
     "read_only": false
    }
   },
   "outputs": [
    {
     "data": {
      "text/plain": [
       "Index(['observationID', 'recordKey', 'organisationName', 'datasetKey',\n",
       "       'surveyKey', 'sampleKey', 'gridReference', 'precision', 'siteKey',\n",
       "       'siteName', 'featureKey', 'startDate', 'endDate', 'dateType',\n",
       "       'recorder', 'determiner', 'pTaxonVersionKey', 'taxonName', 'authority',\n",
       "       'commonName', 'taxonGroup', 'sensitive', 'zeroAbundance',\n",
       "       'fullVersion'],\n",
       "      dtype='object')"
      ]
     },
     "execution_count": 10,
     "metadata": {},
     "output_type": "execute_result"
    }
   ],
   "source": [
    "hibernation_df.columns"
   ]
  },
  {
   "cell_type": "code",
   "execution_count": 11,
   "metadata": {
    "collapsed": false,
    "run_control": {
     "read_only": false
    }
   },
   "outputs": [
    {
     "data": {
      "text/plain": [
       "Index(['observationID', 'recordKey', 'organisationName', 'datasetKey',\n",
       "       'surveyKey', 'sampleKey', 'gridReference', 'precision', 'siteKey',\n",
       "       'siteName', 'featureKey', 'startDate', 'endDate', 'dateType',\n",
       "       'recorder', 'determiner', 'pTaxonVersionKey', 'taxonName', 'authority',\n",
       "       'commonName', 'taxonGroup', 'sensitive', 'zeroAbundance', 'fullVersion',\n",
       "       'Abundance', 'Comments', 'HRGridReference', 'LocationName',\n",
       "       'RecordType', 'SpeciesIDMethod', 'SurveyType'],\n",
       "      dtype='object')"
      ]
     },
     "execution_count": 11,
     "metadata": {},
     "output_type": "execute_result"
    }
   ],
   "source": [
    "roost_df.columns"
   ]
  },
  {
   "cell_type": "code",
   "execution_count": 12,
   "metadata": {
    "collapsed": false,
    "run_control": {
     "read_only": false
    },
    "scrolled": true
   },
   "outputs": [
    {
     "data": {
      "text/plain": [
       "observationID         int64\n",
       "recordKey             int64\n",
       "organisationName     object\n",
       "datasetKey           object\n",
       "surveyKey             int64\n",
       "sampleKey             int64\n",
       "gridReference        object\n",
       "precision            object\n",
       "siteKey             float64\n",
       "siteName            float64\n",
       "featureKey            int64\n",
       "startDate            object\n",
       "endDate              object\n",
       "dateType             object\n",
       "recorder            float64\n",
       "determiner          float64\n",
       "pTaxonVersionKey     object\n",
       "taxonName            object\n",
       "authority            object\n",
       "commonName           object\n",
       "taxonGroup           object\n",
       "sensitive              bool\n",
       "zeroAbundance          bool\n",
       "fullVersion            bool\n",
       "dtype: object"
      ]
     },
     "execution_count": 12,
     "metadata": {},
     "output_type": "execute_result"
    }
   ],
   "source": [
    "hibernation_df.dtypes"
   ]
  },
  {
   "cell_type": "code",
   "execution_count": 13,
   "metadata": {
    "collapsed": false,
    "run_control": {
     "read_only": false
    },
    "scrolled": true
   },
   "outputs": [
    {
     "data": {
      "text/plain": [
       "observationID         int64\n",
       "recordKey             int64\n",
       "organisationName     object\n",
       "datasetKey           object\n",
       "surveyKey             int64\n",
       "sampleKey             int64\n",
       "gridReference        object\n",
       "precision            object\n",
       "siteKey             float64\n",
       "siteName            float64\n",
       "featureKey            int64\n",
       "startDate            object\n",
       "endDate              object\n",
       "dateType             object\n",
       "recorder            float64\n",
       "determiner          float64\n",
       "pTaxonVersionKey     object\n",
       "taxonName            object\n",
       "authority            object\n",
       "commonName           object\n",
       "taxonGroup           object\n",
       "sensitive              bool\n",
       "zeroAbundance          bool\n",
       "fullVersion            bool\n",
       "Abundance           float64\n",
       "Comments            float64\n",
       "HRGridReference     float64\n",
       "LocationName        float64\n",
       "RecordType          float64\n",
       "SpeciesIDMethod     float64\n",
       "SurveyType          float64\n",
       "dtype: object"
      ]
     },
     "execution_count": 13,
     "metadata": {},
     "output_type": "execute_result"
    }
   ],
   "source": [
    "roost_df.dtypes"
   ]
  },
  {
   "cell_type": "code",
   "execution_count": 14,
   "metadata": {
    "collapsed": false,
    "run_control": {
     "read_only": false
    }
   },
   "outputs": [
    {
     "data": {
      "text/plain": [
       "{'Abundance',\n",
       " 'Comments',\n",
       " 'HRGridReference',\n",
       " 'LocationName',\n",
       " 'RecordType',\n",
       " 'SpeciesIDMethod',\n",
       " 'SurveyType'}"
      ]
     },
     "execution_count": 14,
     "metadata": {},
     "output_type": "execute_result"
    }
   ],
   "source": [
    "set(roost_df.columns) - set(hibernation_df.columns)"
   ]
  },
  {
   "cell_type": "markdown",
   "metadata": {},
   "source": [
    "# The two datasets do not contain the same number of columns \n",
    "\n",
    "Do the additional columns in the roost dataset contain anything useful?"
   ]
  },
  {
   "cell_type": "code",
   "execution_count": 15,
   "metadata": {
    "collapsed": false,
    "run_control": {
     "read_only": false
    },
    "scrolled": true
   },
   "outputs": [
    {
     "data": {
      "text/plain": [
       "array([ nan])"
      ]
     },
     "execution_count": 15,
     "metadata": {},
     "output_type": "execute_result"
    }
   ],
   "source": [
    "roost_df.Abundance.unique()"
   ]
  },
  {
   "cell_type": "code",
   "execution_count": 16,
   "metadata": {
    "collapsed": false,
    "run_control": {
     "read_only": false
    },
    "scrolled": true
   },
   "outputs": [
    {
     "data": {
      "text/plain": [
       "array([ nan])"
      ]
     },
     "execution_count": 16,
     "metadata": {},
     "output_type": "execute_result"
    }
   ],
   "source": [
    "roost_df.Comments.unique()"
   ]
  },
  {
   "cell_type": "code",
   "execution_count": 17,
   "metadata": {
    "collapsed": false,
    "run_control": {
     "read_only": false
    },
    "scrolled": true
   },
   "outputs": [
    {
     "data": {
      "text/plain": [
       "array([ nan])"
      ]
     },
     "execution_count": 17,
     "metadata": {},
     "output_type": "execute_result"
    }
   ],
   "source": [
    "roost_df.HRGridReference.unique()"
   ]
  },
  {
   "cell_type": "code",
   "execution_count": 18,
   "metadata": {
    "collapsed": false,
    "run_control": {
     "read_only": false
    }
   },
   "outputs": [
    {
     "data": {
      "text/plain": [
       "array([ nan])"
      ]
     },
     "execution_count": 18,
     "metadata": {},
     "output_type": "execute_result"
    }
   ],
   "source": [
    "roost_df.LocationName.unique()"
   ]
  },
  {
   "cell_type": "code",
   "execution_count": 19,
   "metadata": {
    "collapsed": false,
    "run_control": {
     "read_only": false
    }
   },
   "outputs": [
    {
     "data": {
      "text/plain": [
       "array([ nan])"
      ]
     },
     "execution_count": 19,
     "metadata": {},
     "output_type": "execute_result"
    }
   ],
   "source": [
    "roost_df.RecordType.unique()"
   ]
  },
  {
   "cell_type": "code",
   "execution_count": 20,
   "metadata": {
    "collapsed": false,
    "run_control": {
     "read_only": false
    }
   },
   "outputs": [
    {
     "data": {
      "text/plain": [
       "array([ nan])"
      ]
     },
     "execution_count": 20,
     "metadata": {},
     "output_type": "execute_result"
    }
   ],
   "source": [
    "roost_df.SpeciesIDMethod.unique()"
   ]
  },
  {
   "cell_type": "code",
   "execution_count": 21,
   "metadata": {
    "collapsed": false,
    "run_control": {
     "read_only": false
    }
   },
   "outputs": [
    {
     "data": {
      "text/plain": [
       "array([ nan])"
      ]
     },
     "execution_count": 21,
     "metadata": {},
     "output_type": "execute_result"
    }
   ],
   "source": [
    "roost_df.SurveyType.unique()"
   ]
  },
  {
   "cell_type": "markdown",
   "metadata": {},
   "source": [
    "So all of the additional columns in the roost dataset contain NaN values and as such are not useful."
   ]
  },
  {
   "cell_type": "markdown",
   "metadata": {},
   "source": [
    "Columns that both datasets have in common."
   ]
  },
  {
   "cell_type": "code",
   "execution_count": 22,
   "metadata": {
    "collapsed": false,
    "run_control": {
     "read_only": false
    }
   },
   "outputs": [
    {
     "data": {
      "text/plain": [
       "{'authority',\n",
       " 'commonName',\n",
       " 'datasetKey',\n",
       " 'dateType',\n",
       " 'determiner',\n",
       " 'endDate',\n",
       " 'featureKey',\n",
       " 'fullVersion',\n",
       " 'gridReference',\n",
       " 'observationID',\n",
       " 'organisationName',\n",
       " 'pTaxonVersionKey',\n",
       " 'precision',\n",
       " 'recordKey',\n",
       " 'recorder',\n",
       " 'sampleKey',\n",
       " 'sensitive',\n",
       " 'siteKey',\n",
       " 'siteName',\n",
       " 'startDate',\n",
       " 'surveyKey',\n",
       " 'taxonGroup',\n",
       " 'taxonName',\n",
       " 'zeroAbundance'}"
      ]
     },
     "execution_count": 22,
     "metadata": {},
     "output_type": "execute_result"
    }
   ],
   "source": [
    "set(roost_df.columns).intersection(hibernation_df.columns)"
   ]
  },
  {
   "cell_type": "code",
   "execution_count": 23,
   "metadata": {
    "collapsed": false,
    "run_control": {
     "read_only": false
    },
    "scrolled": true
   },
   "outputs": [
    {
     "data": {
      "text/plain": [
       "<bound method NDFrame.describe of        observationID  recordKey            organisationName datasetKey  \\\n",
       "0          463185100       7871  The Bat Conservation Trust   GA000616   \n",
       "1          463185128       1506  The Bat Conservation Trust   GA000616   \n",
       "2          463185129       1507  The Bat Conservation Trust   GA000616   \n",
       "3          463185205        756  The Bat Conservation Trust   GA000616   \n",
       "4          463185255      12799  The Bat Conservation Trust   GA000616   \n",
       "5          463185256      12800  The Bat Conservation Trust   GA000616   \n",
       "6          463185451        690  The Bat Conservation Trust   GA000616   \n",
       "7          463185492      17833  The Bat Conservation Trust   GA000616   \n",
       "8          463185571       5151  The Bat Conservation Trust   GA000616   \n",
       "9          463185572       5152  The Bat Conservation Trust   GA000616   \n",
       "10         463185573       5153  The Bat Conservation Trust   GA000616   \n",
       "11         463185574       5154  The Bat Conservation Trust   GA000616   \n",
       "12         463185575       5155  The Bat Conservation Trust   GA000616   \n",
       "13         463185576       5156  The Bat Conservation Trust   GA000616   \n",
       "14         463185577       5157  The Bat Conservation Trust   GA000616   \n",
       "15         463185578       5158  The Bat Conservation Trust   GA000616   \n",
       "16         463185579       5159  The Bat Conservation Trust   GA000616   \n",
       "17         463185580       5160  The Bat Conservation Trust   GA000616   \n",
       "18         463185581       5161  The Bat Conservation Trust   GA000616   \n",
       "19         463185582       5162  The Bat Conservation Trust   GA000616   \n",
       "20         463185583       5163  The Bat Conservation Trust   GA000616   \n",
       "21         463185584       5164  The Bat Conservation Trust   GA000616   \n",
       "22         463185585       5165  The Bat Conservation Trust   GA000616   \n",
       "23         463185586       5166  The Bat Conservation Trust   GA000616   \n",
       "24         463185587       5167  The Bat Conservation Trust   GA000616   \n",
       "25         463185588       5168  The Bat Conservation Trust   GA000616   \n",
       "26         463185589       5169  The Bat Conservation Trust   GA000616   \n",
       "27         463185688       5889  The Bat Conservation Trust   GA000616   \n",
       "28         463185689       5890  The Bat Conservation Trust   GA000616   \n",
       "29         463185690       5891  The Bat Conservation Trust   GA000616   \n",
       "...              ...        ...                         ...        ...   \n",
       "23649      463207173       4601  The Bat Conservation Trust   GA000616   \n",
       "23650      463207174       4602  The Bat Conservation Trust   GA000616   \n",
       "23651      463207183       1971  The Bat Conservation Trust   GA000616   \n",
       "23652      463207184       1973  The Bat Conservation Trust   GA000616   \n",
       "23653      463207209      27862  The Bat Conservation Trust   GA000616   \n",
       "23654      463207210      27863  The Bat Conservation Trust   GA000616   \n",
       "23655      463207214      25492  The Bat Conservation Trust   GA000616   \n",
       "23656      463207215      25493  The Bat Conservation Trust   GA000616   \n",
       "23657      463208366    1003886  The Bat Conservation Trust   GA000616   \n",
       "23658      463208367    1004161  The Bat Conservation Trust   GA000616   \n",
       "23659      463208394      19759  The Bat Conservation Trust   GA000616   \n",
       "23660      463208395      19760  The Bat Conservation Trust   GA000616   \n",
       "23661      463208781      19761  The Bat Conservation Trust   GA000616   \n",
       "23662      463208782      19762  The Bat Conservation Trust   GA000616   \n",
       "23663      463208783      19763  The Bat Conservation Trust   GA000616   \n",
       "23664      463208784      19764  The Bat Conservation Trust   GA000616   \n",
       "23665      463208785      19765  The Bat Conservation Trust   GA000616   \n",
       "23666      463208786      19766  The Bat Conservation Trust   GA000616   \n",
       "23667      463208787      19767  The Bat Conservation Trust   GA000616   \n",
       "23668      463208788      19768  The Bat Conservation Trust   GA000616   \n",
       "23669      463208789      19769  The Bat Conservation Trust   GA000616   \n",
       "23670      463208790      19770  The Bat Conservation Trust   GA000616   \n",
       "23671      463208859      26097  The Bat Conservation Trust   GA000616   \n",
       "23672      463208860      26098  The Bat Conservation Trust   GA000616   \n",
       "23673      463209486      13311  The Bat Conservation Trust   GA000616   \n",
       "23674      463209487      13191  The Bat Conservation Trust   GA000616   \n",
       "23675      463209488       1738  The Bat Conservation Trust   GA000616   \n",
       "23676      463209489       1739  The Bat Conservation Trust   GA000616   \n",
       "23677      463209975      21920  The Bat Conservation Trust   GA000616   \n",
       "23678      463209976      21921  The Bat Conservation Trust   GA000616   \n",
       "\n",
       "       surveyKey  sampleKey gridReference precision  siteKey  siteName  \\\n",
       "0              1          1        NN5620       1km      NaN       NaN   \n",
       "1              1          1        NR2767       1km      NaN       NaN   \n",
       "2              1          1        NR2767       1km      NaN       NaN   \n",
       "3              1          1        TA0333       1km      NaN       NaN   \n",
       "4              1          1        NN7102       1km      NaN       NaN   \n",
       "5              1          1        NN7102       1km      NaN       NaN   \n",
       "6              1          1        NS8992       1km      NaN       NaN   \n",
       "7              1          1        SE6562       1km      NaN       NaN   \n",
       "8              1          1        SE6845       1km      NaN       NaN   \n",
       "9              1          1        SE6845       1km      NaN       NaN   \n",
       "10             1          1        SE6845       1km      NaN       NaN   \n",
       "11             1          1        SE6845       1km      NaN       NaN   \n",
       "12             1          1        SE6845       1km      NaN       NaN   \n",
       "13             1          1        SE6845       1km      NaN       NaN   \n",
       "14             1          1        SE6845       1km      NaN       NaN   \n",
       "15             1          1        SE6845       1km      NaN       NaN   \n",
       "16             1          1        SE6845       1km      NaN       NaN   \n",
       "17             1          1        SE6845       1km      NaN       NaN   \n",
       "18             1          1        SE6845       1km      NaN       NaN   \n",
       "19             1          1        SE6845       1km      NaN       NaN   \n",
       "20             1          1        SE6845       1km      NaN       NaN   \n",
       "21             1          1        SE6845       1km      NaN       NaN   \n",
       "22             1          1        SE6845       1km      NaN       NaN   \n",
       "23             1          1        SE6845       1km      NaN       NaN   \n",
       "24             1          1        SE6845       1km      NaN       NaN   \n",
       "25             1          1        SE6845       1km      NaN       NaN   \n",
       "26             1          1        SE6845       1km      NaN       NaN   \n",
       "27             1          1        SU0038       1km      NaN       NaN   \n",
       "28             1          1        SU0038       1km      NaN       NaN   \n",
       "29             1          1        SU0038       1km      NaN       NaN   \n",
       "...          ...        ...           ...       ...      ...       ...   \n",
       "23649          1          1        NY8010       1km      NaN       NaN   \n",
       "23650          1          1        NY8010       1km      NaN       NaN   \n",
       "23651          1          1        NY8010       1km      NaN       NaN   \n",
       "23652          1          1        NY8010       1km      NaN       NaN   \n",
       "23653          1          1        NY8010       1km      NaN       NaN   \n",
       "23654          1          1        NY8010       1km      NaN       NaN   \n",
       "23655          1          1        NY8010       1km      NaN       NaN   \n",
       "23656          1          1        NY8010       1km      NaN       NaN   \n",
       "23657          1          1        ST1821       1km      NaN       NaN   \n",
       "23658          1          1        ST1821       1km      NaN       NaN   \n",
       "23659          1          1        SJ0973       1km      NaN       NaN   \n",
       "23660          1          1        SJ0973       1km      NaN       NaN   \n",
       "23661          1          1        SJ0973       1km      NaN       NaN   \n",
       "23662          1          1        SJ0973       1km      NaN       NaN   \n",
       "23663          1          1        SJ0973       1km      NaN       NaN   \n",
       "23664          1          1        SJ0973       1km      NaN       NaN   \n",
       "23665          1          1        SJ0973       1km      NaN       NaN   \n",
       "23666          1          1        SJ0973       1km      NaN       NaN   \n",
       "23667          1          1        SJ0973       1km      NaN       NaN   \n",
       "23668          1          1        SJ0973       1km      NaN       NaN   \n",
       "23669          1          1        SJ0973       1km      NaN       NaN   \n",
       "23670          1          1        SJ0973       1km      NaN       NaN   \n",
       "23671          1          1        TQ9755       1km      NaN       NaN   \n",
       "23672          1          1        TQ9755       1km      NaN       NaN   \n",
       "23673          1          1        ST1821       1km      NaN       NaN   \n",
       "23674          1          1        ST1821       1km      NaN       NaN   \n",
       "23675          1          1        ST1821       1km      NaN       NaN   \n",
       "23676          1          1        ST1821       1km      NaN       NaN   \n",
       "23677          1          1        SX8166       1km      NaN       NaN   \n",
       "23678          1          1        SX8166       1km      NaN       NaN   \n",
       "\n",
       "         ...      sensitive zeroAbundance fullVersion Abundance  Comments  \\\n",
       "0        ...          False         False       False       NaN       NaN   \n",
       "1        ...          False         False       False       NaN       NaN   \n",
       "2        ...          False         False       False       NaN       NaN   \n",
       "3        ...          False         False       False       NaN       NaN   \n",
       "4        ...          False         False       False       NaN       NaN   \n",
       "5        ...          False         False       False       NaN       NaN   \n",
       "6        ...          False         False       False       NaN       NaN   \n",
       "7        ...          False         False       False       NaN       NaN   \n",
       "8        ...          False         False       False       NaN       NaN   \n",
       "9        ...          False         False       False       NaN       NaN   \n",
       "10       ...          False         False       False       NaN       NaN   \n",
       "11       ...          False         False       False       NaN       NaN   \n",
       "12       ...          False         False       False       NaN       NaN   \n",
       "13       ...          False         False       False       NaN       NaN   \n",
       "14       ...          False         False       False       NaN       NaN   \n",
       "15       ...          False         False       False       NaN       NaN   \n",
       "16       ...          False         False       False       NaN       NaN   \n",
       "17       ...          False         False       False       NaN       NaN   \n",
       "18       ...          False         False       False       NaN       NaN   \n",
       "19       ...          False         False       False       NaN       NaN   \n",
       "20       ...          False         False       False       NaN       NaN   \n",
       "21       ...          False         False       False       NaN       NaN   \n",
       "22       ...          False         False       False       NaN       NaN   \n",
       "23       ...          False         False       False       NaN       NaN   \n",
       "24       ...          False         False       False       NaN       NaN   \n",
       "25       ...          False         False       False       NaN       NaN   \n",
       "26       ...          False         False       False       NaN       NaN   \n",
       "27       ...          False         False       False       NaN       NaN   \n",
       "28       ...          False         False       False       NaN       NaN   \n",
       "29       ...          False         False       False       NaN       NaN   \n",
       "...      ...            ...           ...         ...       ...       ...   \n",
       "23649    ...          False         False       False       NaN       NaN   \n",
       "23650    ...          False         False       False       NaN       NaN   \n",
       "23651    ...          False         False       False       NaN       NaN   \n",
       "23652    ...          False         False       False       NaN       NaN   \n",
       "23653    ...          False         False       False       NaN       NaN   \n",
       "23654    ...          False         False       False       NaN       NaN   \n",
       "23655    ...          False         False       False       NaN       NaN   \n",
       "23656    ...          False         False       False       NaN       NaN   \n",
       "23657    ...          False         False       False       NaN       NaN   \n",
       "23658    ...          False         False       False       NaN       NaN   \n",
       "23659    ...          False         False       False       NaN       NaN   \n",
       "23660    ...          False         False       False       NaN       NaN   \n",
       "23661    ...          False         False       False       NaN       NaN   \n",
       "23662    ...          False         False       False       NaN       NaN   \n",
       "23663    ...          False         False       False       NaN       NaN   \n",
       "23664    ...          False         False       False       NaN       NaN   \n",
       "23665    ...          False         False       False       NaN       NaN   \n",
       "23666    ...          False         False       False       NaN       NaN   \n",
       "23667    ...          False         False       False       NaN       NaN   \n",
       "23668    ...          False         False       False       NaN       NaN   \n",
       "23669    ...          False         False       False       NaN       NaN   \n",
       "23670    ...          False         False       False       NaN       NaN   \n",
       "23671    ...          False         False       False       NaN       NaN   \n",
       "23672    ...          False         False       False       NaN       NaN   \n",
       "23673    ...          False         False       False       NaN       NaN   \n",
       "23674    ...          False         False       False       NaN       NaN   \n",
       "23675    ...          False         False       False       NaN       NaN   \n",
       "23676    ...          False         False       False       NaN       NaN   \n",
       "23677    ...          False         False       False       NaN       NaN   \n",
       "23678    ...          False         False       False       NaN       NaN   \n",
       "\n",
       "       HRGridReference LocationName RecordType SpeciesIDMethod SurveyType  \n",
       "0                  NaN          NaN        NaN             NaN        NaN  \n",
       "1                  NaN          NaN        NaN             NaN        NaN  \n",
       "2                  NaN          NaN        NaN             NaN        NaN  \n",
       "3                  NaN          NaN        NaN             NaN        NaN  \n",
       "4                  NaN          NaN        NaN             NaN        NaN  \n",
       "5                  NaN          NaN        NaN             NaN        NaN  \n",
       "6                  NaN          NaN        NaN             NaN        NaN  \n",
       "7                  NaN          NaN        NaN             NaN        NaN  \n",
       "8                  NaN          NaN        NaN             NaN        NaN  \n",
       "9                  NaN          NaN        NaN             NaN        NaN  \n",
       "10                 NaN          NaN        NaN             NaN        NaN  \n",
       "11                 NaN          NaN        NaN             NaN        NaN  \n",
       "12                 NaN          NaN        NaN             NaN        NaN  \n",
       "13                 NaN          NaN        NaN             NaN        NaN  \n",
       "14                 NaN          NaN        NaN             NaN        NaN  \n",
       "15                 NaN          NaN        NaN             NaN        NaN  \n",
       "16                 NaN          NaN        NaN             NaN        NaN  \n",
       "17                 NaN          NaN        NaN             NaN        NaN  \n",
       "18                 NaN          NaN        NaN             NaN        NaN  \n",
       "19                 NaN          NaN        NaN             NaN        NaN  \n",
       "20                 NaN          NaN        NaN             NaN        NaN  \n",
       "21                 NaN          NaN        NaN             NaN        NaN  \n",
       "22                 NaN          NaN        NaN             NaN        NaN  \n",
       "23                 NaN          NaN        NaN             NaN        NaN  \n",
       "24                 NaN          NaN        NaN             NaN        NaN  \n",
       "25                 NaN          NaN        NaN             NaN        NaN  \n",
       "26                 NaN          NaN        NaN             NaN        NaN  \n",
       "27                 NaN          NaN        NaN             NaN        NaN  \n",
       "28                 NaN          NaN        NaN             NaN        NaN  \n",
       "29                 NaN          NaN        NaN             NaN        NaN  \n",
       "...                ...          ...        ...             ...        ...  \n",
       "23649              NaN          NaN        NaN             NaN        NaN  \n",
       "23650              NaN          NaN        NaN             NaN        NaN  \n",
       "23651              NaN          NaN        NaN             NaN        NaN  \n",
       "23652              NaN          NaN        NaN             NaN        NaN  \n",
       "23653              NaN          NaN        NaN             NaN        NaN  \n",
       "23654              NaN          NaN        NaN             NaN        NaN  \n",
       "23655              NaN          NaN        NaN             NaN        NaN  \n",
       "23656              NaN          NaN        NaN             NaN        NaN  \n",
       "23657              NaN          NaN        NaN             NaN        NaN  \n",
       "23658              NaN          NaN        NaN             NaN        NaN  \n",
       "23659              NaN          NaN        NaN             NaN        NaN  \n",
       "23660              NaN          NaN        NaN             NaN        NaN  \n",
       "23661              NaN          NaN        NaN             NaN        NaN  \n",
       "23662              NaN          NaN        NaN             NaN        NaN  \n",
       "23663              NaN          NaN        NaN             NaN        NaN  \n",
       "23664              NaN          NaN        NaN             NaN        NaN  \n",
       "23665              NaN          NaN        NaN             NaN        NaN  \n",
       "23666              NaN          NaN        NaN             NaN        NaN  \n",
       "23667              NaN          NaN        NaN             NaN        NaN  \n",
       "23668              NaN          NaN        NaN             NaN        NaN  \n",
       "23669              NaN          NaN        NaN             NaN        NaN  \n",
       "23670              NaN          NaN        NaN             NaN        NaN  \n",
       "23671              NaN          NaN        NaN             NaN        NaN  \n",
       "23672              NaN          NaN        NaN             NaN        NaN  \n",
       "23673              NaN          NaN        NaN             NaN        NaN  \n",
       "23674              NaN          NaN        NaN             NaN        NaN  \n",
       "23675              NaN          NaN        NaN             NaN        NaN  \n",
       "23676              NaN          NaN        NaN             NaN        NaN  \n",
       "23677              NaN          NaN        NaN             NaN        NaN  \n",
       "23678              NaN          NaN        NaN             NaN        NaN  \n",
       "\n",
       "[23679 rows x 31 columns]>"
      ]
     },
     "execution_count": 23,
     "metadata": {},
     "output_type": "execute_result"
    }
   ],
   "source": [
    "roost_df.describe"
   ]
  },
  {
   "cell_type": "code",
   "execution_count": 24,
   "metadata": {
    "collapsed": false,
    "run_control": {
     "read_only": false
    },
    "scrolled": true
   },
   "outputs": [
    {
     "data": {
      "text/plain": [
       "<bound method NDFrame.describe of        observationID  recordKey            organisationName datasetKey  \\\n",
       "0          463166539       1767  The Bat Conservation Trust   GA000612   \n",
       "1          463166623       4325  The Bat Conservation Trust   GA000612   \n",
       "2          463166624       4326  The Bat Conservation Trust   GA000612   \n",
       "3          463166625       4327  The Bat Conservation Trust   GA000612   \n",
       "4          463166626       4328  The Bat Conservation Trust   GA000612   \n",
       "5          463166627       4329  The Bat Conservation Trust   GA000612   \n",
       "6          463166628       4330  The Bat Conservation Trust   GA000612   \n",
       "7          463166629       4331  The Bat Conservation Trust   GA000612   \n",
       "8          463166630       4332  The Bat Conservation Trust   GA000612   \n",
       "9          463166631       4333  The Bat Conservation Trust   GA000612   \n",
       "10         463166743      23494  The Bat Conservation Trust   GA000612   \n",
       "11         463166262      17276  The Bat Conservation Trust   GA000612   \n",
       "12         463166062      16808  The Bat Conservation Trust   GA000612   \n",
       "13         463166034       3500  The Bat Conservation Trust   GA000612   \n",
       "14         463165994      13775  The Bat Conservation Trust   GA000612   \n",
       "15         463165991      13772  The Bat Conservation Trust   GA000612   \n",
       "16         463165989      13770  The Bat Conservation Trust   GA000612   \n",
       "17         463165977      13243  The Bat Conservation Trust   GA000612   \n",
       "18         463165536        292  The Bat Conservation Trust   GA000612   \n",
       "19         463165534        290  The Bat Conservation Trust   GA000612   \n",
       "20         463165531        287  The Bat Conservation Trust   GA000612   \n",
       "21         463165529        285  The Bat Conservation Trust   GA000612   \n",
       "22         463165522        250  The Bat Conservation Trust   GA000612   \n",
       "23         463165516        244  The Bat Conservation Trust   GA000612   \n",
       "24         463165508       1100  The Bat Conservation Trust   GA000612   \n",
       "25         463165498      10166  The Bat Conservation Trust   GA000612   \n",
       "26         463165496      10164  The Bat Conservation Trust   GA000612   \n",
       "27         463165494      10162  The Bat Conservation Trust   GA000612   \n",
       "28         463165492      10160  The Bat Conservation Trust   GA000612   \n",
       "29         463165489      10157  The Bat Conservation Trust   GA000612   \n",
       "...              ...        ...                         ...        ...   \n",
       "22869      463183471      16226  The Bat Conservation Trust   GA000612   \n",
       "22870      463183500       9930  The Bat Conservation Trust   GA000612   \n",
       "22871      463183882      21100  The Bat Conservation Trust   GA000612   \n",
       "22872      463183948      15751  The Bat Conservation Trust   GA000612   \n",
       "22873      463183950      15753  The Bat Conservation Trust   GA000612   \n",
       "22874      463183954      15757  The Bat Conservation Trust   GA000612   \n",
       "22875      463183957      15760  The Bat Conservation Trust   GA000612   \n",
       "22876      463183961      20330  The Bat Conservation Trust   GA000612   \n",
       "22877      463183965      20334  The Bat Conservation Trust   GA000612   \n",
       "22878      463183976      21626  The Bat Conservation Trust   GA000612   \n",
       "22879      463183978      21628  The Bat Conservation Trust   GA000612   \n",
       "22880      463183981      17753  The Bat Conservation Trust   GA000612   \n",
       "22881      463183984      17756  The Bat Conservation Trust   GA000612   \n",
       "22882      463183991       1387  The Bat Conservation Trust   GA000612   \n",
       "22883      463184005      17794  The Bat Conservation Trust   GA000612   \n",
       "22884      463184008      20289  The Bat Conservation Trust   GA000612   \n",
       "22885      463184216      16499  The Bat Conservation Trust   GA000612   \n",
       "22886      463184383      18871  The Bat Conservation Trust   GA000612   \n",
       "22887      463184392      21488  The Bat Conservation Trust   GA000612   \n",
       "22888      463184497       7604  The Bat Conservation Trust   GA000612   \n",
       "22889      463184506      12447  The Bat Conservation Trust   GA000612   \n",
       "22890      463184525       2482  The Bat Conservation Trust   GA000612   \n",
       "22891      463184882      17104  The Bat Conservation Trust   GA000612   \n",
       "22892      463184980       1380  The Bat Conservation Trust   GA000612   \n",
       "22893      463184984       1384  The Bat Conservation Trust   GA000612   \n",
       "22894      463184995      20315  The Bat Conservation Trust   GA000612   \n",
       "22895      463185027      16096  The Bat Conservation Trust   GA000612   \n",
       "22896      463185029      16098  The Bat Conservation Trust   GA000612   \n",
       "22897      463185031      16103  The Bat Conservation Trust   GA000612   \n",
       "22898      463185032      17955  The Bat Conservation Trust   GA000612   \n",
       "\n",
       "       surveyKey  sampleKey gridReference precision     siteKey  siteName  \\\n",
       "0              1          1          SM90      10km         NaN       NaN   \n",
       "1              1          1          TL65      10km         NaN       NaN   \n",
       "2              1          1          TL65      10km         NaN       NaN   \n",
       "3              1          1          TL65      10km         NaN       NaN   \n",
       "4              1          1          TL65      10km         NaN       NaN   \n",
       "5              1          1          TL65      10km         NaN       NaN   \n",
       "6              1          1          TL65      10km         NaN       NaN   \n",
       "7              1          1          TL65      10km         NaN       NaN   \n",
       "8              1          1          TL65      10km         NaN       NaN   \n",
       "9              1          1          TL65      10km         NaN       NaN   \n",
       "10             1          1          SY28      10km         NaN       NaN   \n",
       "11             1          1          SU62      10km  19784006.0   10032.0   \n",
       "12             1          1          TF28      10km         NaN       NaN   \n",
       "13             1          1          TF28      10km         NaN       NaN   \n",
       "14             1          1          SK83      10km         NaN       NaN   \n",
       "15             1          1          SK83      10km         NaN       NaN   \n",
       "16             1          1          SK83      10km         NaN       NaN   \n",
       "17             1          1          NY83      10km         NaN       NaN   \n",
       "18             1          1          SX37      10km         NaN       NaN   \n",
       "19             1          1          SX37      10km         NaN       NaN   \n",
       "20             1          1          SX37      10km         NaN       NaN   \n",
       "21             1          1          SX37      10km         NaN       NaN   \n",
       "22             1          1          SK15      10km         NaN       NaN   \n",
       "23             1          1          SK15      10km         NaN       NaN   \n",
       "24             1          1          SK15      10km         NaN       NaN   \n",
       "25             1          1          SX37      10km         NaN       NaN   \n",
       "26             1          1          SX37      10km         NaN       NaN   \n",
       "27             1          1          SX37      10km         NaN       NaN   \n",
       "28             1          1          SX37      10km         NaN       NaN   \n",
       "29             1          1          SX37      10km         NaN       NaN   \n",
       "...          ...        ...           ...       ...         ...       ...   \n",
       "22869          1          1          TQ76      10km         NaN       NaN   \n",
       "22870          1          1          SN61      10km         NaN       NaN   \n",
       "22871          1          1          SY97      10km         NaN       NaN   \n",
       "22872          1          1          TQ35      10km         NaN       NaN   \n",
       "22873          1          1          TQ35      10km         NaN       NaN   \n",
       "22874          1          1          TQ35      10km         NaN       NaN   \n",
       "22875          1          1          TQ35      10km         NaN       NaN   \n",
       "22876          1          1          TQ35      10km         NaN       NaN   \n",
       "22877          1          1          TQ35      10km         NaN       NaN   \n",
       "22878          1          1          TQ35      10km         NaN       NaN   \n",
       "22879          1          1          TQ35      10km         NaN       NaN   \n",
       "22880          1          1          TQ35      10km         NaN       NaN   \n",
       "22881          1          1          TQ35      10km         NaN       NaN   \n",
       "22882          1          1          TQ35      10km         NaN       NaN   \n",
       "22883          1          1          TQ35      10km         NaN       NaN   \n",
       "22884          1          1          TQ35      10km         NaN       NaN   \n",
       "22885          1          1          ST45      10km         NaN       NaN   \n",
       "22886          1          1          NY78      10km  19784666.0   10563.0   \n",
       "22887          1          1          NY78      10km  19784666.0   10563.0   \n",
       "22888          1          1          TQ76      10km         NaN       NaN   \n",
       "22889          1          1          TQ76      10km         NaN       NaN   \n",
       "22890          1          1          TQ76      10km         NaN       NaN   \n",
       "22891          1          1          TQ46      10km         NaN       NaN   \n",
       "22892          1          1          TQ35      10km         NaN       NaN   \n",
       "22893          1          1          TQ35      10km         NaN       NaN   \n",
       "22894          1          1          TQ35      10km         NaN       NaN   \n",
       "22895          1          1          TQ21      10km         NaN       NaN   \n",
       "22896          1          1          TQ21      10km         NaN       NaN   \n",
       "22897          1          1          TQ31      10km         NaN       NaN   \n",
       "22898          1          1          TQ31      10km         NaN       NaN   \n",
       "\n",
       "          ...      recorder determiner  pTaxonVersionKey  \\\n",
       "0         ...           NaN        NaN  NBNSYS0100004720   \n",
       "1         ...           NaN        NaN  NHMSYS0020001355   \n",
       "2         ...           NaN        NaN  NHMSYS0020001355   \n",
       "3         ...           NaN        NaN  NHMSYS0020001355   \n",
       "4         ...           NaN        NaN  NHMSYS0020001355   \n",
       "5         ...           NaN        NaN  NHMSYS0020001355   \n",
       "6         ...           NaN        NaN  NHMSYS0020001355   \n",
       "7         ...           NaN        NaN  NHMSYS0020001355   \n",
       "8         ...           NaN        NaN  NHMSYS0020001355   \n",
       "9         ...           NaN        NaN  NHMSYS0020001355   \n",
       "10        ...           NaN        NaN  NHMSYS0000528026   \n",
       "11        ...           NaN        NaN  NBNSYS0100004720   \n",
       "12        ...           NaN        NaN  NHMSYS0000080178   \n",
       "13        ...           NaN        NaN  NHMSYS0000080178   \n",
       "14        ...           NaN        NaN  NHMSYS0000080178   \n",
       "15        ...           NaN        NaN  NHMSYS0000080178   \n",
       "16        ...           NaN        NaN  NHMSYS0000080178   \n",
       "17        ...           NaN        NaN  NHMSYS0000528026   \n",
       "18        ...           NaN        NaN  NHMSYS0000080178   \n",
       "19        ...           NaN        NaN  NHMSYS0020001356   \n",
       "20        ...           NaN        NaN  NHMSYS0000080178   \n",
       "21        ...           NaN        NaN  NHMSYS0020001356   \n",
       "22        ...           NaN        NaN  NHMSYS0000528026   \n",
       "23        ...           NaN        NaN  NHMSYS0000528026   \n",
       "24        ...           NaN        NaN  NHMSYS0000528026   \n",
       "25        ...           NaN        NaN  NHMSYS0020001356   \n",
       "26        ...           NaN        NaN  NHMSYS0000080178   \n",
       "27        ...           NaN        NaN  NHMSYS0020001356   \n",
       "28        ...           NaN        NaN  NHMSYS0000080178   \n",
       "29        ...           NaN        NaN  NHMSYS0020001356   \n",
       "...       ...           ...        ...               ...   \n",
       "22869     ...           NaN        NaN  NHMSYS0000528030   \n",
       "22870     ...           NaN        NaN  NHMSYS0000528030   \n",
       "22871     ...           NaN        NaN  NHMSYS0000528030   \n",
       "22872     ...           NaN        NaN  NHMSYS0000528030   \n",
       "22873     ...           NaN        NaN  NHMSYS0000528030   \n",
       "22874     ...           NaN        NaN  NHMSYS0000528030   \n",
       "22875     ...           NaN        NaN  NHMSYS0000528030   \n",
       "22876     ...           NaN        NaN  NHMSYS0000528030   \n",
       "22877     ...           NaN        NaN  NHMSYS0000528030   \n",
       "22878     ...           NaN        NaN  NHMSYS0000528030   \n",
       "22879     ...           NaN        NaN  NHMSYS0000528030   \n",
       "22880     ...           NaN        NaN  NHMSYS0000528030   \n",
       "22881     ...           NaN        NaN  NHMSYS0000528030   \n",
       "22882     ...           NaN        NaN  NHMSYS0000528030   \n",
       "22883     ...           NaN        NaN  NHMSYS0000528030   \n",
       "22884     ...           NaN        NaN  NHMSYS0000528030   \n",
       "22885     ...           NaN        NaN  NHMSYS0000528030   \n",
       "22886     ...           NaN        NaN  NHMSYS0000080186   \n",
       "22887     ...           NaN        NaN  NHMSYS0000080186   \n",
       "22888     ...           NaN        NaN  NHMSYS0000528030   \n",
       "22889     ...           NaN        NaN  NHMSYS0000528030   \n",
       "22890     ...           NaN        NaN  NHMSYS0000528030   \n",
       "22891     ...           NaN        NaN  NHMSYS0000528030   \n",
       "22892     ...           NaN        NaN  NHMSYS0000528030   \n",
       "22893     ...           NaN        NaN  NHMSYS0000528030   \n",
       "22894     ...           NaN        NaN  NHMSYS0000528030   \n",
       "22895     ...           NaN        NaN  NHMSYS0000528030   \n",
       "22896     ...           NaN        NaN  NHMSYS0000528030   \n",
       "22897     ...           NaN        NaN  NHMSYS0000528030   \n",
       "22898     ...           NaN        NaN  NHMSYS0000528030   \n",
       "\n",
       "                                     taxonName          authority  \\\n",
       "0                        Pipistrellus pygmaeus      (Leach, 1825)   \n",
       "1      Pipistrellus pipistrellus sensu stricto   (Schreber, 1774)   \n",
       "2      Pipistrellus pipistrellus sensu stricto   (Schreber, 1774)   \n",
       "3      Pipistrellus pipistrellus sensu stricto   (Schreber, 1774)   \n",
       "4      Pipistrellus pipistrellus sensu stricto   (Schreber, 1774)   \n",
       "5      Pipistrellus pipistrellus sensu stricto   (Schreber, 1774)   \n",
       "6      Pipistrellus pipistrellus sensu stricto   (Schreber, 1774)   \n",
       "7      Pipistrellus pipistrellus sensu stricto   (Schreber, 1774)   \n",
       "8      Pipistrellus pipistrellus sensu stricto   (Schreber, 1774)   \n",
       "9      Pipistrellus pipistrellus sensu stricto   (Schreber, 1774)   \n",
       "10                             Myotis brandtii  (Eversmann, 1845)   \n",
       "11                       Pipistrellus pygmaeus      (Leach, 1825)   \n",
       "12                    Barbastella barbastellus   (Schreber, 1774)   \n",
       "13                    Barbastella barbastellus   (Schreber, 1774)   \n",
       "14                    Barbastella barbastellus   (Schreber, 1774)   \n",
       "15                    Barbastella barbastellus   (Schreber, 1774)   \n",
       "16                    Barbastella barbastellus   (Schreber, 1774)   \n",
       "17                             Myotis brandtii  (Eversmann, 1845)   \n",
       "18                    Barbastella barbastellus   (Schreber, 1774)   \n",
       "19        Pipistrellus pipistrellus sensu lato   (Schreber, 1774)   \n",
       "20                    Barbastella barbastellus   (Schreber, 1774)   \n",
       "21        Pipistrellus pipistrellus sensu lato   (Schreber, 1774)   \n",
       "22                             Myotis brandtii  (Eversmann, 1845)   \n",
       "23                             Myotis brandtii  (Eversmann, 1845)   \n",
       "24                             Myotis brandtii  (Eversmann, 1845)   \n",
       "25        Pipistrellus pipistrellus sensu lato   (Schreber, 1774)   \n",
       "26                    Barbastella barbastellus   (Schreber, 1774)   \n",
       "27        Pipistrellus pipistrellus sensu lato   (Schreber, 1774)   \n",
       "28                    Barbastella barbastellus   (Schreber, 1774)   \n",
       "29        Pipistrellus pipistrellus sensu lato   (Schreber, 1774)   \n",
       "...                                        ...                ...   \n",
       "22869               Myotis mystacinus/brandtii               null   \n",
       "22870               Myotis mystacinus/brandtii               null   \n",
       "22871               Myotis mystacinus/brandtii               null   \n",
       "22872               Myotis mystacinus/brandtii               null   \n",
       "22873               Myotis mystacinus/brandtii               null   \n",
       "22874               Myotis mystacinus/brandtii               null   \n",
       "22875               Myotis mystacinus/brandtii               null   \n",
       "22876               Myotis mystacinus/brandtii               null   \n",
       "22877               Myotis mystacinus/brandtii               null   \n",
       "22878               Myotis mystacinus/brandtii               null   \n",
       "22879               Myotis mystacinus/brandtii               null   \n",
       "22880               Myotis mystacinus/brandtii               null   \n",
       "22881               Myotis mystacinus/brandtii               null   \n",
       "22882               Myotis mystacinus/brandtii               null   \n",
       "22883               Myotis mystacinus/brandtii               null   \n",
       "22884               Myotis mystacinus/brandtii               null   \n",
       "22885               Myotis mystacinus/brandtii               null   \n",
       "22886                         Nyctalus noctula   (Schreber, 1774)   \n",
       "22887                         Nyctalus noctula   (Schreber, 1774)   \n",
       "22888               Myotis mystacinus/brandtii               null   \n",
       "22889               Myotis mystacinus/brandtii               null   \n",
       "22890               Myotis mystacinus/brandtii               null   \n",
       "22891               Myotis mystacinus/brandtii               null   \n",
       "22892               Myotis mystacinus/brandtii               null   \n",
       "22893               Myotis mystacinus/brandtii               null   \n",
       "22894               Myotis mystacinus/brandtii               null   \n",
       "22895               Myotis mystacinus/brandtii               null   \n",
       "22896               Myotis mystacinus/brandtii               null   \n",
       "22897               Myotis mystacinus/brandtii               null   \n",
       "22898               Myotis mystacinus/brandtii               null   \n",
       "\n",
       "                   commonName          taxonGroup sensitive zeroAbundance  \\\n",
       "0         Soprano Pipistrelle  terrestrial mammal     False         False   \n",
       "1          Common Pipistrelle  terrestrial mammal     False         False   \n",
       "2          Common Pipistrelle  terrestrial mammal     False         False   \n",
       "3          Common Pipistrelle  terrestrial mammal     False         False   \n",
       "4          Common Pipistrelle  terrestrial mammal     False         False   \n",
       "5          Common Pipistrelle  terrestrial mammal     False         False   \n",
       "6          Common Pipistrelle  terrestrial mammal     False         False   \n",
       "7          Common Pipistrelle  terrestrial mammal     False         False   \n",
       "8          Common Pipistrelle  terrestrial mammal     False         False   \n",
       "9          Common Pipistrelle  terrestrial mammal     False         False   \n",
       "10               Brandt's Bat  terrestrial mammal     False         False   \n",
       "11        Soprano Pipistrelle  terrestrial mammal     False         False   \n",
       "12        Western Barbastelle  terrestrial mammal     False         False   \n",
       "13        Western Barbastelle  terrestrial mammal     False         False   \n",
       "14        Western Barbastelle  terrestrial mammal     False         False   \n",
       "15        Western Barbastelle  terrestrial mammal     False         False   \n",
       "16        Western Barbastelle  terrestrial mammal     False         False   \n",
       "17               Brandt's Bat  terrestrial mammal     False         False   \n",
       "18        Western Barbastelle  terrestrial mammal     False         False   \n",
       "19                Pipistrelle  terrestrial mammal     False         False   \n",
       "20        Western Barbastelle  terrestrial mammal     False         False   \n",
       "21                Pipistrelle  terrestrial mammal     False         False   \n",
       "22               Brandt's Bat  terrestrial mammal     False         False   \n",
       "23               Brandt's Bat  terrestrial mammal     False         False   \n",
       "24               Brandt's Bat  terrestrial mammal     False         False   \n",
       "25                Pipistrelle  terrestrial mammal     False         False   \n",
       "26        Western Barbastelle  terrestrial mammal     False         False   \n",
       "27                Pipistrelle  terrestrial mammal     False         False   \n",
       "28        Western Barbastelle  terrestrial mammal     False         False   \n",
       "29                Pipistrelle  terrestrial mammal     False         False   \n",
       "...                       ...                 ...       ...           ...   \n",
       "22869  Whiskered/Brandt's Bat  terrestrial mammal     False         False   \n",
       "22870  Whiskered/Brandt's Bat  terrestrial mammal     False         False   \n",
       "22871  Whiskered/Brandt's Bat  terrestrial mammal     False         False   \n",
       "22872  Whiskered/Brandt's Bat  terrestrial mammal     False         False   \n",
       "22873  Whiskered/Brandt's Bat  terrestrial mammal     False         False   \n",
       "22874  Whiskered/Brandt's Bat  terrestrial mammal     False         False   \n",
       "22875  Whiskered/Brandt's Bat  terrestrial mammal     False         False   \n",
       "22876  Whiskered/Brandt's Bat  terrestrial mammal     False         False   \n",
       "22877  Whiskered/Brandt's Bat  terrestrial mammal     False         False   \n",
       "22878  Whiskered/Brandt's Bat  terrestrial mammal     False         False   \n",
       "22879  Whiskered/Brandt's Bat  terrestrial mammal     False         False   \n",
       "22880  Whiskered/Brandt's Bat  terrestrial mammal     False         False   \n",
       "22881  Whiskered/Brandt's Bat  terrestrial mammal     False         False   \n",
       "22882  Whiskered/Brandt's Bat  terrestrial mammal     False         False   \n",
       "22883  Whiskered/Brandt's Bat  terrestrial mammal     False         False   \n",
       "22884  Whiskered/Brandt's Bat  terrestrial mammal     False         False   \n",
       "22885  Whiskered/Brandt's Bat  terrestrial mammal     False         False   \n",
       "22886             Noctule Bat  terrestrial mammal     False         False   \n",
       "22887             Noctule Bat  terrestrial mammal     False         False   \n",
       "22888  Whiskered/Brandt's Bat  terrestrial mammal     False         False   \n",
       "22889  Whiskered/Brandt's Bat  terrestrial mammal     False         False   \n",
       "22890  Whiskered/Brandt's Bat  terrestrial mammal     False         False   \n",
       "22891  Whiskered/Brandt's Bat  terrestrial mammal     False         False   \n",
       "22892  Whiskered/Brandt's Bat  terrestrial mammal     False         False   \n",
       "22893  Whiskered/Brandt's Bat  terrestrial mammal     False         False   \n",
       "22894  Whiskered/Brandt's Bat  terrestrial mammal     False         False   \n",
       "22895  Whiskered/Brandt's Bat  terrestrial mammal     False         False   \n",
       "22896  Whiskered/Brandt's Bat  terrestrial mammal     False         False   \n",
       "22897  Whiskered/Brandt's Bat  terrestrial mammal     False         False   \n",
       "22898  Whiskered/Brandt's Bat  terrestrial mammal     False         False   \n",
       "\n",
       "      fullVersion  \n",
       "0           False  \n",
       "1           False  \n",
       "2           False  \n",
       "3           False  \n",
       "4           False  \n",
       "5           False  \n",
       "6           False  \n",
       "7           False  \n",
       "8           False  \n",
       "9           False  \n",
       "10          False  \n",
       "11          False  \n",
       "12          False  \n",
       "13          False  \n",
       "14          False  \n",
       "15          False  \n",
       "16          False  \n",
       "17          False  \n",
       "18          False  \n",
       "19          False  \n",
       "20          False  \n",
       "21          False  \n",
       "22          False  \n",
       "23          False  \n",
       "24          False  \n",
       "25          False  \n",
       "26          False  \n",
       "27          False  \n",
       "28          False  \n",
       "29          False  \n",
       "...           ...  \n",
       "22869       False  \n",
       "22870       False  \n",
       "22871       False  \n",
       "22872       False  \n",
       "22873       False  \n",
       "22874       False  \n",
       "22875       False  \n",
       "22876       False  \n",
       "22877       False  \n",
       "22878       False  \n",
       "22879       False  \n",
       "22880       False  \n",
       "22881       False  \n",
       "22882       False  \n",
       "22883       False  \n",
       "22884       False  \n",
       "22885       False  \n",
       "22886       False  \n",
       "22887       False  \n",
       "22888       False  \n",
       "22889       False  \n",
       "22890       False  \n",
       "22891       False  \n",
       "22892       False  \n",
       "22893       False  \n",
       "22894       False  \n",
       "22895       False  \n",
       "22896       False  \n",
       "22897       False  \n",
       "22898       False  \n",
       "\n",
       "[22899 rows x 24 columns]>"
      ]
     },
     "execution_count": 24,
     "metadata": {},
     "output_type": "execute_result"
    }
   ],
   "source": [
    "hibernation_df.describe"
   ]
  },
  {
   "cell_type": "markdown",
   "metadata": {},
   "source": [
    "Most of the above columns in both datasets seems to repeat the same information for each row and even those that do not seem to have a lot of NaN values."
   ]
  },
  {
   "cell_type": "markdown",
   "metadata": {},
   "source": [
    "Each column is for a single observation of a bat, as such some columns do not seem very useful."
   ]
  },
  {
   "cell_type": "markdown",
   "metadata": {},
   "source": [
    "# Exploring which common columns are useful for comparing the datasets"
   ]
  },
  {
   "cell_type": "markdown",
   "metadata": {},
   "source": [
    "The authority columns:"
   ]
  },
  {
   "cell_type": "code",
   "execution_count": 25,
   "metadata": {
    "collapsed": false,
    "run_control": {
     "read_only": false
    }
   },
   "outputs": [
    {
     "data": {
      "text/plain": [
       "array(['(Leach, 1825)', '(Schreber, 1774)', '(Eversmann, 1845)',\n",
       "       '(Linnaeus, 1758)', '(Kuhl, 1817)', 'Blumenbach, 1779',\n",
       "       '(Fischer, 1829)', 'Geoffroy, 1818', '(Bechstein, 1800)', 'null',\n",
       "       '(Borkhausen, 1797)', 'Kaup, 1829'], dtype=object)"
      ]
     },
     "execution_count": 25,
     "metadata": {},
     "output_type": "execute_result"
    }
   ],
   "source": [
    "hibernation_df.authority.unique()"
   ]
  },
  {
   "cell_type": "code",
   "execution_count": 26,
   "metadata": {
    "collapsed": false,
    "run_control": {
     "read_only": false
    }
   },
   "outputs": [
    {
     "data": {
      "text/plain": [
       "array(['(Linnaeus, 1758)', '(Schreber, 1774)', '(Leach, 1825)',\n",
       "       '(Kuhl, 1817)', '(Bechstein, 1800)', 'Blumenbach, 1779',\n",
       "       '(Eversmann, 1845)', 'null', '(Fischer, 1829)'], dtype=object)"
      ]
     },
     "execution_count": 26,
     "metadata": {},
     "output_type": "execute_result"
    }
   ],
   "source": [
    "roost_df.authority.unique()"
   ]
  },
  {
   "cell_type": "markdown",
   "metadata": {},
   "source": [
    "The authority columns have values which are not shared. This column doesn't appear to be useful anyway as it appears to say who named the bat species."
   ]
  },
  {
   "cell_type": "markdown",
   "metadata": {},
   "source": [
    "The dateType colulmns:"
   ]
  },
  {
   "cell_type": "code",
   "execution_count": 27,
   "metadata": {
    "collapsed": false,
    "run_control": {
     "read_only": false
    }
   },
   "outputs": [
    {
     "data": {
      "text/plain": [
       "array(['Day'], dtype=object)"
      ]
     },
     "execution_count": 27,
     "metadata": {},
     "output_type": "execute_result"
    }
   ],
   "source": [
    "hibernation_df.dateType.unique()"
   ]
  },
  {
   "cell_type": "code",
   "execution_count": 28,
   "metadata": {
    "collapsed": false,
    "run_control": {
     "read_only": false
    }
   },
   "outputs": [
    {
     "data": {
      "text/plain": [
       "array(['Day', 'Year'], dtype=object)"
      ]
     },
     "execution_count": 28,
     "metadata": {},
     "output_type": "execute_result"
    }
   ],
   "source": [
    "roost_df.dateType.unique()"
   ]
  },
  {
   "cell_type": "code",
   "execution_count": 29,
   "metadata": {
    "collapsed": false,
    "run_control": {
     "read_only": false
    }
   },
   "outputs": [
    {
     "data": {
      "text/html": [
       "<div>\n",
       "<table border=\"1\" class=\"dataframe\">\n",
       "  <thead>\n",
       "    <tr style=\"text-align: right;\">\n",
       "      <th></th>\n",
       "      <th>observationID</th>\n",
       "      <th>recordKey</th>\n",
       "      <th>organisationName</th>\n",
       "      <th>datasetKey</th>\n",
       "      <th>surveyKey</th>\n",
       "      <th>sampleKey</th>\n",
       "      <th>gridReference</th>\n",
       "      <th>precision</th>\n",
       "      <th>siteKey</th>\n",
       "      <th>siteName</th>\n",
       "      <th>...</th>\n",
       "      <th>sensitive</th>\n",
       "      <th>zeroAbundance</th>\n",
       "      <th>fullVersion</th>\n",
       "      <th>Abundance</th>\n",
       "      <th>Comments</th>\n",
       "      <th>HRGridReference</th>\n",
       "      <th>LocationName</th>\n",
       "      <th>RecordType</th>\n",
       "      <th>SpeciesIDMethod</th>\n",
       "      <th>SurveyType</th>\n",
       "    </tr>\n",
       "  </thead>\n",
       "  <tbody>\n",
       "    <tr>\n",
       "      <th>435</th>\n",
       "      <td>463194934</td>\n",
       "      <td>1009423</td>\n",
       "      <td>The Bat Conservation Trust</td>\n",
       "      <td>GA000616</td>\n",
       "      <td>1</td>\n",
       "      <td>1</td>\n",
       "      <td>SE1314</td>\n",
       "      <td>1km</td>\n",
       "      <td>NaN</td>\n",
       "      <td>NaN</td>\n",
       "      <td>...</td>\n",
       "      <td>False</td>\n",
       "      <td>False</td>\n",
       "      <td>False</td>\n",
       "      <td>NaN</td>\n",
       "      <td>NaN</td>\n",
       "      <td>NaN</td>\n",
       "      <td>NaN</td>\n",
       "      <td>NaN</td>\n",
       "      <td>NaN</td>\n",
       "      <td>NaN</td>\n",
       "    </tr>\n",
       "    <tr>\n",
       "      <th>441</th>\n",
       "      <td>463195128</td>\n",
       "      <td>1001226</td>\n",
       "      <td>The Bat Conservation Trust</td>\n",
       "      <td>GA000616</td>\n",
       "      <td>1</td>\n",
       "      <td>1</td>\n",
       "      <td>NT5977</td>\n",
       "      <td>1km</td>\n",
       "      <td>NaN</td>\n",
       "      <td>NaN</td>\n",
       "      <td>...</td>\n",
       "      <td>False</td>\n",
       "      <td>False</td>\n",
       "      <td>False</td>\n",
       "      <td>NaN</td>\n",
       "      <td>NaN</td>\n",
       "      <td>NaN</td>\n",
       "      <td>NaN</td>\n",
       "      <td>NaN</td>\n",
       "      <td>NaN</td>\n",
       "      <td>NaN</td>\n",
       "    </tr>\n",
       "    <tr>\n",
       "      <th>474</th>\n",
       "      <td>463196060</td>\n",
       "      <td>1015655</td>\n",
       "      <td>The Bat Conservation Trust</td>\n",
       "      <td>GA000616</td>\n",
       "      <td>1</td>\n",
       "      <td>1</td>\n",
       "      <td>TA0333</td>\n",
       "      <td>1km</td>\n",
       "      <td>NaN</td>\n",
       "      <td>NaN</td>\n",
       "      <td>...</td>\n",
       "      <td>False</td>\n",
       "      <td>False</td>\n",
       "      <td>False</td>\n",
       "      <td>NaN</td>\n",
       "      <td>NaN</td>\n",
       "      <td>NaN</td>\n",
       "      <td>NaN</td>\n",
       "      <td>NaN</td>\n",
       "      <td>NaN</td>\n",
       "      <td>NaN</td>\n",
       "    </tr>\n",
       "    <tr>\n",
       "      <th>581</th>\n",
       "      <td>463196865</td>\n",
       "      <td>1006994</td>\n",
       "      <td>The Bat Conservation Trust</td>\n",
       "      <td>GA000616</td>\n",
       "      <td>1</td>\n",
       "      <td>1</td>\n",
       "      <td>NS8992</td>\n",
       "      <td>1km</td>\n",
       "      <td>NaN</td>\n",
       "      <td>NaN</td>\n",
       "      <td>...</td>\n",
       "      <td>False</td>\n",
       "      <td>False</td>\n",
       "      <td>False</td>\n",
       "      <td>NaN</td>\n",
       "      <td>NaN</td>\n",
       "      <td>NaN</td>\n",
       "      <td>NaN</td>\n",
       "      <td>NaN</td>\n",
       "      <td>NaN</td>\n",
       "      <td>NaN</td>\n",
       "    </tr>\n",
       "    <tr>\n",
       "      <th>636</th>\n",
       "      <td>463197217</td>\n",
       "      <td>1000063</td>\n",
       "      <td>The Bat Conservation Trust</td>\n",
       "      <td>GA000616</td>\n",
       "      <td>1</td>\n",
       "      <td>1</td>\n",
       "      <td>NM6863</td>\n",
       "      <td>1km</td>\n",
       "      <td>NaN</td>\n",
       "      <td>NaN</td>\n",
       "      <td>...</td>\n",
       "      <td>False</td>\n",
       "      <td>False</td>\n",
       "      <td>False</td>\n",
       "      <td>NaN</td>\n",
       "      <td>NaN</td>\n",
       "      <td>NaN</td>\n",
       "      <td>NaN</td>\n",
       "      <td>NaN</td>\n",
       "      <td>NaN</td>\n",
       "      <td>NaN</td>\n",
       "    </tr>\n",
       "  </tbody>\n",
       "</table>\n",
       "<p>5 rows × 31 columns</p>\n",
       "</div>"
      ],
      "text/plain": [
       "     observationID  recordKey            organisationName datasetKey  \\\n",
       "435      463194934    1009423  The Bat Conservation Trust   GA000616   \n",
       "441      463195128    1001226  The Bat Conservation Trust   GA000616   \n",
       "474      463196060    1015655  The Bat Conservation Trust   GA000616   \n",
       "581      463196865    1006994  The Bat Conservation Trust   GA000616   \n",
       "636      463197217    1000063  The Bat Conservation Trust   GA000616   \n",
       "\n",
       "     surveyKey  sampleKey gridReference precision  siteKey  siteName  \\\n",
       "435          1          1        SE1314       1km      NaN       NaN   \n",
       "441          1          1        NT5977       1km      NaN       NaN   \n",
       "474          1          1        TA0333       1km      NaN       NaN   \n",
       "581          1          1        NS8992       1km      NaN       NaN   \n",
       "636          1          1        NM6863       1km      NaN       NaN   \n",
       "\n",
       "       ...      sensitive zeroAbundance fullVersion Abundance  Comments  \\\n",
       "435    ...          False         False       False       NaN       NaN   \n",
       "441    ...          False         False       False       NaN       NaN   \n",
       "474    ...          False         False       False       NaN       NaN   \n",
       "581    ...          False         False       False       NaN       NaN   \n",
       "636    ...          False         False       False       NaN       NaN   \n",
       "\n",
       "     HRGridReference LocationName RecordType SpeciesIDMethod SurveyType  \n",
       "435              NaN          NaN        NaN             NaN        NaN  \n",
       "441              NaN          NaN        NaN             NaN        NaN  \n",
       "474              NaN          NaN        NaN             NaN        NaN  \n",
       "581              NaN          NaN        NaN             NaN        NaN  \n",
       "636              NaN          NaN        NaN             NaN        NaN  \n",
       "\n",
       "[5 rows x 31 columns]"
      ]
     },
     "execution_count": 29,
     "metadata": {},
     "output_type": "execute_result"
    }
   ],
   "source": [
    "roost_df[roost_df['dateType']=='Day'].count()\n",
    "roost_df[roost_df['dateType']=='Year'].count()\n",
    "#dateType value of 'Day' 22360 records\n",
    "#dateType value of 'Year' 1319 records\n",
    "roost_df[roost_df['dateType']=='Year'].head()"
   ]
  },
  {
   "cell_type": "code",
   "execution_count": 30,
   "metadata": {
    "collapsed": false,
    "run_control": {
     "read_only": false
    }
   },
   "outputs": [
    {
     "data": {
      "text/html": [
       "<div>\n",
       "<table border=\"1\" class=\"dataframe\">\n",
       "  <thead>\n",
       "    <tr style=\"text-align: right;\">\n",
       "      <th></th>\n",
       "      <th>observationID</th>\n",
       "      <th>recordKey</th>\n",
       "      <th>organisationName</th>\n",
       "      <th>datasetKey</th>\n",
       "      <th>surveyKey</th>\n",
       "      <th>sampleKey</th>\n",
       "      <th>gridReference</th>\n",
       "      <th>precision</th>\n",
       "      <th>siteKey</th>\n",
       "      <th>siteName</th>\n",
       "      <th>...</th>\n",
       "      <th>sensitive</th>\n",
       "      <th>zeroAbundance</th>\n",
       "      <th>fullVersion</th>\n",
       "      <th>Abundance</th>\n",
       "      <th>Comments</th>\n",
       "      <th>HRGridReference</th>\n",
       "      <th>LocationName</th>\n",
       "      <th>RecordType</th>\n",
       "      <th>SpeciesIDMethod</th>\n",
       "      <th>SurveyType</th>\n",
       "    </tr>\n",
       "  </thead>\n",
       "  <tbody>\n",
       "    <tr>\n",
       "      <th>0</th>\n",
       "      <td>463185100</td>\n",
       "      <td>7871</td>\n",
       "      <td>The Bat Conservation Trust</td>\n",
       "      <td>GA000616</td>\n",
       "      <td>1</td>\n",
       "      <td>1</td>\n",
       "      <td>NN5620</td>\n",
       "      <td>1km</td>\n",
       "      <td>NaN</td>\n",
       "      <td>NaN</td>\n",
       "      <td>...</td>\n",
       "      <td>False</td>\n",
       "      <td>False</td>\n",
       "      <td>False</td>\n",
       "      <td>NaN</td>\n",
       "      <td>NaN</td>\n",
       "      <td>NaN</td>\n",
       "      <td>NaN</td>\n",
       "      <td>NaN</td>\n",
       "      <td>NaN</td>\n",
       "      <td>NaN</td>\n",
       "    </tr>\n",
       "    <tr>\n",
       "      <th>1</th>\n",
       "      <td>463185128</td>\n",
       "      <td>1506</td>\n",
       "      <td>The Bat Conservation Trust</td>\n",
       "      <td>GA000616</td>\n",
       "      <td>1</td>\n",
       "      <td>1</td>\n",
       "      <td>NR2767</td>\n",
       "      <td>1km</td>\n",
       "      <td>NaN</td>\n",
       "      <td>NaN</td>\n",
       "      <td>...</td>\n",
       "      <td>False</td>\n",
       "      <td>False</td>\n",
       "      <td>False</td>\n",
       "      <td>NaN</td>\n",
       "      <td>NaN</td>\n",
       "      <td>NaN</td>\n",
       "      <td>NaN</td>\n",
       "      <td>NaN</td>\n",
       "      <td>NaN</td>\n",
       "      <td>NaN</td>\n",
       "    </tr>\n",
       "    <tr>\n",
       "      <th>2</th>\n",
       "      <td>463185129</td>\n",
       "      <td>1507</td>\n",
       "      <td>The Bat Conservation Trust</td>\n",
       "      <td>GA000616</td>\n",
       "      <td>1</td>\n",
       "      <td>1</td>\n",
       "      <td>NR2767</td>\n",
       "      <td>1km</td>\n",
       "      <td>NaN</td>\n",
       "      <td>NaN</td>\n",
       "      <td>...</td>\n",
       "      <td>False</td>\n",
       "      <td>False</td>\n",
       "      <td>False</td>\n",
       "      <td>NaN</td>\n",
       "      <td>NaN</td>\n",
       "      <td>NaN</td>\n",
       "      <td>NaN</td>\n",
       "      <td>NaN</td>\n",
       "      <td>NaN</td>\n",
       "      <td>NaN</td>\n",
       "    </tr>\n",
       "    <tr>\n",
       "      <th>3</th>\n",
       "      <td>463185205</td>\n",
       "      <td>756</td>\n",
       "      <td>The Bat Conservation Trust</td>\n",
       "      <td>GA000616</td>\n",
       "      <td>1</td>\n",
       "      <td>1</td>\n",
       "      <td>TA0333</td>\n",
       "      <td>1km</td>\n",
       "      <td>NaN</td>\n",
       "      <td>NaN</td>\n",
       "      <td>...</td>\n",
       "      <td>False</td>\n",
       "      <td>False</td>\n",
       "      <td>False</td>\n",
       "      <td>NaN</td>\n",
       "      <td>NaN</td>\n",
       "      <td>NaN</td>\n",
       "      <td>NaN</td>\n",
       "      <td>NaN</td>\n",
       "      <td>NaN</td>\n",
       "      <td>NaN</td>\n",
       "    </tr>\n",
       "    <tr>\n",
       "      <th>4</th>\n",
       "      <td>463185255</td>\n",
       "      <td>12799</td>\n",
       "      <td>The Bat Conservation Trust</td>\n",
       "      <td>GA000616</td>\n",
       "      <td>1</td>\n",
       "      <td>1</td>\n",
       "      <td>NN7102</td>\n",
       "      <td>1km</td>\n",
       "      <td>NaN</td>\n",
       "      <td>NaN</td>\n",
       "      <td>...</td>\n",
       "      <td>False</td>\n",
       "      <td>False</td>\n",
       "      <td>False</td>\n",
       "      <td>NaN</td>\n",
       "      <td>NaN</td>\n",
       "      <td>NaN</td>\n",
       "      <td>NaN</td>\n",
       "      <td>NaN</td>\n",
       "      <td>NaN</td>\n",
       "      <td>NaN</td>\n",
       "    </tr>\n",
       "  </tbody>\n",
       "</table>\n",
       "<p>5 rows × 31 columns</p>\n",
       "</div>"
      ],
      "text/plain": [
       "   observationID  recordKey            organisationName datasetKey  surveyKey  \\\n",
       "0      463185100       7871  The Bat Conservation Trust   GA000616          1   \n",
       "1      463185128       1506  The Bat Conservation Trust   GA000616          1   \n",
       "2      463185129       1507  The Bat Conservation Trust   GA000616          1   \n",
       "3      463185205        756  The Bat Conservation Trust   GA000616          1   \n",
       "4      463185255      12799  The Bat Conservation Trust   GA000616          1   \n",
       "\n",
       "   sampleKey gridReference precision  siteKey  siteName    ...      sensitive  \\\n",
       "0          1        NN5620       1km      NaN       NaN    ...          False   \n",
       "1          1        NR2767       1km      NaN       NaN    ...          False   \n",
       "2          1        NR2767       1km      NaN       NaN    ...          False   \n",
       "3          1        TA0333       1km      NaN       NaN    ...          False   \n",
       "4          1        NN7102       1km      NaN       NaN    ...          False   \n",
       "\n",
       "  zeroAbundance fullVersion Abundance  Comments  HRGridReference LocationName  \\\n",
       "0         False       False       NaN       NaN              NaN          NaN   \n",
       "1         False       False       NaN       NaN              NaN          NaN   \n",
       "2         False       False       NaN       NaN              NaN          NaN   \n",
       "3         False       False       NaN       NaN              NaN          NaN   \n",
       "4         False       False       NaN       NaN              NaN          NaN   \n",
       "\n",
       "  RecordType SpeciesIDMethod SurveyType  \n",
       "0        NaN             NaN        NaN  \n",
       "1        NaN             NaN        NaN  \n",
       "2        NaN             NaN        NaN  \n",
       "3        NaN             NaN        NaN  \n",
       "4        NaN             NaN        NaN  \n",
       "\n",
       "[5 rows x 31 columns]"
      ]
     },
     "execution_count": 30,
     "metadata": {},
     "output_type": "execute_result"
    }
   ],
   "source": [
    "roost_df[roost_df['dateType']=='Day'].head()"
   ]
  },
  {
   "cell_type": "code",
   "execution_count": 31,
   "metadata": {
    "collapsed": false,
    "run_control": {
     "read_only": false
    }
   },
   "outputs": [
    {
     "data": {
      "text/html": [
       "<div>\n",
       "<table border=\"1\" class=\"dataframe\">\n",
       "  <thead>\n",
       "    <tr style=\"text-align: right;\">\n",
       "      <th></th>\n",
       "      <th>startDate</th>\n",
       "      <th>endDate</th>\n",
       "    </tr>\n",
       "  </thead>\n",
       "  <tbody>\n",
       "    <tr>\n",
       "      <th>0</th>\n",
       "      <td>16/06/2007</td>\n",
       "      <td>16/06/2007</td>\n",
       "    </tr>\n",
       "    <tr>\n",
       "      <th>1</th>\n",
       "      <td>29/05/2010</td>\n",
       "      <td>29/05/2010</td>\n",
       "    </tr>\n",
       "    <tr>\n",
       "      <th>2</th>\n",
       "      <td>06/06/2010</td>\n",
       "      <td>06/06/2010</td>\n",
       "    </tr>\n",
       "    <tr>\n",
       "      <th>3</th>\n",
       "      <td>13/07/2010</td>\n",
       "      <td>13/07/2010</td>\n",
       "    </tr>\n",
       "    <tr>\n",
       "      <th>4</th>\n",
       "      <td>11/07/2010</td>\n",
       "      <td>11/07/2010</td>\n",
       "    </tr>\n",
       "  </tbody>\n",
       "</table>\n",
       "</div>"
      ],
      "text/plain": [
       "    startDate     endDate\n",
       "0  16/06/2007  16/06/2007\n",
       "1  29/05/2010  29/05/2010\n",
       "2  06/06/2010  06/06/2010\n",
       "3  13/07/2010  13/07/2010\n",
       "4  11/07/2010  11/07/2010"
      ]
     },
     "execution_count": 31,
     "metadata": {},
     "output_type": "execute_result"
    }
   ],
   "source": [
    "roost_df[['startDate', 'endDate']].head()"
   ]
  },
  {
   "cell_type": "code",
   "execution_count": 32,
   "metadata": {
    "collapsed": true,
    "run_control": {
     "read_only": false
    }
   },
   "outputs": [],
   "source": [
    "roost_df_year = roost_df[roost_df['dateType']=='Year']"
   ]
  },
  {
   "cell_type": "code",
   "execution_count": 33,
   "metadata": {
    "collapsed": false,
    "run_control": {
     "read_only": false
    }
   },
   "outputs": [
    {
     "data": {
      "text/html": [
       "<div>\n",
       "<table border=\"1\" class=\"dataframe\">\n",
       "  <thead>\n",
       "    <tr style=\"text-align: right;\">\n",
       "      <th></th>\n",
       "      <th>startDate</th>\n",
       "      <th>endDate</th>\n",
       "    </tr>\n",
       "  </thead>\n",
       "  <tbody>\n",
       "    <tr>\n",
       "      <th>435</th>\n",
       "      <td>01/01/2002</td>\n",
       "      <td>31/12/2002</td>\n",
       "    </tr>\n",
       "    <tr>\n",
       "      <th>441</th>\n",
       "      <td>01/01/2004</td>\n",
       "      <td>31/12/2004</td>\n",
       "    </tr>\n",
       "    <tr>\n",
       "      <th>474</th>\n",
       "      <td>01/01/2013</td>\n",
       "      <td>31/12/2013</td>\n",
       "    </tr>\n",
       "    <tr>\n",
       "      <th>581</th>\n",
       "      <td>01/01/2012</td>\n",
       "      <td>31/12/2012</td>\n",
       "    </tr>\n",
       "    <tr>\n",
       "      <th>636</th>\n",
       "      <td>01/01/2002</td>\n",
       "      <td>31/12/2002</td>\n",
       "    </tr>\n",
       "  </tbody>\n",
       "</table>\n",
       "</div>"
      ],
      "text/plain": [
       "      startDate     endDate\n",
       "435  01/01/2002  31/12/2002\n",
       "441  01/01/2004  31/12/2004\n",
       "474  01/01/2013  31/12/2013\n",
       "581  01/01/2012  31/12/2012\n",
       "636  01/01/2002  31/12/2002"
      ]
     },
     "execution_count": 33,
     "metadata": {},
     "output_type": "execute_result"
    }
   ],
   "source": [
    "roost_df_year[['startDate', 'endDate']].head()"
   ]
  },
  {
   "cell_type": "markdown",
   "metadata": {},
   "source": [
    "The hibernation dataset has a dateType of day while the roost dataset has day and year. \n",
    "\n",
    "There doesn't appear to be anything different about the values that have dataType year and roost metadata states that roost observations are for two days in summer. So the dateType column does not appear to be useful."
   ]
  },
  {
   "cell_type": "markdown",
   "metadata": {},
   "source": [
    "Examining the other date columns."
   ]
  },
  {
   "cell_type": "code",
   "execution_count": 34,
   "metadata": {
    "collapsed": false,
    "run_control": {
     "read_only": false
    }
   },
   "outputs": [
    {
     "data": {
      "text/plain": [
       "2180"
      ]
     },
     "execution_count": 34,
     "metadata": {},
     "output_type": "execute_result"
    }
   ],
   "source": [
    "len(hibernation_df.endDate.unique())"
   ]
  },
  {
   "cell_type": "code",
   "execution_count": 35,
   "metadata": {
    "collapsed": false,
    "run_control": {
     "read_only": false
    }
   },
   "outputs": [
    {
     "data": {
      "text/plain": [
       "2180"
      ]
     },
     "execution_count": 35,
     "metadata": {},
     "output_type": "execute_result"
    }
   ],
   "source": [
    "len(hibernation_df.startDate.unique())"
   ]
  },
  {
   "cell_type": "markdown",
   "metadata": {},
   "source": [
    "There are 2180 unique startDate and endDate values in the hibernation dataset."
   ]
  },
  {
   "cell_type": "code",
   "execution_count": 36,
   "metadata": {
    "collapsed": false,
    "run_control": {
     "read_only": false
    }
   },
   "outputs": [
    {
     "data": {
      "text/plain": [
       "1930"
      ]
     },
     "execution_count": 36,
     "metadata": {},
     "output_type": "execute_result"
    }
   ],
   "source": [
    "len(roost_df.endDate.unique())"
   ]
  },
  {
   "cell_type": "code",
   "execution_count": 37,
   "metadata": {
    "collapsed": false,
    "run_control": {
     "read_only": false
    }
   },
   "outputs": [
    {
     "data": {
      "text/plain": [
       "1930"
      ]
     },
     "execution_count": 37,
     "metadata": {},
     "output_type": "execute_result"
    }
   ],
   "source": [
    "len(roost_df.startDate.unique())"
   ]
  },
  {
   "cell_type": "markdown",
   "metadata": {},
   "source": [
    "There are 1930 unique startDate and endDate values in the roost dataset."
   ]
  },
  {
   "cell_type": "markdown",
   "metadata": {},
   "source": [
    "The determiner columns:"
   ]
  },
  {
   "cell_type": "code",
   "execution_count": 38,
   "metadata": {
    "collapsed": false,
    "run_control": {
     "read_only": false
    }
   },
   "outputs": [
    {
     "data": {
      "text/plain": [
       "array([ nan])"
      ]
     },
     "execution_count": 38,
     "metadata": {},
     "output_type": "execute_result"
    }
   ],
   "source": [
    "hibernation_df.determiner.unique()"
   ]
  },
  {
   "cell_type": "code",
   "execution_count": 39,
   "metadata": {
    "collapsed": false,
    "run_control": {
     "read_only": false
    }
   },
   "outputs": [
    {
     "data": {
      "text/plain": [
       "array([ nan])"
      ]
     },
     "execution_count": 39,
     "metadata": {},
     "output_type": "execute_result"
    }
   ],
   "source": [
    "roost_df.determiner.unique()"
   ]
  },
  {
   "cell_type": "markdown",
   "metadata": {},
   "source": [
    "The determiner column is NaN for both datasets so does not appear to be useful."
   ]
  },
  {
   "cell_type": "markdown",
   "metadata": {},
   "source": [
    "The featureKey columns:"
   ]
  },
  {
   "cell_type": "code",
   "execution_count": 40,
   "metadata": {
    "collapsed": false,
    "run_control": {
     "read_only": false
    },
    "scrolled": true
   },
   "outputs": [],
   "source": [
    "#hibernation_df.featureKey.unique()"
   ]
  },
  {
   "cell_type": "code",
   "execution_count": 41,
   "metadata": {
    "collapsed": false,
    "run_control": {
     "read_only": false
    }
   },
   "outputs": [
    {
     "data": {
      "text/plain": [
       "array([129467, 130452, 160033, ..., 849696, 811992, 665485], dtype=int64)"
      ]
     },
     "execution_count": 41,
     "metadata": {},
     "output_type": "execute_result"
    }
   ],
   "source": [
    "roost_df.featureKey.unique()"
   ]
  },
  {
   "cell_type": "markdown",
   "metadata": {},
   "source": [
    "It is not clear what the featureKey column is for but it does not seem useful."
   ]
  },
  {
   "cell_type": "markdown",
   "metadata": {},
   "source": [
    "The fullVersion columns:"
   ]
  },
  {
   "cell_type": "code",
   "execution_count": 42,
   "metadata": {
    "collapsed": false,
    "run_control": {
     "read_only": false
    }
   },
   "outputs": [
    {
     "data": {
      "text/plain": [
       "array([False], dtype=object)"
      ]
     },
     "execution_count": 42,
     "metadata": {},
     "output_type": "execute_result"
    }
   ],
   "source": [
    "hibernation_df.fullVersion.unique()"
   ]
  },
  {
   "cell_type": "code",
   "execution_count": 43,
   "metadata": {
    "collapsed": false,
    "run_control": {
     "read_only": false
    }
   },
   "outputs": [
    {
     "data": {
      "text/plain": [
       "array([False], dtype=object)"
      ]
     },
     "execution_count": 43,
     "metadata": {},
     "output_type": "execute_result"
    }
   ],
   "source": [
    "roost_df.fullVersion.unique()"
   ]
  },
  {
   "cell_type": "markdown",
   "metadata": {},
   "source": [
    "Some of the data is restricted due to vulnerable species and to protect the privacy of land owners as stated in the metadata. So it seems this column just states that it is not the full version of the data."
   ]
  },
  {
   "cell_type": "markdown",
   "metadata": {},
   "source": [
    "The gridRefernce columns:"
   ]
  },
  {
   "cell_type": "code",
   "execution_count": 44,
   "metadata": {
    "collapsed": false,
    "run_control": {
     "read_only": false
    }
   },
   "outputs": [
    {
     "data": {
      "text/plain": [
       "350"
      ]
     },
     "execution_count": 44,
     "metadata": {},
     "output_type": "execute_result"
    }
   ],
   "source": [
    "len(hibernation_df.gridReference.unique())"
   ]
  },
  {
   "cell_type": "code",
   "execution_count": 45,
   "metadata": {
    "collapsed": false,
    "run_control": {
     "read_only": false
    }
   },
   "outputs": [
    {
     "data": {
      "text/plain": [
       "2026"
      ]
     },
     "execution_count": 45,
     "metadata": {},
     "output_type": "execute_result"
    }
   ],
   "source": [
    "len(roost_df.gridReference.unique())"
   ]
  },
  {
   "cell_type": "markdown",
   "metadata": {},
   "source": [
    "Each gridReference is for a unique site and there are 350 in the hibernation dataset and 2026 in the rooost dataset."
   ]
  },
  {
   "cell_type": "markdown",
   "metadata": {},
   "source": [
    "The observationID columns:"
   ]
  },
  {
   "cell_type": "code",
   "execution_count": 46,
   "metadata": {
    "collapsed": false,
    "run_control": {
     "read_only": false
    }
   },
   "outputs": [
    {
     "data": {
      "text/plain": [
       "22899"
      ]
     },
     "execution_count": 46,
     "metadata": {},
     "output_type": "execute_result"
    }
   ],
   "source": [
    "len(hibernation_df.observationID.unique())"
   ]
  },
  {
   "cell_type": "code",
   "execution_count": 47,
   "metadata": {
    "collapsed": false,
    "run_control": {
     "read_only": false
    }
   },
   "outputs": [
    {
     "data": {
      "text/plain": [
       "23679"
      ]
     },
     "execution_count": 47,
     "metadata": {},
     "output_type": "execute_result"
    }
   ],
   "source": [
    "len(roost_df.observationID.unique())"
   ]
  },
  {
   "cell_type": "markdown",
   "metadata": {},
   "source": [
    "Each observation of a bat has an observationID so there are 22,899 bats recorded in the hibernation data and 23,679 in the roost data."
   ]
  },
  {
   "cell_type": "markdown",
   "metadata": {},
   "source": [
    "The organisationName columns:"
   ]
  },
  {
   "cell_type": "code",
   "execution_count": 48,
   "metadata": {
    "collapsed": false,
    "run_control": {
     "read_only": false
    }
   },
   "outputs": [
    {
     "data": {
      "text/plain": [
       "array(['The Bat Conservation Trust'], dtype=object)"
      ]
     },
     "execution_count": 48,
     "metadata": {},
     "output_type": "execute_result"
    }
   ],
   "source": [
    "hibernation_df.organisationName.unique()"
   ]
  },
  {
   "cell_type": "code",
   "execution_count": 49,
   "metadata": {
    "collapsed": false,
    "run_control": {
     "read_only": false
    }
   },
   "outputs": [
    {
     "data": {
      "text/plain": [
       "array(['The Bat Conservation Trust'], dtype=object)"
      ]
     },
     "execution_count": 49,
     "metadata": {},
     "output_type": "execute_result"
    }
   ],
   "source": [
    "roost_df.organisationName.unique()"
   ]
  },
  {
   "cell_type": "markdown",
   "metadata": {},
   "source": [
    "Both datasets have unsurprisingly  the same value repeated for the organisationName column so it is not useful."
   ]
  },
  {
   "cell_type": "markdown",
   "metadata": {},
   "source": [
    "The pTaxonVersionKey columns:"
   ]
  },
  {
   "cell_type": "code",
   "execution_count": 50,
   "metadata": {
    "collapsed": false,
    "run_control": {
     "read_only": false
    }
   },
   "outputs": [
    {
     "data": {
      "text/plain": [
       "array(['NBNSYS0100004720', 'NHMSYS0020001355', 'NHMSYS0000528026',\n",
       "       'NHMSYS0000080178', 'NHMSYS0020001356', 'NBNSYS0000005102',\n",
       "       'NHMSYS0000528028', 'NHMSYS0000376160', 'NHMSYS0000528008',\n",
       "       'NHMSYS0000080176', 'NBNSYS0000005103', 'NBNSYS0000136687',\n",
       "       'NHMSYS0000080177', 'NHMSYS0000528024', 'NHMSYS0000528030',\n",
       "       'NHMSYS0000080184', 'NHMSYS0000080182', 'NHMSYS0000080185',\n",
       "       'NHMSYS0000080183', 'NBNSYS0000040730', 'NHMSYS0000080186'], dtype=object)"
      ]
     },
     "execution_count": 50,
     "metadata": {},
     "output_type": "execute_result"
    }
   ],
   "source": [
    "hibernation_df.pTaxonVersionKey.unique()"
   ]
  },
  {
   "cell_type": "code",
   "execution_count": 51,
   "metadata": {
    "collapsed": false,
    "run_control": {
     "read_only": false
    }
   },
   "outputs": [
    {
     "data": {
      "text/plain": [
       "array(['NBNSYS0100004720', 'NHMSYS0020001355', 'NHMSYS0000528026',\n",
       "       'NHMSYS0000080178', 'NHMSYS0020001356', 'NBNSYS0000005102',\n",
       "       'NHMSYS0000528028', 'NHMSYS0000376160', 'NHMSYS0000528008',\n",
       "       'NHMSYS0000080176', 'NBNSYS0000005103', 'NBNSYS0000136687',\n",
       "       'NHMSYS0000080177', 'NHMSYS0000528024', 'NHMSYS0000528030',\n",
       "       'NHMSYS0000080184', 'NHMSYS0000080182', 'NHMSYS0000080185',\n",
       "       'NHMSYS0000080183', 'NBNSYS0000040730', 'NHMSYS0000080186'], dtype=object)"
      ]
     },
     "execution_count": 51,
     "metadata": {},
     "output_type": "execute_result"
    }
   ],
   "source": [
    "hibernation_df.pTaxonVersionKey.unique()"
   ]
  },
  {
   "cell_type": "markdown",
   "metadata": {},
   "source": [
    "Seems to be the taxon version that is being used. I don't think this will be useful."
   ]
  },
  {
   "cell_type": "markdown",
   "metadata": {},
   "source": [
    "# Differences in precision values"
   ]
  },
  {
   "cell_type": "markdown",
   "metadata": {},
   "source": [
    "The precision columns:"
   ]
  },
  {
   "cell_type": "code",
   "execution_count": 52,
   "metadata": {
    "collapsed": false,
    "run_control": {
     "read_only": false
    }
   },
   "outputs": [
    {
     "data": {
      "text/plain": [
       "array(['10km'], dtype=object)"
      ]
     },
     "execution_count": 52,
     "metadata": {},
     "output_type": "execute_result"
    }
   ],
   "source": [
    "hibernation_df.precision.unique()"
   ]
  },
  {
   "cell_type": "code",
   "execution_count": 53,
   "metadata": {
    "collapsed": false,
    "run_control": {
     "read_only": false
    }
   },
   "outputs": [
    {
     "data": {
      "text/plain": [
       "array(['1km', '10km'], dtype=object)"
      ]
     },
     "execution_count": 53,
     "metadata": {},
     "output_type": "execute_result"
    }
   ],
   "source": [
    "roost_df.precision.unique()"
   ]
  },
  {
   "cell_type": "code",
   "execution_count": 54,
   "metadata": {
    "collapsed": false,
    "run_control": {
     "read_only": false
    }
   },
   "outputs": [
    {
     "data": {
      "text/plain": [
       "23674"
      ]
     },
     "execution_count": 54,
     "metadata": {},
     "output_type": "execute_result"
    }
   ],
   "source": [
    "roost_df.gridReference[roost_df['precision']=='1km'].count() "
   ]
  },
  {
   "cell_type": "code",
   "execution_count": 55,
   "metadata": {
    "collapsed": false,
    "run_control": {
     "read_only": false
    }
   },
   "outputs": [
    {
     "data": {
      "text/plain": [
       "5"
      ]
     },
     "execution_count": 55,
     "metadata": {},
     "output_type": "execute_result"
    }
   ],
   "source": [
    "roost_df.gridReference[roost_df['precision']=='10km'].count()"
   ]
  },
  {
   "cell_type": "markdown",
   "metadata": {
    "collapsed": true
   },
   "source": [
    "The roost data has 23,674 observations at 1km and 5 observations at 10km."
   ]
  },
  {
   "cell_type": "code",
   "execution_count": 56,
   "metadata": {
    "collapsed": false,
    "run_control": {
     "read_only": false
    }
   },
   "outputs": [
    {
     "data": {
      "text/plain": [
       "121     ST76\n",
       "122     ST76\n",
       "1074    SE30\n",
       "1075    SE30\n",
       "1076    SE30\n",
       "Name: gridReference, dtype: object"
      ]
     },
     "execution_count": 56,
     "metadata": {},
     "output_type": "execute_result"
    }
   ],
   "source": [
    "roost_df.gridReference[roost_df['precision']=='10km']"
   ]
  },
  {
   "cell_type": "markdown",
   "metadata": {
    "collapsed": true
   },
   "source": [
    "Only two sites are at a 10km precision."
   ]
  },
  {
   "cell_type": "markdown",
   "metadata": {
    "collapsed": true
   },
   "source": [
    "The precision to which the data is given is restricted due to sensitive species and privacy reasons as discussed above.\n",
    "\n",
    "Given the above stated low number of values I have elected to keep the data that is at a 10km precision."
   ]
  },
  {
   "cell_type": "markdown",
   "metadata": {},
   "source": [
    "The recordKey columns:"
   ]
  },
  {
   "cell_type": "code",
   "execution_count": 57,
   "metadata": {
    "collapsed": false,
    "run_control": {
     "read_only": false
    }
   },
   "outputs": [
    {
     "data": {
      "text/plain": [
       "22899"
      ]
     },
     "execution_count": 57,
     "metadata": {},
     "output_type": "execute_result"
    }
   ],
   "source": [
    "len(hibernation_df.recordKey.unique())"
   ]
  },
  {
   "cell_type": "code",
   "execution_count": 58,
   "metadata": {
    "collapsed": false,
    "run_control": {
     "read_only": false
    }
   },
   "outputs": [
    {
     "data": {
      "text/plain": [
       "23679"
      ]
     },
     "execution_count": 58,
     "metadata": {},
     "output_type": "execute_result"
    }
   ],
   "source": [
    "len(roost_df.recordKey.unique())"
   ]
  },
  {
   "cell_type": "markdown",
   "metadata": {},
   "source": [
    "Both datasets have a unique record key for each row."
   ]
  },
  {
   "cell_type": "markdown",
   "metadata": {},
   "source": [
    "The recorder columns:"
   ]
  },
  {
   "cell_type": "code",
   "execution_count": 59,
   "metadata": {
    "collapsed": false,
    "run_control": {
     "read_only": false
    }
   },
   "outputs": [
    {
     "data": {
      "text/plain": [
       "array([ nan])"
      ]
     },
     "execution_count": 59,
     "metadata": {},
     "output_type": "execute_result"
    }
   ],
   "source": [
    "hibernation_df.recorder.unique()"
   ]
  },
  {
   "cell_type": "code",
   "execution_count": 60,
   "metadata": {
    "collapsed": false,
    "run_control": {
     "read_only": false
    }
   },
   "outputs": [
    {
     "data": {
      "text/plain": [
       "array([ nan])"
      ]
     },
     "execution_count": 60,
     "metadata": {},
     "output_type": "execute_result"
    }
   ],
   "source": [
    "roost_df.recorder.unique()"
   ]
  },
  {
   "cell_type": "markdown",
   "metadata": {},
   "source": [
    "This is likely the name of the person who recorded the observation either way it is a NaN value in both datasets and therefore not useful."
   ]
  },
  {
   "cell_type": "markdown",
   "metadata": {},
   "source": [
    "The sampleKey columns:"
   ]
  },
  {
   "cell_type": "code",
   "execution_count": 61,
   "metadata": {
    "collapsed": false,
    "run_control": {
     "read_only": false
    }
   },
   "outputs": [
    {
     "data": {
      "text/plain": [
       "array([1], dtype=int64)"
      ]
     },
     "execution_count": 61,
     "metadata": {},
     "output_type": "execute_result"
    }
   ],
   "source": [
    "hibernation_df.sampleKey.unique()"
   ]
  },
  {
   "cell_type": "code",
   "execution_count": 62,
   "metadata": {
    "collapsed": false,
    "run_control": {
     "read_only": false
    }
   },
   "outputs": [
    {
     "data": {
      "text/plain": [
       "array([1], dtype=int64)"
      ]
     },
     "execution_count": 62,
     "metadata": {},
     "output_type": "execute_result"
    }
   ],
   "source": [
    "roost_df.sampleKey.unique()"
   ]
  },
  {
   "cell_type": "markdown",
   "metadata": {},
   "source": [
    "The sampleKey columns just repeat the same value and as such are not useful."
   ]
  },
  {
   "cell_type": "markdown",
   "metadata": {},
   "source": [
    "The sensitive columns:"
   ]
  },
  {
   "cell_type": "code",
   "execution_count": 63,
   "metadata": {
    "collapsed": false,
    "run_control": {
     "read_only": false
    }
   },
   "outputs": [
    {
     "data": {
      "text/plain": [
       "array([False], dtype=object)"
      ]
     },
     "execution_count": 63,
     "metadata": {},
     "output_type": "execute_result"
    }
   ],
   "source": [
    "hibernation_df.sensitive.unique()"
   ]
  },
  {
   "cell_type": "code",
   "execution_count": 64,
   "metadata": {
    "collapsed": false,
    "run_control": {
     "read_only": false
    }
   },
   "outputs": [
    {
     "data": {
      "text/plain": [
       "array([False], dtype=object)"
      ]
     },
     "execution_count": 64,
     "metadata": {},
     "output_type": "execute_result"
    }
   ],
   "source": [
    "roost_df.sensitive.unique()"
   ]
  },
  {
   "cell_type": "markdown",
   "metadata": {},
   "source": [
    "Just indicates that this dataset does not contain sensitive information as this is the restricted dataset. "
   ]
  },
  {
   "cell_type": "markdown",
   "metadata": {},
   "source": [
    "The siteName columns:"
   ]
  },
  {
   "cell_type": "code",
   "execution_count": 65,
   "metadata": {
    "collapsed": false,
    "run_control": {
     "read_only": false
    }
   },
   "outputs": [
    {
     "data": {
      "text/plain": [
       "array([    nan,  10032.,  10461.,  10393.,  10431.,  10394.,  30144.,\n",
       "        10030.,  10131.,  20036.,  10374.,  10357.,  10436.,  10056.,\n",
       "        10238.,  20003.,  52056.,  30268.,  10132.,  10389.,  10353.,\n",
       "        10355.,  20001.,  10421.,  10058.,  10536.,  10483.,  10484.,\n",
       "        10535.,  30338.,  10359.,  30062.,  30118.,  30126.,  10057.,\n",
       "        10059.,  30350.,  30351.,  10397.,  10481.,  10513.,  10534.,\n",
       "        30420.,  30319.,  30096.,  30170.,  30072.,  10053.,  10139.,\n",
       "        30213.,  30340.,  10054.,  30067.,  10212.,  10453.,  20002.,\n",
       "        30285.,  10140.,  30328.,  10060.,  10055.,  10136.,  30054.,\n",
       "        30065.,  30039.,  30066.,  10153.,  30008.,  30344.,  10352.,\n",
       "        20042.,  10324.,  10354.,  10560.,  30394.,  10563.])"
      ]
     },
     "execution_count": 65,
     "metadata": {},
     "output_type": "execute_result"
    }
   ],
   "source": [
    "hibernation_df.siteName.unique()"
   ]
  },
  {
   "cell_type": "code",
   "execution_count": 66,
   "metadata": {
    "collapsed": false,
    "run_control": {
     "read_only": false
    }
   },
   "outputs": [
    {
     "data": {
      "text/plain": [
       "76"
      ]
     },
     "execution_count": 66,
     "metadata": {},
     "output_type": "execute_result"
    }
   ],
   "source": [
    "len(hibernation_df.siteName.unique())"
   ]
  },
  {
   "cell_type": "code",
   "execution_count": 67,
   "metadata": {
    "collapsed": false,
    "run_control": {
     "read_only": false
    }
   },
   "outputs": [
    {
     "data": {
      "text/plain": [
       "array([    nan,  10032.,  10461.,  10393.,  10431.,  10394.,  30144.,\n",
       "        10030.,  10131.,  20036.,  10374.,  10357.,  10436.,  10056.,\n",
       "        10238.,  20003.,  52056.,  30268.,  10132.,  10389.,  10353.,\n",
       "        10355.,  20001.,  10421.,  10058.,  10536.,  10483.,  10484.,\n",
       "        10535.,  30338.,  10359.,  30062.,  30118.,  30126.,  10057.,\n",
       "        10059.,  30350.,  30351.,  10397.,  10481.,  10513.,  10534.,\n",
       "        30420.,  30319.,  30096.,  30170.,  30072.,  10053.,  10139.,\n",
       "        30213.,  30340.,  10054.,  30067.,  10212.,  10453.,  20002.,\n",
       "        30285.,  10140.,  30328.,  10060.,  10055.,  10136.,  30054.,\n",
       "        30065.,  30039.,  30066.,  10153.,  30008.,  30344.,  10352.,\n",
       "        20042.,  10324.,  10354.,  10560.,  30394.,  10563.])"
      ]
     },
     "execution_count": 67,
     "metadata": {},
     "output_type": "execute_result"
    }
   ],
   "source": [
    "hibernation_df.siteName.unique()"
   ]
  },
  {
   "cell_type": "code",
   "execution_count": 68,
   "metadata": {
    "collapsed": false,
    "run_control": {
     "read_only": false
    }
   },
   "outputs": [
    {
     "data": {
      "text/plain": [
       "200"
      ]
     },
     "execution_count": 68,
     "metadata": {},
     "output_type": "execute_result"
    }
   ],
   "source": [
    "len(roost_df.siteName.unique())"
   ]
  },
  {
   "cell_type": "markdown",
   "metadata": {},
   "source": [
    "It seems likely that the siteName column contains a key for each site and that some of them have been removed. But either way this column doesn't seem useful. \n",
    "\n",
    "Furthermore I have decided to use grid reference as the basis for differentiating sites as this is a value that all observations in both datasets have."
   ]
  },
  {
   "cell_type": "markdown",
   "metadata": {},
   "source": [
    "The surveyKey columns:"
   ]
  },
  {
   "cell_type": "code",
   "execution_count": 69,
   "metadata": {
    "collapsed": false,
    "run_control": {
     "read_only": false
    }
   },
   "outputs": [
    {
     "data": {
      "text/plain": [
       "array([1], dtype=int64)"
      ]
     },
     "execution_count": 69,
     "metadata": {},
     "output_type": "execute_result"
    }
   ],
   "source": [
    "hibernation_df.surveyKey.unique()"
   ]
  },
  {
   "cell_type": "code",
   "execution_count": 70,
   "metadata": {
    "collapsed": false,
    "run_control": {
     "read_only": false
    }
   },
   "outputs": [
    {
     "data": {
      "text/plain": [
       "array([1], dtype=int64)"
      ]
     },
     "execution_count": 70,
     "metadata": {},
     "output_type": "execute_result"
    }
   ],
   "source": [
    "roost_df.surveyKey.unique()"
   ]
  },
  {
   "cell_type": "markdown",
   "metadata": {},
   "source": [
    "Same value repeated, not useful."
   ]
  },
  {
   "cell_type": "markdown",
   "metadata": {},
   "source": [
    "The taxonGroup columns:"
   ]
  },
  {
   "cell_type": "code",
   "execution_count": 71,
   "metadata": {
    "collapsed": false,
    "run_control": {
     "read_only": false
    }
   },
   "outputs": [
    {
     "data": {
      "text/plain": [
       "array(['terrestrial mammal'], dtype=object)"
      ]
     },
     "execution_count": 71,
     "metadata": {},
     "output_type": "execute_result"
    }
   ],
   "source": [
    "hibernation_df.taxonGroup.unique()"
   ]
  },
  {
   "cell_type": "code",
   "execution_count": 72,
   "metadata": {
    "collapsed": false,
    "run_control": {
     "read_only": false
    }
   },
   "outputs": [
    {
     "data": {
      "text/plain": [
       "array(['terrestrial mammal'], dtype=object)"
      ]
     },
     "execution_count": 72,
     "metadata": {},
     "output_type": "execute_result"
    }
   ],
   "source": [
    "roost_df.taxonGroup.unique()"
   ]
  },
  {
   "cell_type": "markdown",
   "metadata": {},
   "source": [
    "Same value repeated, not useful."
   ]
  },
  {
   "cell_type": "markdown",
   "metadata": {},
   "source": [
    "# Name columns"
   ]
  },
  {
   "cell_type": "markdown",
   "metadata": {},
   "source": [
    "The commonName columns:"
   ]
  },
  {
   "cell_type": "code",
   "execution_count": 73,
   "metadata": {
    "collapsed": false,
    "run_control": {
     "read_only": false
    }
   },
   "outputs": [
    {
     "data": {
      "text/plain": [
       "array(['Soprano Pipistrelle', 'Common Pipistrelle', \"Brandt's Bat\",\n",
       "       'Western Barbastelle', 'Pipistrelle', 'Brown Long-eared Bat',\n",
       "       \"Daubenton's Bat\", 'Bat', 'Serotine', 'Greater Horseshoe Bat',\n",
       "       'Grey Long-eared Bat', 'Long-eared Bat species',\n",
       "       'Lesser Horseshoe Bat', \"Bechstein's Bat\", \"Whiskered/Brandt's Bat\",\n",
       "       \"Natterer's Bat\", 'Mouse-eared Bat', 'Lesser Noctule',\n",
       "       'Whiskered Bat', 'Myotis Bat species', 'Noctule Bat'], dtype=object)"
      ]
     },
     "execution_count": 73,
     "metadata": {},
     "output_type": "execute_result"
    }
   ],
   "source": [
    "hibernation_df.commonName.unique()"
   ]
  },
  {
   "cell_type": "code",
   "execution_count": 74,
   "metadata": {
    "collapsed": false,
    "run_control": {
     "read_only": false
    }
   },
   "outputs": [
    {
     "data": {
      "text/plain": [
       "array(['Brown Long-eared Bat', 'Common Pipistrelle', 'Pipistrelle',\n",
       "       'Soprano Pipistrelle', \"Natterer's Bat\", 'Lesser Horseshoe Bat',\n",
       "       'Serotine', 'Greater Horseshoe Bat', 'Noctule Bat', 'Whiskered Bat',\n",
       "       'Bat', \"Daubenton's Bat\", 'Lesser Noctule', \"Brandt's Bat\",\n",
       "       \"Whiskered/Brandt's Bat\", 'Grey Long-eared Bat', \"Bechstein's Bat\"], dtype=object)"
      ]
     },
     "execution_count": 74,
     "metadata": {},
     "output_type": "execute_result"
    }
   ],
   "source": [
    "roost_df.commonName.unique()"
   ]
  },
  {
   "cell_type": "markdown",
   "metadata": {},
   "source": [
    "# Differences in name columns"
   ]
  },
  {
   "cell_type": "markdown",
   "metadata": {},
   "source": [
    "The commonName columns contains for each respective dataset do not contain the same number of values. I think that taxonName may be a more appropriate choice for identifying the bat species."
   ]
  },
  {
   "cell_type": "code",
   "execution_count": 75,
   "metadata": {
    "collapsed": false,
    "run_control": {
     "read_only": false
    }
   },
   "outputs": [
    {
     "data": {
      "text/plain": [
       "array(['Pipistrellus pygmaeus', 'Pipistrellus pipistrellus sensu stricto',\n",
       "       'Myotis brandtii', 'Barbastella barbastellus',\n",
       "       'Pipistrellus pipistrellus sensu lato', 'Plecotus auritus',\n",
       "       'Myotis daubentonii', 'Chiroptera', 'Eptesicus serotinus',\n",
       "       'Rhinolophus ferrumequinum', 'Plecotus austriacus', 'Plecotus',\n",
       "       'Rhinolophus hipposideros', 'Myotis bechsteinii',\n",
       "       'Myotis mystacinus/brandtii', 'Myotis nattereri', 'Myotis myotis',\n",
       "       'Nyctalus leisleri', 'Myotis mystacinus', 'Myotis',\n",
       "       'Nyctalus noctula'], dtype=object)"
      ]
     },
     "execution_count": 75,
     "metadata": {},
     "output_type": "execute_result"
    }
   ],
   "source": [
    "hibernation_df.taxonName.unique()"
   ]
  },
  {
   "cell_type": "code",
   "execution_count": 76,
   "metadata": {
    "collapsed": false,
    "run_control": {
     "read_only": false
    }
   },
   "outputs": [
    {
     "data": {
      "text/plain": [
       "array(['Plecotus auritus', 'Pipistrellus pipistrellus sensu stricto',\n",
       "       'Pipistrellus pipistrellus sensu lato', 'Pipistrellus pygmaeus',\n",
       "       'Myotis nattereri', 'Rhinolophus hipposideros',\n",
       "       'Eptesicus serotinus', 'Rhinolophus ferrumequinum',\n",
       "       'Nyctalus noctula', 'Myotis mystacinus', 'Chiroptera',\n",
       "       'Myotis daubentonii', 'Nyctalus leisleri', 'Myotis brandtii',\n",
       "       'Myotis mystacinus/brandtii', 'Plecotus austriacus',\n",
       "       'Myotis bechsteinii'], dtype=object)"
      ]
     },
     "execution_count": 76,
     "metadata": {},
     "output_type": "execute_result"
    }
   ],
   "source": [
    "roost_df.taxonName.unique()"
   ]
  },
  {
   "cell_type": "markdown",
   "metadata": {},
   "source": [
    "So it seems that the taxonName columns also contain a different number of values.\n",
    "\n",
    "Why these bat species are present in the hibernation data but not the roost data is unclear. \n",
    "\n",
    "For the purpose of comparing the two datasets having bat species present in one and not the other is not useful. So the data for bat species that are not present in both data sets will be removed after shaping the tables."
   ]
  },
  {
   "cell_type": "markdown",
   "metadata": {},
   "source": [
    "The zeroAbundance columns:"
   ]
  },
  {
   "cell_type": "code",
   "execution_count": 77,
   "metadata": {
    "collapsed": false,
    "run_control": {
     "read_only": false
    }
   },
   "outputs": [
    {
     "data": {
      "text/plain": [
       "array([False], dtype=object)"
      ]
     },
     "execution_count": 77,
     "metadata": {},
     "output_type": "execute_result"
    }
   ],
   "source": [
    "hibernation_df.zeroAbundance.unique()"
   ]
  },
  {
   "cell_type": "code",
   "execution_count": 78,
   "metadata": {
    "collapsed": false,
    "run_control": {
     "read_only": false
    }
   },
   "outputs": [
    {
     "data": {
      "text/plain": [
       "array([False], dtype=object)"
      ]
     },
     "execution_count": 78,
     "metadata": {},
     "output_type": "execute_result"
    }
   ],
   "source": [
    "roost_df.zeroAbundance.unique()"
   ]
  },
  {
   "cell_type": "markdown",
   "metadata": {},
   "source": [
    "Each row in the datasets is for a specific bat observation so natrually zero abundance is always false. So this column is not very useful."
   ]
  },
  {
   "cell_type": "markdown",
   "metadata": {},
   "source": [
    "The dataset key columns."
   ]
  },
  {
   "cell_type": "code",
   "execution_count": 79,
   "metadata": {
    "collapsed": false,
    "run_control": {
     "read_only": false
    }
   },
   "outputs": [
    {
     "data": {
      "text/plain": [
       "array(['GA000612'], dtype=object)"
      ]
     },
     "execution_count": 79,
     "metadata": {},
     "output_type": "execute_result"
    }
   ],
   "source": [
    "hibernation_df.datasetKey.unique()"
   ]
  },
  {
   "cell_type": "code",
   "execution_count": 80,
   "metadata": {
    "collapsed": false,
    "run_control": {
     "read_only": false
    }
   },
   "outputs": [
    {
     "data": {
      "text/plain": [
       "array(['GA000616'], dtype=object)"
      ]
     },
     "execution_count": 80,
     "metadata": {},
     "output_type": "execute_result"
    }
   ],
   "source": [
    "roost_df.datasetKey.unique()"
   ]
  },
  {
   "cell_type": "markdown",
   "metadata": {},
   "source": [
    "# Changing the data type of the date values for each dataset"
   ]
  },
  {
   "cell_type": "code",
   "execution_count": 81,
   "metadata": {
    "collapsed": false,
    "run_control": {
     "read_only": false
    }
   },
   "outputs": [],
   "source": [
    "hibernation_df['startDate'] = pd.to_datetime(hibernation_df['startDate'])\n",
    "hibernation_df['endDate'] = pd.to_datetime(hibernation_df['endDate'])\n",
    "hibernation_df['year'] = hibernation_df['endDate'].dt.year"
   ]
  },
  {
   "cell_type": "code",
   "execution_count": 82,
   "metadata": {
    "collapsed": true,
    "run_control": {
     "read_only": false
    }
   },
   "outputs": [],
   "source": [
    "roost_df['startDate'] = pd.to_datetime(roost_df['startDate'])\n",
    "roost_df['endDate'] = pd.to_datetime(roost_df['endDate'])\n",
    "roost_df['year'] = roost_df['endDate'].dt.year"
   ]
  },
  {
   "cell_type": "markdown",
   "metadata": {},
   "source": [
    "# Shaping the dataframes by selecting the useful columns"
   ]
  },
  {
   "cell_type": "code",
   "execution_count": 83,
   "metadata": {
    "collapsed": false,
    "run_control": {
     "read_only": false
    }
   },
   "outputs": [
    {
     "data": {
      "text/html": [
       "<div>\n",
       "<table border=\"1\" class=\"dataframe\">\n",
       "  <thead>\n",
       "    <tr style=\"text-align: right;\">\n",
       "      <th></th>\n",
       "      <th>observationID</th>\n",
       "      <th>gridReference</th>\n",
       "      <th>year</th>\n",
       "      <th>taxonName</th>\n",
       "    </tr>\n",
       "  </thead>\n",
       "  <tbody>\n",
       "    <tr>\n",
       "      <th>22894</th>\n",
       "      <td>463184995</td>\n",
       "      <td>TQ35</td>\n",
       "      <td>2013</td>\n",
       "      <td>Myotis mystacinus/brandtii</td>\n",
       "    </tr>\n",
       "    <tr>\n",
       "      <th>22895</th>\n",
       "      <td>463185027</td>\n",
       "      <td>TQ21</td>\n",
       "      <td>2005</td>\n",
       "      <td>Myotis mystacinus/brandtii</td>\n",
       "    </tr>\n",
       "    <tr>\n",
       "      <th>22896</th>\n",
       "      <td>463185029</td>\n",
       "      <td>TQ21</td>\n",
       "      <td>2005</td>\n",
       "      <td>Myotis mystacinus/brandtii</td>\n",
       "    </tr>\n",
       "    <tr>\n",
       "      <th>22897</th>\n",
       "      <td>463185031</td>\n",
       "      <td>TQ31</td>\n",
       "      <td>2005</td>\n",
       "      <td>Myotis mystacinus/brandtii</td>\n",
       "    </tr>\n",
       "    <tr>\n",
       "      <th>22898</th>\n",
       "      <td>463185032</td>\n",
       "      <td>TQ31</td>\n",
       "      <td>2008</td>\n",
       "      <td>Myotis mystacinus/brandtii</td>\n",
       "    </tr>\n",
       "  </tbody>\n",
       "</table>\n",
       "</div>"
      ],
      "text/plain": [
       "       observationID gridReference  year                   taxonName\n",
       "22894      463184995          TQ35  2013  Myotis mystacinus/brandtii\n",
       "22895      463185027          TQ21  2005  Myotis mystacinus/brandtii\n",
       "22896      463185029          TQ21  2005  Myotis mystacinus/brandtii\n",
       "22897      463185031          TQ31  2005  Myotis mystacinus/brandtii\n",
       "22898      463185032          TQ31  2008  Myotis mystacinus/brandtii"
      ]
     },
     "execution_count": 83,
     "metadata": {},
     "output_type": "execute_result"
    }
   ],
   "source": [
    "columns = hibernation_df.columns.tolist()\n",
    "columns = ['observationID', 'gridReference', 'year', 'taxonName']\n",
    "columns\n",
    "\n",
    "hibernation_short_df = hibernation_df[columns]\n",
    "\n",
    "hibernation_short_df.tail(5)"
   ]
  },
  {
   "cell_type": "code",
   "execution_count": 84,
   "metadata": {
    "collapsed": false,
    "run_control": {
     "read_only": false
    },
    "scrolled": true
   },
   "outputs": [
    {
     "data": {
      "text/html": [
       "<div>\n",
       "<table border=\"1\" class=\"dataframe\">\n",
       "  <thead>\n",
       "    <tr style=\"text-align: right;\">\n",
       "      <th></th>\n",
       "      <th>observationID</th>\n",
       "      <th>gridReference</th>\n",
       "      <th>year</th>\n",
       "      <th>taxonName</th>\n",
       "    </tr>\n",
       "  </thead>\n",
       "  <tbody>\n",
       "    <tr>\n",
       "      <th>23674</th>\n",
       "      <td>463209487</td>\n",
       "      <td>ST1821</td>\n",
       "      <td>2011</td>\n",
       "      <td>Myotis mystacinus/brandtii</td>\n",
       "    </tr>\n",
       "    <tr>\n",
       "      <th>23675</th>\n",
       "      <td>463209488</td>\n",
       "      <td>ST1821</td>\n",
       "      <td>2010</td>\n",
       "      <td>Myotis mystacinus/brandtii</td>\n",
       "    </tr>\n",
       "    <tr>\n",
       "      <th>23676</th>\n",
       "      <td>463209489</td>\n",
       "      <td>ST1821</td>\n",
       "      <td>2010</td>\n",
       "      <td>Myotis mystacinus/brandtii</td>\n",
       "    </tr>\n",
       "    <tr>\n",
       "      <th>23677</th>\n",
       "      <td>463209975</td>\n",
       "      <td>SX8166</td>\n",
       "      <td>2004</td>\n",
       "      <td>Rhinolophus hipposideros</td>\n",
       "    </tr>\n",
       "    <tr>\n",
       "      <th>23678</th>\n",
       "      <td>463209976</td>\n",
       "      <td>SX8166</td>\n",
       "      <td>2004</td>\n",
       "      <td>Rhinolophus hipposideros</td>\n",
       "    </tr>\n",
       "  </tbody>\n",
       "</table>\n",
       "</div>"
      ],
      "text/plain": [
       "       observationID gridReference  year                   taxonName\n",
       "23674      463209487        ST1821  2011  Myotis mystacinus/brandtii\n",
       "23675      463209488        ST1821  2010  Myotis mystacinus/brandtii\n",
       "23676      463209489        ST1821  2010  Myotis mystacinus/brandtii\n",
       "23677      463209975        SX8166  2004    Rhinolophus hipposideros\n",
       "23678      463209976        SX8166  2004    Rhinolophus hipposideros"
      ]
     },
     "execution_count": 84,
     "metadata": {},
     "output_type": "execute_result"
    }
   ],
   "source": [
    "roost_df.head()\n",
    "\n",
    "columns = roost_df.columns.tolist()\n",
    "columns = ['observationID', 'gridReference', 'year', 'taxonName']\n",
    "columns\n",
    "\n",
    "roost_short_df = roost_df[columns]\n",
    "roost_short_df.tail(5)"
   ]
  },
  {
   "cell_type": "markdown",
   "metadata": {},
   "source": [
    "# Removing taxonName values from the hibernation dataset that are not also in the roost dataset"
   ]
  },
  {
   "cell_type": "code",
   "execution_count": 85,
   "metadata": {
    "collapsed": false,
    "run_control": {
     "read_only": false
    }
   },
   "outputs": [
    {
     "data": {
      "text/plain": [
       "{'Barbastella barbastellus', 'Myotis', 'Myotis myotis', 'Plecotus'}"
      ]
     },
     "execution_count": 85,
     "metadata": {},
     "output_type": "execute_result"
    }
   ],
   "source": [
    "to_delete = set(hibernation_short_df['taxonName'].unique().tolist()) - set(roost_short_df['taxonName'].unique().tolist())\n",
    "to_delete"
   ]
  },
  {
   "cell_type": "code",
   "execution_count": 86,
   "metadata": {
    "collapsed": true,
    "run_control": {
     "read_only": false
    }
   },
   "outputs": [],
   "source": [
    "hibernation_reduced_df = hibernation_short_df[~hibernation_short_df['taxonName'].isin(to_delete)]"
   ]
  },
  {
   "cell_type": "markdown",
   "metadata": {},
   "source": [
    "Checking that the number of bat species in the hibernation dataset is now 17."
   ]
  },
  {
   "cell_type": "code",
   "execution_count": 87,
   "metadata": {
    "collapsed": false,
    "run_control": {
     "read_only": false
    }
   },
   "outputs": [
    {
     "data": {
      "text/plain": [
       "17"
      ]
     },
     "execution_count": 87,
     "metadata": {},
     "output_type": "execute_result"
    }
   ],
   "source": [
    "len(hibernation_reduced_df['taxonName'].unique())"
   ]
  },
  {
   "cell_type": "markdown",
   "metadata": {},
   "source": [
    "# Time factors"
   ]
  },
  {
   "cell_type": "code",
   "execution_count": 88,
   "metadata": {
    "collapsed": false,
    "run_control": {
     "read_only": false
    }
   },
   "outputs": [
    {
     "data": {
      "text/plain": [
       "array([1964, 1965, 1966, 1967, 1968, 1969, 1970, 1972, 1973, 1974, 1975,\n",
       "       1976, 1977, 1978, 1979, 1980, 1981, 1982, 1983, 1984, 1985, 1986,\n",
       "       1987, 1988, 1989, 1990, 1991, 1992, 1993, 1994, 1995, 1996, 1997,\n",
       "       1998, 1999, 2000, 2001, 2002, 2003, 2004, 2005, 2006, 2007, 2008,\n",
       "       2009, 2010, 2011, 2012, 2013, 2014], dtype=int64)"
      ]
     },
     "execution_count": 88,
     "metadata": {},
     "output_type": "execute_result"
    }
   ],
   "source": [
    "hibernation_reduced_df['year'].sort_values().unique()"
   ]
  },
  {
   "cell_type": "code",
   "execution_count": 89,
   "metadata": {
    "collapsed": false,
    "run_control": {
     "read_only": false
    }
   },
   "outputs": [
    {
     "data": {
      "text/plain": [
       "array([1977, 1978, 1979, 1980, 1981, 1982, 1983, 1984, 1985, 1986, 1987,\n",
       "       1988, 1989, 1990, 1991, 1992, 1993, 1994, 1995, 1996, 1997, 1998,\n",
       "       1999, 2000, 2001, 2002, 2003, 2004, 2005, 2006, 2007, 2008, 2009,\n",
       "       2010, 2011, 2012, 2013, 2014], dtype=int64)"
      ]
     },
     "execution_count": 89,
     "metadata": {},
     "output_type": "execute_result"
    }
   ],
   "source": [
    "roost_short_df['year'].sort_values().unique()"
   ]
  },
  {
   "cell_type": "markdown",
   "metadata": {},
   "source": [
    "The hibernation datasets covers a longer period of time. I'm not sure the difference in time span is significant and in any case the data is for different areas.\n",
    "\n",
    "So far I have elected to retain the data for the hibernation sites that predates that for roost sites. I have done this because both data sets start out with very few observations.\n",
    "\n",
    "The risk of retaining the data for hibernation sites is that there could be a temporal skew in the data. That is there may have been historical factors that affected certain species of bats disproportionately at different times. \n",
    "\n",
    "But this is speculation on my part and I still believe that retaining the earlier data in the hibernation set will provide a better average picture of species abundance relative to roost sites.\n",
    "\n",
    "Furthermore both data sets also have a similar number of bats 22,139 for hibernation sites vs 23,679 for roost sites despite the larger area in the roost dataset."
   ]
  },
  {
   "cell_type": "markdown",
   "metadata": {},
   "source": [
    "# How do the two datasets compare over time?"
   ]
  },
  {
   "cell_type": "code",
   "execution_count": 90,
   "metadata": {
    "collapsed": true,
    "run_control": {
     "read_only": false
    }
   },
   "outputs": [],
   "source": [
    "roost_by_year = roost_short_df.groupby(['year'])['taxonName'].count()\n",
    "roost_by_year_df = roost_by_year.to_frame()\n",
    "type(roost_by_year_df)\n",
    "roost_by_year_df = roost_by_year_df.rename(columns = {'taxonName': 'roost_abundance'})\n",
    "#roost_by_year_df"
   ]
  },
  {
   "cell_type": "code",
   "execution_count": 91,
   "metadata": {
    "collapsed": true,
    "run_control": {
     "read_only": false
    }
   },
   "outputs": [],
   "source": [
    "hibernation_by_year = hibernation_short_df.groupby(['year'])['taxonName'].count()\n",
    "hibernation_by_year_df = hibernation_by_year.to_frame()\n",
    "hibernation_by_year_df = hibernation_by_year_df.rename(columns = {'taxonName': 'hibernation_abundance'})\n",
    "#hibernation_by_year_df"
   ]
  },
  {
   "cell_type": "code",
   "execution_count": 92,
   "metadata": {
    "collapsed": false,
    "run_control": {
     "read_only": false
    }
   },
   "outputs": [
    {
     "data": {
      "text/html": [
       "<div>\n",
       "<table border=\"1\" class=\"dataframe\">\n",
       "  <thead>\n",
       "    <tr style=\"text-align: right;\">\n",
       "      <th>year</th>\n",
       "      <th>1964</th>\n",
       "      <th>1965</th>\n",
       "      <th>1966</th>\n",
       "      <th>1967</th>\n",
       "      <th>1968</th>\n",
       "      <th>1969</th>\n",
       "      <th>1970</th>\n",
       "      <th>1972</th>\n",
       "      <th>1973</th>\n",
       "      <th>1974</th>\n",
       "      <th>...</th>\n",
       "      <th>2005</th>\n",
       "      <th>2006</th>\n",
       "      <th>2007</th>\n",
       "      <th>2008</th>\n",
       "      <th>2009</th>\n",
       "      <th>2010</th>\n",
       "      <th>2011</th>\n",
       "      <th>2012</th>\n",
       "      <th>2013</th>\n",
       "      <th>2014</th>\n",
       "    </tr>\n",
       "  </thead>\n",
       "  <tbody>\n",
       "    <tr>\n",
       "      <th>hibernation_abundance</th>\n",
       "      <td>4.0</td>\n",
       "      <td>5.0</td>\n",
       "      <td>4.0</td>\n",
       "      <td>6.0</td>\n",
       "      <td>4.0</td>\n",
       "      <td>4.0</td>\n",
       "      <td>5.0</td>\n",
       "      <td>4.0</td>\n",
       "      <td>5.0</td>\n",
       "      <td>9.0</td>\n",
       "      <td>...</td>\n",
       "      <td>1011.0</td>\n",
       "      <td>1206.0</td>\n",
       "      <td>1133.0</td>\n",
       "      <td>1313.0</td>\n",
       "      <td>1336.0</td>\n",
       "      <td>1452.0</td>\n",
       "      <td>1427.0</td>\n",
       "      <td>1402.0</td>\n",
       "      <td>1451.0</td>\n",
       "      <td>1119.0</td>\n",
       "    </tr>\n",
       "    <tr>\n",
       "      <th>roost_abundance</th>\n",
       "      <td>NaN</td>\n",
       "      <td>NaN</td>\n",
       "      <td>NaN</td>\n",
       "      <td>NaN</td>\n",
       "      <td>NaN</td>\n",
       "      <td>NaN</td>\n",
       "      <td>NaN</td>\n",
       "      <td>NaN</td>\n",
       "      <td>NaN</td>\n",
       "      <td>NaN</td>\n",
       "      <td>...</td>\n",
       "      <td>1306.0</td>\n",
       "      <td>1377.0</td>\n",
       "      <td>1392.0</td>\n",
       "      <td>1498.0</td>\n",
       "      <td>1555.0</td>\n",
       "      <td>1519.0</td>\n",
       "      <td>1461.0</td>\n",
       "      <td>1274.0</td>\n",
       "      <td>1368.0</td>\n",
       "      <td>1362.0</td>\n",
       "    </tr>\n",
       "  </tbody>\n",
       "</table>\n",
       "<p>2 rows × 50 columns</p>\n",
       "</div>"
      ],
      "text/plain": [
       "year                   1964  1965  1966  1967  1968  1969  1970  1972  1973  \\\n",
       "hibernation_abundance   4.0   5.0   4.0   6.0   4.0   4.0   5.0   4.0   5.0   \n",
       "roost_abundance         NaN   NaN   NaN   NaN   NaN   NaN   NaN   NaN   NaN   \n",
       "\n",
       "year                   1974   ...      2005    2006    2007    2008    2009  \\\n",
       "hibernation_abundance   9.0   ...    1011.0  1206.0  1133.0  1313.0  1336.0   \n",
       "roost_abundance         NaN   ...    1306.0  1377.0  1392.0  1498.0  1555.0   \n",
       "\n",
       "year                     2010    2011    2012    2013    2014  \n",
       "hibernation_abundance  1452.0  1427.0  1402.0  1451.0  1119.0  \n",
       "roost_abundance        1519.0  1461.0  1274.0  1368.0  1362.0  \n",
       "\n",
       "[2 rows x 50 columns]"
      ]
     },
     "execution_count": 92,
     "metadata": {},
     "output_type": "execute_result"
    }
   ],
   "source": [
    "combined_abundance_year = pd.concat([hibernation_by_year_df, roost_by_year_df], axis=1, join='outer')\n",
    "combined_abundance_year.transpose()"
   ]
  },
  {
   "cell_type": "code",
   "execution_count": 109,
   "metadata": {
    "collapsed": false,
    "run_control": {
     "read_only": false
    }
   },
   "outputs": [
    {
     "data": {
      "image/png": "[encoded data removed]",
      "text/plain": [
       "<matplotlib.figure.Figure at 0xa86b240>"
      ]
     },
     "metadata": {},
     "output_type": "display_data"
    }
   ],
   "source": [
    "combined_abundance_year.plot(figsize=(18,10))\n",
    "plt.show()"
   ]
  },
  {
   "cell_type": "markdown",
   "metadata": {},
   "source": [
    "The two lines show a similar rise in the number of bats over time although with variations in their relative shapes.\n",
    "\n",
    "A noticeable factor is that the roost data despite being for a shorter time span than the hibernation data actually has more recorded bats. This is likely due to the roost data covering more sites and a larger geographical area.\n",
    "\n",
    "How about the variation in species abundance in the two datasets? Is the composition of hibernation sites different than roost sites?"
   ]
  },
  {
   "cell_type": "code",
   "execution_count": 94,
   "metadata": {
    "collapsed": true,
    "run_control": {
     "read_only": false
    }
   },
   "outputs": [],
   "source": [
    "hs_df = hibernation_reduced_df.groupby(['taxonName'])['taxonName'].count()"
   ]
  },
  {
   "cell_type": "code",
   "execution_count": 95,
   "metadata": {
    "collapsed": true,
    "run_control": {
     "read_only": false
    }
   },
   "outputs": [],
   "source": [
    "hibernation_count = hs_df.to_frame()"
   ]
  },
  {
   "cell_type": "code",
   "execution_count": 96,
   "metadata": {
    "collapsed": true,
    "run_control": {
     "read_only": false
    }
   },
   "outputs": [],
   "source": [
    "rs_df = roost_short_df.groupby(['taxonName'])['taxonName'].count()"
   ]
  },
  {
   "cell_type": "code",
   "execution_count": 97,
   "metadata": {
    "collapsed": true,
    "run_control": {
     "read_only": false
    }
   },
   "outputs": [],
   "source": [
    "roost_count = rs_df.to_frame()"
   ]
  },
  {
   "cell_type": "code",
   "execution_count": 98,
   "metadata": {
    "collapsed": true,
    "run_control": {
     "read_only": false
    }
   },
   "outputs": [],
   "source": [
    "roost_count = roost_count.rename(columns = {'taxonName': 'roost_abundance'})\n",
    "#roost_count"
   ]
  },
  {
   "cell_type": "code",
   "execution_count": 99,
   "metadata": {
    "collapsed": true,
    "run_control": {
     "read_only": false
    }
   },
   "outputs": [],
   "source": [
    "hibernation_count = hibernation_count.rename(columns = {'taxonName': 'hibernation_abundance'})\n",
    "#hibernation_count"
   ]
  },
  {
   "cell_type": "code",
   "execution_count": 100,
   "metadata": {
    "collapsed": false,
    "run_control": {
     "read_only": false
    }
   },
   "outputs": [
    {
     "data": {
      "text/html": [
       "<div>\n",
       "<table border=\"1\" class=\"dataframe\">\n",
       "  <thead>\n",
       "    <tr style=\"text-align: right;\">\n",
       "      <th></th>\n",
       "      <th>hibernation_abundance</th>\n",
       "      <th>roost_abundance</th>\n",
       "    </tr>\n",
       "    <tr>\n",
       "      <th>taxonName</th>\n",
       "      <th></th>\n",
       "      <th></th>\n",
       "    </tr>\n",
       "  </thead>\n",
       "  <tbody>\n",
       "    <tr>\n",
       "      <th>Chiroptera</th>\n",
       "      <td>557</td>\n",
       "      <td>54</td>\n",
       "    </tr>\n",
       "    <tr>\n",
       "      <th>Eptesicus serotinus</th>\n",
       "      <td>14</td>\n",
       "      <td>1107</td>\n",
       "    </tr>\n",
       "    <tr>\n",
       "      <th>Myotis bechsteinii</th>\n",
       "      <td>75</td>\n",
       "      <td>22</td>\n",
       "    </tr>\n",
       "    <tr>\n",
       "      <th>Myotis brandtii</th>\n",
       "      <td>135</td>\n",
       "      <td>60</td>\n",
       "    </tr>\n",
       "    <tr>\n",
       "      <th>Myotis daubentonii</th>\n",
       "      <td>3945</td>\n",
       "      <td>160</td>\n",
       "    </tr>\n",
       "    <tr>\n",
       "      <th>Myotis mystacinus</th>\n",
       "      <td>204</td>\n",
       "      <td>97</td>\n",
       "    </tr>\n",
       "    <tr>\n",
       "      <th>Myotis mystacinus/brandtii</th>\n",
       "      <td>1323</td>\n",
       "      <td>33</td>\n",
       "    </tr>\n",
       "    <tr>\n",
       "      <th>Myotis nattereri</th>\n",
       "      <td>5056</td>\n",
       "      <td>1040</td>\n",
       "    </tr>\n",
       "    <tr>\n",
       "      <th>Nyctalus leisleri</th>\n",
       "      <td>6</td>\n",
       "      <td>11</td>\n",
       "    </tr>\n",
       "    <tr>\n",
       "      <th>Nyctalus noctula</th>\n",
       "      <td>7</td>\n",
       "      <td>72</td>\n",
       "    </tr>\n",
       "    <tr>\n",
       "      <th>Pipistrellus pipistrellus sensu lato</th>\n",
       "      <td>412</td>\n",
       "      <td>3478</td>\n",
       "    </tr>\n",
       "    <tr>\n",
       "      <th>Pipistrellus pipistrellus sensu stricto</th>\n",
       "      <td>109</td>\n",
       "      <td>6475</td>\n",
       "    </tr>\n",
       "    <tr>\n",
       "      <th>Pipistrellus pygmaeus</th>\n",
       "      <td>21</td>\n",
       "      <td>4421</td>\n",
       "    </tr>\n",
       "    <tr>\n",
       "      <th>Plecotus auritus</th>\n",
       "      <td>2805</td>\n",
       "      <td>1934</td>\n",
       "    </tr>\n",
       "    <tr>\n",
       "      <th>Plecotus austriacus</th>\n",
       "      <td>1</td>\n",
       "      <td>5</td>\n",
       "    </tr>\n",
       "    <tr>\n",
       "      <th>Rhinolophus ferrumequinum</th>\n",
       "      <td>2963</td>\n",
       "      <td>514</td>\n",
       "    </tr>\n",
       "    <tr>\n",
       "      <th>Rhinolophus hipposideros</th>\n",
       "      <td>4506</td>\n",
       "      <td>4196</td>\n",
       "    </tr>\n",
       "  </tbody>\n",
       "</table>\n",
       "</div>"
      ],
      "text/plain": [
       "                                         hibernation_abundance  \\\n",
       "taxonName                                                        \n",
       "Chiroptera                                                 557   \n",
       "Eptesicus serotinus                                         14   \n",
       "Myotis bechsteinii                                          75   \n",
       "Myotis brandtii                                            135   \n",
       "Myotis daubentonii                                        3945   \n",
       "Myotis mystacinus                                          204   \n",
       "Myotis mystacinus/brandtii                                1323   \n",
       "Myotis nattereri                                          5056   \n",
       "Nyctalus leisleri                                            6   \n",
       "Nyctalus noctula                                             7   \n",
       "Pipistrellus pipistrellus sensu lato                       412   \n",
       "Pipistrellus pipistrellus sensu stricto                    109   \n",
       "Pipistrellus pygmaeus                                       21   \n",
       "Plecotus auritus                                          2805   \n",
       "Plecotus austriacus                                          1   \n",
       "Rhinolophus ferrumequinum                                 2963   \n",
       "Rhinolophus hipposideros                                  4506   \n",
       "\n",
       "                                         roost_abundance  \n",
       "taxonName                                                 \n",
       "Chiroptera                                            54  \n",
       "Eptesicus serotinus                                 1107  \n",
       "Myotis bechsteinii                                    22  \n",
       "Myotis brandtii                                       60  \n",
       "Myotis daubentonii                                   160  \n",
       "Myotis mystacinus                                     97  \n",
       "Myotis mystacinus/brandtii                            33  \n",
       "Myotis nattereri                                    1040  \n",
       "Nyctalus leisleri                                     11  \n",
       "Nyctalus noctula                                      72  \n",
       "Pipistrellus pipistrellus sensu lato                3478  \n",
       "Pipistrellus pipistrellus sensu stricto             6475  \n",
       "Pipistrellus pygmaeus                               4421  \n",
       "Plecotus auritus                                    1934  \n",
       "Plecotus austriacus                                    5  \n",
       "Rhinolophus ferrumequinum                            514  \n",
       "Rhinolophus hipposideros                            4196  "
      ]
     },
     "execution_count": 100,
     "metadata": {},
     "output_type": "execute_result"
    }
   ],
   "source": [
    "combined_abundance = pd.concat([hibernation_count, roost_count], axis=1, join='outer')\n",
    "combined_abundance"
   ]
  },
  {
   "cell_type": "code",
   "execution_count": 108,
   "metadata": {
    "collapsed": false,
    "run_control": {
     "read_only": false
    }
   },
   "outputs": [
    {
     "data": {
      "image/png": "[encoded data removed]",
      "text/plain": [
       "<matplotlib.figure.Figure at 0xbba25f8>"
      ]
     },
     "metadata": {},
     "output_type": "display_data"
    }
   ],
   "source": [
    "combined_abundance.plot(kind='bar', figsize=(18,10))\n",
    "plt.xlabel('Taxon name')\n",
    "plt.ylabel('Number of bats')\n",
    "plt.show()"
   ]
  },
  {
   "cell_type": "markdown",
   "metadata": {},
   "source": [
    "The graph above shows a marked difference in species abundance between the hibernation and roost datasets.\n",
    "\n",
    "So it appears that the composition of roost and hibernation sites is different."
   ]
  },
  {
   "cell_type": "markdown",
   "metadata": {},
   "source": [
    "# But is the difference in species abundance between roost and hibernations sites significant?\n",
    "\n",
    "The null hypothesis is that it is not any statistically significant difference between roost and hibernation site bat species composition.\n",
    "\n",
    "This will be tested using Chi-squared to see if the difference between hibernation an roost site abundance for the various bat species are significant.\n",
    "\n",
    "If the result is not significant then the P-value should be one, meaning that there is no difference between expected and actual abundance."
   ]
  },
  {
   "cell_type": "markdown",
   "metadata": {},
   "source": [
    "# Calculating expected values and P value"
   ]
  },
  {
   "cell_type": "markdown",
   "metadata": {},
   "source": [
    "Generating values that would be expected if the abundances were evenly distributed"
   ]
  },
  {
   "cell_type": "code",
   "execution_count": 102,
   "metadata": {
    "collapsed": false,
    "run_control": {
     "read_only": false
    }
   },
   "outputs": [
    {
     "data": {
      "text/html": [
       "<div>\n",
       "<table border=\"1\" class=\"dataframe\">\n",
       "  <thead>\n",
       "    <tr style=\"text-align: right;\">\n",
       "      <th></th>\n",
       "      <th>hibernation_abundance</th>\n",
       "      <th>roost_abundance</th>\n",
       "    </tr>\n",
       "  </thead>\n",
       "  <tbody>\n",
       "    <tr>\n",
       "      <th>Chiroptera</th>\n",
       "      <td>295.231765</td>\n",
       "      <td>315.768235</td>\n",
       "    </tr>\n",
       "    <tr>\n",
       "      <th>Eptesicus serotinus</th>\n",
       "      <td>541.660897</td>\n",
       "      <td>579.339103</td>\n",
       "    </tr>\n",
       "    <tr>\n",
       "      <th>Myotis bechsteinii</th>\n",
       "      <td>46.869855</td>\n",
       "      <td>50.130145</td>\n",
       "    </tr>\n",
       "    <tr>\n",
       "      <th>Myotis brandtii</th>\n",
       "      <td>94.222904</td>\n",
       "      <td>100.777096</td>\n",
       "    </tr>\n",
       "    <tr>\n",
       "      <th>Myotis daubentonii</th>\n",
       "      <td>1983.512921</td>\n",
       "      <td>2121.487079</td>\n",
       "    </tr>\n",
       "    <tr>\n",
       "      <th>Myotis mystacinus</th>\n",
       "      <td>145.441508</td>\n",
       "      <td>155.558492</td>\n",
       "    </tr>\n",
       "    <tr>\n",
       "      <th>Myotis mystacinus/brandtii</th>\n",
       "      <td>655.211576</td>\n",
       "      <td>700.788424</td>\n",
       "    </tr>\n",
       "    <tr>\n",
       "      <th>Myotis nattereri</th>\n",
       "      <td>2945.552927</td>\n",
       "      <td>3150.447073</td>\n",
       "    </tr>\n",
       "    <tr>\n",
       "      <th>Nyctalus leisleri</th>\n",
       "      <td>8.214304</td>\n",
       "      <td>8.785696</td>\n",
       "    </tr>\n",
       "    <tr>\n",
       "      <th>Nyctalus noctula</th>\n",
       "      <td>38.172356</td>\n",
       "      <td>40.827644</td>\n",
       "    </tr>\n",
       "    <tr>\n",
       "      <th>Pipistrellus pipistrellus sensu lato</th>\n",
       "      <td>1879.626129</td>\n",
       "      <td>2010.373871</td>\n",
       "    </tr>\n",
       "    <tr>\n",
       "      <th>Pipistrellus pipistrellus sensu stricto</th>\n",
       "      <td>3181.351783</td>\n",
       "      <td>3402.648217</td>\n",
       "    </tr>\n",
       "    <tr>\n",
       "      <th>Pipistrellus pygmaeus</th>\n",
       "      <td>2146.349426</td>\n",
       "      <td>2295.650574</td>\n",
       "    </tr>\n",
       "    <tr>\n",
       "      <th>Plecotus auritus</th>\n",
       "      <td>2289.858156</td>\n",
       "      <td>2449.141844</td>\n",
       "    </tr>\n",
       "    <tr>\n",
       "      <th>Plecotus austriacus</th>\n",
       "      <td>2.899166</td>\n",
       "      <td>3.100834</td>\n",
       "    </tr>\n",
       "    <tr>\n",
       "      <th>Rhinolophus ferrumequinum</th>\n",
       "      <td>1680.066851</td>\n",
       "      <td>1796.933149</td>\n",
       "    </tr>\n",
       "    <tr>\n",
       "      <th>Rhinolophus hipposideros</th>\n",
       "      <td>4204.757475</td>\n",
       "      <td>4497.242525</td>\n",
       "    </tr>\n",
       "  </tbody>\n",
       "</table>\n",
       "</div>"
      ],
      "text/plain": [
       "                                         hibernation_abundance  \\\n",
       "Chiroptera                                          295.231765   \n",
       "Eptesicus serotinus                                 541.660897   \n",
       "Myotis bechsteinii                                   46.869855   \n",
       "Myotis brandtii                                      94.222904   \n",
       "Myotis daubentonii                                 1983.512921   \n",
       "Myotis mystacinus                                   145.441508   \n",
       "Myotis mystacinus/brandtii                          655.211576   \n",
       "Myotis nattereri                                   2945.552927   \n",
       "Nyctalus leisleri                                     8.214304   \n",
       "Nyctalus noctula                                     38.172356   \n",
       "Pipistrellus pipistrellus sensu lato               1879.626129   \n",
       "Pipistrellus pipistrellus sensu stricto            3181.351783   \n",
       "Pipistrellus pygmaeus                              2146.349426   \n",
       "Plecotus auritus                                   2289.858156   \n",
       "Plecotus austriacus                                   2.899166   \n",
       "Rhinolophus ferrumequinum                          1680.066851   \n",
       "Rhinolophus hipposideros                           4204.757475   \n",
       "\n",
       "                                         roost_abundance  \n",
       "Chiroptera                                    315.768235  \n",
       "Eptesicus serotinus                           579.339103  \n",
       "Myotis bechsteinii                             50.130145  \n",
       "Myotis brandtii                               100.777096  \n",
       "Myotis daubentonii                           2121.487079  \n",
       "Myotis mystacinus                             155.558492  \n",
       "Myotis mystacinus/brandtii                    700.788424  \n",
       "Myotis nattereri                             3150.447073  \n",
       "Nyctalus leisleri                               8.785696  \n",
       "Nyctalus noctula                               40.827644  \n",
       "Pipistrellus pipistrellus sensu lato         2010.373871  \n",
       "Pipistrellus pipistrellus sensu stricto      3402.648217  \n",
       "Pipistrellus pygmaeus                        2295.650574  \n",
       "Plecotus auritus                             2449.141844  \n",
       "Plecotus austriacus                             3.100834  \n",
       "Rhinolophus ferrumequinum                    1796.933149  \n",
       "Rhinolophus hipposideros                     4497.242525  "
      ]
     },
     "execution_count": 102,
     "metadata": {},
     "output_type": "execute_result"
    }
   ],
   "source": [
    "#code adapted from notebook 14.3\n",
    "expected_results = pd.DataFrame({c: {r: (combined_abundance[c].sum() * \n",
    "                                                combined_abundance.loc[r].sum() / \n",
    "                                                combined_abundance.sum().sum() )\n",
    "                  for r in combined_abundance[c].index} \n",
    "              for c in combined_abundance}\n",
    ")\n",
    "expected_results"
   ]
  },
  {
   "cell_type": "markdown",
   "metadata": {},
   "source": [
    "Applying the above actual and expected values to Chi-squared:"
   ]
  },
  {
   "cell_type": "code",
   "execution_count": 103,
   "metadata": {
    "collapsed": false,
    "run_control": {
     "read_only": false
    }
   },
   "outputs": [
    {
     "data": {
      "text/plain": [
       "Power_divergenceResult(statistic=23797.463852411889, pvalue=0.0)"
      ]
     },
     "execution_count": 103,
     "metadata": {},
     "output_type": "execute_result"
    }
   ],
   "source": [
    "scipy.stats.chisquare(combined_abundance, expected_results, axis=None)"
   ]
  },
  {
   "cell_type": "markdown",
   "metadata": {},
   "source": [
    "This produces a P value of 0.0 meaning that the difference between the composition of the roost and hibernation dataset is statistically significant.\n",
    "\n",
    "So it seems that hibernation and roost sites do have a statistically significant different abundance of species relative to one another and so a different composition.\n",
    "\n",
    "There is a problem with applying Chi-squared with combined values that are less than 5 as this can give unreliable results. This should not have affected the result however as only one of the categorical values was less than 5.\n",
    "\n",
    "The result is also of limited value as it says nothing about why they are different."
   ]
  }
 ],
 "metadata": {
  "kernelspec": {
   "display_name": "Python 3",
   "language": "python",
   "name": "python3"
  },
  "language_info": {
   "codemirror_mode": {
    "name": "ipython",
    "version": 3
   },
   "file_extension": ".py",
   "mimetype": "text/x-python",
   "name": "python",
   "nbconvert_exporter": "python",
   "pygments_lexer": "ipython3",
   "version": "3.6.0"
  }
 },
 "nbformat": 4,
 "nbformat_minor": 0
}
